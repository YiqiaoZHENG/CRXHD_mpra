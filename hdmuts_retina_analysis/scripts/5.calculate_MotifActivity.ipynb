{
 "cells": [
  {
   "cell_type": "markdown",
   "metadata": {},
   "source": [
    "#### calculate motif activity"
   ]
  },
  {
   "cell_type": "code",
   "execution_count": 1,
   "metadata": {},
   "outputs": [],
   "source": [
    "import os, sys, re, warnings\n",
    "\n",
    "# plotting functions\n",
    "import matplotlib as mpl\n",
    "import matplotlib.pyplot as plt\n",
    "import seaborn as sns\n",
    "from matplotlib.patches import Rectangle\n",
    "\n",
    "# data handling\n",
    "import scipy\n",
    "from scipy import stats\n",
    "from scipy.cluster import hierarchy\n",
    "import numpy as np\n",
    "import pandas as pd\n",
    "\n",
    "from scikit_posthocs import posthoc_tukey\n",
    "from statannotations.Annotator import Annotator"
   ]
  },
  {
   "cell_type": "code",
   "execution_count": 3,
   "metadata": {},
   "outputs": [],
   "source": [
    "# set up directories\n",
    "scriptdir=os.path.join(os.getcwd(), \"utils\")\n",
    "sys.path.insert(0, scriptdir)\n",
    "\n",
    "outbase_dir = os.path.split(os.getcwd())[0]\n",
    "mpra_designdir = os.path.join(os.path.split(outbase_dir)[0], \"hdmuts_library_design\")"
   ]
  },
  {
   "cell_type": "code",
   "execution_count": 5,
   "metadata": {},
   "outputs": [],
   "source": [
    "from utils import specseq_plot_utils, mpra_qc_normalization, mpra_plot_utils, chipseq_plot_utils, specseq_ewm_utils, specseq_predict_occp, sequence_annotator\n",
    "specseq_plot_utils.set_manuscript_params()"
   ]
  },
  {
   "cell_type": "code",
   "execution_count": 33,
   "metadata": {},
   "outputs": [],
   "source": [
    "## spec-seq scheme colorRampPalette(c(\"#CF8B03\", \"#FFFFFF\" , \"#50A1CF\"))\n",
    "# assign color to class\n",
    "color_map = {\n",
    "    \"WT\": \"#E69B04\",\n",
    "    \"E80A\": \"#009980\",\n",
    "    \"K88N\": \"#59B3E6\",\n",
    "    \"R90W\": \"#1A1A1A\"\n",
    "}\n",
    "\n",
    "pretty_names = pd.Series({\"wt\":\"WT\",\"ehet\":\"E80A/+\",\"ehom\":\"E80A/A\",\"khet\":\"K88N/+\",\"khom\":\"K88N/N\",\"rhom\":\"R90W/W\",\n",
    "                         \"at\":\"E80A/+\",\"aa\":\"E80A/A\",\"nt\":\"K88N/+\",\"nn\":\"K88N/N\",\"ww\":\"R90W/W\",})"
   ]
  },
  {
   "cell_type": "markdown",
   "metadata": {
    "tags": []
   },
   "source": [
    "### I. read pre-processed data"
   ]
  },
  {
   "cell_type": "code",
   "execution_count": 13,
   "metadata": {},
   "outputs": [],
   "source": [
    "# e80a versus wt bulk ATAC differential analysis\n",
    "e80a_atac_df = pd.read_csv(os.path.join(outbase_dir, \"peaksets\", \"atac_e80a_readsInPeakNormed.compiled_matrix.intersect_chip.tsv\"), sep=\"\\t\", header=0)\n",
    "\n",
    "# CRE motif position information\n",
    "fimo_th = 2.5e-3\n",
    "allMonomerSites = pd.read_csv(os.path.join(mpra_designdir, \"peaksets\", f\"allMonomerMutatedSites.fimo{fimo_th}.tsv\"), sep=\"\\t\", header=0)\n",
    "allDimerSites = pd.read_csv(os.path.join(mpra_designdir, \"peaksets\", f\"allDimerMutatedSites.fimo{fimo_th}.tsv\"), sep=\"\\t\", header=0)\n",
    "\n",
    "# CRE annotation table\n",
    "annot_df = pd.read_csv(os.path.join(outbase_dir, \"compiled_counts\", \"hdmuts_full_annot.tsv\"), sep=\"\\t\", header=0)\n",
    "# simple annotation\n",
    "simple_annot = annot_df.drop_duplicates(subset=\"annots\", keep=\"first\").reset_index(drop=True).set_index(\"annots\")"
   ]
  },
  {
   "cell_type": "markdown",
   "metadata": {},
   "source": [
    "#### CRE activity matrices"
   ]
  },
  {
   "cell_type": "code",
   "execution_count": 50,
   "metadata": {},
   "outputs": [],
   "source": [
    "# read directly from file\n",
    "CRE_enhancer_activity_ser = {}\n",
    "for genotype in [\"wt\",\"ehet\",\"ehom\",\"khet\",\"khom\",\"rhom\"]:\n",
    "\n",
    "    CRE_enhancer_activity_ser[genotype] = pd.read_csv(os.path.join(outbase_dir, \"compiled_counts\", \"activity\", f\"deseq2_{genotype}_rna_scrambled_normalized_statistics.tsv\"), sep=\"\\t\", header=0).set_index(\"annots\")\n",
    "    \n",
    "CRE_enhancer_activity_ser = pd.Series(CRE_enhancer_activity_ser)"
   ]
  },
  {
   "cell_type": "markdown",
   "metadata": {},
   "source": [
    "### II. for each genomic CRE, find its corresponding mutM, mutD, and mutDM variants"
   ]
  },
  {
   "cell_type": "code",
   "execution_count": 16,
   "metadata": {},
   "outputs": [],
   "source": [
    "# drop basal\n",
    "uniqueCRE_annot = simple_annot.loc[~simple_annot.index.str.contains(\"basal\"),:].sort_values(by=[\"peak.id\",\"motif\"])\n",
    "# drop any scrambled or control CREs\n",
    "uniqueCRE_annot = uniqueCRE_annot.loc[~(uniqueCRE_annot.index.str.contains(\"shuff\")|uniqueCRE_annot.index.str.contains(\"control\")|uniqueCRE_annot.index.str.contains(\"RetinalGene\")),:]\n",
    "# per peak/CRE retrieve the corresponding motif type in the library, and convert annotation from index to column\n",
    "uniqueCRE_motifType = uniqueCRE_annot.groupby([\"peak.id\",\"annotation\"])[\"motif\"].unique().to_frame().reset_index(level=\"annotation\", drop=False)\n",
    "\n",
    "# explode the motif lists for each CRE into columns of mask\n",
    "for motiftype in [\"WT\",\"mutM\",\"mutD\",\"mutDM\"]:\n",
    "    uniqueCRE_motifType[motiftype] = uniqueCRE_motifType.motif.apply(lambda alltypes: motiftype in alltypes)\n",
    "    \n",
    "# CREs with all four types of motifs\n",
    "uniqueCRE_DM = uniqueCRE_motifType.loc[uniqueCRE_motifType.motif.apply(lambda alltypes: len(alltypes)==4),:].copy()\n",
    "# CREs with only WT and mutM motifs\n",
    "uniqueCRE_M = uniqueCRE_motifType.loc[uniqueCRE_motifType.motif.apply(lambda alltypes: (len(alltypes)==2)&(\"mutM\" in alltypes)),:].copy()\n",
    "# CREs with only WT and mutD motifs\n",
    "uniqueCRE_D = uniqueCRE_motifType.loc[uniqueCRE_motifType.motif.apply(lambda alltypes: (len(alltypes)==2)&(\"mutD\" in alltypes)),:].copy()\n",
    "# CREs with only WT motifs\n",
    "uniqueCRE_WT = uniqueCRE_motifType.loc[uniqueCRE_motifType.motif.apply(lambda alltypes: len(alltypes)==1),:].copy()"
   ]
  },
  {
   "cell_type": "markdown",
   "metadata": {},
   "source": [
    "#### for each type of CRE, compile all the different genotypes in one matrix"
   ]
  },
  {
   "cell_type": "code",
   "execution_count": 51,
   "metadata": {},
   "outputs": [],
   "source": [
    "# collect genotype data for each category of CREs\n",
    "mutHD_activity_ser = {}\n",
    "for genotype in [\"wt\",\"ehet\",\"ehom\",\"khet\",\"khom\",\"rhom\"]:\n",
    "    for category, mut_peaks in zip([\"mutM\",\"mutD\",\"mutDM\"], [uniqueCRE_M, uniqueCRE_D, uniqueCRE_DM]):\n",
    "        # use scrambled noramlized\n",
    "        activity_subset = pd.merge(CRE_enhancer_activity_ser[genotype], simple_annot[[\"peak.id\",\"motif\"]], left_index=True, right_index=True, how=\"inner\")\n",
    "        # pick those CREs with certain motif type\n",
    "        tmp = activity_subset.loc[(activity_subset[\"peak.id\"].isin(mut_peaks.index))&(activity_subset[\"motif\"]!=\"scrambled\"),:]\n",
    "        #display(tmp.groupby(\"motif\")[\"peak.id\"].count())\n",
    "        \n",
    "        # convert the long from dataframe to wide but stacking the CRE of the same peak on the same row, need to drop annots\n",
    "        tmp_pivoted = tmp.pivot_table(index=\"peak.id\", columns=\"motif\", values=\"expression\", aggfunc=np.sum, fill_value=0)\n",
    "        tmp_pivoted = tmp_pivoted.rename(columns={k:f\"{k}.expression\" for k in tmp_pivoted.columns})\n",
    "\n",
    "        mutHD_activity_ser[f\"{genotype}.{category}\"] = tmp_pivoted\n",
    "\n",
    "mutHD_activity_ser = pd.Series(mutHD_activity_ser)"
   ]
  },
  {
   "cell_type": "markdown",
   "metadata": {},
   "source": [
    "#### record CREs that correspond to M, D, M+D classes, the WT-mut form expression correspondence"
   ]
  },
  {
   "cell_type": "code",
   "execution_count": 18,
   "metadata": {},
   "outputs": [],
   "source": [
    "uniqueM_df = pd.DataFrame(index=uniqueCRE_annot.sort_values(by=\"peak.id\")[\"peak.id\"].unique())\n",
    "uniqueD_df = pd.DataFrame(index=uniqueCRE_annot.sort_values(by=\"peak.id\")[\"peak.id\"].unique())\n",
    "uniqueDM_df = pd.DataFrame(index=uniqueCRE_annot.sort_values(by=\"peak.id\")[\"peak.id\"].unique())"
   ]
  },
  {
   "cell_type": "code",
   "execution_count": 52,
   "metadata": {},
   "outputs": [],
   "source": [
    "uniqueMotifKilled_ser = {}\n",
    "for category, activity_df in zip([\"mutM\",\"mutD\",\"mutDM\"],[uniqueM_df,uniqueD_df,uniqueDM_df]):\n",
    "    \n",
    "    for genotype in CRE_enhancer_activity_ser.index:\n",
    "        tmp = mutHD_activity_ser[f\"{genotype}.{category}\"].rename(columns={k:f\"{genotype}.{k.replace('ression','')}\" for k in mutHD_activity_ser[f\"{genotype}.{category}\"].columns})\n",
    "        # reorder DM category columns\n",
    "        if category == \"mutDM\":\n",
    "            tmp = tmp.iloc[:,[0,3,1,2]]\n",
    "        \n",
    "        # attach to full dataframe\n",
    "        activity_df = pd.merge(activity_df, tmp, left_index=True, right_index=True, how=\"left\")\n",
    "        activity_df.index.name = \"peak.id\"\n",
    "        del(tmp)\n",
    "    \n",
    "    # drop rows where all are NaN\n",
    "    activity_df = activity_df.dropna(how=\"all\")\n",
    "    uniqueMotifKilled_ser[category] = activity_df\n",
    "\n",
    "uniqueMotifKilled_ser = pd.Series(uniqueMotifKilled_ser)"
   ]
  },
  {
   "cell_type": "code",
   "execution_count": 53,
   "metadata": {},
   "outputs": [],
   "source": [
    "uniqueMotifKilled_ser[\"mutM\"].loc[:,lambda df: df.columns[~(df.columns.str.contains(\"ehet\")|df.columns.str.contains(\"khet\")|df.columns.str.contains(\"rhom\"))]].to_csv(os.path.join(\"/mnt/v/yqzheng/qiaoer/VSCode_yiqiao\",\"ToShare\", \"032523_mpra_M_CRE_activity.tsv\"), sep=\"\\t\", header=True, index=True)\n",
    "uniqueMotifKilled_ser[\"mutD\"].loc[:,lambda df: df.columns[~(df.columns.str.contains(\"ehet\")|df.columns.str.contains(\"khet\")|df.columns.str.contains(\"rhom\"))]].to_csv(os.path.join(\"/mnt/v/yqzheng/qiaoer/VSCode_yiqiao\",\"ToShare\", \"032523_mpra_D_CRE_activity.tsv\"), sep=\"\\t\", header=True, index=True)\n",
    "uniqueMotifKilled_ser[\"mutDM\"].loc[:,lambda df: df.columns[~(df.columns.str.contains(\"ehet\")|df.columns.str.contains(\"khet\")|df.columns.str.contains(\"rhom\"))]].to_csv(os.path.join(\"/mnt/v/yqzheng/qiaoer/VSCode_yiqiao\",\"ToShare\", \"032523_mpra_DM_CRE_activity.tsv\"), sep=\"\\t\", header=True, index=True)"
   ]
  },
  {
   "cell_type": "markdown",
   "metadata": {},
   "source": [
    "#### compile all the WT-mut form in one big dataframe"
   ]
  },
  {
   "cell_type": "code",
   "execution_count": 57,
   "metadata": {},
   "outputs": [],
   "source": [
    "allMotifKilled_ser= {}\n",
    "for genotype in CRE_enhancer_activity_ser.index:\n",
    "    tmp_df = pd.DataFrame(columns=[\"WT.expression\",\"mut.expression\"])\n",
    "    tmp_df.index.name = \"peak.id\"\n",
    "    \n",
    "    for category in [\"mutM\",\"mutD\",\"mutDM\"]:\n",
    "        tmp_df = pd.concat([tmp_df, mutHD_activity_ser[f\"{genotype}.{category}\"][[\"WT.expression\",f\"{category}.expression\"]].rename(columns={f\"{category}.expression\":\"mut.expression\"})])\n",
    "\n",
    "    allMotifKilled_ser[genotype] = tmp_df\n",
    "\n",
    "allMotifKilled_ser = pd.Series(allMotifKilled_ser)"
   ]
  },
  {
   "cell_type": "code",
   "execution_count": 58,
   "metadata": {},
   "outputs": [],
   "source": [
    "allMotifKilled_df = pd.DataFrame(index=uniqueCRE_annot.sort_values(by=\"peak.id\")[\"peak.id\"].unique())"
   ]
  },
  {
   "cell_type": "code",
   "execution_count": 59,
   "metadata": {},
   "outputs": [],
   "source": [
    "for genotype in allMotifKilled_ser.index:\n",
    "    tmp = allMotifKilled_ser[genotype].rename(columns={\"WT.expression\":f\"{genotype}.WT.exp\",\n",
    "                                                       \"mut.expression\":f\"{genotype}.mut.exp\"})\n",
    "    \n",
    "    # delta activity is calculated as WT/mut expression, so that when take log(Delta) if mut<WT it becomes negative\n",
    "    #tmp[f\"{genotype}.delta.exp\"] = tmp[f\"{genotype}.WT.exp\"]/tmp[f\"{genotype}.mut.exp\"]\n",
    "    # attach to full dataframe\n",
    "    allMotifKilled_df = pd.merge(allMotifKilled_df, tmp, left_index=True, right_index=True, how=\"left\")\n",
    "\n",
    "    del(tmp)\n",
    "\n",
    "# drop rows that are all NaN\n",
    "allMotifKilled_df = allMotifKilled_df.dropna(how=\"all\")\n",
    "allMotifKilled_df.index.name = \"peak.id\""
   ]
  },
  {
   "cell_type": "code",
   "execution_count": 60,
   "metadata": {},
   "outputs": [],
   "source": [
    "allMotifKilled_df[allMotifKilled_df.columns[~(allMotifKilled_df.columns.str.contains(\"ehet\")|allMotifKilled_df.columns.str.contains(\"khet\")|allMotifKilled_df.columns.str.contains(\"rhom\"))]].to_csv(os.path.join(\"/mnt/v/yqzheng/qiaoer/VSCode_yiqiao\",\"ToShare\", \"032523_mpra_allMotifsKilled_CRE_activity.tsv\"), sep=\"\\t\", header=True, index=True)"
   ]
  },
  {
   "cell_type": "markdown",
   "metadata": {},
   "source": [
    "### III. calculate motif activity - CRE activity difference between genomic (WT) and variant sequences"
   ]
  },
  {
   "cell_type": "code",
   "execution_count": 61,
   "metadata": {},
   "outputs": [],
   "source": [
    "uniqueMotifActivity_ser = pd.Series(dtype=object)\n",
    "for idx in uniqueMotifKilled_ser.index:\n",
    "    motif_type = idx[3:]\n",
    "    tmp_df = uniqueMotifKilled_ser[idx].copy()\n",
    "    for genotype in [\"wt\",\"ehet\", \"ehom\", \"khet\", \"khom\", \"rhom\"]:\n",
    "        if motif_type == \"DM\":\n",
    "            tmp_df[f\"{genotype}.M.exp\"] = tmp_df[f\"{genotype}.mutD.exp\"]/tmp_df[f\"{genotype}.mutDM.exp\"]\n",
    "            tmp_df[f\"{genotype}.D.exp\"] = tmp_df[f\"{genotype}.mutM.exp\"]/tmp_df[f\"{genotype}.mutDM.exp\"]\n",
    "            tmp_df[f\"{genotype}.DM.exp\"] = tmp_df[f\"{genotype}.WT.exp\"]/tmp_df[f\"{genotype}.mutDM.exp\"]\n",
    "            # the opposite way, whether it perturbs the activity\n",
    "            #tmp_df[f\"{genotype}.M.exp\"] = tmp_df[f\"{genotype}.mutM.exp\"]/tmp_df[f\"{genotype}.WT.exp\"]\n",
    "            #tmp_df[f\"{genotype}.D.exp\"] = tmp_df[f\"{genotype}.mutD.exp\"]/tmp_df[f\"{genotype}.WT.exp\"]\n",
    "            #tmp_df[f\"{genotype}.DM.exp\"] = tmp_df[f\"{genotype}.mutDM.exp\"]/tmp_df[f\"{genotype}.WT.exp\"]\n",
    "            uniqueMotifActivity_ser[idx] = tmp_df.iloc[:,[-(x+1) for x in range(18)]].copy()\n",
    "        else:\n",
    "            tmp_df[f\"{genotype}.{motif_type}.exp\"] = tmp_df[f\"{genotype}.WT.exp\"]/tmp_df[f\"{genotype}.{idx}.exp\"]\n",
    "            #tmp_df[f\"{genotype}.{motif_type}.exp\"] = tmp_df[f\"{genotype}.{idx}.exp\"]/tmp_df[f\"{genotype}.WT.exp\"]\n",
    "            uniqueMotifActivity_ser[idx] = tmp_df.iloc[:,[-(x+1) for x in range(6)]].copy()"
   ]
  },
  {
   "cell_type": "markdown",
   "metadata": {},
   "source": [
    "#### summarize dimeric or monomeric motif activities from different genotypes into a single dataframe"
   ]
  },
  {
   "cell_type": "code",
   "execution_count": 62,
   "metadata": {},
   "outputs": [],
   "source": [
    "plot_gntyps = [\"wt\",\"ehet\",\"ehom\"]\n",
    "# dimeric motif from both DM and D CREs\n",
    "all_dimer_CRE_activity = pd.concat([uniqueMotifActivity_ser[\"mutD\"][[f\"{geno}.D.exp\" for geno in plot_gntyps]],\n",
    "                                    uniqueMotifActivity_ser[\"mutDM\"][[f\"{geno}.D.exp\" for geno in plot_gntyps]]], axis=0)\n",
    "# drop any row with na, inf, and impose some constraints on fc\n",
    "mask = abs(all_dimer_CRE_activity.apply(np.log2))>=0\n",
    "#mask = all_dimer_CRE_activity.apply(np.log2)>0.55\n",
    "all_dimer_CRE_activity.replace([np.inf, -np.inf], np.nan, inplace=True)\n",
    "all_dimer_CRE_activity = all_dimer_CRE_activity[mask.sum(axis=1) != 0].dropna().reset_index(drop=False).rename(columns={\"index\":\"peak.id\"})\n",
    "\n",
    "all_dimer_CRE_activity[f\"{plot_gntyps[1]}.dd.exp\"] = all_dimer_CRE_activity[f\"{plot_gntyps[1]}.D.exp\"]/all_dimer_CRE_activity[\"wt.D.exp\"] \n",
    "all_dimer_CRE_activity[f\"{plot_gntyps[2]}.dd.exp\"] = all_dimer_CRE_activity[f\"{plot_gntyps[2]}.D.exp\"]/all_dimer_CRE_activity[\"wt.D.exp\"] \n",
    "\n",
    "# drop rows with 0.0 and NaN\n",
    "all_dimer_CRE_activity = all_dimer_CRE_activity[all_dimer_CRE_activity.isna().sum(axis=1)==0]\n",
    "\n",
    "# attach the CRE class columns\n",
    "all_dimer_CRE_activity[\"class\"] = \"D\"\n",
    "all_dimer_CRE_activity[[\"class\"]] = all_dimer_CRE_activity[[\"class\"]].mask(all_dimer_CRE_activity[\"peak.id\"].isin(uniqueMotifActivity_ser[\"mutDM\"].index), \"DM\", inplace=False)"
   ]
  },
  {
   "cell_type": "code",
   "execution_count": 63,
   "metadata": {},
   "outputs": [],
   "source": [
    "# monomeric motif from both DM and M CREs\n",
    "all_mono_CRE_activity = pd.concat([uniqueMotifActivity_ser[\"mutM\"][[f\"{geno}.M.exp\" for geno in plot_gntyps]],\n",
    "                                    uniqueMotifActivity_ser[\"mutDM\"][[f\"{geno}.M.exp\" for geno in plot_gntyps]]], axis=0)\n",
    "# drop any row with na, inf, and impose some constraints on fc\n",
    "mask = abs(all_mono_CRE_activity.apply(np.log2))>=0\n",
    "#mask = all_mono_CRE_activity.apply(np.log2)>0.55\n",
    "all_mono_CRE_activity.replace([np.inf, -np.inf], np.nan, inplace=True)\n",
    "all_mono_CRE_activity = all_mono_CRE_activity[mask.sum(axis=1) != 0].dropna().reset_index(drop=False).rename(columns={\"index\":\"peak.id\"})\n",
    "\n",
    "all_mono_CRE_activity[f\"{plot_gntyps[1]}.dd.exp\"] = all_mono_CRE_activity[f\"{plot_gntyps[1]}.M.exp\"]/all_mono_CRE_activity[\"wt.M.exp\"] \n",
    "all_mono_CRE_activity[f\"{plot_gntyps[2]}.dd.exp\"] = all_mono_CRE_activity[f\"{plot_gntyps[2]}.M.exp\"]/all_mono_CRE_activity[\"wt.M.exp\"] \n",
    "\n",
    "# drop rows with 0.0 and NaN\n",
    "all_mono_CRE_activity = all_mono_CRE_activity[all_mono_CRE_activity.isna().sum(axis=1)==0]\n",
    "\n",
    "# attach the CRE class columns\n",
    "all_mono_CRE_activity[\"class\"] = \"M\"\n",
    "all_mono_CRE_activity[[\"class\"]] = all_mono_CRE_activity[[\"class\"]].mask(all_mono_CRE_activity[\"peak.id\"].isin(uniqueMotifActivity_ser[\"mutDM\"].index), \"DM\", inplace=False)"
   ]
  },
  {
   "cell_type": "markdown",
   "metadata": {},
   "source": [
    "#### criteria to call a dimeric or monomeric motif"
   ]
  },
  {
   "cell_type": "code",
   "execution_count": 64,
   "metadata": {},
   "outputs": [],
   "source": [
    "k50_mono_df = allMonomerSites.loc[lambda df: df[\"motif_id\"]==\"CRX_Corbo\",:].copy()\n",
    "k50_mono_df[\"core\"] = k50_mono_df[\"matched_sequence\"].apply(lambda x: x[1:7])"
   ]
  },
  {
   "cell_type": "code",
   "execution_count": 65,
   "metadata": {},
   "outputs": [],
   "source": [
    "k50_dimer_df = pd.read_csv(os.path.join(mpra_designdir, f\"fimo_{fimo_th}\", \"allCRE_fimo\", \"fimo.tsv\"), sep=\"\\t\", header=0)\n",
    "k50_dimer_df =k50_dimer_df.loc[lambda df: df[\"motif_id\"]==\"e80a_loss.MEME.3\",:].copy()\n",
    "k50_dimer_df[\"spacer\"] = k50_dimer_df[\"matched_sequence\"].apply(lambda x: x[4:7])\n",
    "k50_dimer_df[\"flk\"] = k50_dimer_df[\"matched_sequence\"].apply(lambda x: x[3]+x[7])"
   ]
  },
  {
   "cell_type": "markdown",
   "metadata": {},
   "source": [
    "#### dimeric motif containing CREs"
   ]
  },
  {
   "cell_type": "code",
   "execution_count": 66,
   "metadata": {},
   "outputs": [],
   "source": [
    "# first define a set that is important for activity based on wt data\n",
    "wt_responsive_dimer_CRE_activity = all_dimer_CRE_activity[all_dimer_CRE_activity[\"wt.D.exp\"].apply(np.log2)>np.log2(1.5)].copy()"
   ]
  },
  {
   "cell_type": "code",
   "execution_count": 67,
   "metadata": {},
   "outputs": [],
   "source": [
    "motif_type = \"D\"\n",
    "\n",
    "# transform the dataframe to long-form\n",
    "melted_tmp = pd.melt(wt_responsive_dimer_CRE_activity, id_vars=\"peak.id\", value_vars=[f\"{geno}.{motif_type}.exp\" for geno in plot_gntyps], var_name=\"genotype\", value_name=\"fc\")\n",
    "# plot log2 absolute activity\n",
    "melted_tmp[\"log.fc\"] = melted_tmp[\"fc\"].apply(np.log2)\n",
    "melted_tmp[\"abs.log.fc\"] = melted_tmp[\"log.fc\"].apply(np.abs)\n",
    "\n",
    "# filter by further criteria\n",
    "# match motif type - lys or gln\n",
    "melted_tmp = melted_tmp.loc[lambda df: df[\"peak.id\"].isin(k50_dimer_df[\"sequence_name\"])]\n",
    "melted_tmp = melted_tmp.loc[lambda df: df[\"peak.id\"].isin(allDimerSites[\"sequence_name\"])]\n",
    "\n",
    "# changes in chip\n",
    "melted_tmp = melted_tmp.loc[lambda df: df[\"peak.id\"].isin(e80a_atac_df.loc[lambda df: df[\"aa_atac_cluster\"]==\"aa.atac.notDA\",\"chip.peak.id\"])]"
   ]
  },
  {
   "cell_type": "code",
   "execution_count": 68,
   "metadata": {},
   "outputs": [
    {
     "name": "stdout",
     "output_type": "stream",
     "text": [
      "wt.D.exp vs. ehet.D.exp: Mann-Whitney-Wilcoxon test two-sided, P_val:5.506e-02 U_stat=2.525e+03\n",
      "wt.D.exp vs. ehom.D.exp: Mann-Whitney-Wilcoxon test two-sided, P_val:2.104e-01 U_stat=2.382e+03\n"
     ]
    },
    {
     "data": {
      "image/png": "[encoded data removed]",
      "text/plain": [
       "<Figure size 240x240 with 1 Axes>"
      ]
     },
     "metadata": {},
     "output_type": "display_data"
    }
   ],
   "source": [
    "fig, ax = plt.subplots(figsize=(1.6,1.6), dpi=150)\n",
    "\n",
    "# color by genotype\n",
    "cmap = {k:v for k,v in zip([f\"{geno}.{motif_type}.exp\" for geno in plot_gntyps],list(color_map.values())[:3])}\n",
    "\n",
    "box_props = {\n",
    "    'boxprops':{'edgecolor':'black', 'facecolor':'none', 'alpha': 1, 'zorder': 10}, #'facecolor':'none', \n",
    "    'medianprops':{'color':'black','alpha': 1, },\n",
    "    'whiskerprops':{'color':'black','alpha': 1, },\n",
    "    'capprops':{'color':'black','alpha': 1, },\n",
    "}\n",
    "\n",
    "ax = sns.stripplot(data=melted_tmp, x=\"genotype\", y=\"log.fc\", hue=\"genotype\", \n",
    "                   order=[f\"{geno}.{motif_type}.exp\" for geno in plot_gntyps],\n",
    "                   palette=cmap, s=3, alpha=0.4,\n",
    "                   orient=\"v\", ax=ax, zorder=8, jitter=0.2,\n",
    "    )\n",
    "\n",
    "ax = sns.boxplot(data=melted_tmp, x=\"genotype\", y=\"log.fc\",\n",
    "                 order=[f\"{geno}.{motif_type}.exp\" for geno in plot_gntyps],\n",
    "                 palette=cmap, dodge=True,\n",
    "                 width=0.6, linewidth=1.0, showfliers=False, \n",
    "                 orient=\"v\", ax=ax, zorder=10,\n",
    "                **box_props) # additional controls over the boxes\n",
    "\n",
    "# annotations\n",
    "# paired wise MWU\n",
    "pairs = [[f\"wt.{motif_type}.exp\", f\"ehet.{motif_type}.exp\"],\n",
    "         [f\"wt.{motif_type}.exp\", f\"ehom.{motif_type}.exp\"],\n",
    "         #[f\"ehet.{motif_type}.exp\", f\"ehom.{motif_type}.exp\"],\n",
    "         ]\n",
    "annotator = Annotator(data=melted_tmp, x=\"genotype\", y=\"log.fc\",\n",
    "                      palette=cmap, ax=ax, pairs=pairs)\n",
    "annotator.configure(test=\"Mann-Whitney\", text_format='full', \n",
    "                      line_width=mpl.rcParams[\"lines.linewidth\"], \n",
    "                      line_height=.0, text_offset=1, fontsize=5,).apply_and_annotate()\n",
    "\n",
    "ax.set(title = f\"Lys50 dimer motif activity\", xlabel=\"\", ylabel=f\"$log_{2}$ activity\")\n",
    "ax.set_xticklabels([\"WT\",f\"{pretty_names[plot_gntyps[1]]}\",f\"{pretty_names[plot_gntyps[2]]}\"])\n",
    "#ax.set_ylim(-3.6,9)\n",
    "\n",
    "# customize the legend\n",
    "# add color patches for chip and atac heatmaps (0, \"#CF8B03\"), (0.5, \"#FFFFFF\"), (1, \"#08306B\")\n",
    "legend_elements = [Rectangle((0,0), .1, .2,\n",
    "                             facecolor=list(cmap.values())[0], edgecolor=\"k\",\n",
    "                                label=\"WT\"),\n",
    "                        Rectangle((0,0), .1, .2, \n",
    "                              facecolor=list(cmap.values())[1], edgecolor=\"k\",\n",
    "                                label=f\"{pretty_names[plot_gntyps[1]]}\"),\n",
    "                        Rectangle((0,0), .1, .2, \n",
    "                             facecolor=list(cmap.values())[2], edgecolor=\"k\",\n",
    "                                label=f\"{pretty_names[plot_gntyps[2]]}\"),\n",
    "                    ]\n",
    "\n",
    "leg = ax.legend(handles=legend_elements, \n",
    "                  title=\"Genotype\",\n",
    "                  loc='upper left', bbox_to_anchor=(1, 1), frameon=False)\n",
    "    \n",
    "leg._legend_box.align = \"center\""
   ]
  },
  {
   "cell_type": "code",
   "execution_count": 69,
   "metadata": {},
   "outputs": [],
   "source": [
    "fig.savefig(os.path.join(outbase_dir, \"figures\", \"motif_activity_box\", \"e80a.lost_CRE_K50dimer_boxplot.png\"), dpi=600, bbox_inches=\"tight\")"
   ]
  },
  {
   "cell_type": "markdown",
   "metadata": {},
   "source": [
    "#### iv. monomeric motif activities"
   ]
  },
  {
   "cell_type": "code",
   "execution_count": 70,
   "metadata": {},
   "outputs": [],
   "source": [
    "# first define a set that is important for activity based on wt data\n",
    "mask = all_mono_CRE_activity[[f\"{geno}.M.exp\" for geno in plot_gntyps]].apply(np.log2)>np.log2(1.5)\n",
    "wt_responsive_mono_CRE_activity = all_mono_CRE_activity[mask.sum(axis=1) != 0].copy()"
   ]
  },
  {
   "cell_type": "code",
   "execution_count": 71,
   "metadata": {},
   "outputs": [],
   "source": [
    "motif_type = \"M\"\n",
    "\n",
    "# transform the dataframe to long-form\n",
    "melted_tmp = pd.melt(wt_responsive_mono_CRE_activity, id_vars=\"peak.id\", value_vars=[f\"{geno}.{motif_type}.exp\" for geno in plot_gntyps], var_name=\"genotype\", value_name=\"fc\")\n",
    "# plot log2 absolute activity\n",
    "melted_tmp[\"log.fc\"] = melted_tmp[\"fc\"].apply(np.log2)\n",
    "melted_tmp[\"abs.log.fc\"] = melted_tmp[\"log.fc\"].apply(np.abs)\n",
    "\n",
    "# filter by further criteria\n",
    "# match motif type - lys or gln\n",
    "melted_tmp = melted_tmp.loc[lambda df: df[\"peak.id\"].isin(k50_mono_df[\"sequence_name\"])]\n",
    "melted_tmp = melted_tmp.loc[lambda df: df[\"peak.id\"].isin(allMonomerSites[\"sequence_name\"])]\n",
    "\n",
    "# changes in atac\n",
    "melted_tmp = melted_tmp.loc[lambda df: df[\"peak.id\"].isin(e80a_atac_df.loc[lambda df: df[\"aa_atac_cluster\"]!=\"aa.atac.lost\",\"chip.peak.id\"])]\n"
   ]
  },
  {
   "cell_type": "code",
   "execution_count": 72,
   "metadata": {},
   "outputs": [
    {
     "name": "stdout",
     "output_type": "stream",
     "text": [
      "wt.M.exp vs. ehet.M.exp: Mann-Whitney-Wilcoxon test two-sided, P_val:2.306e-01 U_stat=9.658e+04\n",
      "wt.M.exp vs. ehom.M.exp: Mann-Whitney-Wilcoxon test two-sided, P_val:1.794e-06 U_stat=8.263e+04\n"
     ]
    },
    {
     "data": {
      "image/png": "[encoded data removed]",
      "text/plain": [
       "<Figure size 240x240 with 1 Axes>"
      ]
     },
     "metadata": {},
     "output_type": "display_data"
    }
   ],
   "source": [
    "fig, ax = plt.subplots(figsize=(1.6,1.6), dpi=150)\n",
    "\n",
    "# color by genotype\n",
    "cmap = {k:v for k,v in zip([f\"{geno}.{motif_type}.exp\" for geno in plot_gntyps],list(color_map.values())[:3])}\n",
    "\n",
    "box_props = {\n",
    "    'boxprops':{'edgecolor':'black', 'facecolor':'none', 'alpha': 1, 'zorder': 10}, #'facecolor':'none', \n",
    "    'medianprops':{'color':'black','alpha': 1, },\n",
    "    'whiskerprops':{'color':'black','alpha': 1, },\n",
    "    'capprops':{'color':'black','alpha': 1, },\n",
    "}\n",
    "\n",
    "ax = sns.stripplot(data=melted_tmp, x=\"genotype\", y=\"log.fc\", hue=\"genotype\", \n",
    "                   order=[f\"{geno}.{motif_type}.exp\" for geno in plot_gntyps],\n",
    "                   palette=cmap, s=3, alpha=0.4,\n",
    "                   orient=\"v\", ax=ax, zorder=8, jitter=0.2,\n",
    "    )\n",
    "\n",
    "ax = sns.boxplot(data=melted_tmp, x=\"genotype\", y=\"log.fc\",\n",
    "                 order=[f\"{geno}.{motif_type}.exp\" for geno in plot_gntyps],\n",
    "                 palette=cmap, dodge=True,\n",
    "                 width=0.6, linewidth=1.0, showfliers=False, \n",
    "                 orient=\"v\", ax=ax, zorder=10,\n",
    "                **box_props) # additional controls over the boxes\n",
    "\n",
    "# annotations\n",
    "# paired wise MWU\n",
    "pairs = [[f\"wt.{motif_type}.exp\", f\"ehet.{motif_type}.exp\"],\n",
    "         [f\"wt.{motif_type}.exp\", f\"ehom.{motif_type}.exp\"],\n",
    "         #[f\"ehet.{motif_type}.exp\", f\"ehom.{motif_type}.exp\"],\n",
    "         ]\n",
    "annotator = Annotator(data=melted_tmp, x=\"genotype\", y=\"log.fc\",\n",
    "                      palette=cmap, ax=ax, pairs=pairs)\n",
    "annotator.configure(test=\"Mann-Whitney\", text_format='full', \n",
    "                      line_width=mpl.rcParams[\"lines.linewidth\"], \n",
    "                      line_height=.0, text_offset=1, fontsize=5,).apply_and_annotate()\n",
    "\n",
    "ax.set(title = f\"Lys50 monomeric motif activity\", xlabel=\"\", ylabel=f\"$log_{2}$ activity\")\n",
    "ax.set_xticklabels([\"WT\",f\"{pretty_names[plot_gntyps[1]]}\",f\"{pretty_names[plot_gntyps[2]]}\"])\n",
    "\n",
    "# customize the legend\n",
    "# add color patches for chip and atac heatmaps (0, \"#CF8B03\"), (0.5, \"#FFFFFF\"), (1, \"#08306B\")\n",
    "legend_elements = [Rectangle((0,0), .1, .2,\n",
    "                             facecolor=list(cmap.values())[0], edgecolor=\"k\",\n",
    "                                label=\"WT\"),\n",
    "                        Rectangle((0,0), .1, .2, \n",
    "                              facecolor=list(cmap.values())[1], edgecolor=\"k\",\n",
    "                                label=f\"{pretty_names[plot_gntyps[1]]}\"),\n",
    "                        Rectangle((0,0), .1, .2, \n",
    "                             facecolor=list(cmap.values())[2], edgecolor=\"k\",\n",
    "                                label=f\"{pretty_names[plot_gntyps[2]]}\"),\n",
    "                    ]\n",
    "\n",
    "leg = ax.legend(handles=legend_elements, \n",
    "                  title=\"Genotype\",\n",
    "                  loc='upper left', bbox_to_anchor=(1, 1), frameon=False)\n",
    "    \n",
    "leg._legend_box.align = \"center\""
   ]
  },
  {
   "cell_type": "code",
   "execution_count": 74,
   "metadata": {},
   "outputs": [],
   "source": [
    "fig.savefig(os.path.join(outbase_dir, \"figures\", \"motif_activity_box\", \"e80a.notLost_CRE_K50mono_boxplot.png\"), dpi=600, bbox_inches=\"tight\")"
   ]
  }
 ],
 "metadata": {
  "kernelspec": {
   "display_name": "mpra",
   "language": "python",
   "name": "python3"
  },
  "language_info": {
   "codemirror_mode": {
    "name": "ipython",
    "version": 3
   },
   "file_extension": ".py",
   "mimetype": "text/x-python",
   "name": "python",
   "nbconvert_exporter": "python",
   "pygments_lexer": "ipython3",
   "version": "3.9.12"
  }
 },
 "nbformat": 4,
 "nbformat_minor": 4
}
