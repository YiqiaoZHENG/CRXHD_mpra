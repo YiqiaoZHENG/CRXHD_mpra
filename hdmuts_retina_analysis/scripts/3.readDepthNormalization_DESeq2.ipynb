{
 "cells": [
  {
   "attachments": {},
   "cell_type": "markdown",
   "metadata": {},
   "source": [
    "### MPRA RNA counts normalization by DESeq2 in R"
   ]
  },
  {
   "cell_type": "code",
   "execution_count": 1,
   "metadata": {
    "vscode": {
     "languageId": "r"
    }
   },
   "outputs": [],
   "source": [
    "suppressPackageStartupMessages(library(tidyverse))\n",
    "suppressPackageStartupMessages(library(DESeq2))"
   ]
  },
  {
   "cell_type": "code",
   "execution_count": 10,
   "metadata": {
    "vscode": {
     "languageId": "r"
    }
   },
   "outputs": [],
   "source": [
    "base_dir = dirname(getwd())\n",
    "outbase_dir = file.path(dirname(base_dir), \"DESeq2\")"
   ]
  },
  {
   "cell_type": "code",
   "execution_count": 4,
   "metadata": {
    "vscode": {
     "languageId": "r"
    }
   },
   "outputs": [],
   "source": [
    "# load workspace\n",
    "#load(file=file.path(outbase_dir, \"030523_mpraDESeq2.RData\"))"
   ]
  },
  {
   "attachments": {},
   "cell_type": "markdown",
   "metadata": {},
   "source": [
    "#### read CRE activity matrix"
   ]
  },
  {
   "cell_type": "code",
   "execution_count": 11,
   "metadata": {
    "vscode": {
     "languageId": "r"
    }
   },
   "outputs": [],
   "source": [
    "count.matrix <- read.table(file.path(base_dir, \"compiled_counts\", \"030523_rna_compile_avg_count.tsv\"), sep=\"\\t\", header=T, row.names=\"annots\")"
   ]
  },
  {
   "attachments": {},
   "cell_type": "markdown",
   "metadata": {},
   "source": [
    "#### generate metadata table for DESeq2 input"
   ]
  },
  {
   "cell_type": "code",
   "execution_count": 20,
   "metadata": {
    "vscode": {
     "languageId": "r"
    }
   },
   "outputs": [],
   "source": [
    "# reformat the column names make it eaiser to read\n",
    "rep_num = substr(colnames(count.matrix), 4,4) %>% as.list()\n",
    "genotypes = substr(colnames(count.matrix), 5,8) %>% as.list()"
   ]
  },
  {
   "cell_type": "code",
   "execution_count": 12,
   "metadata": {
    "vscode": {
     "languageId": "r"
    }
   },
   "outputs": [],
   "source": [
    "colnames(count.matrix) <- paste0(genotypes, rep_num)"
   ]
  },
  {
   "cell_type": "code",
   "execution_count": 23,
   "metadata": {
    "vscode": {
     "languageId": "r"
    }
   },
   "outputs": [
    {
     "name": "stdout",
     "output_type": "stream",
     "text": [
      "      genotype replicate\n",
      "wt1         wt         1\n",
      "wt2         wt         2\n",
      "wt3         wt         3\n",
      "wt4         wt         4\n",
      "ehet1     ehet         1\n",
      "ehet2     ehet         2\n",
      "ehet3     ehet         3\n",
      "ehom1     ehom         1\n",
      "ehom2     ehom         2\n",
      "ehom3     ehom         3\n",
      "ehom4     ehom         4\n",
      "khet1     khet         1\n",
      "khet2     khet         2\n",
      "khet3     khet         3\n",
      "khet4     khet         4\n",
      "khom1     khom         1\n",
      "khom2     khom         2\n",
      "khom3     khom         3\n",
      "khom4     khom         4\n",
      "rhom1     rhom         1\n",
      "rhom2     rhom         2\n",
      "rhom3     rhom         3\n"
     ]
    }
   ],
   "source": [
    "rm(metaTable)\n",
    "samples <- colnames(count.matrix)\n",
    "splitnames <- str_split(samples,\"_\",simplify=TRUE)\n",
    "mut.all <- c(\"ehet\",\"ehom\",\"khet\",\"khom\",\"rhom\")\n",
    "genotype <- factor(genotypes,levels=c(\"wt\",mut.all))\n",
    "replicate <- factor(rep_num, levels=c(\"1\",\"2\",\"3\",\"4\"))\n",
    "metaTable <- data.frame(samples,genotype,replicate,row.names=\"samples\")\n",
    "#take a look at the metaTable\n",
    "print(metaTable)"
   ]
  },
  {
   "cell_type": "code",
   "execution_count": 24,
   "metadata": {
    "vscode": {
     "languageId": "r"
    }
   },
   "outputs": [],
   "source": [
    "# initialize the DESeqDataSet object using count matrix\n",
    "deObj <- DESeqDataSetFromMatrix(count.matrix, colData=metaTable, design= ~ genotype)"
   ]
  },
  {
   "cell_type": "code",
   "execution_count": 25,
   "metadata": {
    "vscode": {
     "languageId": "r"
    }
   },
   "outputs": [
    {
     "name": "stderr",
     "output_type": "stream",
     "text": [
      "estimating size factors\n",
      "\n",
      "estimating dispersions\n",
      "\n",
      "gene-wise dispersion estimates\n",
      "\n",
      "mean-dispersion relationship\n",
      "\n",
      "-- note: fitType='parametric', but the dispersion trend was not well captured by the\n",
      "   function: y = a/x + b, and a local regression fit was automatically substituted.\n",
      "   specify fitType='local' or 'mean' to avoid this message next time.\n",
      "\n",
      "final dispersion estimates\n",
      "\n",
      "fitting model and testing\n",
      "\n"
     ]
    }
   ],
   "source": [
    "# submit for DE analysis\n",
    "deObj<-DESeq(deObj)"
   ]
  },
  {
   "cell_type": "code",
   "execution_count": 26,
   "metadata": {
    "vscode": {
     "languageId": "r"
    }
   },
   "outputs": [],
   "source": [
    "#retireve normalized counts - only scare by mean expression level (size factor)\n",
    "normalized_count <- fpm(deObj, robust=TRUE)\n"
   ]
  },
  {
   "cell_type": "code",
   "execution_count": null,
   "metadata": {
    "vscode": {
     "languageId": "r"
    }
   },
   "outputs": [],
   "source": [
    "# save the scaled count matrix to file\n",
    "normalized_count %>% write.table(file=file.path(outbase_dir, paste0(\"030523_rna_scaled_counts.tsv\")), sep=\"\\t\", quote=F, row.names=T, col.names=T)"
   ]
  },
  {
   "cell_type": "code",
   "execution_count": 30,
   "metadata": {
    "vscode": {
     "languageId": "r"
    }
   },
   "outputs": [],
   "source": [
    "# save workplace\n",
    "save.image(file=file.path(outbase_dir, \"030523_mpraDESeq2.RData\"))"
   ]
  },
  {
   "cell_type": "code",
   "execution_count": 31,
   "metadata": {
    "vscode": {
     "languageId": "r"
    }
   },
   "outputs": [
    {
     "data": {
      "text/plain": [
       "R version 4.2.3 (2023-03-15)\n",
       "Platform: x86_64-apple-darwin13.4.0 (64-bit)\n",
       "Running under: macOS Mojave 10.14.6\n",
       "\n",
       "Matrix products: default\n",
       "BLAS/LAPACK: /Users/yiqiao/opt/anaconda3/envs/mpra-r/lib/libopenblasp-r0.3.21.dylib\n",
       "\n",
       "locale:\n",
       "[1] C/UTF-8/C/C/C/C\n",
       "\n",
       "attached base packages:\n",
       "[1] stats4    stats     graphics  grDevices utils     datasets  methods  \n",
       "[8] base     \n",
       "\n",
       "other attached packages:\n",
       " [1] DESeq2_1.38.3               SummarizedExperiment_1.28.0\n",
       " [3] Biobase_2.58.0              MatrixGenerics_1.10.0      \n",
       " [5] matrixStats_0.63.0          GenomicRanges_1.50.2       \n",
       " [7] GenomeInfoDb_1.34.9         IRanges_2.32.0             \n",
       " [9] S4Vectors_0.36.2            BiocGenerics_0.44.0        \n",
       "[11] lubridate_1.9.2             forcats_1.0.0              \n",
       "[13] stringr_1.5.0               dplyr_1.1.1                \n",
       "[15] purrr_1.0.1                 readr_2.1.4                \n",
       "[17] tidyr_1.3.0                 tibble_3.2.1               \n",
       "[19] ggplot2_3.4.2               tidyverse_2.0.0            \n",
       "\n",
       "loaded via a namespace (and not attached):\n",
       " [1] httr_1.4.5             bit64_4.0.5            jsonlite_1.8.4        \n",
       " [4] blob_1.2.4             GenomeInfoDbData_1.2.9 pillar_1.9.0          \n",
       " [7] RSQLite_2.3.1          lattice_0.21-8         limma_3.54.2          \n",
       "[10] glue_1.6.2             uuid_1.1-0             digest_0.6.31         \n",
       "[13] RColorBrewer_1.1-3     XVector_0.38.0         colorspace_2.1-0      \n",
       "[16] htmltools_0.5.5        Matrix_1.5-4           XML_3.99-0.14         \n",
       "[19] pkgconfig_2.0.3        zlibbioc_1.44.0        xtable_1.8-4          \n",
       "[22] scales_1.2.1           tzdb_0.3.0             BiocParallel_1.32.6   \n",
       "[25] timechange_0.2.0       annotate_1.76.0        KEGGREST_1.38.0       \n",
       "[28] generics_0.1.3         cachem_1.0.7           withr_2.5.0           \n",
       "[31] repr_1.1.6             cli_3.6.1              magrittr_2.0.3        \n",
       "[34] crayon_1.5.2           memoise_2.0.1          evaluate_0.20         \n",
       "[37] fansi_1.0.4            tools_4.2.3            hms_1.1.3             \n",
       "[40] lifecycle_1.0.3        locfit_1.5-9.7         munsell_0.5.0         \n",
       "[43] DelayedArray_0.24.0    Biostrings_2.66.0      AnnotationDbi_1.60.2  \n",
       "[46] compiler_4.2.3         rlang_1.1.0            grid_4.2.3            \n",
       "[49] RCurl_1.98-1.12        pbdZMQ_0.3-9           IRkernel_1.3.2        \n",
       "[52] bitops_1.0-7           base64enc_0.1-3        gtable_0.3.3          \n",
       "[55] codetools_0.2-19       DBI_1.1.3              R6_2.5.1              \n",
       "[58] fastmap_1.1.1          bit_4.0.5              utf8_1.2.3            \n",
       "[61] stringi_1.7.12         parallel_4.2.3         IRdisplay_1.1         \n",
       "[64] Rcpp_1.0.10            png_0.1-8              vctrs_0.6.1           \n",
       "[67] geneplotter_1.76.0     tidyselect_1.2.0      "
      ]
     },
     "metadata": {},
     "output_type": "display_data"
    }
   ],
   "source": [
    "sessionInfo()"
   ]
  }
 ],
 "metadata": {
  "kernelspec": {
   "display_name": "R",
   "language": "R",
   "name": "ir"
  },
  "language_info": {
   "codemirror_mode": "r",
   "file_extension": ".r",
   "mimetype": "text/x-r-source",
   "name": "R",
   "pygments_lexer": "r",
   "version": "4.2.3"
  }
 },
 "nbformat": 4,
 "nbformat_minor": 4
}
