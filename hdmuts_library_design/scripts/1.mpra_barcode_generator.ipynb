{
 "cells": [
  {
   "attachments": {},
   "cell_type": "markdown",
   "metadata": {},
   "source": [
    "### for generation and processing of MPRA barcodes"
   ]
  },
  {
   "cell_type": "code",
   "execution_count": 6,
   "metadata": {},
   "outputs": [],
   "source": [
    "import os\n",
    "import sys\n",
    "import pandas as pd"
   ]
  },
  {
   "cell_type": "code",
   "execution_count": null,
   "metadata": {},
   "outputs": [],
   "source": [
    "# set up working directories (do not run twice)\n",
    "base_dir = os.path.split(os.getcwd())[0]\n",
    "sys.path.insert(0, os.path.join(os.getcwd(),\"utils\"))\n",
    "os.chdir(base_dir)\n",
    "scriptdir=os.path.join(base_dir, \"scripts\")"
   ]
  },
  {
   "cell_type": "code",
   "execution_count": 3,
   "metadata": {},
   "outputs": [],
   "source": [
    "from utils import mpra_CRE_utils"
   ]
  },
  {
   "cell_type": "code",
   "execution_count": 5,
   "metadata": {},
   "outputs": [],
   "source": [
    "allBarcodes = os.path.join(base_dir, \"barcodes\", \"all10bp_barcodes.txt\")\n",
    "filteredBarcodes = os.path.join(base_dir, \"barcodes\", \"filtered10bp_barcodes.txt\")\n",
    "validatedBarcodes = os.path.join(base_dir, \"barcodes\", \"validated10bp_barcodes.txt\")"
   ]
  },
  {
   "cell_type": "code",
   "execution_count": 27,
   "metadata": {},
   "outputs": [],
   "source": [
    "# python generate_barcodes <length> <output file>\n",
    "!python3 ./mpra_generate_barcodes.py 10 \"{allBarcodes}\""
   ]
  },
  {
   "cell_type": "code",
   "execution_count": 26,
   "metadata": {},
   "outputs": [
    {
     "name": "stdout",
     "output_type": "stream",
     "text": [
      "beginning with  0  barcodes...\n",
      "read  10000  lines\n",
      "result of batch processing is  5330  qualified codes\n",
      "beginning with  5330  barcodes...\n",
      "read  10000  lines\n",
      "result of batch processing is  9790  qualified codes\n",
      "beginning with  9790  barcodes...\n",
      "read  10000  lines\n",
      "result of batch processing is  13490  qualified codes\n",
      "beginning with  13490  barcodes...\n",
      "read  10000  lines\n",
      "result of batch processing is  16696  qualified codes\n",
      "beginning with  16696  barcodes...\n",
      "read  10000  lines\n",
      "result of batch processing is  19477  qualified codes\n",
      "beginning with  19477  barcodes...\n",
      "read  10000  lines\n",
      "result of batch processing is  20000  qualified codes\n",
      "Found all codes, exiting\n"
     ]
    }
   ],
   "source": [
    "# python validate_barcodes <input: all_barcodes_file> <output: validated_code_file> <number of codes> <barcode length> <gc lower th> <gc higher th> <mismatches th>\n",
    "!python3 ./mpra_validate_barcodes.py \"{allBarcodes}\" \"{filteredBarcodes}\" 20000 10 .2 .8 2"
   ]
  },
  {
   "attachments": {},
   "cell_type": "markdown",
   "metadata": {},
   "source": [
    "#### remove any barcodes with restriction enyzme cut sites"
   ]
  },
  {
   "cell_type": "code",
   "execution_count": 15,
   "metadata": {},
   "outputs": [],
   "source": [
    "EcoRI = \"GAATTC\"\n",
    "SpeI =\"ACTAGT\"\n",
    "SphI = \"GCATGC\"\n",
    "EagI = \"CGGCCG\""
   ]
  },
  {
   "cell_type": "code",
   "execution_count": 27,
   "metadata": {},
   "outputs": [],
   "source": [
    "filteredBarcodes_df = pd.read_csv(filteredBarcodes, header=None)\n",
    "filteredBarcodes_df = filteredBarcodes_df.rename(columns={0:\"BC\"}).squeeze()"
   ]
  },
  {
   "cell_type": "code",
   "execution_count": 28,
   "metadata": {},
   "outputs": [
    {
     "name": "stdout",
     "output_type": "stream",
     "text": [
      "Looking for matches: GAATTC|ACTAGT|GCATGC|CGGCCG\n"
     ]
    }
   ],
   "source": [
    "matched_barcodes = mpra_CRE_utils.find_REsite_match(filteredBarcodes_df, RE_list=[EcoRI,SpeI,SphI,EagI])"
   ]
  },
  {
   "cell_type": "code",
   "execution_count": 29,
   "metadata": {},
   "outputs": [
    {
     "data": {
      "text/plain": [
       "115"
      ]
     },
     "execution_count": 29,
     "metadata": {},
     "output_type": "execute_result"
    }
   ],
   "source": [
    "len(matched_barcodes)"
   ]
  },
  {
   "cell_type": "code",
   "execution_count": 30,
   "metadata": {},
   "outputs": [],
   "source": [
    "validatedBarcodes_df = filteredBarcodes_df.drop(index=matched_barcodes.index).reset_index(drop=True)"
   ]
  },
  {
   "cell_type": "code",
   "execution_count": 31,
   "metadata": {},
   "outputs": [
    {
     "data": {
      "text/plain": [
       "0        TTGATCCTAC\n",
       "1        GTCACAACAA\n",
       "2        TAACAGGTGG\n",
       "3        GAGCGCGATG\n",
       "4        GTTGAGGCCA\n",
       "            ...    \n",
       "19880    GCGGTAGGCA\n",
       "19881    CTTCTATGAA\n",
       "19882    CCTCTTCTGG\n",
       "19883    ACTCAATGTG\n",
       "19884    GAGCATCCGG\n",
       "Name: BC, Length: 19885, dtype: object"
      ]
     },
     "execution_count": 31,
     "metadata": {},
     "output_type": "execute_result"
    }
   ],
   "source": [
    "validatedBarcodes_df "
   ]
  },
  {
   "cell_type": "code",
   "execution_count": 32,
   "metadata": {},
   "outputs": [],
   "source": [
    "validatedBarcodes_df.to_csv(validatedBarcodes, header=False, index=False)"
   ]
  }
 ],
 "metadata": {
  "kernelspec": {
   "display_name": "Python 3.10.4 ('mpra')",
   "language": "python",
   "name": "python3"
  },
  "language_info": {
   "codemirror_mode": {
    "name": "ipython",
    "version": 3
   },
   "file_extension": ".py",
   "mimetype": "text/x-python",
   "name": "python",
   "nbconvert_exporter": "python",
   "pygments_lexer": "ipython3",
   "version": "3.9.12"
  },
  "orig_nbformat": 4,
  "vscode": {
   "interpreter": {
    "hash": "6abb4b7bab859a9de396deabee55f7ab2a79ecd4f43f7147c7a877724f7bb22d"
   }
  }
 },
 "nbformat": 4,
 "nbformat_minor": 2
}
