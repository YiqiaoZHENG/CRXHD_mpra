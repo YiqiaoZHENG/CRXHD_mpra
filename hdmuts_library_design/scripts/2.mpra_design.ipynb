{
 "cells": [
  {
   "attachments": {},
   "cell_type": "markdown",
   "metadata": {},
   "source": [
    "### for designing HD mutants MPRA library"
   ]
  },
  {
   "cell_type": "code",
   "execution_count": 12,
   "metadata": {},
   "outputs": [],
   "source": [
    "import os, sys, warnings, re, glob2, itertools, string\n",
    "\n",
    "import numpy as np\n",
    "import pandas as pd\n",
    "from functools import reduce\n",
    "import scipy\n",
    "from scipy import stats"
   ]
  },
  {
   "attachments": {},
   "cell_type": "markdown",
   "metadata": {},
   "source": [
    "### I housekeeping"
   ]
  },
  {
   "cell_type": "code",
   "execution_count": 25,
   "metadata": {},
   "outputs": [],
   "source": [
    "# set up working directories (do not run twice)\n",
    "base_dir = os.path.split(os.getcwd())[0]\n",
    "sys.path.insert(0, os.path.join(os.getcwd(),\"utils\"))\n",
    "os.chdir(base_dir)\n",
    "scriptdir=os.path.join(base_dir, \"scripts\")"
   ]
  },
  {
   "cell_type": "code",
   "execution_count": 27,
   "metadata": {},
   "outputs": [],
   "source": [
    "from utils import specseq_plot_utils, specseq_ewm_utils, specseq_predict_occp, sequence_annotator, mpra_CRE_utils\n",
    "specseq_plot_utils.set_manuscript_params() # max 7pt"
   ]
  },
  {
   "attachments": {},
   "cell_type": "markdown",
   "metadata": {},
   "source": [
    "### II. definition of different peaksets (use strict differential analysis stats instead of clustering only)"
   ]
  },
  {
   "cell_type": "code",
   "execution_count": 9,
   "metadata": {},
   "outputs": [
    {
     "name": "stdout",
     "output_type": "stream",
     "text": [
      "466, 5422, 214, 309\n"
     ]
    }
   ],
   "source": [
    "# CRX ChIP annotation matrix\n",
    "chip_full_matrix = pd.read_csv(os.path.join(base_dir, \"peaksets\", \"hdmuts_chip_compiled_matrix.tsv\"), sep=\"\\t\", header=0)\n",
    "\n",
    "# lfc 0.85 ~ FC 1.8\n",
    "lfc_th=0.85\n",
    "fdr_th=0.01\n",
    "k88n_gained = chip_full_matrix.loc[lambda df: (df[\"chip.k88n.lfc\"]>lfc_th)&(df[\"chip.k88n.fdr\"]<fdr_th), :].reset_index(drop=True).copy()\n",
    "k88n_lost = chip_full_matrix.loc[lambda df: (df[\"chip.k88n.lfc\"]<-lfc_th)&(df[\"chip.k88n.fdr\"]<fdr_th), :].reset_index(drop=True).copy()\n",
    "e80a_gained = chip_full_matrix.loc[lambda df: (df[\"chip.e80a.lfc\"]>lfc_th)&(df[\"chip.e80a.fdr\"]<fdr_th), :].reset_index(drop=True).copy()\n",
    "e80a_lost = chip_full_matrix.loc[lambda df: (df[\"chip.e80a.lfc\"]<-lfc_th)&(df[\"chip.e80a.fdr\"]<fdr_th), :].reset_index(drop=True).copy()\n",
    "print(f\"{len(k88n_gained.index)}, {len(k88n_lost.index)}, {len(e80a_gained.index)}, {len(e80a_lost.index)}\")\n"
   ]
  },
  {
   "attachments": {},
   "cell_type": "markdown",
   "metadata": {},
   "source": [
    "### take away the selected retinal gene CREs from the peaksets"
   ]
  },
  {
   "cell_type": "code",
   "execution_count": 10,
   "metadata": {},
   "outputs": [],
   "source": [
    "retinalGene_CRE = pd.read_csv(os.path.join(base_dir, \"peaksets\", \"retinalGenes.csv\"), sep=\",\")\n",
    "retinalGene_array = retinalGene_CRE[\"peak.id\"].unique() # save all peak id in an array"
   ]
  },
  {
   "cell_type": "code",
   "execution_count": 11,
   "metadata": {},
   "outputs": [
    {
     "name": "stdout",
     "output_type": "stream",
     "text": [
      "465, 5396, 213, 309\n"
     ]
    }
   ],
   "source": [
    "k88n_gained = k88n_gained.loc[lambda df: ~df[\"peak.id\"].isin(retinalGene_array), :].copy()\n",
    "k88n_lost = k88n_lost.loc[lambda df: ~df[\"peak.id\"].isin(retinalGene_array), :].copy()\n",
    "e80a_gained = e80a_gained.loc[lambda df: ~df[\"peak.id\"].isin(retinalGene_array), :].copy()\n",
    "e80a_lost = e80a_lost.loc[lambda df: ~df[\"peak.id\"].isin(retinalGene_array), :].copy()\n",
    "print(f\"{len(k88n_gained.index)}, {len(k88n_lost.index)}, {len(e80a_gained.index)}, {len(e80a_lost.index)}\")"
   ]
  },
  {
   "cell_type": "code",
   "execution_count": 12,
   "metadata": {},
   "outputs": [],
   "source": [
    "k88n_gained.to_csv(os.path.join(base_dir, \"peaksets\", \"k88n_gained_regions.bed\"), sep=\"\\t\", index=False, header=True)\n",
    "k88n_lost.to_csv(os.path.join(base_dir, \"peaksets\", \"k88n_lost_regions.bed\"), sep=\"\\t\", index=False, header=True)\n",
    "e80a_gained.to_csv(os.path.join(base_dir, \"peaksets\", \"e80a_gained_regions.bed\"), sep=\"\\t\", index=False, header=True)\n",
    "e80a_lost.to_csv(os.path.join(base_dir, \"peaksets\", \"e80a_lost_regions.bed\"), sep=\"\\t\", index=False, header=True)"
   ]
  },
  {
   "attachments": {},
   "cell_type": "markdown",
   "metadata": {},
   "source": [
    "### III. generate full CRE list, center on summit, and take 134bp (+66/-67 from summit (0))"
   ]
  },
  {
   "cell_type": "code",
   "execution_count": 13,
   "metadata": {},
   "outputs": [],
   "source": [
    "mpraAllCRE = chip_full_matrix.loc[:,[\"peak.id\",\"seqnames\",\"start\",\"end\"]].copy()"
   ]
  },
  {
   "cell_type": "code",
   "execution_count": 14,
   "metadata": {},
   "outputs": [],
   "source": [
    "newCREs = retinalGene_CRE.loc[lambda df: df[\"peak.id\"]==\"n.a.\",[\"Seqnames\",\"Start\",\"End\"]].reset_index(drop=True)\n",
    "newCREs[\"peak.id\"] = [\"peak.\"]+pd.Series(str(9833+x) for x in range(8))\n",
    "newCREs = newCREs.iloc[:,[3,0,1,2]]\n",
    "newCREs = newCREs.rename(columns={\"Seqnames\": \"seqnames\", \"Start\": \"start\", \"End\": \"end\"})"
   ]
  },
  {
   "cell_type": "code",
   "execution_count": 15,
   "metadata": {},
   "outputs": [],
   "source": [
    "mpraAllCRE = pd.concat([mpraAllCRE,newCREs], ignore_index=True).copy()\n",
    "mpraAllCRE[\"summit\"] = round((mpraAllCRE[\"start\"]+mpraAllCRE[\"end\"])/2)\n",
    "mpraAllCRE[\"start\"] = mpraAllCRE[\"summit\"]-67\n",
    "mpraAllCRE[\"end\"] = mpraAllCRE[\"summit\"]+66\n",
    "mpraAllCRE[\"width\"] = mpraAllCRE[\"end\"] - mpraAllCRE[\"start\"] +1\n",
    "mpraAllCRE[\"strand\"] = \"+\""
   ]
  },
  {
   "cell_type": "code",
   "execution_count": 16,
   "metadata": {},
   "outputs": [
    {
     "data": {
      "text/html": [
       "<div>\n",
       "<style scoped>\n",
       "    .dataframe tbody tr th:only-of-type {\n",
       "        vertical-align: middle;\n",
       "    }\n",
       "\n",
       "    .dataframe tbody tr th {\n",
       "        vertical-align: top;\n",
       "    }\n",
       "\n",
       "    .dataframe thead th {\n",
       "        text-align: right;\n",
       "    }\n",
       "</style>\n",
       "<table border=\"1\" class=\"dataframe\">\n",
       "  <thead>\n",
       "    <tr style=\"text-align: right;\">\n",
       "      <th></th>\n",
       "      <th>peak.id</th>\n",
       "      <th>seqnames</th>\n",
       "      <th>start</th>\n",
       "      <th>end</th>\n",
       "      <th>summit</th>\n",
       "      <th>width</th>\n",
       "      <th>strand</th>\n",
       "    </tr>\n",
       "  </thead>\n",
       "  <tbody>\n",
       "    <tr>\n",
       "      <th>0</th>\n",
       "      <td>peak.1</td>\n",
       "      <td>chr1</td>\n",
       "      <td>4357711.0</td>\n",
       "      <td>4357844.0</td>\n",
       "      <td>4357778.0</td>\n",
       "      <td>134.0</td>\n",
       "      <td>+</td>\n",
       "    </tr>\n",
       "    <tr>\n",
       "      <th>1</th>\n",
       "      <td>peak.2</td>\n",
       "      <td>chr1</td>\n",
       "      <td>4358542.0</td>\n",
       "      <td>4358675.0</td>\n",
       "      <td>4358609.0</td>\n",
       "      <td>134.0</td>\n",
       "      <td>+</td>\n",
       "    </tr>\n",
       "    <tr>\n",
       "      <th>2</th>\n",
       "      <td>peak.3</td>\n",
       "      <td>chr1</td>\n",
       "      <td>4360266.0</td>\n",
       "      <td>4360399.0</td>\n",
       "      <td>4360333.0</td>\n",
       "      <td>134.0</td>\n",
       "      <td>+</td>\n",
       "    </tr>\n",
       "    <tr>\n",
       "      <th>3</th>\n",
       "      <td>peak.4</td>\n",
       "      <td>chr1</td>\n",
       "      <td>4383772.0</td>\n",
       "      <td>4383905.0</td>\n",
       "      <td>4383839.0</td>\n",
       "      <td>134.0</td>\n",
       "      <td>+</td>\n",
       "    </tr>\n",
       "    <tr>\n",
       "      <th>4</th>\n",
       "      <td>peak.5</td>\n",
       "      <td>chr1</td>\n",
       "      <td>4802559.0</td>\n",
       "      <td>4802692.0</td>\n",
       "      <td>4802626.0</td>\n",
       "      <td>134.0</td>\n",
       "      <td>+</td>\n",
       "    </tr>\n",
       "  </tbody>\n",
       "</table>\n",
       "</div>"
      ],
      "text/plain": [
       "  peak.id seqnames      start        end     summit  width strand\n",
       "0  peak.1     chr1  4357711.0  4357844.0  4357778.0  134.0      +\n",
       "1  peak.2     chr1  4358542.0  4358675.0  4358609.0  134.0      +\n",
       "2  peak.3     chr1  4360266.0  4360399.0  4360333.0  134.0      +\n",
       "3  peak.4     chr1  4383772.0  4383905.0  4383839.0  134.0      +\n",
       "4  peak.5     chr1  4802559.0  4802692.0  4802626.0  134.0      +"
      ]
     },
     "execution_count": 16,
     "metadata": {},
     "output_type": "execute_result"
    }
   ],
   "source": [
    "mpraAllCRE.head()"
   ]
  },
  {
   "cell_type": "code",
   "execution_count": 14,
   "metadata": {},
   "outputs": [],
   "source": [
    "mpraAllCRE.to_csv(os.path.join(base_dir, \"sequences\", \"mpraAllCRE.tsv\"), sep=\"\\t\", index=False, header=True)"
   ]
  },
  {
   "attachments": {},
   "cell_type": "markdown",
   "metadata": {},
   "source": [
    "### IV. extract the fasta sequences using BSgenome mm10 package in R (run in specseq env)"
   ]
  },
  {
   "cell_type": "code",
   "execution_count": 18,
   "metadata": {},
   "outputs": [],
   "source": [
    "inputBed=os.path.join(base_dir, \"sequences\", \"mpraAllCRE.tsv\")\n",
    "outputFasta=os.path.join(base_dir,\"sequences\",\"mpraAllCRE.fa\")"
   ]
  },
  {
   "cell_type": "code",
   "execution_count": 20,
   "metadata": {},
   "outputs": [
    {
     "name": "stdout",
     "output_type": "stream",
     "text": [
      "\u001b[0;1;31mSystem has not been booted with systemd as init system (PID 1). Can't operate.\u001b[0m\n",
      "\u001b[0;1;31mFailed to create bus connection: Host is down\u001b[0m\n",
      "Warning message:\n",
      "In system(\"timedatectl\", intern = TRUE) :\n",
      "  running command 'timedatectl' had status 1\n",
      "\u001b[?25h\u001b[?25h\u001b[?25h[1] \"Reading coordinates from /mnt/v/yqzheng/qiaoer/PhD Thesis/Experiment/MPRA/hdmuts_library/sequences/mpraAllCRE.tsv\"\n",
      "\u001b[?25h[1] \"Using column peak.id as fasta names\"\n",
      "\u001b[?25h\u001b[?25h\u001b[?25h\u001b[?25h[1] \"Writing fasta sequences to /mnt/v/yqzheng/qiaoer/PhD Thesis/Experiment/MPRA/hdmuts_library/sequences/test.mpraAllCRE.fa\"\n",
      "\u001b[?25h\u001b[?25hha! this is the end of the coordinate_to_fasta.R script!\u001b[?25hany warnings:system(\"timedatectl\", intern = TRUE)\n",
      "\u001b[?25h\u001b[?25h"
     ]
    }
   ],
   "source": [
    "!Rscript ./coordinate_to_fasta.R \"{inputBed}\" \"peak.id\" \"{outputFasta}\""
   ]
  },
  {
   "attachments": {},
   "cell_type": "markdown",
   "metadata": {},
   "source": [
    "### V. scan dimeric HD motifs with FIMO"
   ]
  },
  {
   "cell_type": "code",
   "execution_count": 32,
   "metadata": {},
   "outputs": [],
   "source": [
    "meme_dir = os.path.join(base_dir, \"meme\", \"all_chip_pwm.meme\")\n",
    "fimo_th = 2.5E-3 # as in Ryan's eLife paper\n",
    "#fimo_th = 1.0E-3 # as in Drew's Genome Research paper\n",
    "fimo_meta = os.path.join(scriptdir, \"mpra_fimo_meta.csv\")"
   ]
  },
  {
   "cell_type": "code",
   "execution_count": 33,
   "metadata": {},
   "outputs": [
    {
     "data": {
      "text/html": [
       "<div>\n",
       "<style scoped>\n",
       "    .dataframe tbody tr th:only-of-type {\n",
       "        vertical-align: middle;\n",
       "    }\n",
       "\n",
       "    .dataframe tbody tr th {\n",
       "        vertical-align: top;\n",
       "    }\n",
       "\n",
       "    .dataframe thead th {\n",
       "        text-align: right;\n",
       "    }\n",
       "</style>\n",
       "<table border=\"1\" class=\"dataframe\">\n",
       "  <thead>\n",
       "    <tr style=\"text-align: right;\">\n",
       "      <th></th>\n",
       "      <th>sampleName</th>\n",
       "      <th>inputFA</th>\n",
       "      <th>markovBG</th>\n",
       "      <th>outputDir</th>\n",
       "    </tr>\n",
       "  </thead>\n",
       "  <tbody>\n",
       "    <tr>\n",
       "      <th>0</th>\n",
       "      <td>allCRE</td>\n",
       "      <td>allCRE/mpraAllCRE.fa</td>\n",
       "      <td>allCRE/mpraAllCRE_background</td>\n",
       "      <td>allCRE_fimo</td>\n",
       "    </tr>\n",
       "    <tr>\n",
       "      <th>1</th>\n",
       "      <td>allCRE_fimo</td>\n",
       "      <td>allCRE_fimo/allCRE_fimo.k88n_olap.MEME.2.maske...</td>\n",
       "      <td>allCRE_fimo/allCRE_fimo_background</td>\n",
       "      <td>allCRE_fimo2</td>\n",
       "    </tr>\n",
       "    <tr>\n",
       "      <th>2</th>\n",
       "      <td>allCRE_fimo2</td>\n",
       "      <td>allCRE_fimo2/allCRE_fimo2.k88n_olap.MEME.2.mas...</td>\n",
       "      <td>allCRE_fimo2/allCRE_fimo2_background</td>\n",
       "      <td>allCRE_fimo3</td>\n",
       "    </tr>\n",
       "    <tr>\n",
       "      <th>3</th>\n",
       "      <td>allCRE_fimo3</td>\n",
       "      <td>allCRE_fimo3/allCRE_fimo3.k88n_olap.MEME.2.mas...</td>\n",
       "      <td>allCRE_fimo3/allCRE_fimo2_background</td>\n",
       "      <td>allCRE_fimo4</td>\n",
       "    </tr>\n",
       "    <tr>\n",
       "      <th>4</th>\n",
       "      <td>dimerMutCRE</td>\n",
       "      <td>dimerMutCRE/allCRE.k88n_olap.MEME.2.mutated.fa</td>\n",
       "      <td>dimerMutCRE/dimerMutCRE_fimo_background</td>\n",
       "      <td>dimerMutCRE_fimo</td>\n",
       "    </tr>\n",
       "    <tr>\n",
       "      <th>5</th>\n",
       "      <td>monoMutCRE</td>\n",
       "      <td>monoMutCRE/allCRE.Crx.MA0467.1.mutated.fa</td>\n",
       "      <td>monoMutCRE/monoMutCRE_fimo_background</td>\n",
       "      <td>monoMutCRE_fimo</td>\n",
       "    </tr>\n",
       "    <tr>\n",
       "      <th>6</th>\n",
       "      <td>monoMutCRE_fimo</td>\n",
       "      <td>monoMutCRE_fimo/allCRE.Crx.MA0467.1.mutated.fa</td>\n",
       "      <td>monoMutCRE_fimo/monoMutCRE_fimo_background</td>\n",
       "      <td>monoMutCRE_fimo2</td>\n",
       "    </tr>\n",
       "    <tr>\n",
       "      <th>7</th>\n",
       "      <td>monoMutCRE_fimo2</td>\n",
       "      <td>monoMutCRE_fimo2/allCRE.Crx.MA0467.1.mutated.fa</td>\n",
       "      <td>monoMutCRE_fimo2/monoMutCRE_fimo2_background</td>\n",
       "      <td>monoMutCRE_fimo3</td>\n",
       "    </tr>\n",
       "    <tr>\n",
       "      <th>8</th>\n",
       "      <td>monoMutCRE</td>\n",
       "      <td>monoMutCRE/allCRE.CRX_Corbo.mutated.fa</td>\n",
       "      <td>monoMutCRE/monoMutCRE_fimo_background</td>\n",
       "      <td>monoMutCRE_fimo</td>\n",
       "    </tr>\n",
       "    <tr>\n",
       "      <th>9</th>\n",
       "      <td>monoMutCRE_fimo</td>\n",
       "      <td>monoMutCRE_fimo/allCRE.CRX_Corbo.mutated.fa</td>\n",
       "      <td>monoMutCRE_fimo/monoMutCRE_fimo_background</td>\n",
       "      <td>monoMutCRE_fimo2</td>\n",
       "    </tr>\n",
       "    <tr>\n",
       "      <th>10</th>\n",
       "      <td>monoMutCRE_fimo2</td>\n",
       "      <td>monoMutCRE_fimo2/allCRE.CRX_Corbo.mutated.fa</td>\n",
       "      <td>monoMutCRE_fimo2/monoMutCRE_fimo2_background</td>\n",
       "      <td>monoMutCRE_fimo3</td>\n",
       "    </tr>\n",
       "    <tr>\n",
       "      <th>11</th>\n",
       "      <td>monoMutCRE_fimo3</td>\n",
       "      <td>monoMutCRE_fimo3/allCRE.CRX_Corbo.mutated.fa</td>\n",
       "      <td>monoMutCRE_fimo3/monoMutCRE_fimo3_background</td>\n",
       "      <td>monoMutCRE_fimo4</td>\n",
       "    </tr>\n",
       "    <tr>\n",
       "      <th>12</th>\n",
       "      <td>final_exam</td>\n",
       "      <td>final_exam/hdmuts_library.allMutatedCREs.fa</td>\n",
       "      <td>final_exam/hdmuts_library.allMutatedCREs.backg...</td>\n",
       "      <td>final_exam</td>\n",
       "    </tr>\n",
       "  </tbody>\n",
       "</table>\n",
       "</div>"
      ],
      "text/plain": [
       "          sampleName                                            inputFA  \\\n",
       "0             allCRE                               allCRE/mpraAllCRE.fa   \n",
       "1        allCRE_fimo  allCRE_fimo/allCRE_fimo.k88n_olap.MEME.2.maske...   \n",
       "2       allCRE_fimo2  allCRE_fimo2/allCRE_fimo2.k88n_olap.MEME.2.mas...   \n",
       "3       allCRE_fimo3  allCRE_fimo3/allCRE_fimo3.k88n_olap.MEME.2.mas...   \n",
       "4        dimerMutCRE     dimerMutCRE/allCRE.k88n_olap.MEME.2.mutated.fa   \n",
       "5         monoMutCRE          monoMutCRE/allCRE.Crx.MA0467.1.mutated.fa   \n",
       "6    monoMutCRE_fimo     monoMutCRE_fimo/allCRE.Crx.MA0467.1.mutated.fa   \n",
       "7   monoMutCRE_fimo2    monoMutCRE_fimo2/allCRE.Crx.MA0467.1.mutated.fa   \n",
       "8         monoMutCRE             monoMutCRE/allCRE.CRX_Corbo.mutated.fa   \n",
       "9    monoMutCRE_fimo        monoMutCRE_fimo/allCRE.CRX_Corbo.mutated.fa   \n",
       "10  monoMutCRE_fimo2       monoMutCRE_fimo2/allCRE.CRX_Corbo.mutated.fa   \n",
       "11  monoMutCRE_fimo3       monoMutCRE_fimo3/allCRE.CRX_Corbo.mutated.fa   \n",
       "12        final_exam        final_exam/hdmuts_library.allMutatedCREs.fa   \n",
       "\n",
       "                                             markovBG         outputDir  \n",
       "0                        allCRE/mpraAllCRE_background       allCRE_fimo  \n",
       "1                  allCRE_fimo/allCRE_fimo_background      allCRE_fimo2  \n",
       "2                allCRE_fimo2/allCRE_fimo2_background      allCRE_fimo3  \n",
       "3                allCRE_fimo3/allCRE_fimo2_background      allCRE_fimo4  \n",
       "4             dimerMutCRE/dimerMutCRE_fimo_background  dimerMutCRE_fimo  \n",
       "5               monoMutCRE/monoMutCRE_fimo_background   monoMutCRE_fimo  \n",
       "6          monoMutCRE_fimo/monoMutCRE_fimo_background  monoMutCRE_fimo2  \n",
       "7        monoMutCRE_fimo2/monoMutCRE_fimo2_background  monoMutCRE_fimo3  \n",
       "8               monoMutCRE/monoMutCRE_fimo_background   monoMutCRE_fimo  \n",
       "9          monoMutCRE_fimo/monoMutCRE_fimo_background  monoMutCRE_fimo2  \n",
       "10       monoMutCRE_fimo2/monoMutCRE_fimo2_background  monoMutCRE_fimo3  \n",
       "11       monoMutCRE_fimo3/monoMutCRE_fimo3_background  monoMutCRE_fimo4  \n",
       "12  final_exam/hdmuts_library.allMutatedCREs.backg...        final_exam  "
      ]
     },
     "execution_count": 33,
     "metadata": {},
     "output_type": "execute_result"
    }
   ],
   "source": [
    "fimo_sample_list = pd.read_csv(fimo_meta, sep=\",\", header=0)\n",
    "fimo_sample_list"
   ]
  },
  {
   "cell_type": "code",
   "execution_count": 19,
   "metadata": {},
   "outputs": [],
   "source": [
    "# copy the newly generated fasta to fimo folder\n",
    "new_dir = os.path.join(base_dir, f\"fimo_{fimo_th}\", os.path.split(fimo_sample_list.iloc[0,1])[0].split(\"/\")[-1])\n",
    "!cp \"{outputFasta}\" \"{new_dir}\""
   ]
  },
  {
   "cell_type": "code",
   "execution_count": 20,
   "metadata": {},
   "outputs": [
    {
     "name": "stdout",
     "output_type": "stream",
     "text": [
      "working directory: /mnt/v/yqzheng/qiaoer/VSCode_yiqiao/SPEC-SEQ/scripts\n",
      "query fasta: /mnt/v/yqzheng/qiaoer/PhD Thesis/Experiment/MPRA/hdmuts_library/fimo_0.0025/allCRE/mpraAllCRE.fa\n",
      "\u001b[K9829 134 134 134.0 1317086\n",
      "Scanning with threshold 0.0025\n",
      "FIMO output will be written to /mnt/v/yqzheng/qiaoer/PhD Thesis/Experiment/MPRA/hdmuts_library/fimo_0.0025/allCRE_fimo\n",
      "ha! this is the end of the script!\n"
     ]
    }
   ],
   "source": [
    "!bash ./meme_fimo_scanning.sh \"{scriptdir}\" \"{base_dir}\" \"{meme_dir}\" \"{fimo_th}\" \"{fimo_meta}\" 1"
   ]
  },
  {
   "attachments": {},
   "cell_type": "markdown",
   "metadata": {},
   "source": [
    "### go through FIMO to mark all dimeric HD motifs to N and rescan to make sure all motifs are marked"
   ]
  },
  {
   "cell_type": "code",
   "execution_count": 21,
   "metadata": {},
   "outputs": [
    {
     "name": "stdout",
     "output_type": "stream",
     "text": [
      "reading fasta records from mpraAllCRE.fa\n",
      "['allCRE']\n"
     ]
    }
   ],
   "source": [
    "# read all sequences in fasta file as pd.Series with fasta header/identifier as index\n",
    "raw_fasta = {}\n",
    "f = os.path.join(base_dir, f\"fimo_{fimo_th}\", fimo_sample_list.iloc[0,1])\n",
    "print(\"reading fasta records from \" + os.path.split(f)[1])\n",
    "raw_fasta[fimo_sample_list.iloc[0,0]] = sequence_annotator.read_fasta(f)\n",
    "raw_fasta = pd.Series(raw_fasta)\n",
    "print([x for x in raw_fasta.index])"
   ]
  },
  {
   "cell_type": "code",
   "execution_count": 22,
   "metadata": {},
   "outputs": [
    {
     "data": {
      "text/plain": [
       "label\n",
       "peak.1       TTTTAAGATAATAAAGGTAGCCATAGCAGACAAGTGCGTGAGTAGC...\n",
       "peak.2       ATCCACAAAGGACAAGCTGAAGATTGCCATGCTCTGGAAGACTTGA...\n",
       "peak.3       GGATATGCAACCTGCTTGTTTCACGTAAACAAATGTCTTTGGATTT...\n",
       "peak.4       GTTCCTGTGTGTTTGTTTCCCTGCACACACAGGCTCAGCAGCACAT...\n",
       "peak.5       AAACTCTGTCTGAAAAACCATAAAAGAAAAAGAAAGATGTAGCCTC...\n",
       "                                   ...                        \n",
       "peak.9836    TGAGACTCTGAACTATCCTAAGCCTCCCAAAGACAAAGTCCCAGAT...\n",
       "peak.9837    CGGCGGGAGCTGCCAGCTTTTTGGAATTCCTAATCGCTCCTGGCCC...\n",
       "peak.9838    ATGAAGTAGATATTACCAAATTGCTTTTTCAGCATCCATTTAGATA...\n",
       "peak.9839    TCACCCTAATCCCTCTTTCAAAATGTACTATCCAATTCCATTCTGG...\n",
       "peak.9840    CCGCCCACCGCTTCGCGACCGGAAGCCGACCGTTTCCCGGGCGACC...\n",
       "Length: 9829, dtype: object"
      ]
     },
     "execution_count": 22,
     "metadata": {},
     "output_type": "execute_result"
    }
   ],
   "source": [
    "raw_fasta[0]"
   ]
  },
  {
   "cell_type": "code",
   "execution_count": 23,
   "metadata": {},
   "outputs": [
    {
     "data": {
      "text/plain": [
       "set()"
      ]
     },
     "execution_count": 23,
     "metadata": {},
     "output_type": "execute_result"
    }
   ],
   "source": [
    "readin_fa=raw_fasta[0].index.tolist()\n",
    "set(mpraAllCRE[\"peak.id\"]) - set(readin_fa)"
   ]
  },
  {
   "cell_type": "code",
   "execution_count": 24,
   "metadata": {},
   "outputs": [
    {
     "name": "stdout",
     "output_type": "stream",
     "text": [
      "reading and parsing /mnt/v/yqzheng/qiaoer/PhD Thesis/Experiment/MPRA/hdmuts_library/fimo_0.0025/allCRE_fimo/fimo.tsv\n",
      "['allCRE_fimo']\n"
     ]
    }
   ],
   "source": [
    "# retrieve and parse raw fimo results\n",
    "raw_fimo_score = {}\n",
    "parsed_fimo_score = {}\n",
    "f = os.path.join(base_dir, f\"fimo_{fimo_th}\", fimo_sample_list.iloc[1,0], \"fimo.tsv\")\n",
    "name = os.path.split(f)[0].split(\"/\")[-1]\n",
    "print('reading and parsing ' + f)\n",
    "# read the raw fimo output\n",
    "raw_fimo_score[name] = pd.read_csv(f, sep=\"\\t\", header=0)[:-3] # drop the last three row\n",
    "# parse the result table\n",
    "fimo_df = sequence_annotator.parse_raw_fimo(f)\n",
    "# name the index column\n",
    "fimo_df.index.name = \"label\"\n",
    "# update sumary score dictionary\n",
    "parsed_fimo_score[name] = fimo_df\n",
    "\n",
    "# conver dictionary to series for easy access\n",
    "raw_fimo_score = pd.Series(raw_fimo_score)\n",
    "parsed_fimo_score = pd.Series(parsed_fimo_score)\n",
    "print([x for x in parsed_fimo_score.index])"
   ]
  },
  {
   "cell_type": "code",
   "execution_count": 25,
   "metadata": {},
   "outputs": [],
   "source": [
    "# save parsed fimo results to file\n",
    "specseq_predict_occp.save_df(parsed_fimo_score[0], os.path.join(base_dir, f\"fimo_{fimo_th}\", fimo_sample_list.iloc[1,0], \"parsed_fimo.tsv\"))"
   ]
  },
  {
   "cell_type": "code",
   "execution_count": 26,
   "metadata": {},
   "outputs": [],
   "source": [
    "# 1-indexed nucleotide position dictionaries\n",
    "dimer_core = {1:\"T\", 2:\"A\", 3:\"A\", 9:\"T\", 10:\"T\", 11:\"A\"} # k88n_olap.MEME.2\n",
    "corbo_mono_core = {2:\"T\", 3:\"A\", 4:\"A\"} # CRX_Corbo\n",
    "crx_mono_core = {8:\"T\", 9:\"T\", 10:\"A\"} # JASPAR\n",
    "dimer_mutant_core = {3:\"C\", 9:\"G\"}\n",
    "corbo_mutant_core = {4:\"C\"}\n",
    "crx_mutant_core = {8:\"G\"}"
   ]
  },
  {
   "cell_type": "code",
   "execution_count": 27,
   "metadata": {},
   "outputs": [
    {
     "name": "stdout",
     "output_type": "stream",
     "text": [
      "masking k88n_olap.MEME.2 in allCRE fasta sequences\n",
      "['allCRE.k88n_olap.MEME.2']\n"
     ]
    }
   ],
   "source": [
    "motif = \"k88n_olap.MEME.2\"\n",
    "name = raw_fasta.index[0]\n",
    "\n",
    "masked_fasta = {}\n",
    "masked_fimo_score = {}\n",
    "\n",
    "print(f\"masking {motif} in {name} fasta sequences\")\n",
    "masked_fimo_score[f\"{name}.{motif}\"], masked_fasta[f\"{name}.{motif}\"] = mpra_CRE_utils.find_and_mask_motif(raw_fasta[0], raw_fimo_score[0], motif_name=motif, coremotif_dict=dimer_core)\n",
    "\n",
    "masked_fasta = pd.Series(masked_fasta)\n",
    "masked_fimo_score = pd.Series(masked_fimo_score)\n",
    "\n",
    "print([x for x in masked_fasta.index])"
   ]
  },
  {
   "cell_type": "code",
   "execution_count": 28,
   "metadata": {},
   "outputs": [
    {
     "data": {
      "text/plain": [
       "2578"
      ]
     },
     "execution_count": 28,
     "metadata": {},
     "output_type": "execute_result"
    }
   ],
   "source": [
    "len(masked_fimo_score[\"allCRE.k88n_olap.MEME.2\"].index)"
   ]
  },
  {
   "cell_type": "code",
   "execution_count": 29,
   "metadata": {},
   "outputs": [],
   "source": [
    "# write masked fasta to file\n",
    "sequence_annotator.write_fasta(masked_fasta[\"allCRE.k88n_olap.MEME.2\"], os.path.join(base_dir, f\"fimo_{fimo_th}\", fimo_sample_list.iloc[1,1]))"
   ]
  },
  {
   "attachments": {},
   "cell_type": "markdown",
   "metadata": {},
   "source": [
    "### run FIMO again to mark any remaining dimeric motifs"
   ]
  },
  {
   "cell_type": "code",
   "execution_count": 30,
   "metadata": {},
   "outputs": [
    {
     "name": "stdout",
     "output_type": "stream",
     "text": [
      "working directory: /mnt/v/yqzheng/qiaoer/VSCode_yiqiao/SPEC-SEQ/scripts\n",
      "query fasta: /mnt/v/yqzheng/qiaoer/PhD Thesis/Experiment/MPRA/hdmuts_library/fimo_0.0025/allCRE_fimo/allCRE_fimo.k88n_olap.MEME.2.masked.fa\n",
      "\u001b[K9829 134 134 134.0 1317086\n",
      "Scanning with threshold 0.0025\n",
      "FIMO output will be written to /mnt/v/yqzheng/qiaoer/PhD Thesis/Experiment/MPRA/hdmuts_library/fimo_0.0025/allCRE_fimo2\n",
      "ha! this is the end of the script!\n"
     ]
    }
   ],
   "source": [
    "!bash ./meme_fimo_scanning.sh \"{scriptdir}\" \"{base_dir}\" \"{meme_dir}\" \"{fimo_th}\" \"{fimo_meta}\" 2"
   ]
  },
  {
   "cell_type": "code",
   "execution_count": 31,
   "metadata": {},
   "outputs": [
    {
     "name": "stdout",
     "output_type": "stream",
     "text": [
      "reading fasta records from allCRE_fimo.k88n_olap.MEME.2.masked.fa\n",
      "['allCRE', 'allCRE_fimo']\n"
     ]
    }
   ],
   "source": [
    "# read all sequences in fasta file as pd.Series with fasta header/identifier as index\n",
    "f = os.path.join(base_dir, f\"fimo_{fimo_th}\", fimo_sample_list.iloc[1,1])\n",
    "print(\"reading fasta records from \" + os.path.split(f)[1])\n",
    "raw_fasta[fimo_sample_list.iloc[1,0]] = sequence_annotator.read_fasta(f)\n",
    "print([x for x in raw_fasta.index])"
   ]
  },
  {
   "cell_type": "code",
   "execution_count": 32,
   "metadata": {},
   "outputs": [
    {
     "name": "stdout",
     "output_type": "stream",
     "text": [
      "reading and parsing /mnt/v/yqzheng/qiaoer/PhD Thesis/Experiment/MPRA/hdmuts_library/fimo_0.0025/allCRE_fimo2/fimo.tsv\n",
      "['allCRE_fimo', 'allCRE_fimo2']\n"
     ]
    }
   ],
   "source": [
    "# retrieve raw fimo results\n",
    "f = os.path.join(base_dir, f\"fimo_{fimo_th}\", fimo_sample_list.iloc[2,0], \"fimo.tsv\")\n",
    "name = os.path.split(f)[0].split(\"/\")[-1]\n",
    "print('reading and parsing ' + f)\n",
    "# read the raw fimo output\n",
    "raw_fimo_score[name] = pd.read_csv(f, sep=\"\\t\", header=0)[:-3] # drop the last three row\n",
    "# parse the result table\n",
    "fimo_df = sequence_annotator.parse_raw_fimo(f)\n",
    "# name the index column\n",
    "fimo_df.index.name = \"label\"\n",
    "# update sumary score dictionary\n",
    "parsed_fimo_score[name] = fimo_df\n",
    "print([x for x in raw_fimo_score.index])"
   ]
  },
  {
   "cell_type": "code",
   "execution_count": 33,
   "metadata": {},
   "outputs": [],
   "source": [
    "# save parsed fimo results to file\n",
    "specseq_predict_occp.save_df(parsed_fimo_score[1], os.path.join(base_dir, f\"fimo_{fimo_th}\", fimo_sample_list.iloc[2,0], \"parsed_fimo.tsv\"))"
   ]
  },
  {
   "cell_type": "code",
   "execution_count": 34,
   "metadata": {},
   "outputs": [
    {
     "name": "stdout",
     "output_type": "stream",
     "text": [
      "masking k88n_olap.MEME.2 in allCRE_fimo fasta sequences\n",
      "['allCRE.k88n_olap.MEME.2', 'allCRE_fimo.k88n_olap.MEME.2']\n"
     ]
    }
   ],
   "source": [
    "motif = \"k88n_olap.MEME.2\"\n",
    "name = raw_fasta.index[1]\n",
    "\n",
    "print(f\"masking {motif} in {name} fasta sequences\")\n",
    "masked_fimo_score[f\"{name}.{motif}\"], masked_fasta[f\"{name}.{motif}\"] = mpra_CRE_utils.find_and_mask_motif(raw_fasta[1], raw_fimo_score[1], motif_name=motif, coremotif_dict=dimer_core)\n",
    "\n",
    "print([x for x in masked_fasta.index])"
   ]
  },
  {
   "cell_type": "code",
   "execution_count": 35,
   "metadata": {},
   "outputs": [
    {
     "data": {
      "text/plain": [
       "11"
      ]
     },
     "execution_count": 35,
     "metadata": {},
     "output_type": "execute_result"
    }
   ],
   "source": [
    "len(masked_fimo_score[\"allCRE_fimo.k88n_olap.MEME.2\"].index)"
   ]
  },
  {
   "cell_type": "code",
   "execution_count": 36,
   "metadata": {},
   "outputs": [],
   "source": [
    "# write masked fasta to file\n",
    "sequence_annotator.write_fasta(masked_fasta[\"allCRE_fimo.k88n_olap.MEME.2\"], os.path.join(base_dir, f\"fimo_{fimo_th}\", fimo_sample_list.iloc[2,1]))"
   ]
  },
  {
   "attachments": {},
   "cell_type": "markdown",
   "metadata": {},
   "source": [
    "### run FIMO again to mark any remaining dimeric motifs"
   ]
  },
  {
   "cell_type": "code",
   "execution_count": 37,
   "metadata": {},
   "outputs": [
    {
     "name": "stdout",
     "output_type": "stream",
     "text": [
      "working directory: /mnt/v/yqzheng/qiaoer/VSCode_yiqiao/SPEC-SEQ/scripts\n",
      "query fasta: /mnt/v/yqzheng/qiaoer/PhD Thesis/Experiment/MPRA/hdmuts_library/fimo_0.0025/allCRE_fimo2/allCRE_fimo2.k88n_olap.MEME.2.masked.fa\n",
      "\u001b[K9829 134 134 134.0 1317086\n",
      "Scanning with threshold 0.0025\n",
      "FIMO output will be written to /mnt/v/yqzheng/qiaoer/PhD Thesis/Experiment/MPRA/hdmuts_library/fimo_0.0025/allCRE_fimo3\n",
      "ha! this is the end of the script!\n"
     ]
    }
   ],
   "source": [
    "!bash ./meme_fimo_scanning.sh \"{scriptdir}\" \"{base_dir}\" \"{meme_dir}\" \"{fimo_th}\" \"{fimo_meta}\" 3"
   ]
  },
  {
   "cell_type": "code",
   "execution_count": 38,
   "metadata": {},
   "outputs": [
    {
     "name": "stdout",
     "output_type": "stream",
     "text": [
      "reading fasta records from allCRE_fimo2.k88n_olap.MEME.2.masked.fa\n",
      "['allCRE', 'allCRE_fimo', 'allCRE_fimo2']\n"
     ]
    }
   ],
   "source": [
    "# read all sequences in fasta file as pd.Series with fasta header/identifier as index\n",
    "f = os.path.join(mpraout_dir, f\"fimo_{fimo_th}\", fimo_sample_list.iloc[2,1])\n",
    "print(\"reading fasta records from \" + os.path.split(f)[1])\n",
    "raw_fasta[fimo_sample_list.iloc[2,0]] = sequence_annotator.read_fasta(f)\n",
    "print([x for x in raw_fasta.index])"
   ]
  },
  {
   "cell_type": "code",
   "execution_count": 39,
   "metadata": {},
   "outputs": [
    {
     "name": "stdout",
     "output_type": "stream",
     "text": [
      "reading and parsing /mnt/v/yqzheng/qiaoer/PhD Thesis/Experiment/MPRA/hdmuts_library/fimo_0.0025/allCRE_fimo3/fimo.tsv\n",
      "['allCRE_fimo', 'allCRE_fimo2', 'allCRE_fimo3']\n"
     ]
    }
   ],
   "source": [
    "# retrieve raw fimo results\n",
    "f = os.path.join(base_dir, f\"fimo_{fimo_th}\", fimo_sample_list.iloc[3,0], \"fimo.tsv\")\n",
    "name = os.path.split(f)[0].split(\"/\")[-1]\n",
    "print('reading and parsing ' + f)\n",
    "# read the raw fimo output\n",
    "raw_fimo_score[name] = pd.read_csv(f, sep=\"\\t\", header=0)[:-3] # drop the last three row\n",
    "# parse the result table\n",
    "fimo_df = sequence_annotator.parse_raw_fimo(f)\n",
    "# name the index column\n",
    "fimo_df.index.name = \"label\"\n",
    "# update sumary score dictionary\n",
    "parsed_fimo_score[name] = fimo_df\n",
    "print([x for x in raw_fimo_score.index])"
   ]
  },
  {
   "cell_type": "code",
   "execution_count": 40,
   "metadata": {},
   "outputs": [],
   "source": [
    "# save parsed fimo results to file\n",
    "specseq_predict_occp.save_df(parsed_fimo_score[2], os.path.join(base_dir, f\"fimo_{fimo_th}\", fimo_sample_list.iloc[3,0], \"parsed_fimo.tsv\"))"
   ]
  },
  {
   "cell_type": "code",
   "execution_count": 41,
   "metadata": {},
   "outputs": [
    {
     "name": "stdout",
     "output_type": "stream",
     "text": [
      "masking k88n_olap.MEME.2 in allCRE_fimo2 fasta sequences\n",
      "['allCRE.k88n_olap.MEME.2', 'allCRE_fimo.k88n_olap.MEME.2', 'allCRE_fimo2.k88n_olap.MEME.2']\n"
     ]
    }
   ],
   "source": [
    "motif = \"k88n_olap.MEME.2\"\n",
    "name = raw_fasta.index[2]\n",
    "\n",
    "print(f\"masking {motif} in {name} fasta sequences\")\n",
    "masked_fimo_score[f\"{name}.{motif}\"], masked_fasta[f\"{name}.{motif}\"] = mpra_CRE_utils.find_and_mask_motif(raw_fasta[2], raw_fimo_score[2], motif_name=motif, coremotif_dict=dimer_core)\n",
    "\n",
    "print([x for x in masked_fasta.index])"
   ]
  },
  {
   "cell_type": "code",
   "execution_count": 42,
   "metadata": {},
   "outputs": [
    {
     "data": {
      "text/html": [
       "<div>\n",
       "<style scoped>\n",
       "    .dataframe tbody tr th:only-of-type {\n",
       "        vertical-align: middle;\n",
       "    }\n",
       "\n",
       "    .dataframe tbody tr th {\n",
       "        vertical-align: top;\n",
       "    }\n",
       "\n",
       "    .dataframe thead th {\n",
       "        text-align: right;\n",
       "    }\n",
       "</style>\n",
       "<table border=\"1\" class=\"dataframe\">\n",
       "  <thead>\n",
       "    <tr style=\"text-align: right;\">\n",
       "      <th></th>\n",
       "      <th>motif_id</th>\n",
       "      <th>motif_alt_id</th>\n",
       "      <th>sequence_name</th>\n",
       "      <th>start</th>\n",
       "      <th>stop</th>\n",
       "      <th>strand</th>\n",
       "      <th>score</th>\n",
       "      <th>p-value</th>\n",
       "      <th>q-value</th>\n",
       "      <th>matched_sequence</th>\n",
       "      <th>match</th>\n",
       "    </tr>\n",
       "  </thead>\n",
       "  <tbody>\n",
       "  </tbody>\n",
       "</table>\n",
       "</div>"
      ],
      "text/plain": [
       "Empty DataFrame\n",
       "Columns: [motif_id, motif_alt_id, sequence_name, start, stop, strand, score, p-value, q-value, matched_sequence, match]\n",
       "Index: []"
      ]
     },
     "execution_count": 42,
     "metadata": {},
     "output_type": "execute_result"
    }
   ],
   "source": [
    "masked_fimo_score[\"allCRE_fimo2.k88n_olap.MEME.2\"]"
   ]
  },
  {
   "cell_type": "code",
   "execution_count": 43,
   "metadata": {},
   "outputs": [],
   "source": [
    "# write masked fasta to file #_fimo and _fimo2 fasta should be the same since no more matches were found\n",
    "sequence_annotator.write_fasta(masked_fasta[\"allCRE_fimo2.k88n_olap.MEME.2\"], os.path.join(base_dir, f\"fimo_{fimo_th}\", fimo_sample_list.iloc[3,1]))"
   ]
  },
  {
   "attachments": {},
   "cell_type": "markdown",
   "metadata": {},
   "source": [
    "#### Now there's no more dimeric HD motifs passing FIMO threshold and match core motifs. Theoretically, we can consider the rest of the monomeric motif matching to be clean"
   ]
  },
  {
   "attachments": {},
   "cell_type": "markdown",
   "metadata": {},
   "source": [
    "### VII. look at motif content"
   ]
  },
  {
   "cell_type": "code",
   "execution_count": 44,
   "metadata": {},
   "outputs": [
    {
     "name": "stdout",
     "output_type": "stream",
     "text": [
      "counting Crx.MA0467.1 in allCRE_fimo2\n"
     ]
    }
   ],
   "source": [
    "CRX_motif_count_stringent = {}\n",
    "\n",
    "# count monomeric CRX sites after masking all dimeric sites\n",
    "motif = \"Crx.MA0467.1\"\n",
    "print(\" \".join([\"counting\", motif, \"in\", raw_fasta.index[2]]))\n",
    "CRX_motif_count_stringent[motif] = mpra_CRE_utils.count_motif_occur(raw_fasta[\"allCRE_fimo2\"], raw_fimo_score[\"allCRE_fimo3\"], motif_name=motif, coremotif_dict=crx_mono_core)"
   ]
  },
  {
   "cell_type": "code",
   "execution_count": 45,
   "metadata": {},
   "outputs": [
    {
     "name": "stdout",
     "output_type": "stream",
     "text": [
      "counting CRX_Corbo in allCRE_fimo2\n"
     ]
    }
   ],
   "source": [
    "motif = \"CRX_Corbo\"\n",
    "print(\" \".join([\"counting\", motif, \"in\", raw_fasta.index[2]]))\n",
    "CRX_motif_count_stringent[motif] = mpra_CRE_utils.count_motif_occur(raw_fasta[\"allCRE_fimo2\"], raw_fimo_score[\"allCRE_fimo3\"], motif_name=motif, coremotif_dict=corbo_mono_core)"
   ]
  },
  {
   "cell_type": "code",
   "execution_count": 46,
   "metadata": {},
   "outputs": [
    {
     "name": "stdout",
     "output_type": "stream",
     "text": [
      "counting k88n_olap.DREME.1 in allCRE_fimo2\n"
     ]
    }
   ],
   "source": [
    "motif_column = \"k88n_olap.DREME.1\"\n",
    "print(\" \".join([\"counting\", motif_column, \"in\", raw_fasta.index[2]]))\n",
    "CRX_motif_count_stringent[\"k88n_mono\"] = mpra_CRE_utils.count_motif_occur(raw_fasta[\"allCRE_fimo2\"], raw_fimo_score[\"allCRE_fimo3\"], motif_name=motif_column, coremotif_dict={5:\"T\",6:\"T\",7:\"A\"})"
   ]
  },
  {
   "cell_type": "code",
   "execution_count": 47,
   "metadata": {},
   "outputs": [
    {
     "name": "stdout",
     "output_type": "stream",
     "text": [
      "counting k88n_olap.MEME.2 in allCRE\n"
     ]
    }
   ],
   "source": [
    "# count dimeric motifs\n",
    "motif_column = \"k88n_olap.MEME.2\"\n",
    "print(\" \".join([\"counting\", motif_column, \"in\", raw_fasta.index[0]]))\n",
    "CRX_motif_count_stringent[\"k88n_olap1\"] = mpra_CRE_utils.count_motif_occur(raw_fasta[\"allCRE\"], raw_fimo_score[\"allCRE_fimo\"], motif_name=motif_column, coremotif_dict=dimer_core)"
   ]
  },
  {
   "cell_type": "code",
   "execution_count": 48,
   "metadata": {},
   "outputs": [
    {
     "name": "stdout",
     "output_type": "stream",
     "text": [
      "counting k88n_olap.MEME.2 in allCRE_fimo\n"
     ]
    }
   ],
   "source": [
    "# count dimeric motifs\n",
    "print(\" \".join([\"counting\", motif_column, \"in\", raw_fasta.index[1]]))\n",
    "CRX_motif_count_stringent[\"k88n_olap2\"] = mpra_CRE_utils.count_motif_occur(raw_fasta[\"allCRE_fimo\"], raw_fimo_score[\"allCRE_fimo2\"], motif_name=motif_column, coremotif_dict=dimer_core)"
   ]
  },
  {
   "cell_type": "code",
   "execution_count": 49,
   "metadata": {},
   "outputs": [
    {
     "name": "stdout",
     "output_type": "stream",
     "text": [
      "counting NRL.MA0842.2 in allCRE_fimo2\n"
     ]
    }
   ],
   "source": [
    "# count NRL motif\n",
    "motif_column=\"NRL.MA0842.2\"\n",
    "print(\" \".join([\"counting\", motif_column, \"in\", raw_fasta.index[2]]))\n",
    "CRX_motif_count_stringent[\"NRL\"] = mpra_CRE_utils.count_motif_occur(raw_fasta[\"allCRE_fimo2\"], raw_fimo_score[\"allCRE_fimo3\"], motif_name=motif_column, coremotif_dict=None)"
   ]
  },
  {
   "cell_type": "code",
   "execution_count": 50,
   "metadata": {},
   "outputs": [
    {
     "name": "stdout",
     "output_type": "stream",
     "text": [
      "counting FOS::JUN.MA0099.2 in allCRE_fimo2\n"
     ]
    }
   ],
   "source": [
    "# count AP-1 sites\n",
    "motif_column=\"FOS::JUN.MA0099.2\"\n",
    "print(\" \".join([\"counting\", motif_column, \"in\", raw_fasta.index[2]]))\n",
    "CRX_motif_count_stringent[\"AP1\"] = mpra_CRE_utils.count_motif_occur(raw_fasta[\"allCRE_fimo2\"], raw_fimo_score[\"allCRE_fimo3\"], motif_name=motif_column, coremotif_dict=None)\n"
   ]
  },
  {
   "cell_type": "code",
   "execution_count": 51,
   "metadata": {},
   "outputs": [],
   "source": [
    "CRX_motif_count_stringent = pd.Series(CRX_motif_count_stringent)"
   ]
  },
  {
   "cell_type": "code",
   "execution_count": 52,
   "metadata": {},
   "outputs": [],
   "source": [
    "for i,name in zip(CRX_motif_count_stringent.index.tolist(), [\"HDmono\", \"CRX_Corbo\", \"N50\", \"HDdimer1\", \"HDdimer2\", \"NRL\", \"AP1\"]):\n",
    "    CRX_motif_count_stringent[i] = CRX_motif_count_stringent[i].rename(columns={\"motif_count\":name})"
   ]
  },
  {
   "cell_type": "code",
   "execution_count": 53,
   "metadata": {},
   "outputs": [],
   "source": [
    "# merge all dataframes into one\n",
    "data_merge = reduce(lambda left, right:\n",
    "                     pd.merge(left , right, left_index=True, right_index=True),\n",
    "                     CRX_motif_count_stringent.tolist())\n",
    "data_merge[\"HDdimer\"] = data_merge[\"HDdimer1\"]+data_merge[\"HDdimer2\"]\n",
    "data_merge = data_merge[[\"CRX_Corbo\", \"N50\", \"HDmono\", \"HDdimer\", \"NRL\", \"AP1\"]].astype('int32')\n",
    "data_merge.index.name=\"peak.id\""
   ]
  },
  {
   "cell_type": "code",
   "execution_count": 54,
   "metadata": {},
   "outputs": [],
   "source": [
    "# write to file\n",
    "data_merge.to_csv(os.path.join(base_dir, \"motifs\", f\"allCRE_motifcount.fimo{fimo_th}.tsv\"), sep=\"\\t\", header=True, index=True)"
   ]
  },
  {
   "cell_type": "code",
   "execution_count": 56,
   "metadata": {},
   "outputs": [],
   "source": [
    "def get_motif_stats(motifcount_df):\n",
    "\n",
    "    total = len(motifcount_df)\n",
    "    count_dict = {}\n",
    "    count_dict[\"Total CREs\"]=total\n",
    "    # at least one CRX site\n",
    "    sites=sum((motifcount_df[\"CRX_Corbo\"]>0)|(motifcount_df[\"N50\"]>0)|(motifcount_df[\"HDdimer\"]>0))\n",
    "    count_dict[\"At least one CRX site\"]=sites\n",
    "    # Dimeric only\n",
    "    sites=sum((motifcount_df[\"CRX_Corbo\"]==0)&(motifcount_df[\"N50\"]==0)&(motifcount_df[\"HDdimer\"]>0))\n",
    "    count_dict[\"Dimeric HD site only\"]=sites\n",
    "    # Monomeric only\n",
    "    sites=sum(((motifcount_df[\"CRX_Corbo\"]>0)|(motifcount_df[\"N50\"]>0))&(motifcount_df[\"HDdimer\"]==0))\n",
    "    count_dict[\"Monomeric HD site only\"]=sites\n",
    "    # K mono only\n",
    "    sites=sum((motifcount_df[\"CRX_Corbo\"]>0)&(motifcount_df[\"HDdimer\"]==0))\n",
    "    count_dict[\"WT CRX site only\"]=sites\n",
    "    # Q mono only\n",
    "    sites=sum((motifcount_df[\"N50\"]>0)&(motifcount_df[\"HDdimer\"]==0))\n",
    "    count_dict[\"K88N CRX site only\"]=sites\n",
    "    # K+D\n",
    "    sites=sum((motifcount_df[\"CRX_Corbo\"]>0)&(motifcount_df[\"HDdimer\"]>0))\n",
    "    count_dict[\"Co-occurred WT CRX and dimeric HD sites\"]=sites\n",
    "    # Q+D\n",
    "    sites=sum((motifcount_df[\"N50\"]>0)&(motifcount_df[\"HDdimer\"]>0))\n",
    "    count_dict[\"Co-occurred K88N CRX and dimeric HD sites\"]=sites\n",
    "    # K+Q\n",
    "    sites=sum((motifcount_df[\"CRX_Corbo\"]>0)&(motifcount_df[\"N50\"]>0))\n",
    "    count_dict[\"Co-occurred WT and K88N CRX sites\"]=sites\n",
    "    # K+Q+D\n",
    "    sites=sum((motifcount_df[\"CRX_Corbo\"]>0)&(motifcount_df[\"N50\"]>0)&(motifcount_df[\"HDdimer\"]>0))\n",
    "    count_dict[\"Co-occurred WT, K88N, and dimeric sites\"]=sites\n",
    "    # K+NRL\n",
    "    sites=sum((motifcount_df[\"CRX_Corbo\"]>0)&(motifcount_df[\"NRL\"]>0))\n",
    "    count_dict[\"Co-occurred WT CRX and NRL sites\"]=sites\n",
    "    # Q+NRL\n",
    "    sites=sum((motifcount_df[\"N50\"]>0)&(motifcount_df[\"NRL\"]>0))\n",
    "    count_dict[\"Co-occurred k88N CRX and NRL sites\"]=sites\n",
    "    # D+NRL\n",
    "    sites=sum((motifcount_df[\"HDdimer\"]>0)&(motifcount_df[\"NRL\"]>0))\n",
    "    count_dict[\"Co-occurred dimeric HD and NRL sites\"]=sites\n",
    "    # NRL OR AP-1\n",
    "    sites=sum((motifcount_df[\"AP1\"]>0)|(motifcount_df[\"NRL\"]>0))\n",
    "    count_dict[\"NRL or AP1 sites\"]=sites\n",
    "    # NRL\n",
    "    sites=sum((motifcount_df[\"NRL\"]>0)&(motifcount_df[\"AP1\"]==0))\n",
    "    count_dict[\"NRL site only\"]=sites\n",
    "    # AP1\n",
    "    sites=sum((motifcount_df[\"AP1\"]>0)&(motifcount_df[\"NRL\"]==0))\n",
    "    count_dict[\"AP1 site only\"]=sites\n",
    "\n",
    "    count_df = pd.DataFrame.from_dict(count_dict, orient='index', columns=['count'])\n",
    "    count_df.index.name=\"Category\"\n",
    "    count_df[\"Perc\"] = count_df[\"count\"]/total\n",
    "    count_df[\"Perc\"] = count_df[\"Perc\"].round(decimals=4)*100\n",
    "\n",
    "    return count_df"
   ]
  },
  {
   "cell_type": "code",
   "execution_count": 57,
   "metadata": {},
   "outputs": [],
   "source": [
    "# background motif content\n",
    "bg_motif_content = get_motif_stats(data_merge)\n",
    "#display(bg_motif_content)"
   ]
  },
  {
   "attachments": {},
   "cell_type": "markdown",
   "metadata": {},
   "source": [
    "### check motif content for different categories of peaksets"
   ]
  },
  {
   "cell_type": "code",
   "execution_count": 58,
   "metadata": {},
   "outputs": [],
   "source": [
    "diffbound_peaks=list(set(k88n_gained[\"peak.id\"].tolist()+e80a_gained[\"peak.id\"].tolist()+e80a_lost[\"peak.id\"].tolist()+retinalGene_CRE[\"peak.id\"].tolist()))\n",
    "diffbound_CREs = data_merge.loc[lambda df: df.index.isin(diffbound_peaks),:]"
   ]
  },
  {
   "cell_type": "code",
   "execution_count": 61,
   "metadata": {},
   "outputs": [],
   "source": [
    "# motif content of differentially bound peaks\n",
    "db_motif_content = get_motif_stats(diffbound_CREs)\n",
    "#display(db_motif_content)"
   ]
  },
  {
   "cell_type": "code",
   "execution_count": 62,
   "metadata": {},
   "outputs": [],
   "source": [
    "k88nlost_CREs = data_merge.loc[lambda df: (df.index.isin(k88n_lost[\"peak.id\"].tolist()))&(~df.index.isin(diffbound_peaks)),:]"
   ]
  },
  {
   "cell_type": "code",
   "execution_count": 65,
   "metadata": {},
   "outputs": [],
   "source": [
    "# motif content of differentially bound peaks\n",
    "klost_motif_content = get_motif_stats(k88nlost_CREs)\n",
    "#display(klost_motif_content)"
   ]
  },
  {
   "cell_type": "code",
   "execution_count": 66,
   "metadata": {},
   "outputs": [],
   "source": [
    "notdiffbound_CREs = data_merge.loc[lambda df: ~((df.index.isin(diffbound_peaks))|(df.index.isin(k88n_lost[\"peak.id\"].tolist()))),:]"
   ]
  },
  {
   "cell_type": "code",
   "execution_count": 69,
   "metadata": {},
   "outputs": [],
   "source": [
    "# motif content of differentially bound peaks\n",
    "notdb_motif_content = get_motif_stats(notdiffbound_CREs)\n",
    "#display(notdb_motif_content)"
   ]
  },
  {
   "cell_type": "code",
   "execution_count": 70,
   "metadata": {},
   "outputs": [
    {
     "data": {
      "text/html": [
       "<div>\n",
       "<style scoped>\n",
       "    .dataframe tbody tr th:only-of-type {\n",
       "        vertical-align: middle;\n",
       "    }\n",
       "\n",
       "    .dataframe tbody tr th {\n",
       "        vertical-align: top;\n",
       "    }\n",
       "\n",
       "    .dataframe thead tr th {\n",
       "        text-align: left;\n",
       "    }\n",
       "\n",
       "    .dataframe thead tr:last-of-type th {\n",
       "        text-align: right;\n",
       "    }\n",
       "</style>\n",
       "<table border=\"1\" class=\"dataframe\">\n",
       "  <thead>\n",
       "    <tr>\n",
       "      <th></th>\n",
       "      <th colspan=\"2\" halign=\"left\">All</th>\n",
       "      <th colspan=\"2\" halign=\"left\">DB</th>\n",
       "      <th colspan=\"2\" halign=\"left\">KLost</th>\n",
       "      <th colspan=\"2\" halign=\"left\">NotDB</th>\n",
       "    </tr>\n",
       "    <tr>\n",
       "      <th></th>\n",
       "      <th>count</th>\n",
       "      <th>Perc</th>\n",
       "      <th>count</th>\n",
       "      <th>Perc</th>\n",
       "      <th>count</th>\n",
       "      <th>Perc</th>\n",
       "      <th>count</th>\n",
       "      <th>Perc</th>\n",
       "    </tr>\n",
       "    <tr>\n",
       "      <th>Category</th>\n",
       "      <th></th>\n",
       "      <th></th>\n",
       "      <th></th>\n",
       "      <th></th>\n",
       "      <th></th>\n",
       "      <th></th>\n",
       "      <th></th>\n",
       "      <th></th>\n",
       "    </tr>\n",
       "  </thead>\n",
       "  <tbody>\n",
       "    <tr>\n",
       "      <th>Total CREs</th>\n",
       "      <td>9829</td>\n",
       "      <td>100.00</td>\n",
       "      <td>1031</td>\n",
       "      <td>100.00</td>\n",
       "      <td>5163</td>\n",
       "      <td>100.00</td>\n",
       "      <td>3635</td>\n",
       "      <td>100.00</td>\n",
       "    </tr>\n",
       "    <tr>\n",
       "      <th>At least one CRX site</th>\n",
       "      <td>8545</td>\n",
       "      <td>86.94</td>\n",
       "      <td>968</td>\n",
       "      <td>93.89</td>\n",
       "      <td>4413</td>\n",
       "      <td>85.47</td>\n",
       "      <td>3164</td>\n",
       "      <td>87.04</td>\n",
       "    </tr>\n",
       "    <tr>\n",
       "      <th>Dimeric HD site only</th>\n",
       "      <td>258</td>\n",
       "      <td>2.62</td>\n",
       "      <td>71</td>\n",
       "      <td>6.89</td>\n",
       "      <td>132</td>\n",
       "      <td>2.56</td>\n",
       "      <td>55</td>\n",
       "      <td>1.51</td>\n",
       "    </tr>\n",
       "    <tr>\n",
       "      <th>Monomeric HD site only</th>\n",
       "      <td>7125</td>\n",
       "      <td>72.49</td>\n",
       "      <td>556</td>\n",
       "      <td>53.93</td>\n",
       "      <td>3846</td>\n",
       "      <td>74.49</td>\n",
       "      <td>2723</td>\n",
       "      <td>74.91</td>\n",
       "    </tr>\n",
       "    <tr>\n",
       "      <th>WT CRX site only</th>\n",
       "      <td>6820</td>\n",
       "      <td>69.39</td>\n",
       "      <td>493</td>\n",
       "      <td>47.82</td>\n",
       "      <td>3737</td>\n",
       "      <td>72.38</td>\n",
       "      <td>2590</td>\n",
       "      <td>71.25</td>\n",
       "    </tr>\n",
       "    <tr>\n",
       "      <th>K88N CRX site only</th>\n",
       "      <td>2572</td>\n",
       "      <td>26.17</td>\n",
       "      <td>311</td>\n",
       "      <td>30.16</td>\n",
       "      <td>1243</td>\n",
       "      <td>24.08</td>\n",
       "      <td>1018</td>\n",
       "      <td>28.01</td>\n",
       "    </tr>\n",
       "    <tr>\n",
       "      <th>Co-occurred WT CRX and dimeric HD sites</th>\n",
       "      <td>1017</td>\n",
       "      <td>10.35</td>\n",
       "      <td>253</td>\n",
       "      <td>24.54</td>\n",
       "      <td>413</td>\n",
       "      <td>8.00</td>\n",
       "      <td>351</td>\n",
       "      <td>9.66</td>\n",
       "    </tr>\n",
       "    <tr>\n",
       "      <th>Co-occurred K88N CRX and dimeric HD sites</th>\n",
       "      <td>589</td>\n",
       "      <td>5.99</td>\n",
       "      <td>261</td>\n",
       "      <td>25.32</td>\n",
       "      <td>140</td>\n",
       "      <td>2.71</td>\n",
       "      <td>188</td>\n",
       "      <td>5.17</td>\n",
       "    </tr>\n",
       "    <tr>\n",
       "      <th>Co-occurred WT and K88N CRX sites</th>\n",
       "      <td>2711</td>\n",
       "      <td>27.58</td>\n",
       "      <td>421</td>\n",
       "      <td>40.83</td>\n",
       "      <td>1252</td>\n",
       "      <td>24.25</td>\n",
       "      <td>1038</td>\n",
       "      <td>28.56</td>\n",
       "    </tr>\n",
       "    <tr>\n",
       "      <th>Co-occurred WT, K88N, and dimeric sites</th>\n",
       "      <td>444</td>\n",
       "      <td>4.52</td>\n",
       "      <td>173</td>\n",
       "      <td>16.78</td>\n",
       "      <td>118</td>\n",
       "      <td>2.29</td>\n",
       "      <td>153</td>\n",
       "      <td>4.21</td>\n",
       "    </tr>\n",
       "    <tr>\n",
       "      <th>Co-occurred WT CRX and NRL sites</th>\n",
       "      <td>4084</td>\n",
       "      <td>41.55</td>\n",
       "      <td>405</td>\n",
       "      <td>39.28</td>\n",
       "      <td>2142</td>\n",
       "      <td>41.49</td>\n",
       "      <td>1537</td>\n",
       "      <td>42.28</td>\n",
       "    </tr>\n",
       "    <tr>\n",
       "      <th>Co-occurred k88N CRX and NRL sites</th>\n",
       "      <td>1782</td>\n",
       "      <td>18.13</td>\n",
       "      <td>318</td>\n",
       "      <td>30.84</td>\n",
       "      <td>779</td>\n",
       "      <td>15.09</td>\n",
       "      <td>685</td>\n",
       "      <td>18.84</td>\n",
       "    </tr>\n",
       "    <tr>\n",
       "      <th>Co-occurred dimeric HD and NRL sites</th>\n",
       "      <td>680</td>\n",
       "      <td>6.92</td>\n",
       "      <td>203</td>\n",
       "      <td>19.69</td>\n",
       "      <td>264</td>\n",
       "      <td>5.11</td>\n",
       "      <td>213</td>\n",
       "      <td>5.86</td>\n",
       "    </tr>\n",
       "    <tr>\n",
       "      <th>NRL or AP1 sites</th>\n",
       "      <td>7021</td>\n",
       "      <td>71.43</td>\n",
       "      <td>793</td>\n",
       "      <td>76.92</td>\n",
       "      <td>3584</td>\n",
       "      <td>69.42</td>\n",
       "      <td>2644</td>\n",
       "      <td>72.74</td>\n",
       "    </tr>\n",
       "    <tr>\n",
       "      <th>NRL site only</th>\n",
       "      <td>2493</td>\n",
       "      <td>25.36</td>\n",
       "      <td>277</td>\n",
       "      <td>26.87</td>\n",
       "      <td>1313</td>\n",
       "      <td>25.43</td>\n",
       "      <td>903</td>\n",
       "      <td>24.84</td>\n",
       "    </tr>\n",
       "    <tr>\n",
       "      <th>AP1 site only</th>\n",
       "      <td>2062</td>\n",
       "      <td>20.98</td>\n",
       "      <td>225</td>\n",
       "      <td>21.82</td>\n",
       "      <td>1033</td>\n",
       "      <td>20.01</td>\n",
       "      <td>804</td>\n",
       "      <td>22.12</td>\n",
       "    </tr>\n",
       "  </tbody>\n",
       "</table>\n",
       "</div>"
      ],
      "text/plain": [
       "                                            All            DB         KLost  \\\n",
       "                                          count    Perc count    Perc count   \n",
       "Category                                                                      \n",
       "Total CREs                                 9829  100.00  1031  100.00  5163   \n",
       "At least one CRX site                      8545   86.94   968   93.89  4413   \n",
       "Dimeric HD site only                        258    2.62    71    6.89   132   \n",
       "Monomeric HD site only                     7125   72.49   556   53.93  3846   \n",
       "WT CRX site only                           6820   69.39   493   47.82  3737   \n",
       "K88N CRX site only                         2572   26.17   311   30.16  1243   \n",
       "Co-occurred WT CRX and dimeric HD sites    1017   10.35   253   24.54   413   \n",
       "Co-occurred K88N CRX and dimeric HD sites   589    5.99   261   25.32   140   \n",
       "Co-occurred WT and K88N CRX sites          2711   27.58   421   40.83  1252   \n",
       "Co-occurred WT, K88N, and dimeric sites     444    4.52   173   16.78   118   \n",
       "Co-occurred WT CRX and NRL sites           4084   41.55   405   39.28  2142   \n",
       "Co-occurred k88N CRX and NRL sites         1782   18.13   318   30.84   779   \n",
       "Co-occurred dimeric HD and NRL sites        680    6.92   203   19.69   264   \n",
       "NRL or AP1 sites                           7021   71.43   793   76.92  3584   \n",
       "NRL site only                              2493   25.36   277   26.87  1313   \n",
       "AP1 site only                              2062   20.98   225   21.82  1033   \n",
       "\n",
       "                                                  NotDB          \n",
       "                                             Perc count    Perc  \n",
       "Category                                                         \n",
       "Total CREs                                 100.00  3635  100.00  \n",
       "At least one CRX site                       85.47  3164   87.04  \n",
       "Dimeric HD site only                         2.56    55    1.51  \n",
       "Monomeric HD site only                      74.49  2723   74.91  \n",
       "WT CRX site only                            72.38  2590   71.25  \n",
       "K88N CRX site only                          24.08  1018   28.01  \n",
       "Co-occurred WT CRX and dimeric HD sites      8.00   351    9.66  \n",
       "Co-occurred K88N CRX and dimeric HD sites    2.71   188    5.17  \n",
       "Co-occurred WT and K88N CRX sites           24.25  1038   28.56  \n",
       "Co-occurred WT, K88N, and dimeric sites      2.29   153    4.21  \n",
       "Co-occurred WT CRX and NRL sites            41.49  1537   42.28  \n",
       "Co-occurred k88N CRX and NRL sites          15.09   685   18.84  \n",
       "Co-occurred dimeric HD and NRL sites         5.11   213    5.86  \n",
       "NRL or AP1 sites                            69.42  2644   72.74  \n",
       "NRL site only                               25.43   903   24.84  \n",
       "AP1 site only                               20.01   804   22.12  "
      ]
     },
     "metadata": {},
     "output_type": "display_data"
    }
   ],
   "source": [
    "# compile all motif content dataframes into a multi-index dataframe\n",
    "d = {\"All\": bg_motif_content, \"DB\": db_motif_content, \"KLost\": klost_motif_content, \"NotDB\": notdb_motif_content }\n",
    "complete_motif_content = pd.concat(d.values(), axis=1, keys=d.keys())\n",
    "display(complete_motif_content)"
   ]
  },
  {
   "cell_type": "code",
   "execution_count": 71,
   "metadata": {},
   "outputs": [],
   "source": [
    "complete_motif_content.to_csv(os.path.join(base_dir, \"motifs\", f\"compiled_motifcontent.fimo{fimo_th}.tsv\"), sep=\"\\t\", index=True)"
   ]
  },
  {
   "attachments": {},
   "cell_type": "markdown",
   "metadata": {},
   "source": [
    "### compile binding, fimo score, and annotation into one dataframe"
   ]
  },
  {
   "cell_type": "code",
   "execution_count": 72,
   "metadata": {},
   "outputs": [],
   "source": [
    "mpraAnnot_df = pd.merge(mpraAllCRE, data_merge, left_on=\"peak.id\", right_on=\"peak.id\", how=\"outer\")"
   ]
  },
  {
   "cell_type": "code",
   "execution_count": 73,
   "metadata": {},
   "outputs": [],
   "source": [
    "mpraAnnot_df[\"annotation\"]=np.nan\n",
    "mpraAnnot_df[[\"annotation\"]] = mpraAnnot_df[[\"annotation\"]] .mask(mpraAnnot_df[\"peak.id\"].isin(retinalGene_CRE[\"peak.id\"].tolist()), 'RetinalGene', inplace=False) \n",
    "mpraAnnot_df[[\"annotation\"]] = mpraAnnot_df[[\"annotation\"]] .mask(mpraAnnot_df[\"peak.id\"].isin(e80a_gained[\"peak.id\"].tolist()), 'EGain', inplace=False)\n",
    "mpraAnnot_df[[\"annotation\"]] = mpraAnnot_df[[\"annotation\"]] .mask(mpraAnnot_df[\"peak.id\"].isin(e80a_lost[\"peak.id\"].tolist()), 'ELost', inplace=False)\n",
    "mpraAnnot_df[[\"annotation\"]] = mpraAnnot_df[[\"annotation\"]] .mask(mpraAnnot_df[\"peak.id\"].isin(k88n_gained[\"peak.id\"].tolist()), 'KGain', inplace=False)\n",
    "mpraAnnot_df[[\"annotation\"]] = mpraAnnot_df[[\"annotation\"]] .mask(mpraAnnot_df[\"peak.id\"].isin(k88nlost_CREs.index.tolist()), 'KLost', inplace=False)\n",
    "mpraAnnot_df[[\"annotation\"]] = mpraAnnot_df[[\"annotation\"]] .mask(mpraAnnot_df[\"peak.id\"].isin(notdiffbound_CREs.index.tolist()), 'NotDB', inplace=False)"
   ]
  },
  {
   "cell_type": "code",
   "execution_count": 74,
   "metadata": {},
   "outputs": [],
   "source": [
    "mpraAnnot_df = mpraAnnot_df.merge(raw_fasta[0].to_frame(name=\"FASTA\"), left_on=\"peak.id\", right_on=\"label\", how=\"outer\")"
   ]
  },
  {
   "cell_type": "code",
   "execution_count": 75,
   "metadata": {},
   "outputs": [
    {
     "data": {
      "text/html": [
       "<div>\n",
       "<style scoped>\n",
       "    .dataframe tbody tr th:only-of-type {\n",
       "        vertical-align: middle;\n",
       "    }\n",
       "\n",
       "    .dataframe tbody tr th {\n",
       "        vertical-align: top;\n",
       "    }\n",
       "\n",
       "    .dataframe thead th {\n",
       "        text-align: right;\n",
       "    }\n",
       "</style>\n",
       "<table border=\"1\" class=\"dataframe\">\n",
       "  <thead>\n",
       "    <tr style=\"text-align: right;\">\n",
       "      <th></th>\n",
       "      <th>peak.id</th>\n",
       "      <th>seqnames</th>\n",
       "      <th>start</th>\n",
       "      <th>end</th>\n",
       "      <th>summit</th>\n",
       "      <th>width</th>\n",
       "      <th>strand</th>\n",
       "      <th>CRX_Corbo</th>\n",
       "      <th>N50</th>\n",
       "      <th>HDmono</th>\n",
       "      <th>HDdimer</th>\n",
       "      <th>NRL</th>\n",
       "      <th>AP1</th>\n",
       "      <th>annotation</th>\n",
       "      <th>FASTA</th>\n",
       "    </tr>\n",
       "  </thead>\n",
       "  <tbody>\n",
       "    <tr>\n",
       "      <th>0</th>\n",
       "      <td>peak.1</td>\n",
       "      <td>chr1</td>\n",
       "      <td>4357711.0</td>\n",
       "      <td>4357844.0</td>\n",
       "      <td>4357778.0</td>\n",
       "      <td>134.0</td>\n",
       "      <td>+</td>\n",
       "      <td>1</td>\n",
       "      <td>2</td>\n",
       "      <td>0</td>\n",
       "      <td>0</td>\n",
       "      <td>2</td>\n",
       "      <td>1</td>\n",
       "      <td>KLost</td>\n",
       "      <td>TTTTAAGATAATAAAGGTAGCCATAGCAGACAAGTGCGTGAGTAGC...</td>\n",
       "    </tr>\n",
       "    <tr>\n",
       "      <th>1</th>\n",
       "      <td>peak.2</td>\n",
       "      <td>chr1</td>\n",
       "      <td>4358542.0</td>\n",
       "      <td>4358675.0</td>\n",
       "      <td>4358609.0</td>\n",
       "      <td>134.0</td>\n",
       "      <td>+</td>\n",
       "      <td>1</td>\n",
       "      <td>0</td>\n",
       "      <td>1</td>\n",
       "      <td>0</td>\n",
       "      <td>0</td>\n",
       "      <td>1</td>\n",
       "      <td>KLost</td>\n",
       "      <td>ATCCACAAAGGACAAGCTGAAGATTGCCATGCTCTGGAAGACTTGA...</td>\n",
       "    </tr>\n",
       "    <tr>\n",
       "      <th>2</th>\n",
       "      <td>peak.3</td>\n",
       "      <td>chr1</td>\n",
       "      <td>4360266.0</td>\n",
       "      <td>4360399.0</td>\n",
       "      <td>4360333.0</td>\n",
       "      <td>134.0</td>\n",
       "      <td>+</td>\n",
       "      <td>3</td>\n",
       "      <td>2</td>\n",
       "      <td>3</td>\n",
       "      <td>0</td>\n",
       "      <td>2</td>\n",
       "      <td>1</td>\n",
       "      <td>RetinalGene</td>\n",
       "      <td>GGATATGCAACCTGCTTGTTTCACGTAAACAAATGTCTTTGGATTT...</td>\n",
       "    </tr>\n",
       "    <tr>\n",
       "      <th>3</th>\n",
       "      <td>peak.4</td>\n",
       "      <td>chr1</td>\n",
       "      <td>4383772.0</td>\n",
       "      <td>4383905.0</td>\n",
       "      <td>4383839.0</td>\n",
       "      <td>134.0</td>\n",
       "      <td>+</td>\n",
       "      <td>3</td>\n",
       "      <td>1</td>\n",
       "      <td>0</td>\n",
       "      <td>0</td>\n",
       "      <td>3</td>\n",
       "      <td>1</td>\n",
       "      <td>NotDB</td>\n",
       "      <td>GTTCCTGTGTGTTTGTTTCCCTGCACACACAGGCTCAGCAGCACAT...</td>\n",
       "    </tr>\n",
       "    <tr>\n",
       "      <th>4</th>\n",
       "      <td>peak.5</td>\n",
       "      <td>chr1</td>\n",
       "      <td>4802559.0</td>\n",
       "      <td>4802692.0</td>\n",
       "      <td>4802626.0</td>\n",
       "      <td>134.0</td>\n",
       "      <td>+</td>\n",
       "      <td>0</td>\n",
       "      <td>0</td>\n",
       "      <td>0</td>\n",
       "      <td>1</td>\n",
       "      <td>0</td>\n",
       "      <td>1</td>\n",
       "      <td>ELost</td>\n",
       "      <td>AAACTCTGTCTGAAAAACCATAAAAGAAAAAGAAAGATGTAGCCTC...</td>\n",
       "    </tr>\n",
       "  </tbody>\n",
       "</table>\n",
       "</div>"
      ],
      "text/plain": [
       "  peak.id seqnames      start        end     summit  width strand  CRX_Corbo  \\\n",
       "0  peak.1     chr1  4357711.0  4357844.0  4357778.0  134.0      +          1   \n",
       "1  peak.2     chr1  4358542.0  4358675.0  4358609.0  134.0      +          1   \n",
       "2  peak.3     chr1  4360266.0  4360399.0  4360333.0  134.0      +          3   \n",
       "3  peak.4     chr1  4383772.0  4383905.0  4383839.0  134.0      +          3   \n",
       "4  peak.5     chr1  4802559.0  4802692.0  4802626.0  134.0      +          0   \n",
       "\n",
       "   N50  HDmono  HDdimer  NRL  AP1   annotation  \\\n",
       "0    2       0        0    2    1        KLost   \n",
       "1    0       1        0    0    1        KLost   \n",
       "2    2       3        0    2    1  RetinalGene   \n",
       "3    1       0        0    3    1        NotDB   \n",
       "4    0       0        1    0    1        ELost   \n",
       "\n",
       "                                               FASTA  \n",
       "0  TTTTAAGATAATAAAGGTAGCCATAGCAGACAAGTGCGTGAGTAGC...  \n",
       "1  ATCCACAAAGGACAAGCTGAAGATTGCCATGCTCTGGAAGACTTGA...  \n",
       "2  GGATATGCAACCTGCTTGTTTCACGTAAACAAATGTCTTTGGATTT...  \n",
       "3  GTTCCTGTGTGTTTGTTTCCCTGCACACACAGGCTCAGCAGCACAT...  \n",
       "4  AAACTCTGTCTGAAAAACCATAAAAGAAAAAGAAAGATGTAGCCTC...  "
      ]
     },
     "execution_count": 75,
     "metadata": {},
     "output_type": "execute_result"
    }
   ],
   "source": [
    "mpraAnnot_df.head()"
   ]
  },
  {
   "cell_type": "code",
   "execution_count": 76,
   "metadata": {},
   "outputs": [],
   "source": [
    "mpraAnnot_df.to_csv(os.path.join(base_dir, \"peaksets\", f\"allCRE_annotation.fimo{fimo_th}.tsv\"), sep=\"\\t\", index=False)"
   ]
  },
  {
   "cell_type": "code",
   "execution_count": 77,
   "metadata": {},
   "outputs": [
    {
     "data": {
      "text/html": [
       "<div>\n",
       "<style scoped>\n",
       "    .dataframe tbody tr th:only-of-type {\n",
       "        vertical-align: middle;\n",
       "    }\n",
       "\n",
       "    .dataframe tbody tr th {\n",
       "        vertical-align: top;\n",
       "    }\n",
       "\n",
       "    .dataframe thead th {\n",
       "        text-align: right;\n",
       "    }\n",
       "</style>\n",
       "<table border=\"1\" class=\"dataframe\">\n",
       "  <thead>\n",
       "    <tr style=\"text-align: right;\">\n",
       "      <th></th>\n",
       "      <th>peak.id</th>\n",
       "      <th>seqnames</th>\n",
       "      <th>start</th>\n",
       "      <th>end</th>\n",
       "      <th>summit</th>\n",
       "      <th>width</th>\n",
       "      <th>strand</th>\n",
       "      <th>CRX_Corbo</th>\n",
       "      <th>N50</th>\n",
       "      <th>HDmono</th>\n",
       "      <th>HDdimer</th>\n",
       "      <th>NRL</th>\n",
       "      <th>AP1</th>\n",
       "      <th>annotation</th>\n",
       "      <th>FASTA</th>\n",
       "    </tr>\n",
       "  </thead>\n",
       "  <tbody>\n",
       "    <tr>\n",
       "      <th>16</th>\n",
       "      <td>peak.17</td>\n",
       "      <td>chr1</td>\n",
       "      <td>10024896.0</td>\n",
       "      <td>10025029.0</td>\n",
       "      <td>10024963.0</td>\n",
       "      <td>134.0</td>\n",
       "      <td>+</td>\n",
       "      <td>0</td>\n",
       "      <td>1</td>\n",
       "      <td>0</td>\n",
       "      <td>4</td>\n",
       "      <td>0</td>\n",
       "      <td>1</td>\n",
       "      <td>KLost</td>\n",
       "      <td>CTGAGTTTTGGTAACTGGGTTAAAAGTGTTACTTGAGCTTCTTTTC...</td>\n",
       "    </tr>\n",
       "    <tr>\n",
       "      <th>652</th>\n",
       "      <td>peak.653</td>\n",
       "      <td>chr10</td>\n",
       "      <td>19096590.0</td>\n",
       "      <td>19096723.0</td>\n",
       "      <td>19096657.0</td>\n",
       "      <td>134.0</td>\n",
       "      <td>+</td>\n",
       "      <td>1</td>\n",
       "      <td>1</td>\n",
       "      <td>1</td>\n",
       "      <td>3</td>\n",
       "      <td>0</td>\n",
       "      <td>0</td>\n",
       "      <td>NotDB</td>\n",
       "      <td>GGCCCATATGATGTCATACTTTGATTATCCACTTGATCCCACAGAG...</td>\n",
       "    </tr>\n",
       "    <tr>\n",
       "      <th>1211</th>\n",
       "      <td>peak.1212</td>\n",
       "      <td>chr11</td>\n",
       "      <td>35873995.0</td>\n",
       "      <td>35874128.0</td>\n",
       "      <td>35874062.0</td>\n",
       "      <td>134.0</td>\n",
       "      <td>+</td>\n",
       "      <td>0</td>\n",
       "      <td>0</td>\n",
       "      <td>0</td>\n",
       "      <td>3</td>\n",
       "      <td>2</td>\n",
       "      <td>2</td>\n",
       "      <td>KLost</td>\n",
       "      <td>CTCCGCTAAACCACTTAAGGAGATTAATTTGTCTGGTGACTGAACG...</td>\n",
       "    </tr>\n",
       "    <tr>\n",
       "      <th>2154</th>\n",
       "      <td>peak.2158</td>\n",
       "      <td>chr12</td>\n",
       "      <td>85841229.0</td>\n",
       "      <td>85841362.0</td>\n",
       "      <td>85841296.0</td>\n",
       "      <td>134.0</td>\n",
       "      <td>+</td>\n",
       "      <td>2</td>\n",
       "      <td>0</td>\n",
       "      <td>1</td>\n",
       "      <td>3</td>\n",
       "      <td>0</td>\n",
       "      <td>1</td>\n",
       "      <td>KLost</td>\n",
       "      <td>TGTATCTTAATCTCTGCAGCCTATGGATATAAACCTTTTATGGTAA...</td>\n",
       "    </tr>\n",
       "    <tr>\n",
       "      <th>3505</th>\n",
       "      <td>peak.3511</td>\n",
       "      <td>chr15</td>\n",
       "      <td>94383359.0</td>\n",
       "      <td>94383492.0</td>\n",
       "      <td>94383426.0</td>\n",
       "      <td>134.0</td>\n",
       "      <td>+</td>\n",
       "      <td>3</td>\n",
       "      <td>0</td>\n",
       "      <td>0</td>\n",
       "      <td>4</td>\n",
       "      <td>0</td>\n",
       "      <td>0</td>\n",
       "      <td>KGain</td>\n",
       "      <td>TTCTATCAAGTCAAGACTAAAACTGATTCTTGCCCTTTATTCTTAG...</td>\n",
       "    </tr>\n",
       "    <tr>\n",
       "      <th>3673</th>\n",
       "      <td>peak.3679</td>\n",
       "      <td>chr16</td>\n",
       "      <td>31652711.0</td>\n",
       "      <td>31652844.0</td>\n",
       "      <td>31652778.0</td>\n",
       "      <td>134.0</td>\n",
       "      <td>+</td>\n",
       "      <td>1</td>\n",
       "      <td>1</td>\n",
       "      <td>0</td>\n",
       "      <td>3</td>\n",
       "      <td>0</td>\n",
       "      <td>1</td>\n",
       "      <td>KGain</td>\n",
       "      <td>CAACTTCTGCCTTTCTGTTTCGGGGGCTTCATTTAACTGGTTTATG...</td>\n",
       "    </tr>\n",
       "    <tr>\n",
       "      <th>4207</th>\n",
       "      <td>peak.4214</td>\n",
       "      <td>chr17</td>\n",
       "      <td>71480789.0</td>\n",
       "      <td>71480922.0</td>\n",
       "      <td>71480856.0</td>\n",
       "      <td>134.0</td>\n",
       "      <td>+</td>\n",
       "      <td>1</td>\n",
       "      <td>3</td>\n",
       "      <td>1</td>\n",
       "      <td>3</td>\n",
       "      <td>0</td>\n",
       "      <td>2</td>\n",
       "      <td>NotDB</td>\n",
       "      <td>TGCTAATGACTTTATCACTCCCTATGGCCAGTCTCTAAACGCCTTA...</td>\n",
       "    </tr>\n",
       "    <tr>\n",
       "      <th>4310</th>\n",
       "      <td>peak.4317</td>\n",
       "      <td>chr18</td>\n",
       "      <td>10576206.0</td>\n",
       "      <td>10576339.0</td>\n",
       "      <td>10576273.0</td>\n",
       "      <td>134.0</td>\n",
       "      <td>+</td>\n",
       "      <td>0</td>\n",
       "      <td>1</td>\n",
       "      <td>0</td>\n",
       "      <td>3</td>\n",
       "      <td>1</td>\n",
       "      <td>1</td>\n",
       "      <td>KGain</td>\n",
       "      <td>TAGAGATAGATTGCTCACAATTCCTTCTATTTTAATTTTAAGCCTA...</td>\n",
       "    </tr>\n",
       "    <tr>\n",
       "      <th>4631</th>\n",
       "      <td>peak.4638</td>\n",
       "      <td>chr18</td>\n",
       "      <td>84372236.0</td>\n",
       "      <td>84372369.0</td>\n",
       "      <td>84372303.0</td>\n",
       "      <td>134.0</td>\n",
       "      <td>+</td>\n",
       "      <td>1</td>\n",
       "      <td>3</td>\n",
       "      <td>0</td>\n",
       "      <td>3</td>\n",
       "      <td>1</td>\n",
       "      <td>0</td>\n",
       "      <td>NotDB</td>\n",
       "      <td>CATCTGTCTTTAATACTCTTATTACAAGGCAGTAAGCAAGGAACTA...</td>\n",
       "    </tr>\n",
       "    <tr>\n",
       "      <th>4827</th>\n",
       "      <td>peak.4834</td>\n",
       "      <td>chr19</td>\n",
       "      <td>33335274.0</td>\n",
       "      <td>33335407.0</td>\n",
       "      <td>33335341.0</td>\n",
       "      <td>134.0</td>\n",
       "      <td>+</td>\n",
       "      <td>2</td>\n",
       "      <td>1</td>\n",
       "      <td>0</td>\n",
       "      <td>3</td>\n",
       "      <td>0</td>\n",
       "      <td>1</td>\n",
       "      <td>NotDB</td>\n",
       "      <td>TTTTGATTAAGCAAGGCTCTCAGTTATAATTCTCATGGATTTAAGT...</td>\n",
       "    </tr>\n",
       "    <tr>\n",
       "      <th>4861</th>\n",
       "      <td>peak.4868</td>\n",
       "      <td>chr19</td>\n",
       "      <td>41524771.0</td>\n",
       "      <td>41524904.0</td>\n",
       "      <td>41524838.0</td>\n",
       "      <td>134.0</td>\n",
       "      <td>+</td>\n",
       "      <td>1</td>\n",
       "      <td>1</td>\n",
       "      <td>0</td>\n",
       "      <td>3</td>\n",
       "      <td>1</td>\n",
       "      <td>1</td>\n",
       "      <td>KGain</td>\n",
       "      <td>CCTAACTCACGCCTTTCTTCTTTTCTAATGTTTGAAAGAGCAAGAG...</td>\n",
       "    </tr>\n",
       "    <tr>\n",
       "      <th>5402</th>\n",
       "      <td>peak.5409</td>\n",
       "      <td>chr2</td>\n",
       "      <td>120708631.0</td>\n",
       "      <td>120708764.0</td>\n",
       "      <td>120708698.0</td>\n",
       "      <td>134.0</td>\n",
       "      <td>+</td>\n",
       "      <td>2</td>\n",
       "      <td>0</td>\n",
       "      <td>2</td>\n",
       "      <td>3</td>\n",
       "      <td>1</td>\n",
       "      <td>1</td>\n",
       "      <td>KLost</td>\n",
       "      <td>CTTTAGACTGTTTAAAGACTTAAGATTGTTAGAGATAAAAATATTA...</td>\n",
       "    </tr>\n",
       "    <tr>\n",
       "      <th>5791</th>\n",
       "      <td>peak.5798</td>\n",
       "      <td>chr3</td>\n",
       "      <td>36504217.0</td>\n",
       "      <td>36504350.0</td>\n",
       "      <td>36504284.0</td>\n",
       "      <td>134.0</td>\n",
       "      <td>+</td>\n",
       "      <td>0</td>\n",
       "      <td>0</td>\n",
       "      <td>0</td>\n",
       "      <td>3</td>\n",
       "      <td>0</td>\n",
       "      <td>0</td>\n",
       "      <td>KGain</td>\n",
       "      <td>AAACAACAACAACAAAGAACCTGGCAGACTAATTATATTAGACTAA...</td>\n",
       "    </tr>\n",
       "    <tr>\n",
       "      <th>5834</th>\n",
       "      <td>peak.5841</td>\n",
       "      <td>chr3</td>\n",
       "      <td>55822363.0</td>\n",
       "      <td>55822496.0</td>\n",
       "      <td>55822430.0</td>\n",
       "      <td>134.0</td>\n",
       "      <td>+</td>\n",
       "      <td>1</td>\n",
       "      <td>0</td>\n",
       "      <td>0</td>\n",
       "      <td>4</td>\n",
       "      <td>0</td>\n",
       "      <td>0</td>\n",
       "      <td>ELost</td>\n",
       "      <td>ACATGATCACCTGGTCTTCCACTTGTGTGATAATTAAGATTATTAT...</td>\n",
       "    </tr>\n",
       "    <tr>\n",
       "      <th>5990</th>\n",
       "      <td>peak.5997</td>\n",
       "      <td>chr3</td>\n",
       "      <td>101588484.0</td>\n",
       "      <td>101588617.0</td>\n",
       "      <td>101588551.0</td>\n",
       "      <td>134.0</td>\n",
       "      <td>+</td>\n",
       "      <td>0</td>\n",
       "      <td>1</td>\n",
       "      <td>1</td>\n",
       "      <td>3</td>\n",
       "      <td>1</td>\n",
       "      <td>1</td>\n",
       "      <td>KLost</td>\n",
       "      <td>GCCTGGATCTAATTTTTGCATCATTAGTAAGCAAGTTAAGAGCGAG...</td>\n",
       "    </tr>\n",
       "    <tr>\n",
       "      <th>6224</th>\n",
       "      <td>peak.6233</td>\n",
       "      <td>chr4</td>\n",
       "      <td>33047756.0</td>\n",
       "      <td>33047889.0</td>\n",
       "      <td>33047823.0</td>\n",
       "      <td>134.0</td>\n",
       "      <td>+</td>\n",
       "      <td>1</td>\n",
       "      <td>0</td>\n",
       "      <td>0</td>\n",
       "      <td>3</td>\n",
       "      <td>1</td>\n",
       "      <td>0</td>\n",
       "      <td>NotDB</td>\n",
       "      <td>ACTGTCATTGTTTATCATAAGCACTTTATGTCATTAATCCATTTAA...</td>\n",
       "    </tr>\n",
       "    <tr>\n",
       "      <th>6987</th>\n",
       "      <td>peak.6997</td>\n",
       "      <td>chr5</td>\n",
       "      <td>68894400.0</td>\n",
       "      <td>68894533.0</td>\n",
       "      <td>68894467.0</td>\n",
       "      <td>134.0</td>\n",
       "      <td>+</td>\n",
       "      <td>2</td>\n",
       "      <td>0</td>\n",
       "      <td>3</td>\n",
       "      <td>3</td>\n",
       "      <td>1</td>\n",
       "      <td>0</td>\n",
       "      <td>NotDB</td>\n",
       "      <td>ACAGAATTTGAAGCTGCAGATTATATTAAGATTGTTAATCATATTA...</td>\n",
       "    </tr>\n",
       "    <tr>\n",
       "      <th>7452</th>\n",
       "      <td>peak.7462</td>\n",
       "      <td>chr6</td>\n",
       "      <td>28471682.0</td>\n",
       "      <td>28471815.0</td>\n",
       "      <td>28471749.0</td>\n",
       "      <td>134.0</td>\n",
       "      <td>+</td>\n",
       "      <td>2</td>\n",
       "      <td>0</td>\n",
       "      <td>2</td>\n",
       "      <td>3</td>\n",
       "      <td>0</td>\n",
       "      <td>0</td>\n",
       "      <td>ELost</td>\n",
       "      <td>GCCTCTGCCTCCCTTTAATCCTGTTGGGATTAAAGGTGTGTGCTAC...</td>\n",
       "    </tr>\n",
       "    <tr>\n",
       "      <th>7621</th>\n",
       "      <td>peak.7632</td>\n",
       "      <td>chr6</td>\n",
       "      <td>73315509.0</td>\n",
       "      <td>73315642.0</td>\n",
       "      <td>73315576.0</td>\n",
       "      <td>134.0</td>\n",
       "      <td>+</td>\n",
       "      <td>1</td>\n",
       "      <td>0</td>\n",
       "      <td>2</td>\n",
       "      <td>3</td>\n",
       "      <td>1</td>\n",
       "      <td>1</td>\n",
       "      <td>KLost</td>\n",
       "      <td>TAAGTACCTGTTGCTTGGCAACCTGCTTAGCCGCTGTGTGTTTCAT...</td>\n",
       "    </tr>\n",
       "    <tr>\n",
       "      <th>7788</th>\n",
       "      <td>peak.7799</td>\n",
       "      <td>chr6</td>\n",
       "      <td>121004837.0</td>\n",
       "      <td>121004970.0</td>\n",
       "      <td>121004904.0</td>\n",
       "      <td>134.0</td>\n",
       "      <td>+</td>\n",
       "      <td>1</td>\n",
       "      <td>1</td>\n",
       "      <td>0</td>\n",
       "      <td>4</td>\n",
       "      <td>0</td>\n",
       "      <td>0</td>\n",
       "      <td>KGain</td>\n",
       "      <td>TGACTCCAGTTTCCAACAGGCTTCACCTCCTAAAGTTAATGGCATT...</td>\n",
       "    </tr>\n",
       "    <tr>\n",
       "      <th>7856</th>\n",
       "      <td>peak.7867</td>\n",
       "      <td>chr6</td>\n",
       "      <td>139976326.0</td>\n",
       "      <td>139976459.0</td>\n",
       "      <td>139976393.0</td>\n",
       "      <td>134.0</td>\n",
       "      <td>+</td>\n",
       "      <td>0</td>\n",
       "      <td>3</td>\n",
       "      <td>1</td>\n",
       "      <td>3</td>\n",
       "      <td>0</td>\n",
       "      <td>0</td>\n",
       "      <td>KGain</td>\n",
       "      <td>AGTAGGGTTAAGCACTGTGTCTCTGTAATTACATTAAATATAAATG...</td>\n",
       "    </tr>\n",
       "    <tr>\n",
       "      <th>7889</th>\n",
       "      <td>peak.7900</td>\n",
       "      <td>chr6</td>\n",
       "      <td>148217385.0</td>\n",
       "      <td>148217518.0</td>\n",
       "      <td>148217452.0</td>\n",
       "      <td>134.0</td>\n",
       "      <td>+</td>\n",
       "      <td>1</td>\n",
       "      <td>0</td>\n",
       "      <td>1</td>\n",
       "      <td>3</td>\n",
       "      <td>0</td>\n",
       "      <td>0</td>\n",
       "      <td>NotDB</td>\n",
       "      <td>CTTTAAATCTATATTTTGGGATTATCTCTCTCTCTCTTTAAAGGTA...</td>\n",
       "    </tr>\n",
       "    <tr>\n",
       "      <th>8175</th>\n",
       "      <td>peak.8186</td>\n",
       "      <td>chr7</td>\n",
       "      <td>59268908.0</td>\n",
       "      <td>59269041.0</td>\n",
       "      <td>59268975.0</td>\n",
       "      <td>134.0</td>\n",
       "      <td>+</td>\n",
       "      <td>1</td>\n",
       "      <td>5</td>\n",
       "      <td>2</td>\n",
       "      <td>3</td>\n",
       "      <td>1</td>\n",
       "      <td>1</td>\n",
       "      <td>KGain</td>\n",
       "      <td>CTGCATTTGGCATTCAATGGTATCATTTATAATGAGAAAAGAATAG...</td>\n",
       "    </tr>\n",
       "    <tr>\n",
       "      <th>8445</th>\n",
       "      <td>peak.8456</td>\n",
       "      <td>chr7</td>\n",
       "      <td>122026860.0</td>\n",
       "      <td>122026993.0</td>\n",
       "      <td>122026927.0</td>\n",
       "      <td>134.0</td>\n",
       "      <td>+</td>\n",
       "      <td>0</td>\n",
       "      <td>0</td>\n",
       "      <td>0</td>\n",
       "      <td>4</td>\n",
       "      <td>0</td>\n",
       "      <td>0</td>\n",
       "      <td>KGain</td>\n",
       "      <td>CAAAATTCTCACTACATACCAGAGCTCTGTAAAAGGATAAGGTAAT...</td>\n",
       "    </tr>\n",
       "    <tr>\n",
       "      <th>8621</th>\n",
       "      <td>peak.8633</td>\n",
       "      <td>chr8</td>\n",
       "      <td>18821129.0</td>\n",
       "      <td>18821262.0</td>\n",
       "      <td>18821196.0</td>\n",
       "      <td>134.0</td>\n",
       "      <td>+</td>\n",
       "      <td>0</td>\n",
       "      <td>0</td>\n",
       "      <td>0</td>\n",
       "      <td>4</td>\n",
       "      <td>0</td>\n",
       "      <td>0</td>\n",
       "      <td>KLost</td>\n",
       "      <td>GTAGGAAGACGTCTTGGTGGGAAGAGGGAGAGTCTCCAGATCTTGT...</td>\n",
       "    </tr>\n",
       "    <tr>\n",
       "      <th>8948</th>\n",
       "      <td>peak.8960</td>\n",
       "      <td>chr8</td>\n",
       "      <td>106731867.0</td>\n",
       "      <td>106732000.0</td>\n",
       "      <td>106731934.0</td>\n",
       "      <td>134.0</td>\n",
       "      <td>+</td>\n",
       "      <td>0</td>\n",
       "      <td>0</td>\n",
       "      <td>0</td>\n",
       "      <td>3</td>\n",
       "      <td>3</td>\n",
       "      <td>2</td>\n",
       "      <td>KGain</td>\n",
       "      <td>TTCACTCTTTAATAATAACATTAGGTATTTGCTGTTTACCAGGCTC...</td>\n",
       "    </tr>\n",
       "    <tr>\n",
       "      <th>9243</th>\n",
       "      <td>peak.9255</td>\n",
       "      <td>chr9</td>\n",
       "      <td>47155902.0</td>\n",
       "      <td>47156035.0</td>\n",
       "      <td>47155969.0</td>\n",
       "      <td>134.0</td>\n",
       "      <td>+</td>\n",
       "      <td>0</td>\n",
       "      <td>0</td>\n",
       "      <td>0</td>\n",
       "      <td>4</td>\n",
       "      <td>1</td>\n",
       "      <td>2</td>\n",
       "      <td>KGain</td>\n",
       "      <td>ATTATCGAGATAATATTATTATCAGTAATGTTATAAGATAATAATA...</td>\n",
       "    </tr>\n",
       "    <tr>\n",
       "      <th>9541</th>\n",
       "      <td>peak.9553</td>\n",
       "      <td>chr9</td>\n",
       "      <td>97171005.0</td>\n",
       "      <td>97171138.0</td>\n",
       "      <td>97171072.0</td>\n",
       "      <td>134.0</td>\n",
       "      <td>+</td>\n",
       "      <td>1</td>\n",
       "      <td>0</td>\n",
       "      <td>1</td>\n",
       "      <td>4</td>\n",
       "      <td>0</td>\n",
       "      <td>0</td>\n",
       "      <td>KGain</td>\n",
       "      <td>ACTCTCCAAATGGCAGCTGCCCACTGTTCATGCTAATTCCTACCTA...</td>\n",
       "    </tr>\n",
       "    <tr>\n",
       "      <th>9700</th>\n",
       "      <td>peak.9712</td>\n",
       "      <td>chr9</td>\n",
       "      <td>123542145.0</td>\n",
       "      <td>123542278.0</td>\n",
       "      <td>123542212.0</td>\n",
       "      <td>134.0</td>\n",
       "      <td>+</td>\n",
       "      <td>0</td>\n",
       "      <td>4</td>\n",
       "      <td>0</td>\n",
       "      <td>3</td>\n",
       "      <td>0</td>\n",
       "      <td>1</td>\n",
       "      <td>KGain</td>\n",
       "      <td>TCCCTAGCCCTTTATATAACATCGTATTTACCCTGTAATAAGCTTA...</td>\n",
       "    </tr>\n",
       "  </tbody>\n",
       "</table>\n",
       "</div>"
      ],
      "text/plain": [
       "        peak.id seqnames        start          end       summit  width strand  \\\n",
       "16      peak.17     chr1   10024896.0   10025029.0   10024963.0  134.0      +   \n",
       "652    peak.653    chr10   19096590.0   19096723.0   19096657.0  134.0      +   \n",
       "1211  peak.1212    chr11   35873995.0   35874128.0   35874062.0  134.0      +   \n",
       "2154  peak.2158    chr12   85841229.0   85841362.0   85841296.0  134.0      +   \n",
       "3505  peak.3511    chr15   94383359.0   94383492.0   94383426.0  134.0      +   \n",
       "3673  peak.3679    chr16   31652711.0   31652844.0   31652778.0  134.0      +   \n",
       "4207  peak.4214    chr17   71480789.0   71480922.0   71480856.0  134.0      +   \n",
       "4310  peak.4317    chr18   10576206.0   10576339.0   10576273.0  134.0      +   \n",
       "4631  peak.4638    chr18   84372236.0   84372369.0   84372303.0  134.0      +   \n",
       "4827  peak.4834    chr19   33335274.0   33335407.0   33335341.0  134.0      +   \n",
       "4861  peak.4868    chr19   41524771.0   41524904.0   41524838.0  134.0      +   \n",
       "5402  peak.5409     chr2  120708631.0  120708764.0  120708698.0  134.0      +   \n",
       "5791  peak.5798     chr3   36504217.0   36504350.0   36504284.0  134.0      +   \n",
       "5834  peak.5841     chr3   55822363.0   55822496.0   55822430.0  134.0      +   \n",
       "5990  peak.5997     chr3  101588484.0  101588617.0  101588551.0  134.0      +   \n",
       "6224  peak.6233     chr4   33047756.0   33047889.0   33047823.0  134.0      +   \n",
       "6987  peak.6997     chr5   68894400.0   68894533.0   68894467.0  134.0      +   \n",
       "7452  peak.7462     chr6   28471682.0   28471815.0   28471749.0  134.0      +   \n",
       "7621  peak.7632     chr6   73315509.0   73315642.0   73315576.0  134.0      +   \n",
       "7788  peak.7799     chr6  121004837.0  121004970.0  121004904.0  134.0      +   \n",
       "7856  peak.7867     chr6  139976326.0  139976459.0  139976393.0  134.0      +   \n",
       "7889  peak.7900     chr6  148217385.0  148217518.0  148217452.0  134.0      +   \n",
       "8175  peak.8186     chr7   59268908.0   59269041.0   59268975.0  134.0      +   \n",
       "8445  peak.8456     chr7  122026860.0  122026993.0  122026927.0  134.0      +   \n",
       "8621  peak.8633     chr8   18821129.0   18821262.0   18821196.0  134.0      +   \n",
       "8948  peak.8960     chr8  106731867.0  106732000.0  106731934.0  134.0      +   \n",
       "9243  peak.9255     chr9   47155902.0   47156035.0   47155969.0  134.0      +   \n",
       "9541  peak.9553     chr9   97171005.0   97171138.0   97171072.0  134.0      +   \n",
       "9700  peak.9712     chr9  123542145.0  123542278.0  123542212.0  134.0      +   \n",
       "\n",
       "      CRX_Corbo  N50  HDmono  HDdimer  NRL  AP1 annotation  \\\n",
       "16            0    1       0        4    0    1      KLost   \n",
       "652           1    1       1        3    0    0      NotDB   \n",
       "1211          0    0       0        3    2    2      KLost   \n",
       "2154          2    0       1        3    0    1      KLost   \n",
       "3505          3    0       0        4    0    0      KGain   \n",
       "3673          1    1       0        3    0    1      KGain   \n",
       "4207          1    3       1        3    0    2      NotDB   \n",
       "4310          0    1       0        3    1    1      KGain   \n",
       "4631          1    3       0        3    1    0      NotDB   \n",
       "4827          2    1       0        3    0    1      NotDB   \n",
       "4861          1    1       0        3    1    1      KGain   \n",
       "5402          2    0       2        3    1    1      KLost   \n",
       "5791          0    0       0        3    0    0      KGain   \n",
       "5834          1    0       0        4    0    0      ELost   \n",
       "5990          0    1       1        3    1    1      KLost   \n",
       "6224          1    0       0        3    1    0      NotDB   \n",
       "6987          2    0       3        3    1    0      NotDB   \n",
       "7452          2    0       2        3    0    0      ELost   \n",
       "7621          1    0       2        3    1    1      KLost   \n",
       "7788          1    1       0        4    0    0      KGain   \n",
       "7856          0    3       1        3    0    0      KGain   \n",
       "7889          1    0       1        3    0    0      NotDB   \n",
       "8175          1    5       2        3    1    1      KGain   \n",
       "8445          0    0       0        4    0    0      KGain   \n",
       "8621          0    0       0        4    0    0      KLost   \n",
       "8948          0    0       0        3    3    2      KGain   \n",
       "9243          0    0       0        4    1    2      KGain   \n",
       "9541          1    0       1        4    0    0      KGain   \n",
       "9700          0    4       0        3    0    1      KGain   \n",
       "\n",
       "                                                  FASTA  \n",
       "16    CTGAGTTTTGGTAACTGGGTTAAAAGTGTTACTTGAGCTTCTTTTC...  \n",
       "652   GGCCCATATGATGTCATACTTTGATTATCCACTTGATCCCACAGAG...  \n",
       "1211  CTCCGCTAAACCACTTAAGGAGATTAATTTGTCTGGTGACTGAACG...  \n",
       "2154  TGTATCTTAATCTCTGCAGCCTATGGATATAAACCTTTTATGGTAA...  \n",
       "3505  TTCTATCAAGTCAAGACTAAAACTGATTCTTGCCCTTTATTCTTAG...  \n",
       "3673  CAACTTCTGCCTTTCTGTTTCGGGGGCTTCATTTAACTGGTTTATG...  \n",
       "4207  TGCTAATGACTTTATCACTCCCTATGGCCAGTCTCTAAACGCCTTA...  \n",
       "4310  TAGAGATAGATTGCTCACAATTCCTTCTATTTTAATTTTAAGCCTA...  \n",
       "4631  CATCTGTCTTTAATACTCTTATTACAAGGCAGTAAGCAAGGAACTA...  \n",
       "4827  TTTTGATTAAGCAAGGCTCTCAGTTATAATTCTCATGGATTTAAGT...  \n",
       "4861  CCTAACTCACGCCTTTCTTCTTTTCTAATGTTTGAAAGAGCAAGAG...  \n",
       "5402  CTTTAGACTGTTTAAAGACTTAAGATTGTTAGAGATAAAAATATTA...  \n",
       "5791  AAACAACAACAACAAAGAACCTGGCAGACTAATTATATTAGACTAA...  \n",
       "5834  ACATGATCACCTGGTCTTCCACTTGTGTGATAATTAAGATTATTAT...  \n",
       "5990  GCCTGGATCTAATTTTTGCATCATTAGTAAGCAAGTTAAGAGCGAG...  \n",
       "6224  ACTGTCATTGTTTATCATAAGCACTTTATGTCATTAATCCATTTAA...  \n",
       "6987  ACAGAATTTGAAGCTGCAGATTATATTAAGATTGTTAATCATATTA...  \n",
       "7452  GCCTCTGCCTCCCTTTAATCCTGTTGGGATTAAAGGTGTGTGCTAC...  \n",
       "7621  TAAGTACCTGTTGCTTGGCAACCTGCTTAGCCGCTGTGTGTTTCAT...  \n",
       "7788  TGACTCCAGTTTCCAACAGGCTTCACCTCCTAAAGTTAATGGCATT...  \n",
       "7856  AGTAGGGTTAAGCACTGTGTCTCTGTAATTACATTAAATATAAATG...  \n",
       "7889  CTTTAAATCTATATTTTGGGATTATCTCTCTCTCTCTTTAAAGGTA...  \n",
       "8175  CTGCATTTGGCATTCAATGGTATCATTTATAATGAGAAAAGAATAG...  \n",
       "8445  CAAAATTCTCACTACATACCAGAGCTCTGTAAAAGGATAAGGTAAT...  \n",
       "8621  GTAGGAAGACGTCTTGGTGGGAAGAGGGAGAGTCTCCAGATCTTGT...  \n",
       "8948  TTCACTCTTTAATAATAACATTAGGTATTTGCTGTTTACCAGGCTC...  \n",
       "9243  ATTATCGAGATAATATTATTATCAGTAATGTTATAAGATAATAATA...  \n",
       "9541  ACTCTCCAAATGGCAGCTGCCCACTGTTCATGCTAATTCCTACCTA...  \n",
       "9700  TCCCTAGCCCTTTATATAACATCGTATTTACCCTGTAATAAGCTTA...  "
      ]
     },
     "execution_count": 77,
     "metadata": {},
     "output_type": "execute_result"
    }
   ],
   "source": [
    "mpraAnnot_df.loc[lambda df: df[\"HDdimer\"]>=3,:]"
   ]
  },
  {
   "attachments": {},
   "cell_type": "markdown",
   "metadata": {},
   "source": [
    "### scan and calculate occupancy of all peaks"
   ]
  },
  {
   "cell_type": "code",
   "execution_count": null,
   "metadata": {},
   "outputs": [],
   "source": [
    "# retrieve MEME pwm\n",
    "hdmuts_meme_pwms = specseq_ewm_utils.read_meme_files(os.path.join(base_dir,\"all_chip_pwm.meme\"))\n",
    "# retrieve MEME pwm\n",
    "prtf_meme_pwms = specseq_ewm_utils.read_meme_files(os.path.join(base_dir,\"meme\",\"photoreceptorAndEnrichedMotifs.meme\"))\n",
    "# retrieve Lee 2010 CRX EMSA binding models\n",
    "lee_pwm = specseq_ewm_utils.read_meme_files(os.path.join(base_dir,\"meme\",\"Lee_2010_pwm.meme\"))\n",
    "lee_ewm = lee_pwm.apply(lambda x: specseq_ewm_utils.pwm_to_ewm(x, pseudocount=0.0001, temp=25, normalize=False))"
   ]
  },
  {
   "attachments": {},
   "cell_type": "markdown",
   "metadata": {},
   "source": [
    "#### convert pwm to ewm"
   ]
  },
  {
   "cell_type": "code",
   "execution_count": 107,
   "metadata": {},
   "outputs": [],
   "source": [
    "hdmuts_meme_ewms = hdmuts_meme_pwms.apply(lambda x: specseq_ewm_utils.pwm_to_ewm(x, pseudocount=0.0001, temp=25, normalize=False))\n",
    "prtf_meme_ewms = prtf_meme_pwms.apply(lambda x: specseq_ewm_utils.pwm_to_ewm(x, pseudocount=0.0001, temp=25, normalize=False))"
   ]
  },
  {
   "attachments": {},
   "cell_type": "markdown",
   "metadata": {},
   "source": [
    "#### load full fasta records"
   ]
  },
  {
   "cell_type": "code",
   "execution_count": 6,
   "metadata": {},
   "outputs": [],
   "source": [
    "allCRE_fasta = sequence_annotator.read_fasta(os.path.join(base_dir, \"sequences\", \"mpraAllCRE.fa\"))\n",
    "maskedallCRE_fasta = sequence_annotator.read_fasta(os.path.join(base_dir, \"fimo_0.0025\", \"allCRE_fimo3\", \"allCRE_fimo3.k88n_olap.MEME.2.masked.fa\"))"
   ]
  },
  {
   "attachments": {},
   "cell_type": "markdown",
   "metadata": {},
   "source": [
    "#### define library design"
   ]
  },
  {
   "cell_type": "code",
   "execution_count": 7,
   "metadata": {},
   "outputs": [],
   "source": [
    "# Define library design (update as new libraries added)\n",
    "lib_designs = {\n",
    "    # for automatically adding filter sequences\n",
    "    \"M\":\"TAANNN\",\n",
    "    \"Mrev\":\"NNNTTA\",\n",
    "    \"MGGG\":\"TAANNNGGG\",\n",
    "    \"P3TAAT\":\"TAATNNNATTA\",\n",
    "    \"P5TAAT\":\"TAATNNGNNATTA\",\n",
    "}\n",
    "consensus_dicts = {\n",
    "    \"wt\":{\"M\":\"TAATCC\", \"Mrev\":\"GGATTA\", \"P3TAAT\":\"TAATCCGATTA\"},\n",
    "    \"e80a\":{\"M\":\"TAATCC\", \"Mrev\":\"GGATTA\", \"P3TAAT\":\"TAATCGGATTA\"},\n",
    "    \"r90w\":{\"M\":\"TAATCC\", \"Mrev\":\"GGATTA\", \"P3TAAT\":\"TAATCCGATTA\"},\n",
    "    \"k88n\":{\"M\":\"TAATTA\", \"Mrev\":\"TAATTA\", \"P3TAAT\":\"TAATGTCATTA\"},\n",
    "}"
   ]
  },
  {
   "cell_type": "code",
   "execution_count": 108,
   "metadata": {},
   "outputs": [],
   "source": [
    "try_ewms = pd.concat([hdmuts_meme_ewms,lee_ewm])"
   ]
  },
  {
   "cell_type": "code",
   "execution_count": 109,
   "metadata": {},
   "outputs": [
    {
     "data": {
      "text/plain": [
       "Index(['wt_olap.DREME.1', 'e80a_olap.DREME.1', 'k88n_olap.MEME.2',\n",
       "       'k88n_olap.DREME.1', 'k88n_gain.MEME.1', 'e80a_loss.MEME.3',\n",
       "       'CRX_Corbo', 'Crx.MA0467.1', 'NRL.MA0842.2', 'FOS::JUN.MA0099.2',\n",
       "       'Lee_2010_CRX'],\n",
       "      dtype='object')"
      ]
     },
     "execution_count": 109,
     "metadata": {},
     "output_type": "execute_result"
    }
   ],
   "source": [
    "try_ewms.index"
   ]
  },
  {
   "cell_type": "code",
   "execution_count": 110,
   "metadata": {},
   "outputs": [
    {
     "name": "stdout",
     "output_type": "stream",
     "text": [
      "using mu equals 0.1 for calculation\n",
      "using mu equals 0.1 for calculation\n"
     ]
    }
   ],
   "source": [
    "# predict occupancy with Lee 2010 CRX EWM and ChIP inferred EWM\n",
    "mu = 0.1\n",
    "\n",
    "# prepare design and consensus series based on ewms in the current run\n",
    "design_list = [None]*len(try_ewms)\n",
    "consensus_list = [None]*len(try_ewms)\n",
    "\n",
    "# calculate occupancy landscape\n",
    "occupancy_df = specseq_predict_occp.all_seq_total_occupancy(allCRE_fasta, try_ewms, design_list, consensus_list, mu=mu, convert_ewm=False)\n",
    "# Save to file\n",
    "specseq_predict_occp.save_df(occupancy_df, os.path.join(base_dir, \"predicted_occp\", \"allCRE.unmasked.occupancy.mu\" + str(mu) + \".tsv\"))\n",
    "\n",
    "# calculate occupancy landscape\n",
    "occupancy_df = specseq_predict_occp.all_seq_total_occupancy(maskedallCRE_fasta, try_ewms, design_list, consensus_list, mu=mu, convert_ewm=False)\n",
    "# Save to file\n",
    "specseq_predict_occp.save_df(occupancy_df, os.path.join(base_dir, \"predicted_occp\", \"allCRE.masked.occupancy.mu\" + str(mu) + \".tsv\"))"
   ]
  },
  {
   "cell_type": "code",
   "execution_count": 111,
   "metadata": {},
   "outputs": [
    {
     "name": "stdout",
     "output_type": "stream",
     "text": [
      "using mu equals 9 for calculation\n",
      "using mu equals 9 for calculation\n"
     ]
    }
   ],
   "source": [
    "# predict occupancy with Lee 2010 CRX EWM and ChIP inferred EWM\n",
    "mu = 9\n",
    "\n",
    "# prepare design and consensus series based on ewms in the current run\n",
    "design_list = [None]*len(try_ewms)\n",
    "consensus_list = [None]*len(try_ewms)\n",
    "\n",
    "# calculate occupancy landscape\n",
    "occupancy_df = specseq_predict_occp.all_seq_total_occupancy(allCRE_fasta, try_ewms, design_list, consensus_list, mu=mu, convert_ewm=False)\n",
    "# Save to file\n",
    "specseq_predict_occp.save_df(occupancy_df, os.path.join(base_dir, \"predicted_occp\", \"allCRE.unmasked.occupancy.mu\" + str(mu) + \".tsv\"))\n",
    "\n",
    "# calculate occupancy landscape\n",
    "occupancy_df = specseq_predict_occp.all_seq_total_occupancy(maskedallCRE_fasta, try_ewms, design_list, consensus_list, mu=mu, convert_ewm=False)\n",
    "# Save to file\n",
    "specseq_predict_occp.save_df(occupancy_df, os.path.join(base_dir, \"predicted_occp\", \"allCRE.masked.occupancy.mu\" + str(mu) + \".tsv\"))"
   ]
  },
  {
   "attachments": {},
   "cell_type": "markdown",
   "metadata": {},
   "source": [
    "### VIII. processing the 20 controls from published study (Friedman et al., 2021, eLife)"
   ]
  },
  {
   "cell_type": "code",
   "execution_count": null,
   "metadata": {},
   "outputs": [],
   "source": [
    "control_CREs = pd.read_csv(os.path.join(base_dir, \"peaksets\", \"positiveControls.tsv\"), sep=\"\\t\", header=0)\n",
    "control_fasta = sequence_annotator.read_fasta(os.path.join(base_dir, \"sequences\", \"positiveControls.fasta\"))"
   ]
  },
  {
   "attachments": {},
   "cell_type": "markdown",
   "metadata": {},
   "source": [
    "#### Ryan's library is 164bp so I need to trim them to 134bp, remove the first 15bp and the last 15bp"
   ]
  },
  {
   "cell_type": "code",
   "execution_count": null,
   "metadata": {},
   "outputs": [],
   "source": [
    "control_CREs[\"new_start\"] = control_CREs[\"start\"] + 16\n",
    "control_CREs[\"new_stop\"] = control_CREs[\"stop\"] - 15"
   ]
  },
  {
   "cell_type": "code",
   "execution_count": null,
   "metadata": {},
   "outputs": [],
   "source": [
    "trimmed_control_CREs = control_CREs.loc[:,[\"sequence_name\", \"new_start\", \"new_stop\"]].copy()"
   ]
  },
  {
   "cell_type": "code",
   "execution_count": null,
   "metadata": {},
   "outputs": [],
   "source": [
    "trimmed_control_CREs.to_csv(os.path.join(base_dir, \"peaksets\", \"positiveControls.trimmed.tsv\"), sep=\"\\t\", header=False, index=False)"
   ]
  },
  {
   "cell_type": "code",
   "execution_count": null,
   "metadata": {},
   "outputs": [],
   "source": [
    "control_fasta = control_fasta.to_frame().rename(columns={0:\"fulllength\"})\n",
    "control_fasta[\"trimmed\"] = control_fasta[\"fulllength\"].apply(lambda fasta: fasta[15:-15])\n",
    "trimmed_control_fasta = control_fasta[\"trimmed\"]"
   ]
  },
  {
   "cell_type": "code",
   "execution_count": null,
   "metadata": {},
   "outputs": [],
   "source": [
    "sequence_annotator.write_fasta(trimmed_control_fasta, os.path.join(base_dir, \"sequences\", \"positiveControls.trimmed.fa\"))"
   ]
  }
 ],
 "metadata": {
  "kernelspec": {
   "display_name": "Python 3.9.12 ('specseq')",
   "language": "python",
   "name": "python3"
  },
  "language_info": {
   "codemirror_mode": {
    "name": "ipython",
    "version": 3
   },
   "file_extension": ".py",
   "mimetype": "text/x-python",
   "name": "python",
   "nbconvert_exporter": "python",
   "pygments_lexer": "ipython3",
   "version": "3.9.12"
  },
  "orig_nbformat": 4,
  "vscode": {
   "interpreter": {
    "hash": "19f07b93e7aad560ef0f13f0cd0612dd4f7d006791dccf1c18fe0f09ff98b794"
   }
  }
 },
 "nbformat": 4,
 "nbformat_minor": 2
}
