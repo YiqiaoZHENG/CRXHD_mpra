{
 "cells": [
  {
   "attachments": {},
   "cell_type": "markdown",
   "metadata": {},
   "source": [
    "### for random selection and shuffling of fasta sequences"
   ]
  },
  {
   "cell_type": "code",
   "execution_count": 1,
   "metadata": {},
   "outputs": [],
   "source": [
    "import os, sys, warnings, re, glob2, itertools, string, random, math\n",
    "\n",
    "import numpy as np\n",
    "import pandas as pd\n",
    "import scipy\n",
    "from scipy import stats\n",
    "\n",
    "random.seed(4444)"
   ]
  },
  {
   "attachments": {},
   "cell_type": "markdown",
   "metadata": {},
   "source": [
    "### I. housekeeping"
   ]
  },
  {
   "cell_type": "code",
   "execution_count": 2,
   "metadata": {},
   "outputs": [],
   "source": [
    "# set up working directories (do not run twice)\n",
    "base_dir = os.path.split(os.getcwd())[0]\n",
    "sys.path.insert(0, os.path.join(os.getcwd(),\"utils\"))\n",
    "os.chdir(base_dir)\n",
    "scriptdir=os.path.join(base_dir, \"scripts\")"
   ]
  },
  {
   "cell_type": "code",
   "execution_count": 4,
   "metadata": {},
   "outputs": [],
   "source": [
    "from utils import specseq_plot_utils, sequence_annotator, mpra_CRE_utilss\n",
    "specseq_plot_utils.set_manuscript_params() # max 7pt"
   ]
  },
  {
   "cell_type": "code",
   "execution_count": 5,
   "metadata": {},
   "outputs": [],
   "source": [
    "EcoRI=\"GAATTC\"\n",
    "SpeI=\"ACTAGT\"\n",
    "SphI=\"GCATGC\"\n",
    "EagI=\"CGGCCG\""
   ]
  },
  {
   "attachments": {},
   "cell_type": "markdown",
   "metadata": {},
   "source": [
    "### II. retrieve all peaks"
   ]
  },
  {
   "cell_type": "code",
   "execution_count": 139,
   "metadata": {},
   "outputs": [],
   "source": [
    "fimo_th = 2.5e-3\n",
    "# full peak list with annotation\n",
    "mpraAnnot_df = pd.read_csv(os.path.join(base_dir, \"peaksets\", f\"allCRE_annotation.fimo{fimo_th}.tsv\"), sep=\"\\t\", header=0)\n",
    "allCRE_fasta = sequence_annotator.read_fasta(os.path.join(base_dir, \"sequences\", \"mpraAllCRE.fa\"))"
   ]
  },
  {
   "attachments": {},
   "cell_type": "markdown",
   "metadata": {},
   "source": [
    "### III. select N numbers of sequences and generate scramble sequences"
   ]
  },
  {
   "cell_type": "code",
   "execution_count": 64,
   "metadata": {},
   "outputs": [],
   "source": [
    "# a complete list of the index of all CREs\n",
    "allCRE = range(1, len(allCRE_fasta))\n",
    "# randomly draw n elements from the list\n",
    "subsetCRE = random.sample(allCRE, 180)"
   ]
  },
  {
   "cell_type": "code",
   "execution_count": 65,
   "metadata": {},
   "outputs": [],
   "source": [
    "# retrieve annotation and fasta of CREs drawed\n",
    "subsetCRE_df = mpraAnnot_df.iloc[subsetCRE,:].copy()\n",
    "subsetCRE_fasta = allCRE_fasta[subsetCRE].copy()"
   ]
  },
  {
   "cell_type": "code",
   "execution_count": 51,
   "metadata": {},
   "outputs": [
    {
     "data": {
      "text/plain": [
       "set()"
      ]
     },
     "execution_count": 51,
     "metadata": {},
     "output_type": "execute_result"
    }
   ],
   "source": [
    "# make sure the annotation and fasta are matched\n",
    "set(subsetCRE_df[\"peak.id\"])-set(subsetCRE_fasta.index)"
   ]
  },
  {
   "cell_type": "code",
   "execution_count": 7,
   "metadata": {},
   "outputs": [],
   "source": [
    "# read directly from file\n",
    "subsetCRE_df = pd.read_csv(os.path.join(base_dir, \"peaksets\", \"scrambledSubset.tsv\"), sep=\"\\t\", header=0)\n",
    "subsetCRE_fasta = allCRE_fasta[subsetCRE_df[\"peak.id\"]].copy()"
   ]
  },
  {
   "cell_type": "code",
   "execution_count": 66,
   "metadata": {},
   "outputs": [],
   "source": [
    "# write selected scramble peak annotations to file\n",
    "subsetCRE_df.to_csv(os.path.join(base_dir, \"peaksets\", \"scrambledSubset.tsv\"), sep=\"\\t\", header=True, index=False)"
   ]
  },
  {
   "cell_type": "code",
   "execution_count": 67,
   "metadata": {},
   "outputs": [],
   "source": [
    "# output fasta to a new file\n",
    "sequence_annotator.write_fasta(subsetCRE_fasta, os.path.join(base_dir, \"sequences\", \"subsetCREs.fa\"))"
   ]
  },
  {
   "cell_type": "code",
   "execution_count": 9,
   "metadata": {},
   "outputs": [],
   "source": [
    "input_fa =os.path.join(base_dir, \"sequences\" , \"subsetCREs.fa\")\n",
    "output_fa = os.path.join(base_dir,\"sequences\", \"subsetCREs_shuffled.fa\")"
   ]
  },
  {
   "cell_type": "code",
   "execution_count": 69,
   "metadata": {},
   "outputs": [],
   "source": [
    "# use function comes with MEME to shuffle all sequences while preserving dinucleotide frequencies\n",
    "!fasta-shuffle-letters -kmer 2 -dna -tag \"_shuff\" \"{input_fa}\" \"{output_fa}\""
   ]
  },
  {
   "cell_type": "code",
   "execution_count": 70,
   "metadata": {},
   "outputs": [
    {
     "name": "stdout",
     "output_type": "stream",
     "text": [
      "Looking for matches: GAATTC|ACTAGT|GCATGC|CGGCCG\n"
     ]
    }
   ],
   "source": [
    "scrambled_fasta = sequence_annotator.read_fasta(output_fa)\n",
    "scrambled_REmatch = mpra_CRE_utils.find_REsite_match(scrambled_fasta, RE_list=[EcoRI,SpeI,SphI,EagI])"
   ]
  },
  {
   "cell_type": "code",
   "execution_count": 71,
   "metadata": {},
   "outputs": [
    {
     "data": {
      "text/plain": [
       "label\n",
       "peak.3932_shuff    GCTGTATTGAGGGAATTCCAGTCTTCCAGGAATTCGACTGAAAGCC...\n",
       "peak.1358_shuff    GAGCTTAGTTGGCAAGGGGCAGGGACTGAGCAGCATGACTTCAGGG...\n",
       "peak.9184_shuff    TAGCAGGGCCTGGCCTGCTAGTCCTGAGCAAGCAACCCTCTTCTAG...\n",
       "peak.2769_shuff    GATGGAACCGGTGACAACAACCTCCTGTAGGTAGTATTCCCTCAAT...\n",
       "peak.8225_shuff    TTATTAAGAAAAAAATAGCTCATCAGTCTATGCACTCTGCATGCTA...\n",
       "peak.857_shuff     GGTTCCGTGGGCTTTAGGTCGGAGGAGTGTAAGTTAAGTCAGGTGT...\n",
       "peak.5896_shuff    GTTGAGTATGGGGTGCCCTGTCAGGCTCCGCGCTGGTTGTATTGGC...\n",
       "peak.4736_shuff    CTTGGTAGGGCTGAATTCTACTTCCTGAGTTGGTCTCCCTTGAAGA...\n",
       "peak.71_shuff      AATTAGCAGCAGGTTAAGCTTGGGTGCTGGCACGTCTTTGTGCACT...\n",
       "peak.2626_shuff    TGCACTGCTGTGGGGTGGTAACGTAAGGCTCAGATGAGGAACTGTC...\n",
       "peak.3005_shuff    TGATTTCAGTTTGAGATGCAATGAGAGATCCTAAACAACCACCCTT...\n",
       "peak.1369_shuff    GGGCCACTTCAAGAAGATCACGGAGCTTAGCGTGACACAGGCGGCG...\n",
       "dtype: object"
      ]
     },
     "execution_count": 71,
     "metadata": {},
     "output_type": "execute_result"
    }
   ],
   "source": [
    "scrambled_REmatch"
   ]
  },
  {
   "attachments": {},
   "cell_type": "markdown",
   "metadata": {},
   "source": [
    "#### drop any scrambles that contain RE site match"
   ]
  },
  {
   "cell_type": "code",
   "execution_count": 60,
   "metadata": {},
   "outputs": [],
   "source": [
    "scrambled_fasta = scrambled_fasta.drop(scrambled_REmatch.index)"
   ]
  },
  {
   "cell_type": "code",
   "execution_count": 61,
   "metadata": {},
   "outputs": [],
   "source": [
    "# attached the shuffled fasta sequences to dataframe\n",
    "scrambled_df = scrambled_fasta.to_frame().reset_index(drop=False).rename(columns={\"label\":\"peak.id\", 0:\"shuffled.FASTA\"})\n",
    "scrambled_df[\"peak.id\"] = scrambled_df[\"peak.id\"].apply(lambda x: x.strip(\"_shuff\"))\n",
    "scrambled_df = pd.merge(subsetCRE_df, scrambled_df, left_on=\"peak.id\", right_on=\"peak.id\", how=\"inner\")"
   ]
  },
  {
   "cell_type": "code",
   "execution_count": 62,
   "metadata": {},
   "outputs": [
    {
     "data": {
      "text/html": [
       "<div>\n",
       "<style scoped>\n",
       "    .dataframe tbody tr th:only-of-type {\n",
       "        vertical-align: middle;\n",
       "    }\n",
       "\n",
       "    .dataframe tbody tr th {\n",
       "        vertical-align: top;\n",
       "    }\n",
       "\n",
       "    .dataframe thead th {\n",
       "        text-align: right;\n",
       "    }\n",
       "</style>\n",
       "<table border=\"1\" class=\"dataframe\">\n",
       "  <thead>\n",
       "    <tr style=\"text-align: right;\">\n",
       "      <th></th>\n",
       "      <th>peak.id</th>\n",
       "      <th>seqnames</th>\n",
       "      <th>start</th>\n",
       "      <th>end</th>\n",
       "      <th>summit</th>\n",
       "      <th>width</th>\n",
       "      <th>strand</th>\n",
       "      <th>CRX_Corbo</th>\n",
       "      <th>N50</th>\n",
       "      <th>HDmono</th>\n",
       "      <th>HDdimer</th>\n",
       "      <th>NRL</th>\n",
       "      <th>AP1</th>\n",
       "      <th>annotation</th>\n",
       "      <th>FASTA</th>\n",
       "      <th>shuffled.FASTA</th>\n",
       "    </tr>\n",
       "  </thead>\n",
       "  <tbody>\n",
       "    <tr>\n",
       "      <th>0</th>\n",
       "      <td>peak.8080</td>\n",
       "      <td>chr7</td>\n",
       "      <td>34142450</td>\n",
       "      <td>34142583</td>\n",
       "      <td>34142517</td>\n",
       "      <td>134</td>\n",
       "      <td>+</td>\n",
       "      <td>1</td>\n",
       "      <td>0</td>\n",
       "      <td>2</td>\n",
       "      <td>0</td>\n",
       "      <td>1</td>\n",
       "      <td>0</td>\n",
       "      <td>KLost</td>\n",
       "      <td>CTGCTCAAAGAGCCAGATGCACAGTTTATGGCCTACAAATAAGCAG...</td>\n",
       "      <td>CCCCAAATGCATGTTAGGCATACGCCGGAGCCTACAGAAGCTAGAC...</td>\n",
       "    </tr>\n",
       "    <tr>\n",
       "      <th>1</th>\n",
       "      <td>peak.4849</td>\n",
       "      <td>chr19</td>\n",
       "      <td>37211579</td>\n",
       "      <td>37211712</td>\n",
       "      <td>37211646</td>\n",
       "      <td>134</td>\n",
       "      <td>+</td>\n",
       "      <td>3</td>\n",
       "      <td>0</td>\n",
       "      <td>2</td>\n",
       "      <td>0</td>\n",
       "      <td>0</td>\n",
       "      <td>0</td>\n",
       "      <td>KLost</td>\n",
       "      <td>CACGTGTAACCTTAGTGCTAGAGAAGCAGGAACAGGATAATCCCTG...</td>\n",
       "      <td>CATGAGGCGTAGTAGTGTCCCTAGCTCAAAACATGGAGCTTAGCTA...</td>\n",
       "    </tr>\n",
       "    <tr>\n",
       "      <th>2</th>\n",
       "      <td>peak.9110</td>\n",
       "      <td>chr9</td>\n",
       "      <td>16257517</td>\n",
       "      <td>16257650</td>\n",
       "      <td>16257584</td>\n",
       "      <td>134</td>\n",
       "      <td>+</td>\n",
       "      <td>0</td>\n",
       "      <td>0</td>\n",
       "      <td>0</td>\n",
       "      <td>0</td>\n",
       "      <td>0</td>\n",
       "      <td>0</td>\n",
       "      <td>KGain</td>\n",
       "      <td>TAGCAGGAAACCTATTAGGGCTTTTCTATTTACAGCTTTCTACAAG...</td>\n",
       "      <td>TTAGCATTGTCTCACCACCTATATCTTACTATCCAGGCTAGATTCC...</td>\n",
       "    </tr>\n",
       "    <tr>\n",
       "      <th>3</th>\n",
       "      <td>peak.5992</td>\n",
       "      <td>chr3</td>\n",
       "      <td>100538894</td>\n",
       "      <td>100539027</td>\n",
       "      <td>100538961</td>\n",
       "      <td>134</td>\n",
       "      <td>+</td>\n",
       "      <td>2</td>\n",
       "      <td>0</td>\n",
       "      <td>2</td>\n",
       "      <td>0</td>\n",
       "      <td>0</td>\n",
       "      <td>1</td>\n",
       "      <td>KLost</td>\n",
       "      <td>AGACATTTCAGTCACTCCTGAAAGCTTACTGGCGCTCTGCTGCTCA...</td>\n",
       "      <td>AGGAAGCCTACACAAGCAAACTTGGCATCTCTGCTGTCTTCTTTGT...</td>\n",
       "    </tr>\n",
       "    <tr>\n",
       "      <th>4</th>\n",
       "      <td>peak.1842</td>\n",
       "      <td>chr11</td>\n",
       "      <td>118825478</td>\n",
       "      <td>118825611</td>\n",
       "      <td>118825545</td>\n",
       "      <td>134</td>\n",
       "      <td>+</td>\n",
       "      <td>1</td>\n",
       "      <td>0</td>\n",
       "      <td>1</td>\n",
       "      <td>0</td>\n",
       "      <td>0</td>\n",
       "      <td>0</td>\n",
       "      <td>NotDB</td>\n",
       "      <td>CAGGGTTGTCAACAGCTCCGGGGAGGGGCTGTTGGGTGAAGCTCTG...</td>\n",
       "      <td>CTGGGTTGCGCTATGGGCCTACCAACAGCAGAAGGCGTGGTGAGAG...</td>\n",
       "    </tr>\n",
       "    <tr>\n",
       "      <th>...</th>\n",
       "      <td>...</td>\n",
       "      <td>...</td>\n",
       "      <td>...</td>\n",
       "      <td>...</td>\n",
       "      <td>...</td>\n",
       "      <td>...</td>\n",
       "      <td>...</td>\n",
       "      <td>...</td>\n",
       "      <td>...</td>\n",
       "      <td>...</td>\n",
       "      <td>...</td>\n",
       "      <td>...</td>\n",
       "      <td>...</td>\n",
       "      <td>...</td>\n",
       "      <td>...</td>\n",
       "      <td>...</td>\n",
       "    </tr>\n",
       "    <tr>\n",
       "      <th>160</th>\n",
       "      <td>peak.9755</td>\n",
       "      <td>chrX</td>\n",
       "      <td>57892454</td>\n",
       "      <td>57892587</td>\n",
       "      <td>57892521</td>\n",
       "      <td>134</td>\n",
       "      <td>+</td>\n",
       "      <td>0</td>\n",
       "      <td>1</td>\n",
       "      <td>1</td>\n",
       "      <td>1</td>\n",
       "      <td>1</td>\n",
       "      <td>0</td>\n",
       "      <td>NotDB</td>\n",
       "      <td>AATAAAGCCAGGAGCAGGTGTCAGCTGCTCCTGCAGTCAAAACAAC...</td>\n",
       "      <td>AGTAAGAGCCAGTTCTATTGGTACATGGGCTTTTGGGGCATTTCAT...</td>\n",
       "    </tr>\n",
       "    <tr>\n",
       "      <th>161</th>\n",
       "      <td>peak.9378</td>\n",
       "      <td>chr9</td>\n",
       "      <td>60603065</td>\n",
       "      <td>60603198</td>\n",
       "      <td>60603132</td>\n",
       "      <td>134</td>\n",
       "      <td>+</td>\n",
       "      <td>2</td>\n",
       "      <td>0</td>\n",
       "      <td>1</td>\n",
       "      <td>0</td>\n",
       "      <td>0</td>\n",
       "      <td>0</td>\n",
       "      <td>NotDB</td>\n",
       "      <td>CTCCCCTCCTCCCACAGACTCCCTGCTGCCTTCATGTCACATGTAT...</td>\n",
       "      <td>CAAAGGCTAACTACATCTGCATTGGATGAAATGTAAATCAACCTCC...</td>\n",
       "    </tr>\n",
       "    <tr>\n",
       "      <th>162</th>\n",
       "      <td>peak.9711</td>\n",
       "      <td>chr9</td>\n",
       "      <td>123496490</td>\n",
       "      <td>123496623</td>\n",
       "      <td>123496557</td>\n",
       "      <td>134</td>\n",
       "      <td>+</td>\n",
       "      <td>4</td>\n",
       "      <td>1</td>\n",
       "      <td>3</td>\n",
       "      <td>0</td>\n",
       "      <td>0</td>\n",
       "      <td>2</td>\n",
       "      <td>KLost</td>\n",
       "      <td>TTCCCAATAATGACACAGAGAGACCAAGATTTATTTTCGGCTTAAA...</td>\n",
       "      <td>TTGTCCTCTAGTTTATTTCTATAATACACTTCAGTAATAAATGGAC...</td>\n",
       "    </tr>\n",
       "    <tr>\n",
       "      <th>163</th>\n",
       "      <td>peak.5739</td>\n",
       "      <td>chr3</td>\n",
       "      <td>19405166</td>\n",
       "      <td>19405299</td>\n",
       "      <td>19405233</td>\n",
       "      <td>134</td>\n",
       "      <td>+</td>\n",
       "      <td>1</td>\n",
       "      <td>0</td>\n",
       "      <td>1</td>\n",
       "      <td>0</td>\n",
       "      <td>2</td>\n",
       "      <td>0</td>\n",
       "      <td>NotDB</td>\n",
       "      <td>TGCAAGTATTGAGAGGTTCCGGAGAGTACTAAGCAGGTAATGTAAG...</td>\n",
       "      <td>TGCCAGCATGAAGAGCAACTAGATTGAGGGCTAGGTTAAGGAGCTA...</td>\n",
       "    </tr>\n",
       "    <tr>\n",
       "      <th>164</th>\n",
       "      <td>peak.3452</td>\n",
       "      <td>chr15</td>\n",
       "      <td>84260517</td>\n",
       "      <td>84260650</td>\n",
       "      <td>84260584</td>\n",
       "      <td>134</td>\n",
       "      <td>+</td>\n",
       "      <td>1</td>\n",
       "      <td>1</td>\n",
       "      <td>1</td>\n",
       "      <td>1</td>\n",
       "      <td>1</td>\n",
       "      <td>0</td>\n",
       "      <td>NotDB</td>\n",
       "      <td>ATAGCGTTCCTGCTCTCAGCCCAGTTTGGGGGCGGGGGGAGTGGTT...</td>\n",
       "      <td>AGTGTGTTTTTTTCGTAACTCATGCCGTTTCAGTAGGTCCTCGGTG...</td>\n",
       "    </tr>\n",
       "  </tbody>\n",
       "</table>\n",
       "<p>165 rows × 16 columns</p>\n",
       "</div>"
      ],
      "text/plain": [
       "       peak.id seqnames      start        end     summit  width strand  \\\n",
       "0    peak.8080     chr7   34142450   34142583   34142517    134      +   \n",
       "1    peak.4849    chr19   37211579   37211712   37211646    134      +   \n",
       "2    peak.9110     chr9   16257517   16257650   16257584    134      +   \n",
       "3    peak.5992     chr3  100538894  100539027  100538961    134      +   \n",
       "4    peak.1842    chr11  118825478  118825611  118825545    134      +   \n",
       "..         ...      ...        ...        ...        ...    ...    ...   \n",
       "160  peak.9755     chrX   57892454   57892587   57892521    134      +   \n",
       "161  peak.9378     chr9   60603065   60603198   60603132    134      +   \n",
       "162  peak.9711     chr9  123496490  123496623  123496557    134      +   \n",
       "163  peak.5739     chr3   19405166   19405299   19405233    134      +   \n",
       "164  peak.3452    chr15   84260517   84260650   84260584    134      +   \n",
       "\n",
       "     CRX_Corbo  N50  HDmono  HDdimer  NRL  AP1 annotation  \\\n",
       "0            1    0       2        0    1    0      KLost   \n",
       "1            3    0       2        0    0    0      KLost   \n",
       "2            0    0       0        0    0    0      KGain   \n",
       "3            2    0       2        0    0    1      KLost   \n",
       "4            1    0       1        0    0    0      NotDB   \n",
       "..         ...  ...     ...      ...  ...  ...        ...   \n",
       "160          0    1       1        1    1    0      NotDB   \n",
       "161          2    0       1        0    0    0      NotDB   \n",
       "162          4    1       3        0    0    2      KLost   \n",
       "163          1    0       1        0    2    0      NotDB   \n",
       "164          1    1       1        1    1    0      NotDB   \n",
       "\n",
       "                                                 FASTA  \\\n",
       "0    CTGCTCAAAGAGCCAGATGCACAGTTTATGGCCTACAAATAAGCAG...   \n",
       "1    CACGTGTAACCTTAGTGCTAGAGAAGCAGGAACAGGATAATCCCTG...   \n",
       "2    TAGCAGGAAACCTATTAGGGCTTTTCTATTTACAGCTTTCTACAAG...   \n",
       "3    AGACATTTCAGTCACTCCTGAAAGCTTACTGGCGCTCTGCTGCTCA...   \n",
       "4    CAGGGTTGTCAACAGCTCCGGGGAGGGGCTGTTGGGTGAAGCTCTG...   \n",
       "..                                                 ...   \n",
       "160  AATAAAGCCAGGAGCAGGTGTCAGCTGCTCCTGCAGTCAAAACAAC...   \n",
       "161  CTCCCCTCCTCCCACAGACTCCCTGCTGCCTTCATGTCACATGTAT...   \n",
       "162  TTCCCAATAATGACACAGAGAGACCAAGATTTATTTTCGGCTTAAA...   \n",
       "163  TGCAAGTATTGAGAGGTTCCGGAGAGTACTAAGCAGGTAATGTAAG...   \n",
       "164  ATAGCGTTCCTGCTCTCAGCCCAGTTTGGGGGCGGGGGGAGTGGTT...   \n",
       "\n",
       "                                        shuffled.FASTA  \n",
       "0    CCCCAAATGCATGTTAGGCATACGCCGGAGCCTACAGAAGCTAGAC...  \n",
       "1    CATGAGGCGTAGTAGTGTCCCTAGCTCAAAACATGGAGCTTAGCTA...  \n",
       "2    TTAGCATTGTCTCACCACCTATATCTTACTATCCAGGCTAGATTCC...  \n",
       "3    AGGAAGCCTACACAAGCAAACTTGGCATCTCTGCTGTCTTCTTTGT...  \n",
       "4    CTGGGTTGCGCTATGGGCCTACCAACAGCAGAAGGCGTGGTGAGAG...  \n",
       "..                                                 ...  \n",
       "160  AGTAAGAGCCAGTTCTATTGGTACATGGGCTTTTGGGGCATTTCAT...  \n",
       "161  CAAAGGCTAACTACATCTGCATTGGATGAAATGTAAATCAACCTCC...  \n",
       "162  TTGTCCTCTAGTTTATTTCTATAATACACTTCAGTAATAAATGGAC...  \n",
       "163  TGCCAGCATGAAGAGCAACTAGATTGAGGGCTAGGTTAAGGAGCTA...  \n",
       "164  AGTGTGTTTTTTTCGTAACTCATGCCGTTTCAGTAGGTCCTCGGTG...  \n",
       "\n",
       "[165 rows x 16 columns]"
      ]
     },
     "execution_count": 62,
     "metadata": {},
     "output_type": "execute_result"
    }
   ],
   "source": [
    "scrambled_df"
   ]
  },
  {
   "cell_type": "code",
   "execution_count": 63,
   "metadata": {},
   "outputs": [],
   "source": [
    "# write selected scramble peak annotations to file\n",
    "scrambled_df.to_csv(os.path.join(mpraout_dir, \"peaksets\", \"scrambledSubset.withShuffles.tsv\"), sep=\"\\t\", header=True, index=False)"
   ]
  },
  {
   "attachments": {},
   "cell_type": "markdown",
   "metadata": {},
   "source": [
    "### now i have more than 150 validated scrambled fasta, select 150"
   ]
  },
  {
   "cell_type": "code",
   "execution_count": 140,
   "metadata": {},
   "outputs": [],
   "source": [
    "scrambled_df = pd.read_csv(os.path.join(base_dir, \"peaksets\", \"scrambledSubset.withShuffles.tsv\"), sep=\"\\t\", header=0)\n",
    "scrambled_fasta = sequence_annotator.read_fasta(os.path.join(base_dir,\"sequences\", \"subsetCREs_shuffled.fa\"))\n",
    "scrambled_fasta = scrambled_fasta[scrambled_df[\"peak.id\"]+\"_shuff\"]"
   ]
  },
  {
   "cell_type": "code",
   "execution_count": 17,
   "metadata": {},
   "outputs": [],
   "source": [
    "# a complete list of the index of all scrambled CREs\n",
    "allScrambled = range(1, len(scrambled_fasta))\n",
    "# randomly draw n elements from the list\n",
    "subsetScrambled = random.sample(allScrambled, 150)\n",
    "# get the selected peaks\n",
    "subsetScrambled_df = scrambled_df.iloc[subsetScrambled,:].copy()\n",
    "subsetScrambled_fasta = scrambled_fasta[subsetScrambled].copy()"
   ]
  },
  {
   "cell_type": "code",
   "execution_count": 20,
   "metadata": {},
   "outputs": [
    {
     "data": {
      "text/plain": [
       "set()"
      ]
     },
     "execution_count": 20,
     "metadata": {},
     "output_type": "execute_result"
    }
   ],
   "source": [
    "set(subsetScrambled_df[\"peak.id\"]+\"_shuff\")-set(subsetScrambled_fasta.index)"
   ]
  },
  {
   "cell_type": "code",
   "execution_count": 155,
   "metadata": {},
   "outputs": [],
   "source": [
    "# write selected scramble peak annotations to file\n",
    "scrambled_df.to_csv(os.path.join(base_dir, \"peaksets\", \"scrambled150.withShuffles.tsv\"), sep=\"\\t\", header=True, index=False)\n",
    "sequence_annotator.write_fasta(subsetScrambled_fasta, os.path.join(base_dir, \"sequences\", \"scrambled150_shuffled.fa\"))"
   ]
  },
  {
   "attachments": {},
   "cell_type": "markdown",
   "metadata": {},
   "source": [
    "### IV. mutagensize dimeric HD motif cores"
   ]
  },
  {
   "cell_type": "code",
   "execution_count": 7,
   "metadata": {},
   "outputs": [],
   "source": [
    "# 1-indexed nucleotide position dictionaries\n",
    "dimer_core = {1:\"T\", 2:\"A\", 3:\"A\", 9:\"T\", 10:\"T\", 11:\"A\"} # k88n_olap.MEME.2\n",
    "corbo_mono_core = {2:\"T\", 3:\"A\", 4:\"A\"} # CRX_Corbo\n",
    "crx_mono_core = {8:\"T\", 9:\"T\", 10:\"A\"} # JASPAR\n",
    "n50_mono_core = {5:\"T\", 6:\"T\", 7:\"A\"} # k88n_olap.DERME.1\n",
    "dimer_mutant_core = {3:\"C\", 9:\"G\"}\n",
    "corbo_mutant_core = {4:\"C\"}\n",
    "crx_mutant_core = {8:\"G\"}\n",
    "n50_mutant_core = {5:\"G\"}"
   ]
  },
  {
   "cell_type": "code",
   "execution_count": 8,
   "metadata": {},
   "outputs": [],
   "source": [
    "meme_dir = f\"{base_dir}/meme/all_chip_pwm.meme\"\n",
    "fimo_th = 2.5E-3 # as in Ryan's eLife paper\n",
    "#fimo_th = 1.0E-3 # as in Drew's Genome Research paper\n",
    "fimo_meta = f\"{scriptdir}/fimo_meta.csv\""
   ]
  },
  {
   "cell_type": "code",
   "execution_count": 97,
   "metadata": {},
   "outputs": [
    {
     "data": {
      "text/html": [
       "<div>\n",
       "<style scoped>\n",
       "    .dataframe tbody tr th:only-of-type {\n",
       "        vertical-align: middle;\n",
       "    }\n",
       "\n",
       "    .dataframe tbody tr th {\n",
       "        vertical-align: top;\n",
       "    }\n",
       "\n",
       "    .dataframe thead th {\n",
       "        text-align: right;\n",
       "    }\n",
       "</style>\n",
       "<table border=\"1\" class=\"dataframe\">\n",
       "  <thead>\n",
       "    <tr style=\"text-align: right;\">\n",
       "      <th></th>\n",
       "      <th>sampleName</th>\n",
       "      <th>inputFA</th>\n",
       "      <th>markovBG</th>\n",
       "      <th>outputDir</th>\n",
       "    </tr>\n",
       "  </thead>\n",
       "  <tbody>\n",
       "    <tr>\n",
       "      <th>0</th>\n",
       "      <td>allCRE</td>\n",
       "      <td>allCRE/mpraAllCRE.fa</td>\n",
       "      <td>allCRE/mpraAllCRE_background</td>\n",
       "      <td>allCRE_fimo</td>\n",
       "    </tr>\n",
       "    <tr>\n",
       "      <th>1</th>\n",
       "      <td>allCRE_fimo</td>\n",
       "      <td>allCRE_fimo/allCRE_fimo.k88n_olap.MEME.2.maske...</td>\n",
       "      <td>allCRE_fimo/allCRE_fimo_background</td>\n",
       "      <td>allCRE_fimo2</td>\n",
       "    </tr>\n",
       "    <tr>\n",
       "      <th>2</th>\n",
       "      <td>allCRE_fimo2</td>\n",
       "      <td>allCRE_fimo2/allCRE_fimo2.k88n_olap.MEME.2.mas...</td>\n",
       "      <td>allCRE_fimo2/allCRE_fimo2_background</td>\n",
       "      <td>allCRE_fimo3</td>\n",
       "    </tr>\n",
       "    <tr>\n",
       "      <th>3</th>\n",
       "      <td>allCRE_fimo3</td>\n",
       "      <td>allCRE_fimo3/allCRE_fimo3.k88n_olap.MEME.2.mas...</td>\n",
       "      <td>allCRE_fimo3/allCRE_fimo2_background</td>\n",
       "      <td>allCRE_fimo4</td>\n",
       "    </tr>\n",
       "    <tr>\n",
       "      <th>4</th>\n",
       "      <td>dimerMutCRE</td>\n",
       "      <td>dimerMutCRE/allCRE.k88n_olap.MEME.2.mutated.fa</td>\n",
       "      <td>dimerMutCRE/dimerMutCRE_fimo_background</td>\n",
       "      <td>dimerMutCRE_fimo</td>\n",
       "    </tr>\n",
       "    <tr>\n",
       "      <th>5</th>\n",
       "      <td>monoMutCRE</td>\n",
       "      <td>monoMutCRE/allCRE.Crx.MA0467.1.mutated.fa</td>\n",
       "      <td>monoMutCRE/monoMutCRE_fimo_background</td>\n",
       "      <td>monoMutCRE_fimo</td>\n",
       "    </tr>\n",
       "    <tr>\n",
       "      <th>6</th>\n",
       "      <td>monoMutCRE_fimo</td>\n",
       "      <td>monoMutCRE_fimo/allCRE.Crx.MA0467.1.mutated.fa</td>\n",
       "      <td>monoMutCRE_fimo/monoMutCRE_fimo_background</td>\n",
       "      <td>monoMutCRE_fimo2</td>\n",
       "    </tr>\n",
       "    <tr>\n",
       "      <th>7</th>\n",
       "      <td>monoMutCRE_fimo2</td>\n",
       "      <td>monoMutCRE_fimo2/allCRE.Crx.MA0467.1.mutated.fa</td>\n",
       "      <td>monoMutCRE_fimo2/monoMutCRE_fimo2_background</td>\n",
       "      <td>monoMutCRE_fimo3</td>\n",
       "    </tr>\n",
       "    <tr>\n",
       "      <th>8</th>\n",
       "      <td>monoMutCRE</td>\n",
       "      <td>monoMutCRE/allCRE.CRX_Corbo.mutated.fa</td>\n",
       "      <td>monoMutCRE/monoMutCRE_fimo_background</td>\n",
       "      <td>monoMutCRE_fimo</td>\n",
       "    </tr>\n",
       "    <tr>\n",
       "      <th>9</th>\n",
       "      <td>monoMutCRE_fimo</td>\n",
       "      <td>monoMutCRE_fimo/allCRE.CRX_Corbo.mutated.fa</td>\n",
       "      <td>monoMutCRE_fimo/monoMutCRE_fimo_background</td>\n",
       "      <td>monoMutCRE_fimo2</td>\n",
       "    </tr>\n",
       "    <tr>\n",
       "      <th>10</th>\n",
       "      <td>monoMutCRE_fimo2</td>\n",
       "      <td>monoMutCRE_fimo2/allCRE.CRX_Corbo.mutated.fa</td>\n",
       "      <td>monoMutCRE_fimo2/monoMutCRE_fimo2_background</td>\n",
       "      <td>monoMutCRE_fimo3</td>\n",
       "    </tr>\n",
       "    <tr>\n",
       "      <th>11</th>\n",
       "      <td>monoMutCRE_fimo3</td>\n",
       "      <td>monoMutCRE_fimo3/allCRE.CRX_Corbo.mutated.fa</td>\n",
       "      <td>monoMutCRE_fimo3/monoMutCRE_fimo3_background</td>\n",
       "      <td>monoMutCRE_fimo4</td>\n",
       "    </tr>\n",
       "  </tbody>\n",
       "</table>\n",
       "</div>"
      ],
      "text/plain": [
       "          sampleName                                            inputFA  \\\n",
       "0             allCRE                               allCRE/mpraAllCRE.fa   \n",
       "1        allCRE_fimo  allCRE_fimo/allCRE_fimo.k88n_olap.MEME.2.maske...   \n",
       "2       allCRE_fimo2  allCRE_fimo2/allCRE_fimo2.k88n_olap.MEME.2.mas...   \n",
       "3       allCRE_fimo3  allCRE_fimo3/allCRE_fimo3.k88n_olap.MEME.2.mas...   \n",
       "4        dimerMutCRE     dimerMutCRE/allCRE.k88n_olap.MEME.2.mutated.fa   \n",
       "5         monoMutCRE          monoMutCRE/allCRE.Crx.MA0467.1.mutated.fa   \n",
       "6    monoMutCRE_fimo     monoMutCRE_fimo/allCRE.Crx.MA0467.1.mutated.fa   \n",
       "7   monoMutCRE_fimo2    monoMutCRE_fimo2/allCRE.Crx.MA0467.1.mutated.fa   \n",
       "8         monoMutCRE             monoMutCRE/allCRE.CRX_Corbo.mutated.fa   \n",
       "9    monoMutCRE_fimo        monoMutCRE_fimo/allCRE.CRX_Corbo.mutated.fa   \n",
       "10  monoMutCRE_fimo2       monoMutCRE_fimo2/allCRE.CRX_Corbo.mutated.fa   \n",
       "11  monoMutCRE_fimo3       monoMutCRE_fimo3/allCRE.CRX_Corbo.mutated.fa   \n",
       "\n",
       "                                        markovBG         outputDir  \n",
       "0                   allCRE/mpraAllCRE_background       allCRE_fimo  \n",
       "1             allCRE_fimo/allCRE_fimo_background      allCRE_fimo2  \n",
       "2           allCRE_fimo2/allCRE_fimo2_background      allCRE_fimo3  \n",
       "3           allCRE_fimo3/allCRE_fimo2_background      allCRE_fimo4  \n",
       "4        dimerMutCRE/dimerMutCRE_fimo_background  dimerMutCRE_fimo  \n",
       "5          monoMutCRE/monoMutCRE_fimo_background   monoMutCRE_fimo  \n",
       "6     monoMutCRE_fimo/monoMutCRE_fimo_background  monoMutCRE_fimo2  \n",
       "7   monoMutCRE_fimo2/monoMutCRE_fimo2_background  monoMutCRE_fimo3  \n",
       "8          monoMutCRE/monoMutCRE_fimo_background   monoMutCRE_fimo  \n",
       "9     monoMutCRE_fimo/monoMutCRE_fimo_background  monoMutCRE_fimo2  \n",
       "10  monoMutCRE_fimo2/monoMutCRE_fimo2_background  monoMutCRE_fimo3  \n",
       "11  monoMutCRE_fimo3/monoMutCRE_fimo3_background  monoMutCRE_fimo4  "
      ]
     },
     "execution_count": 97,
     "metadata": {},
     "output_type": "execute_result"
    }
   ],
   "source": [
    "fimo_sample_list = pd.read_csv(fimo_meta, header=0)\n",
    "fimo_sample_list"
   ]
  },
  {
   "cell_type": "code",
   "execution_count": 10,
   "metadata": {},
   "outputs": [],
   "source": [
    "# copy the newly generated fasta to fimo folder\n",
    "new_dir = os.path.join(base_dir, f\"fimo_{fimo_th}\", os.path.split(fimo_sample_list.iloc[0,1])[0].split(\"/\")[-1])\n",
    "outputFasta=os.path.join(base_dir,\"sequences\",\"mpraAllCRE.fa\")\n",
    "!cp \"{outputFasta}\" \"{new_dir}\""
   ]
  },
  {
   "cell_type": "code",
   "execution_count": 11,
   "metadata": {},
   "outputs": [
    {
     "name": "stdout",
     "output_type": "stream",
     "text": [
      "working directory: /mnt/v/yqzheng/qiaoer/VSCode_yiqiao/SPEC-SEQ/scripts\n",
      "query fasta: /mnt/v/yqzheng/qiaoer/PhD Thesis/Experiment/MPRA/hdmuts_library/fimo_0.0025/allCRE/mpraAllCRE.fa\n",
      "\u001b[Kcessed: 100.0%9829 134 134 134.0 1317086\n",
      "Scanning with threshold 0.0025\n",
      "FIMO output will be written to /mnt/v/yqzheng/qiaoer/PhD Thesis/Experiment/MPRA/hdmuts_library/fimo_0.0025/allCRE_fimo\n",
      "ha! this is the end of the script!\n"
     ]
    }
   ],
   "source": [
    "!bash ./meme_fimo_scanning.sh \"{scriptdir}\" \"{base_dir}\" \"{meme_dir}\" \"{fimo_th}\" \"{fimo_meta}\" 1"
   ]
  },
  {
   "cell_type": "code",
   "execution_count": 12,
   "metadata": {},
   "outputs": [],
   "source": [
    "dimer_motif = \"k88n_olap.MEME.2\"\n",
    "# read fimo score for the unmasked fasta sequences\n",
    "raw_fimo_score = pd.read_csv(os.path.join(base_dir, f\"fimo_{fimo_th}\", \"allCRE_fimo\", \"fimo.tsv\"), sep=\"\\t\", header=0)\n",
    "# find matches of the dimeric HD site and mutate the core TAA > TAC\n",
    "dimerMatched_fimo_score, dimerMutated_fasta = mpra_CRE_utils.find_and_mutate_motif(allCRE_fasta, raw_fimo_score, dimer_motif, dimer_mutant_core, dimer_core)"
   ]
  },
  {
   "cell_type": "code",
   "execution_count": 13,
   "metadata": {},
   "outputs": [
    {
     "data": {
      "text/plain": [
       "1410"
      ]
     },
     "execution_count": 13,
     "metadata": {},
     "output_type": "execute_result"
    }
   ],
   "source": [
    "len(dimerMatched_fimo_score[\"peak.id\"].unique())"
   ]
  },
  {
   "cell_type": "code",
   "execution_count": 14,
   "metadata": {},
   "outputs": [],
   "source": [
    "sequence_annotator.write_fasta(dimerMutated_fasta, os.path.join(base_dir, \"sequences\", f\"mutatedCREs_fimo{fimo_th}\", f\"allCRE.{dimer_motif}.mutated.fa\"))"
   ]
  },
  {
   "attachments": {},
   "cell_type": "markdown",
   "metadata": {},
   "source": [
    "#### go through the second fimo scan results to remove any further dimeric motifs"
   ]
  },
  {
   "cell_type": "code",
   "execution_count": 21,
   "metadata": {},
   "outputs": [],
   "source": [
    "raw_fimo_score2 = pd.read_csv(os.path.join(base_dir, f\"fimo_{fimo_th}\", \"allCRE_fimo2\", \"fimo.tsv\"), sep=\"\\t\", header=0)\n",
    "dimerMatched_fimo_score2, dimerMutated_fasta2 = mpra_CRE_utils.find_and_mutate_motif(dimerMutated_fasta, raw_fimo_score2, dimer_motif, dimer_mutant_core, dimer_core)"
   ]
  },
  {
   "cell_type": "code",
   "execution_count": 22,
   "metadata": {},
   "outputs": [
    {
     "data": {
      "text/html": [
       "<div>\n",
       "<style scoped>\n",
       "    .dataframe tbody tr th:only-of-type {\n",
       "        vertical-align: middle;\n",
       "    }\n",
       "\n",
       "    .dataframe tbody tr th {\n",
       "        vertical-align: top;\n",
       "    }\n",
       "\n",
       "    .dataframe thead th {\n",
       "        text-align: right;\n",
       "    }\n",
       "</style>\n",
       "<table border=\"1\" class=\"dataframe\">\n",
       "  <thead>\n",
       "    <tr style=\"text-align: right;\">\n",
       "      <th></th>\n",
       "      <th>peak.id</th>\n",
       "      <th>motif</th>\n",
       "      <th>start</th>\n",
       "      <th>end</th>\n",
       "      <th>strand</th>\n",
       "      <th>score</th>\n",
       "      <th>match_seq</th>\n",
       "      <th>mutated_seq</th>\n",
       "    </tr>\n",
       "  </thead>\n",
       "  <tbody>\n",
       "    <tr>\n",
       "      <th>0</th>\n",
       "      <td>peak.822</td>\n",
       "      <td>k88n_olap.MEME.2</td>\n",
       "      <td>74</td>\n",
       "      <td>84</td>\n",
       "      <td>+</td>\n",
       "      <td>-1.23</td>\n",
       "      <td>TAACCGACTTA</td>\n",
       "      <td>TACCCGACGTA</td>\n",
       "    </tr>\n",
       "    <tr>\n",
       "      <th>1</th>\n",
       "      <td>peak.1212</td>\n",
       "      <td>k88n_olap.MEME.2</td>\n",
       "      <td>61</td>\n",
       "      <td>71</td>\n",
       "      <td>+</td>\n",
       "      <td>-1.19</td>\n",
       "      <td>TAACCTGCTTA</td>\n",
       "      <td>TACCCTGCGTA</td>\n",
       "    </tr>\n",
       "    <tr>\n",
       "      <th>2</th>\n",
       "      <td>peak.1467</td>\n",
       "      <td>k88n_olap.MEME.2</td>\n",
       "      <td>118</td>\n",
       "      <td>128</td>\n",
       "      <td>+</td>\n",
       "      <td>-1.15</td>\n",
       "      <td>TAAGCGTGTTA</td>\n",
       "      <td>TACGCGTGGTA</td>\n",
       "    </tr>\n",
       "    <tr>\n",
       "      <th>3</th>\n",
       "      <td>peak.3193</td>\n",
       "      <td>k88n_olap.MEME.2</td>\n",
       "      <td>71</td>\n",
       "      <td>81</td>\n",
       "      <td>+</td>\n",
       "      <td>-1.19</td>\n",
       "      <td>TAACCTGTTTA</td>\n",
       "      <td>TACCCTGTGTA</td>\n",
       "    </tr>\n",
       "    <tr>\n",
       "      <th>4</th>\n",
       "      <td>peak.3801</td>\n",
       "      <td>k88n_olap.MEME.2</td>\n",
       "      <td>38</td>\n",
       "      <td>48</td>\n",
       "      <td>+</td>\n",
       "      <td>-1.19</td>\n",
       "      <td>TAACCTGCTTA</td>\n",
       "      <td>TACCCTGCGTA</td>\n",
       "    </tr>\n",
       "    <tr>\n",
       "      <th>5</th>\n",
       "      <td>peak.3823</td>\n",
       "      <td>k88n_olap.MEME.2</td>\n",
       "      <td>89</td>\n",
       "      <td>99</td>\n",
       "      <td>-</td>\n",
       "      <td>-1.15</td>\n",
       "      <td>TAAGCGTCTTA</td>\n",
       "      <td>TACGACGCGTA</td>\n",
       "    </tr>\n",
       "    <tr>\n",
       "      <th>6</th>\n",
       "      <td>peak.4961</td>\n",
       "      <td>k88n_olap.MEME.2</td>\n",
       "      <td>50</td>\n",
       "      <td>60</td>\n",
       "      <td>+</td>\n",
       "      <td>-1.19</td>\n",
       "      <td>TAACCTGCTTA</td>\n",
       "      <td>TACCCTGCGTA</td>\n",
       "    </tr>\n",
       "    <tr>\n",
       "      <th>7</th>\n",
       "      <td>peak.5196</td>\n",
       "      <td>k88n_olap.MEME.2</td>\n",
       "      <td>2</td>\n",
       "      <td>12</td>\n",
       "      <td>+</td>\n",
       "      <td>-1.19</td>\n",
       "      <td>TAACCTGCTTA</td>\n",
       "      <td>TACCCTGCGTA</td>\n",
       "    </tr>\n",
       "    <tr>\n",
       "      <th>8</th>\n",
       "      <td>peak.5411</td>\n",
       "      <td>k88n_olap.MEME.2</td>\n",
       "      <td>67</td>\n",
       "      <td>77</td>\n",
       "      <td>+</td>\n",
       "      <td>-1.15</td>\n",
       "      <td>TAAGCGTCTTA</td>\n",
       "      <td>TACGCGTCGTA</td>\n",
       "    </tr>\n",
       "    <tr>\n",
       "      <th>9</th>\n",
       "      <td>peak.6337</td>\n",
       "      <td>k88n_olap.MEME.2</td>\n",
       "      <td>37</td>\n",
       "      <td>47</td>\n",
       "      <td>-</td>\n",
       "      <td>-1.19</td>\n",
       "      <td>TAACCTGCTTA</td>\n",
       "      <td>TACGCAGGGTA</td>\n",
       "    </tr>\n",
       "    <tr>\n",
       "      <th>10</th>\n",
       "      <td>peak.9715</td>\n",
       "      <td>k88n_olap.MEME.2</td>\n",
       "      <td>51</td>\n",
       "      <td>61</td>\n",
       "      <td>-</td>\n",
       "      <td>-1.19</td>\n",
       "      <td>TAACCTGCTTA</td>\n",
       "      <td>TACGCAGGGTA</td>\n",
       "    </tr>\n",
       "  </tbody>\n",
       "</table>\n",
       "</div>"
      ],
      "text/plain": [
       "      peak.id             motif  start  end strand  score    match_seq  \\\n",
       "0    peak.822  k88n_olap.MEME.2     74   84      +  -1.23  TAACCGACTTA   \n",
       "1   peak.1212  k88n_olap.MEME.2     61   71      +  -1.19  TAACCTGCTTA   \n",
       "2   peak.1467  k88n_olap.MEME.2    118  128      +  -1.15  TAAGCGTGTTA   \n",
       "3   peak.3193  k88n_olap.MEME.2     71   81      +  -1.19  TAACCTGTTTA   \n",
       "4   peak.3801  k88n_olap.MEME.2     38   48      +  -1.19  TAACCTGCTTA   \n",
       "5   peak.3823  k88n_olap.MEME.2     89   99      -  -1.15  TAAGCGTCTTA   \n",
       "6   peak.4961  k88n_olap.MEME.2     50   60      +  -1.19  TAACCTGCTTA   \n",
       "7   peak.5196  k88n_olap.MEME.2      2   12      +  -1.19  TAACCTGCTTA   \n",
       "8   peak.5411  k88n_olap.MEME.2     67   77      +  -1.15  TAAGCGTCTTA   \n",
       "9   peak.6337  k88n_olap.MEME.2     37   47      -  -1.19  TAACCTGCTTA   \n",
       "10  peak.9715  k88n_olap.MEME.2     51   61      -  -1.19  TAACCTGCTTA   \n",
       "\n",
       "    mutated_seq  \n",
       "0   TACCCGACGTA  \n",
       "1   TACCCTGCGTA  \n",
       "2   TACGCGTGGTA  \n",
       "3   TACCCTGTGTA  \n",
       "4   TACCCTGCGTA  \n",
       "5   TACGACGCGTA  \n",
       "6   TACCCTGCGTA  \n",
       "7   TACCCTGCGTA  \n",
       "8   TACGCGTCGTA  \n",
       "9   TACGCAGGGTA  \n",
       "10  TACGCAGGGTA  "
      ]
     },
     "execution_count": 22,
     "metadata": {},
     "output_type": "execute_result"
    }
   ],
   "source": [
    "dimerMatched_fimo_score2"
   ]
  },
  {
   "cell_type": "code",
   "execution_count": 23,
   "metadata": {},
   "outputs": [],
   "source": [
    "sequence_annotator.write_fasta(dimerMutated_fasta2, os.path.join(base_dir, \"sequences\", f\"mutatedCREs_fimo{fimo_th}\", f\"allCRE.{dimer_motif}.mutated.fa\"))"
   ]
  },
  {
   "attachments": {},
   "cell_type": "markdown",
   "metadata": {},
   "source": [
    "#### scan with FIMO again to check any spurious dimeric motifs generated"
   ]
  },
  {
   "cell_type": "code",
   "execution_count": 26,
   "metadata": {},
   "outputs": [],
   "source": [
    "# copy the newly generated fasta to fimo folder\n",
    "old_dir = os.path.join(base_dir, \"sequences\", f\"mutatedCREs_fimo{fimo_th}\", f\"allCRE.{dimer_motif}.mutated.fa\")\n",
    "new_dir = os.path.join(base_dir, f\"fimo_{fimo_th}\", os.path.split(fimo_sample_list.iloc[4,1])[0].split(\"/\")[-1])\n",
    "!cp \"{old_dir}\" \"{new_dir}\""
   ]
  },
  {
   "cell_type": "code",
   "execution_count": 27,
   "metadata": {},
   "outputs": [
    {
     "name": "stdout",
     "output_type": "stream",
     "text": [
      "working directory: /mnt/v/yqzheng/qiaoer/VSCode_yiqiao/SPEC-SEQ/scripts\n",
      "query fasta: /mnt/v/yqzheng/qiaoer/PhD Thesis/Experiment/MPRA/hdmuts_library/fimo_0.0025/dimerMutCRE/allCRE.k88n_olap.MEME.2.mutated.fa\n",
      "\u001b[K9829 134 134 134.0 1317086\n",
      "Scanning with threshold 0.0025\n",
      "FIMO output will be written to /mnt/v/yqzheng/qiaoer/PhD Thesis/Experiment/MPRA/hdmuts_library/fimo_0.0025/dimerMutCRE_fimo\n",
      "ha! this is the end of the script!\n"
     ]
    }
   ],
   "source": [
    "!bash ./scripts/meme_fimo_scanning.sh \"{scriptdir}\" \"{base_dir}\" \"{meme_dir}\" \"{fimo_th}\" \"{fimo_meta}\" 5"
   ]
  },
  {
   "cell_type": "code",
   "execution_count": 28,
   "metadata": {},
   "outputs": [
    {
     "name": "stdout",
     "output_type": "stream",
     "text": [
      "reading /mnt/v/yqzheng/qiaoer/PhD Thesis/Experiment/MPRA/hdmuts_library/fimo_0.0025/dimerMutCRE_fimo/fimo.tsv\n"
     ]
    }
   ],
   "source": [
    "# retrieve raw fimo results\n",
    "f = os.path.join(base_dir, f\"fimo_{fimo_th}\", fimo_sample_list.iloc[4,-1], \"fimo.tsv\")\n",
    "name = os.path.split(f)[0].split(\"/\")[-1]\n",
    "print('reading ' + f)\n",
    "# read the raw fimo output\n",
    "raw_fimo_score3 = pd.read_csv(f, sep=\"\\t\", header=0)[:-3] # drop the last three row"
   ]
  },
  {
   "cell_type": "code",
   "execution_count": 29,
   "metadata": {},
   "outputs": [
    {
     "data": {
      "text/html": [
       "<div>\n",
       "<style scoped>\n",
       "    .dataframe tbody tr th:only-of-type {\n",
       "        vertical-align: middle;\n",
       "    }\n",
       "\n",
       "    .dataframe tbody tr th {\n",
       "        vertical-align: top;\n",
       "    }\n",
       "\n",
       "    .dataframe thead th {\n",
       "        text-align: right;\n",
       "    }\n",
       "</style>\n",
       "<table border=\"1\" class=\"dataframe\">\n",
       "  <thead>\n",
       "    <tr style=\"text-align: right;\">\n",
       "      <th></th>\n",
       "      <th>motif_count</th>\n",
       "    </tr>\n",
       "    <tr>\n",
       "      <th>label</th>\n",
       "      <th></th>\n",
       "    </tr>\n",
       "  </thead>\n",
       "  <tbody>\n",
       "  </tbody>\n",
       "</table>\n",
       "</div>"
      ],
      "text/plain": [
       "Empty DataFrame\n",
       "Columns: [motif_count]\n",
       "Index: []"
      ]
     },
     "execution_count": 29,
     "metadata": {},
     "output_type": "execute_result"
    }
   ],
   "source": [
    "match_count = mpra_CRE_utils.count_motif_occur(allCRE_fasta, raw_fimo_score3, dimer_motif, coremotif_dict=dimer_core)\n",
    "match_count.loc[match_count[\"motif_count\"]!=0,:]"
   ]
  },
  {
   "cell_type": "code",
   "execution_count": 30,
   "metadata": {},
   "outputs": [],
   "source": [
    "dimerMatched_fimo_score3, dimerMutated_fasta2 = mpra_CRE_utils.find_and_mutate_motif(dimerMutated_fasta2, raw_fimo_score3, dimer_motif, dimer_mutant_core, dimer_core)"
   ]
  },
  {
   "cell_type": "code",
   "execution_count": 31,
   "metadata": {},
   "outputs": [
    {
     "data": {
      "text/html": [
       "<div>\n",
       "<style scoped>\n",
       "    .dataframe tbody tr th:only-of-type {\n",
       "        vertical-align: middle;\n",
       "    }\n",
       "\n",
       "    .dataframe tbody tr th {\n",
       "        vertical-align: top;\n",
       "    }\n",
       "\n",
       "    .dataframe thead th {\n",
       "        text-align: right;\n",
       "    }\n",
       "</style>\n",
       "<table border=\"1\" class=\"dataframe\">\n",
       "  <thead>\n",
       "    <tr style=\"text-align: right;\">\n",
       "      <th></th>\n",
       "      <th>peak.id</th>\n",
       "      <th>motif</th>\n",
       "      <th>start</th>\n",
       "      <th>end</th>\n",
       "      <th>strand</th>\n",
       "      <th>score</th>\n",
       "      <th>match_seq</th>\n",
       "      <th>mutated_seq</th>\n",
       "    </tr>\n",
       "  </thead>\n",
       "  <tbody>\n",
       "  </tbody>\n",
       "</table>\n",
       "</div>"
      ],
      "text/plain": [
       "Empty DataFrame\n",
       "Columns: [peak.id, motif, start, end, strand, score, match_seq, mutated_seq]\n",
       "Index: []"
      ]
     },
     "execution_count": 31,
     "metadata": {},
     "output_type": "execute_result"
    }
   ],
   "source": [
    "dimerMatched_fimo_score3"
   ]
  },
  {
   "cell_type": "code",
   "execution_count": 32,
   "metadata": {},
   "outputs": [],
   "source": [
    "# all dimeric sites have been mutated but peak.id convention is kept\n",
    "sequence_annotator.write_fasta(dimerMutated_fasta2, os.path.join(base_dir, \"sequences\", f\"mutatedCREs_fimo{fimo_th}\", f\"allCRE.{dimer_motif}.mutated.fa\"))"
   ]
  },
  {
   "cell_type": "code",
   "execution_count": 204,
   "metadata": {},
   "outputs": [],
   "source": [
    "allDimer_CREs = [peak_df[\"peak.id\"] for peak_df in [dimerMatched_fimo_score,dimerMatched_fimo_score2,dimerMatched_fimo_score3]]\n",
    "allDimer_CREs = set().union(*allDimer_CREs)"
   ]
  },
  {
   "cell_type": "code",
   "execution_count": 208,
   "metadata": {},
   "outputs": [
    {
     "data": {
      "text/plain": [
       "1420"
      ]
     },
     "execution_count": 208,
     "metadata": {},
     "output_type": "execute_result"
    }
   ],
   "source": [
    "# keep only sequences that contain a mutated dimeric HD site\n",
    "dimerMutated_fasta3 = dimerMutated_fasta2[list(allDimer_CREs)].copy()\n",
    "# all peaks containing dimeric motifs that have been mutated\n",
    "allMutatedDimer_peaks = dimerMutated_fasta3.index\n",
    "# some renaming thing\n",
    "dimerMutated_fasta3.index = dimerMutated_fasta3.index + \".mutD\"\n",
    "len(dimerMutated_fasta3) # total number of D mutants"
   ]
  },
  {
   "cell_type": "code",
   "execution_count": 209,
   "metadata": {},
   "outputs": [],
   "source": [
    "# all dimeric sites have been mutated, only those mutated fasta were keep, mutated fasta named as mut.D\n",
    "sequence_annotator.write_fasta(dimerMutated_fasta3, os.path.join(base_dir, \"sequences\", f\"mutatedCREs_fimo{fimo_th}\", f\"mutatedCRE.{dimer_motif}.mutated.fa\"))"
   ]
  },
  {
   "attachments": {},
   "cell_type": "markdown",
   "metadata": {},
   "source": [
    "### VI. mutate all WT monomeric HD core motifs"
   ]
  },
  {
   "cell_type": "code",
   "execution_count": 35,
   "metadata": {},
   "outputs": [],
   "source": [
    "mono_motif = \"CRX_Corbo\"\n",
    "n50_motif = \"k88n_olap.DREME.1\""
   ]
  },
  {
   "cell_type": "code",
   "execution_count": 222,
   "metadata": {},
   "outputs": [],
   "source": [
    "# use mutated dimer fasta sequences as input, then collect all monomer motif fimo df and mutate all from wt fasta at once\n",
    "monoMutated_fimo_score, monoMutated_fasta = mpra_CRE_utils.find_and_mutate_motif(dimerMutated_fasta2, raw_fimo_score3, mono_motif, corbo_mutant_core, corbo_mono_core)\n",
    "n50Mutated_fimo_score, monoMutated_fasta = mpra_CRE_utils.find_and_mutate_motif(monoMutated_fasta, raw_fimo_score3, n50_motif, n50_mutant_core, n50_mono_core)"
   ]
  },
  {
   "cell_type": "code",
   "execution_count": 223,
   "metadata": {},
   "outputs": [
    {
     "data": {
      "text/plain": [
       "7909"
      ]
     },
     "execution_count": 223,
     "metadata": {},
     "output_type": "execute_result"
    }
   ],
   "source": [
    "len(monoMutated_fimo_score[\"peak.id\"].unique())"
   ]
  },
  {
   "cell_type": "code",
   "execution_count": 224,
   "metadata": {},
   "outputs": [
    {
     "data": {
      "text/plain": [
       "3210"
      ]
     },
     "execution_count": 224,
     "metadata": {},
     "output_type": "execute_result"
    }
   ],
   "source": [
    "len(n50Mutated_fimo_score[\"peak.id\"].unique())"
   ]
  },
  {
   "cell_type": "code",
   "execution_count": 225,
   "metadata": {},
   "outputs": [],
   "source": [
    "sequence_annotator.write_fasta(monoMutated_fasta, os.path.join(base_dir, \"sequences\", f\"mutatedCREs_fimo{fimo_th}\", f\"allCRE.{mono_motif}.mutated.fa\"))"
   ]
  },
  {
   "attachments": {},
   "cell_type": "markdown",
   "metadata": {},
   "source": [
    "#### scan again to spot any spurious monomeric HD motif"
   ]
  },
  {
   "cell_type": "code",
   "execution_count": 226,
   "metadata": {},
   "outputs": [],
   "source": [
    "# copy the newly generated fasta to fimo folder\n",
    "old_dir = os.path.join(base_dir, \"sequences\", f\"mutatedCREs_fimo{fimo_th}\", f\"allCRE.{mono_motif}.mutated.fa\")\n",
    "new_dir = os.path.join(base_dir, f\"fimo_{fimo_th}\", os.path.split(fimo_sample_list.iloc[8,1])[0].split(\"/\")[-1])\n",
    "!mkdir -p \"{new_dir}\"\n",
    "!cp \"{old_dir}\" \"{new_dir}\""
   ]
  },
  {
   "cell_type": "code",
   "execution_count": 227,
   "metadata": {},
   "outputs": [
    {
     "name": "stdout",
     "output_type": "stream",
     "text": [
      "working directory: /mnt/v/yqzheng/qiaoer/VSCode_yiqiao/SPEC-SEQ/scripts\n",
      "query fasta: /mnt/v/yqzheng/qiaoer/PhD Thesis/Experiment/MPRA/hdmuts_library/fimo_0.0025/monoMutCRE/allCRE.CRX_Corbo.mutated.fa\n",
      "\u001b[K9829 134 134 134.0 1317086\n",
      "Scanning with threshold 0.0025\n",
      "FIMO output will be written to /mnt/v/yqzheng/qiaoer/PhD Thesis/Experiment/MPRA/hdmuts_library/fimo_0.0025/monoMutCRE_fimo\n",
      "ha! this is the end of the script!\n"
     ]
    }
   ],
   "source": [
    "!bash ./scripts/meme_fimo_scanning.sh \"{scriptdir}\" \"{base_dir}\" \"{meme_dir}\" \"{fimo_th}\" \"{fimo_meta}\" 9"
   ]
  },
  {
   "cell_type": "code",
   "execution_count": 228,
   "metadata": {},
   "outputs": [
    {
     "name": "stdout",
     "output_type": "stream",
     "text": [
      "reading /mnt/v/yqzheng/qiaoer/PhD Thesis/Experiment/MPRA/hdmuts_library/fimo_0.0025/monoMutCRE_fimo/fimo.tsv\n"
     ]
    }
   ],
   "source": [
    "# retrieve raw fimo results\n",
    "f = os.path.join(base_dir, f\"fimo_{fimo_th}\", fimo_sample_list.iloc[8,-1], \"fimo.tsv\")\n",
    "name = os.path.split(f)[0].split(\"/\")[-1]\n",
    "print('reading ' + f)\n",
    "# read the raw fimo output\n",
    "raw_fimo_score4 = pd.read_csv(f, sep=\"\\t\", header=0)[:-3] # drop the last three row"
   ]
  },
  {
   "cell_type": "code",
   "execution_count": 229,
   "metadata": {},
   "outputs": [],
   "source": [
    "monoMutated_fimo_score2, monoMutated_fasta2 = mpra_CRE_utils.find_and_mutate_motif(monoMutated_fasta, raw_fimo_score4, mono_motif, corbo_mutant_core, corbo_mono_core)\n",
    "n50Mutated_fimo_score2, monoMutated_fasta2 = mpra_CRE_utils.find_and_mutate_motif(monoMutated_fasta2, raw_fimo_score4, n50_motif, n50_mutant_core, n50_mono_core)"
   ]
  },
  {
   "cell_type": "code",
   "execution_count": 230,
   "metadata": {},
   "outputs": [
    {
     "data": {
      "text/plain": [
       "970"
      ]
     },
     "execution_count": 230,
     "metadata": {},
     "output_type": "execute_result"
    }
   ],
   "source": [
    "len(monoMutated_fimo_score2[\"peak.id\"].unique())"
   ]
  },
  {
   "cell_type": "code",
   "execution_count": 231,
   "metadata": {},
   "outputs": [
    {
     "data": {
      "text/plain": [
       "1103"
      ]
     },
     "execution_count": 231,
     "metadata": {},
     "output_type": "execute_result"
    }
   ],
   "source": [
    "len(n50Mutated_fimo_score2[\"peak.id\"].unique())"
   ]
  },
  {
   "cell_type": "code",
   "execution_count": 232,
   "metadata": {},
   "outputs": [],
   "source": [
    "sequence_annotator.write_fasta(monoMutated_fasta2, os.path.join(base_dir, \"sequences\", f\"mutatedCREs_fimo{fimo_th}\", f\"allCRE.{mono_motif}.mutated.fa\"))"
   ]
  },
  {
   "cell_type": "code",
   "execution_count": 233,
   "metadata": {},
   "outputs": [],
   "source": [
    "# copy the newly generated fasta to fimo folder\n",
    "old_dir = os.path.join(base_dir, \"sequences\", f\"mutatedCREs_fimo{fimo_th}\", f\"allCRE.{mono_motif}.mutated.fa\")\n",
    "new_dir = os.path.join(base_dir, f\"fimo_{fimo_th}\", os.path.split(fimo_sample_list.iloc[9,1])[0].split(\"/\")[-1])\n",
    "!mkdir -p \"{new_dir}\"\n",
    "!cp \"{old_dir}\" \"{new_dir}\""
   ]
  },
  {
   "cell_type": "code",
   "execution_count": 234,
   "metadata": {},
   "outputs": [
    {
     "name": "stdout",
     "output_type": "stream",
     "text": [
      "working directory: /mnt/v/yqzheng/qiaoer/VSCode_yiqiao/SPEC-SEQ/scripts\n",
      "query fasta: /mnt/v/yqzheng/qiaoer/PhD Thesis/Experiment/MPRA/hdmuts_library/fimo_0.0025/monoMutCRE_fimo/allCRE.CRX_Corbo.mutated.fa\n",
      "\u001b[K9829 134 134 134.0 1317086\n",
      "Scanning with threshold 0.0025\n",
      "FIMO output will be written to /mnt/v/yqzheng/qiaoer/PhD Thesis/Experiment/MPRA/hdmuts_library/fimo_0.0025/monoMutCRE_fimo2\n",
      "ha! this is the end of the script!\n"
     ]
    }
   ],
   "source": [
    "!bash ./scripts/meme_fimo_scanning.sh \"{scriptdir}\" \"{base_dir}\" \"{meme_dir}\" \"{fimo_th}\" \"{fimo_meta}\" 10"
   ]
  },
  {
   "cell_type": "code",
   "execution_count": 235,
   "metadata": {},
   "outputs": [
    {
     "name": "stdout",
     "output_type": "stream",
     "text": [
      "reading /mnt/v/yqzheng/qiaoer/PhD Thesis/Experiment/MPRA/hdmuts_library/fimo_0.0025/monoMutCRE_fimo2/fimo.tsv\n"
     ]
    }
   ],
   "source": [
    "# retrieve raw fimo results\n",
    "f = os.path.join(base_dir, f\"fimo_{fimo_th}\", fimo_sample_list.iloc[9,-1], \"fimo.tsv\")\n",
    "name = os.path.split(f)[0].split(\"/\")[-1]\n",
    "print('reading ' + f)\n",
    "# read the raw fimo output\n",
    "raw_fimo_score5 = pd.read_csv(f, sep=\"\\t\", header=0)[:-3] # drop the last three row"
   ]
  },
  {
   "cell_type": "code",
   "execution_count": 236,
   "metadata": {},
   "outputs": [],
   "source": [
    "monoMutated_fimo_score3, monoMutated_fasta3 = mpra_CRE_utils.find_and_mutate_motif(monoMutated_fasta2, raw_fimo_score5, mono_motif, corbo_mutant_core, corbo_mono_core)\n",
    "n50Mutated_fimo_score3, monoMutated_fasta3 = mpra_CRE_utils.find_and_mutate_motif(monoMutated_fasta3, raw_fimo_score5, n50_motif, n50_mutant_core, n50_mono_core)"
   ]
  },
  {
   "cell_type": "code",
   "execution_count": 237,
   "metadata": {},
   "outputs": [
    {
     "data": {
      "text/html": [
       "<div>\n",
       "<style scoped>\n",
       "    .dataframe tbody tr th:only-of-type {\n",
       "        vertical-align: middle;\n",
       "    }\n",
       "\n",
       "    .dataframe tbody tr th {\n",
       "        vertical-align: top;\n",
       "    }\n",
       "\n",
       "    .dataframe thead th {\n",
       "        text-align: right;\n",
       "    }\n",
       "</style>\n",
       "<table border=\"1\" class=\"dataframe\">\n",
       "  <thead>\n",
       "    <tr style=\"text-align: right;\">\n",
       "      <th></th>\n",
       "      <th>peak.id</th>\n",
       "      <th>motif</th>\n",
       "      <th>start</th>\n",
       "      <th>end</th>\n",
       "      <th>strand</th>\n",
       "      <th>score</th>\n",
       "      <th>match_seq</th>\n",
       "      <th>mutated_seq</th>\n",
       "    </tr>\n",
       "  </thead>\n",
       "  <tbody>\n",
       "    <tr>\n",
       "      <th>0</th>\n",
       "      <td>peak.41</td>\n",
       "      <td>CRX_Corbo</td>\n",
       "      <td>75</td>\n",
       "      <td>82</td>\n",
       "      <td>+</td>\n",
       "      <td>6.752</td>\n",
       "      <td>ATAATACT</td>\n",
       "      <td>ATACTACT</td>\n",
       "    </tr>\n",
       "    <tr>\n",
       "      <th>1</th>\n",
       "      <td>peak.122</td>\n",
       "      <td>CRX_Corbo</td>\n",
       "      <td>52</td>\n",
       "      <td>59</td>\n",
       "      <td>+</td>\n",
       "      <td>6.288</td>\n",
       "      <td>GTAATTCT</td>\n",
       "      <td>GTACTTCT</td>\n",
       "    </tr>\n",
       "    <tr>\n",
       "      <th>2</th>\n",
       "      <td>peak.580</td>\n",
       "      <td>CRX_Corbo</td>\n",
       "      <td>79</td>\n",
       "      <td>86</td>\n",
       "      <td>-</td>\n",
       "      <td>9.136</td>\n",
       "      <td>GTAATCCT</td>\n",
       "      <td>AGGAGTAC</td>\n",
       "    </tr>\n",
       "    <tr>\n",
       "      <th>3</th>\n",
       "      <td>peak.615</td>\n",
       "      <td>CRX_Corbo</td>\n",
       "      <td>95</td>\n",
       "      <td>102</td>\n",
       "      <td>-</td>\n",
       "      <td>9.136</td>\n",
       "      <td>GTAATCCT</td>\n",
       "      <td>AGGAGTAC</td>\n",
       "    </tr>\n",
       "    <tr>\n",
       "      <th>4</th>\n",
       "      <td>peak.622</td>\n",
       "      <td>CRX_Corbo</td>\n",
       "      <td>91</td>\n",
       "      <td>98</td>\n",
       "      <td>+</td>\n",
       "      <td>8.744</td>\n",
       "      <td>GTAATCCA</td>\n",
       "      <td>GTACTCCA</td>\n",
       "    </tr>\n",
       "    <tr>\n",
       "      <th>...</th>\n",
       "      <td>...</td>\n",
       "      <td>...</td>\n",
       "      <td>...</td>\n",
       "      <td>...</td>\n",
       "      <td>...</td>\n",
       "      <td>...</td>\n",
       "      <td>...</td>\n",
       "      <td>...</td>\n",
       "    </tr>\n",
       "    <tr>\n",
       "      <th>64</th>\n",
       "      <td>peak.9178</td>\n",
       "      <td>CRX_Corbo</td>\n",
       "      <td>112</td>\n",
       "      <td>119</td>\n",
       "      <td>-</td>\n",
       "      <td>6.376</td>\n",
       "      <td>GTAATACT</td>\n",
       "      <td>AGTAGTAC</td>\n",
       "    </tr>\n",
       "    <tr>\n",
       "      <th>65</th>\n",
       "      <td>peak.9472</td>\n",
       "      <td>CRX_Corbo</td>\n",
       "      <td>90</td>\n",
       "      <td>97</td>\n",
       "      <td>-</td>\n",
       "      <td>9.568</td>\n",
       "      <td>GTAATCCC</td>\n",
       "      <td>GGGAGTAC</td>\n",
       "    </tr>\n",
       "    <tr>\n",
       "      <th>66</th>\n",
       "      <td>peak.9490</td>\n",
       "      <td>CRX_Corbo</td>\n",
       "      <td>54</td>\n",
       "      <td>61</td>\n",
       "      <td>+</td>\n",
       "      <td>6.376</td>\n",
       "      <td>GTAATACT</td>\n",
       "      <td>GTACTACT</td>\n",
       "    </tr>\n",
       "    <tr>\n",
       "      <th>67</th>\n",
       "      <td>peak.9604</td>\n",
       "      <td>CRX_Corbo</td>\n",
       "      <td>63</td>\n",
       "      <td>70</td>\n",
       "      <td>+</td>\n",
       "      <td>8.744</td>\n",
       "      <td>GTAATCCA</td>\n",
       "      <td>GTACTCCA</td>\n",
       "    </tr>\n",
       "    <tr>\n",
       "      <th>68</th>\n",
       "      <td>peak.9801</td>\n",
       "      <td>CRX_Corbo</td>\n",
       "      <td>92</td>\n",
       "      <td>99</td>\n",
       "      <td>-</td>\n",
       "      <td>6.376</td>\n",
       "      <td>GTAATACT</td>\n",
       "      <td>AGTAGTAC</td>\n",
       "    </tr>\n",
       "  </tbody>\n",
       "</table>\n",
       "<p>69 rows × 8 columns</p>\n",
       "</div>"
      ],
      "text/plain": [
       "      peak.id      motif  start  end strand  score match_seq mutated_seq\n",
       "0     peak.41  CRX_Corbo     75   82      +  6.752  ATAATACT    ATACTACT\n",
       "1    peak.122  CRX_Corbo     52   59      +  6.288  GTAATTCT    GTACTTCT\n",
       "2    peak.580  CRX_Corbo     79   86      -  9.136  GTAATCCT    AGGAGTAC\n",
       "3    peak.615  CRX_Corbo     95  102      -  9.136  GTAATCCT    AGGAGTAC\n",
       "4    peak.622  CRX_Corbo     91   98      +  8.744  GTAATCCA    GTACTCCA\n",
       "..        ...        ...    ...  ...    ...    ...       ...         ...\n",
       "64  peak.9178  CRX_Corbo    112  119      -  6.376  GTAATACT    AGTAGTAC\n",
       "65  peak.9472  CRX_Corbo     90   97      -  9.568  GTAATCCC    GGGAGTAC\n",
       "66  peak.9490  CRX_Corbo     54   61      +  6.376  GTAATACT    GTACTACT\n",
       "67  peak.9604  CRX_Corbo     63   70      +  8.744  GTAATCCA    GTACTCCA\n",
       "68  peak.9801  CRX_Corbo     92   99      -  6.376  GTAATACT    AGTAGTAC\n",
       "\n",
       "[69 rows x 8 columns]"
      ]
     },
     "execution_count": 237,
     "metadata": {},
     "output_type": "execute_result"
    }
   ],
   "source": [
    "monoMutated_fimo_score3"
   ]
  },
  {
   "cell_type": "code",
   "execution_count": 238,
   "metadata": {},
   "outputs": [
    {
     "data": {
      "text/html": [
       "<div>\n",
       "<style scoped>\n",
       "    .dataframe tbody tr th:only-of-type {\n",
       "        vertical-align: middle;\n",
       "    }\n",
       "\n",
       "    .dataframe tbody tr th {\n",
       "        vertical-align: top;\n",
       "    }\n",
       "\n",
       "    .dataframe thead th {\n",
       "        text-align: right;\n",
       "    }\n",
       "</style>\n",
       "<table border=\"1\" class=\"dataframe\">\n",
       "  <thead>\n",
       "    <tr style=\"text-align: right;\">\n",
       "      <th></th>\n",
       "      <th>peak.id</th>\n",
       "      <th>motif</th>\n",
       "      <th>start</th>\n",
       "      <th>end</th>\n",
       "      <th>strand</th>\n",
       "      <th>score</th>\n",
       "      <th>match_seq</th>\n",
       "      <th>mutated_seq</th>\n",
       "    </tr>\n",
       "  </thead>\n",
       "  <tbody>\n",
       "    <tr>\n",
       "      <th>0</th>\n",
       "      <td>peak.1282</td>\n",
       "      <td>k88n_olap.DREME.1</td>\n",
       "      <td>37</td>\n",
       "      <td>43</td>\n",
       "      <td>+</td>\n",
       "      <td>2.16</td>\n",
       "      <td>TTATTTA</td>\n",
       "      <td>TTATGTA</td>\n",
       "    </tr>\n",
       "    <tr>\n",
       "      <th>1</th>\n",
       "      <td>peak.1446</td>\n",
       "      <td>k88n_olap.DREME.1</td>\n",
       "      <td>72</td>\n",
       "      <td>78</td>\n",
       "      <td>+</td>\n",
       "      <td>2.16</td>\n",
       "      <td>TCAATTA</td>\n",
       "      <td>TCAAGTA</td>\n",
       "    </tr>\n",
       "    <tr>\n",
       "      <th>2</th>\n",
       "      <td>peak.2730</td>\n",
       "      <td>k88n_olap.DREME.1</td>\n",
       "      <td>40</td>\n",
       "      <td>46</td>\n",
       "      <td>-</td>\n",
       "      <td>2.16</td>\n",
       "      <td>TAAATTA</td>\n",
       "      <td>TACTTTA</td>\n",
       "    </tr>\n",
       "    <tr>\n",
       "      <th>3</th>\n",
       "      <td>peak.2730</td>\n",
       "      <td>k88n_olap.DREME.1</td>\n",
       "      <td>60</td>\n",
       "      <td>66</td>\n",
       "      <td>+</td>\n",
       "      <td>2.16</td>\n",
       "      <td>TTATTTA</td>\n",
       "      <td>TTATGTA</td>\n",
       "    </tr>\n",
       "    <tr>\n",
       "      <th>4</th>\n",
       "      <td>peak.2811</td>\n",
       "      <td>k88n_olap.DREME.1</td>\n",
       "      <td>33</td>\n",
       "      <td>39</td>\n",
       "      <td>+</td>\n",
       "      <td>2.16</td>\n",
       "      <td>TTACTTA</td>\n",
       "      <td>TTACGTA</td>\n",
       "    </tr>\n",
       "    <tr>\n",
       "      <th>5</th>\n",
       "      <td>peak.5050</td>\n",
       "      <td>k88n_olap.DREME.1</td>\n",
       "      <td>4</td>\n",
       "      <td>10</td>\n",
       "      <td>+</td>\n",
       "      <td>2.16</td>\n",
       "      <td>TTATTTA</td>\n",
       "      <td>TTATGTA</td>\n",
       "    </tr>\n",
       "    <tr>\n",
       "      <th>6</th>\n",
       "      <td>peak.5050</td>\n",
       "      <td>k88n_olap.DREME.1</td>\n",
       "      <td>8</td>\n",
       "      <td>14</td>\n",
       "      <td>+</td>\n",
       "      <td>2.16</td>\n",
       "      <td>TTATTTA</td>\n",
       "      <td>TTATGTA</td>\n",
       "    </tr>\n",
       "    <tr>\n",
       "      <th>7</th>\n",
       "      <td>peak.5050</td>\n",
       "      <td>k88n_olap.DREME.1</td>\n",
       "      <td>12</td>\n",
       "      <td>18</td>\n",
       "      <td>+</td>\n",
       "      <td>2.16</td>\n",
       "      <td>TTATTTA</td>\n",
       "      <td>TTATGTA</td>\n",
       "    </tr>\n",
       "    <tr>\n",
       "      <th>8</th>\n",
       "      <td>peak.5050</td>\n",
       "      <td>k88n_olap.DREME.1</td>\n",
       "      <td>16</td>\n",
       "      <td>22</td>\n",
       "      <td>+</td>\n",
       "      <td>2.16</td>\n",
       "      <td>TTATTTA</td>\n",
       "      <td>TTATGTA</td>\n",
       "    </tr>\n",
       "    <tr>\n",
       "      <th>9</th>\n",
       "      <td>peak.5050</td>\n",
       "      <td>k88n_olap.DREME.1</td>\n",
       "      <td>20</td>\n",
       "      <td>26</td>\n",
       "      <td>+</td>\n",
       "      <td>2.16</td>\n",
       "      <td>TTATTTA</td>\n",
       "      <td>TTATGTA</td>\n",
       "    </tr>\n",
       "    <tr>\n",
       "      <th>10</th>\n",
       "      <td>peak.5050</td>\n",
       "      <td>k88n_olap.DREME.1</td>\n",
       "      <td>24</td>\n",
       "      <td>30</td>\n",
       "      <td>+</td>\n",
       "      <td>2.16</td>\n",
       "      <td>TTATTTA</td>\n",
       "      <td>TTATGTA</td>\n",
       "    </tr>\n",
       "    <tr>\n",
       "      <th>11</th>\n",
       "      <td>peak.5050</td>\n",
       "      <td>k88n_olap.DREME.1</td>\n",
       "      <td>28</td>\n",
       "      <td>34</td>\n",
       "      <td>+</td>\n",
       "      <td>2.16</td>\n",
       "      <td>TTATTTA</td>\n",
       "      <td>TTATGTA</td>\n",
       "    </tr>\n",
       "    <tr>\n",
       "      <th>12</th>\n",
       "      <td>peak.5176</td>\n",
       "      <td>k88n_olap.DREME.1</td>\n",
       "      <td>28</td>\n",
       "      <td>34</td>\n",
       "      <td>+</td>\n",
       "      <td>2.16</td>\n",
       "      <td>TGAATTA</td>\n",
       "      <td>TGAAGTA</td>\n",
       "    </tr>\n",
       "    <tr>\n",
       "      <th>13</th>\n",
       "      <td>peak.5176</td>\n",
       "      <td>k88n_olap.DREME.1</td>\n",
       "      <td>32</td>\n",
       "      <td>38</td>\n",
       "      <td>+</td>\n",
       "      <td>2.16</td>\n",
       "      <td>TTATTTA</td>\n",
       "      <td>TTATGTA</td>\n",
       "    </tr>\n",
       "    <tr>\n",
       "      <th>14</th>\n",
       "      <td>peak.5507</td>\n",
       "      <td>k88n_olap.DREME.1</td>\n",
       "      <td>71</td>\n",
       "      <td>77</td>\n",
       "      <td>+</td>\n",
       "      <td>2.16</td>\n",
       "      <td>TTATTTA</td>\n",
       "      <td>TTATGTA</td>\n",
       "    </tr>\n",
       "    <tr>\n",
       "      <th>15</th>\n",
       "      <td>peak.5507</td>\n",
       "      <td>k88n_olap.DREME.1</td>\n",
       "      <td>75</td>\n",
       "      <td>81</td>\n",
       "      <td>+</td>\n",
       "      <td>2.16</td>\n",
       "      <td>TTATTTA</td>\n",
       "      <td>TTATGTA</td>\n",
       "    </tr>\n",
       "    <tr>\n",
       "      <th>16</th>\n",
       "      <td>peak.5507</td>\n",
       "      <td>k88n_olap.DREME.1</td>\n",
       "      <td>79</td>\n",
       "      <td>85</td>\n",
       "      <td>+</td>\n",
       "      <td>2.16</td>\n",
       "      <td>TTATTTA</td>\n",
       "      <td>TTATGTA</td>\n",
       "    </tr>\n",
       "    <tr>\n",
       "      <th>17</th>\n",
       "      <td>peak.5507</td>\n",
       "      <td>k88n_olap.DREME.1</td>\n",
       "      <td>83</td>\n",
       "      <td>89</td>\n",
       "      <td>+</td>\n",
       "      <td>2.16</td>\n",
       "      <td>TTATTTA</td>\n",
       "      <td>TTATGTA</td>\n",
       "    </tr>\n",
       "    <tr>\n",
       "      <th>18</th>\n",
       "      <td>peak.5507</td>\n",
       "      <td>k88n_olap.DREME.1</td>\n",
       "      <td>87</td>\n",
       "      <td>93</td>\n",
       "      <td>+</td>\n",
       "      <td>2.16</td>\n",
       "      <td>TTATTTA</td>\n",
       "      <td>TTATGTA</td>\n",
       "    </tr>\n",
       "    <tr>\n",
       "      <th>19</th>\n",
       "      <td>peak.5507</td>\n",
       "      <td>k88n_olap.DREME.1</td>\n",
       "      <td>91</td>\n",
       "      <td>97</td>\n",
       "      <td>+</td>\n",
       "      <td>2.16</td>\n",
       "      <td>TTATTTA</td>\n",
       "      <td>TTATGTA</td>\n",
       "    </tr>\n",
       "    <tr>\n",
       "      <th>20</th>\n",
       "      <td>peak.6383</td>\n",
       "      <td>k88n_olap.DREME.1</td>\n",
       "      <td>69</td>\n",
       "      <td>75</td>\n",
       "      <td>+</td>\n",
       "      <td>2.16</td>\n",
       "      <td>TTATTTA</td>\n",
       "      <td>TTATGTA</td>\n",
       "    </tr>\n",
       "    <tr>\n",
       "      <th>21</th>\n",
       "      <td>peak.7277</td>\n",
       "      <td>k88n_olap.DREME.1</td>\n",
       "      <td>33</td>\n",
       "      <td>39</td>\n",
       "      <td>+</td>\n",
       "      <td>2.16</td>\n",
       "      <td>TTATTTA</td>\n",
       "      <td>TTATGTA</td>\n",
       "    </tr>\n",
       "    <tr>\n",
       "      <th>22</th>\n",
       "      <td>peak.7354</td>\n",
       "      <td>k88n_olap.DREME.1</td>\n",
       "      <td>13</td>\n",
       "      <td>19</td>\n",
       "      <td>+</td>\n",
       "      <td>2.16</td>\n",
       "      <td>TTATTTA</td>\n",
       "      <td>TTATGTA</td>\n",
       "    </tr>\n",
       "    <tr>\n",
       "      <th>23</th>\n",
       "      <td>peak.7776</td>\n",
       "      <td>k88n_olap.DREME.1</td>\n",
       "      <td>108</td>\n",
       "      <td>114</td>\n",
       "      <td>+</td>\n",
       "      <td>2.16</td>\n",
       "      <td>TTAGTTA</td>\n",
       "      <td>TTAGGTA</td>\n",
       "    </tr>\n",
       "    <tr>\n",
       "      <th>24</th>\n",
       "      <td>peak.8097</td>\n",
       "      <td>k88n_olap.DREME.1</td>\n",
       "      <td>67</td>\n",
       "      <td>73</td>\n",
       "      <td>+</td>\n",
       "      <td>2.16</td>\n",
       "      <td>TTATTTA</td>\n",
       "      <td>TTATGTA</td>\n",
       "    </tr>\n",
       "    <tr>\n",
       "      <th>25</th>\n",
       "      <td>peak.8163</td>\n",
       "      <td>k88n_olap.DREME.1</td>\n",
       "      <td>108</td>\n",
       "      <td>114</td>\n",
       "      <td>+</td>\n",
       "      <td>2.16</td>\n",
       "      <td>TGAATTA</td>\n",
       "      <td>TGAAGTA</td>\n",
       "    </tr>\n",
       "    <tr>\n",
       "      <th>26</th>\n",
       "      <td>peak.8404</td>\n",
       "      <td>k88n_olap.DREME.1</td>\n",
       "      <td>18</td>\n",
       "      <td>24</td>\n",
       "      <td>+</td>\n",
       "      <td>2.16</td>\n",
       "      <td>TTATTTA</td>\n",
       "      <td>TTATGTA</td>\n",
       "    </tr>\n",
       "    <tr>\n",
       "      <th>27</th>\n",
       "      <td>peak.8541</td>\n",
       "      <td>k88n_olap.DREME.1</td>\n",
       "      <td>74</td>\n",
       "      <td>80</td>\n",
       "      <td>+</td>\n",
       "      <td>2.16</td>\n",
       "      <td>TTACTTA</td>\n",
       "      <td>TTACGTA</td>\n",
       "    </tr>\n",
       "    <tr>\n",
       "      <th>28</th>\n",
       "      <td>peak.9180</td>\n",
       "      <td>k88n_olap.DREME.1</td>\n",
       "      <td>79</td>\n",
       "      <td>85</td>\n",
       "      <td>+</td>\n",
       "      <td>2.16</td>\n",
       "      <td>TTAGTTA</td>\n",
       "      <td>TTAGGTA</td>\n",
       "    </tr>\n",
       "    <tr>\n",
       "      <th>29</th>\n",
       "      <td>peak.9348</td>\n",
       "      <td>k88n_olap.DREME.1</td>\n",
       "      <td>124</td>\n",
       "      <td>130</td>\n",
       "      <td>+</td>\n",
       "      <td>2.16</td>\n",
       "      <td>TTATTTA</td>\n",
       "      <td>TTATGTA</td>\n",
       "    </tr>\n",
       "    <tr>\n",
       "      <th>30</th>\n",
       "      <td>peak.9709</td>\n",
       "      <td>k88n_olap.DREME.1</td>\n",
       "      <td>6</td>\n",
       "      <td>12</td>\n",
       "      <td>+</td>\n",
       "      <td>2.16</td>\n",
       "      <td>TTACTTA</td>\n",
       "      <td>TTACGTA</td>\n",
       "    </tr>\n",
       "  </tbody>\n",
       "</table>\n",
       "</div>"
      ],
      "text/plain": [
       "      peak.id              motif  start  end strand  score match_seq  \\\n",
       "0   peak.1282  k88n_olap.DREME.1     37   43      +   2.16   TTATTTA   \n",
       "1   peak.1446  k88n_olap.DREME.1     72   78      +   2.16   TCAATTA   \n",
       "2   peak.2730  k88n_olap.DREME.1     40   46      -   2.16   TAAATTA   \n",
       "3   peak.2730  k88n_olap.DREME.1     60   66      +   2.16   TTATTTA   \n",
       "4   peak.2811  k88n_olap.DREME.1     33   39      +   2.16   TTACTTA   \n",
       "5   peak.5050  k88n_olap.DREME.1      4   10      +   2.16   TTATTTA   \n",
       "6   peak.5050  k88n_olap.DREME.1      8   14      +   2.16   TTATTTA   \n",
       "7   peak.5050  k88n_olap.DREME.1     12   18      +   2.16   TTATTTA   \n",
       "8   peak.5050  k88n_olap.DREME.1     16   22      +   2.16   TTATTTA   \n",
       "9   peak.5050  k88n_olap.DREME.1     20   26      +   2.16   TTATTTA   \n",
       "10  peak.5050  k88n_olap.DREME.1     24   30      +   2.16   TTATTTA   \n",
       "11  peak.5050  k88n_olap.DREME.1     28   34      +   2.16   TTATTTA   \n",
       "12  peak.5176  k88n_olap.DREME.1     28   34      +   2.16   TGAATTA   \n",
       "13  peak.5176  k88n_olap.DREME.1     32   38      +   2.16   TTATTTA   \n",
       "14  peak.5507  k88n_olap.DREME.1     71   77      +   2.16   TTATTTA   \n",
       "15  peak.5507  k88n_olap.DREME.1     75   81      +   2.16   TTATTTA   \n",
       "16  peak.5507  k88n_olap.DREME.1     79   85      +   2.16   TTATTTA   \n",
       "17  peak.5507  k88n_olap.DREME.1     83   89      +   2.16   TTATTTA   \n",
       "18  peak.5507  k88n_olap.DREME.1     87   93      +   2.16   TTATTTA   \n",
       "19  peak.5507  k88n_olap.DREME.1     91   97      +   2.16   TTATTTA   \n",
       "20  peak.6383  k88n_olap.DREME.1     69   75      +   2.16   TTATTTA   \n",
       "21  peak.7277  k88n_olap.DREME.1     33   39      +   2.16   TTATTTA   \n",
       "22  peak.7354  k88n_olap.DREME.1     13   19      +   2.16   TTATTTA   \n",
       "23  peak.7776  k88n_olap.DREME.1    108  114      +   2.16   TTAGTTA   \n",
       "24  peak.8097  k88n_olap.DREME.1     67   73      +   2.16   TTATTTA   \n",
       "25  peak.8163  k88n_olap.DREME.1    108  114      +   2.16   TGAATTA   \n",
       "26  peak.8404  k88n_olap.DREME.1     18   24      +   2.16   TTATTTA   \n",
       "27  peak.8541  k88n_olap.DREME.1     74   80      +   2.16   TTACTTA   \n",
       "28  peak.9180  k88n_olap.DREME.1     79   85      +   2.16   TTAGTTA   \n",
       "29  peak.9348  k88n_olap.DREME.1    124  130      +   2.16   TTATTTA   \n",
       "30  peak.9709  k88n_olap.DREME.1      6   12      +   2.16   TTACTTA   \n",
       "\n",
       "   mutated_seq  \n",
       "0      TTATGTA  \n",
       "1      TCAAGTA  \n",
       "2      TACTTTA  \n",
       "3      TTATGTA  \n",
       "4      TTACGTA  \n",
       "5      TTATGTA  \n",
       "6      TTATGTA  \n",
       "7      TTATGTA  \n",
       "8      TTATGTA  \n",
       "9      TTATGTA  \n",
       "10     TTATGTA  \n",
       "11     TTATGTA  \n",
       "12     TGAAGTA  \n",
       "13     TTATGTA  \n",
       "14     TTATGTA  \n",
       "15     TTATGTA  \n",
       "16     TTATGTA  \n",
       "17     TTATGTA  \n",
       "18     TTATGTA  \n",
       "19     TTATGTA  \n",
       "20     TTATGTA  \n",
       "21     TTATGTA  \n",
       "22     TTATGTA  \n",
       "23     TTAGGTA  \n",
       "24     TTATGTA  \n",
       "25     TGAAGTA  \n",
       "26     TTATGTA  \n",
       "27     TTACGTA  \n",
       "28     TTAGGTA  \n",
       "29     TTATGTA  \n",
       "30     TTACGTA  "
      ]
     },
     "execution_count": 238,
     "metadata": {},
     "output_type": "execute_result"
    }
   ],
   "source": [
    "n50Mutated_fimo_score3"
   ]
  },
  {
   "cell_type": "code",
   "execution_count": 239,
   "metadata": {},
   "outputs": [],
   "source": [
    "sequence_annotator.write_fasta(monoMutated_fasta3, os.path.join(base_dir, \"sequences\", f\"mutatedCREs_fimo{fimo_th}\", f\"allCRE.{mono_motif}.mutated.fa\"))"
   ]
  },
  {
   "cell_type": "code",
   "execution_count": 240,
   "metadata": {},
   "outputs": [],
   "source": [
    "# copy the newly generated fasta to fimo folder\n",
    "old_dir = os.path.join(base_dir, \"sequences\", f\"mutatedCREs_fimo{fimo_th}\", f\"allCRE.{mono_motif}.mutated.fa\")\n",
    "new_dir = os.path.join(base_dir, f\"fimo_{fimo_th}\", os.path.split(fimo_sample_list.iloc[10,1])[0].split(\"/\")[-1])\n",
    "!mkdir -p \"{new_dir}\"\n",
    "!cp \"{old_dir}\" \"{new_dir}\""
   ]
  },
  {
   "cell_type": "code",
   "execution_count": 241,
   "metadata": {},
   "outputs": [
    {
     "name": "stdout",
     "output_type": "stream",
     "text": [
      "working directory: /mnt/v/yqzheng/qiaoer/VSCode_yiqiao/SPEC-SEQ/scripts\n",
      "query fasta: /mnt/v/yqzheng/qiaoer/PhD Thesis/Experiment/MPRA/hdmuts_library/fimo_0.0025/monoMutCRE_fimo2/allCRE.CRX_Corbo.mutated.fa\n",
      "\u001b[K9829 134 134 134.0 1317086\n",
      "Scanning with threshold 0.0025\n",
      "FIMO output will be written to /mnt/v/yqzheng/qiaoer/PhD Thesis/Experiment/MPRA/hdmuts_library/fimo_0.0025/monoMutCRE_fimo3\n",
      "ha! this is the end of the script!\n"
     ]
    }
   ],
   "source": [
    "!bash ./scripts/meme_fimo_scanning.sh \"{scriptdir}\" \"{base_dir}\" \"{meme_dir}\" \"{fimo_th}\" \"{fimo_meta}\" 11"
   ]
  },
  {
   "cell_type": "code",
   "execution_count": 242,
   "metadata": {},
   "outputs": [
    {
     "name": "stdout",
     "output_type": "stream",
     "text": [
      "reading /mnt/v/yqzheng/qiaoer/PhD Thesis/Experiment/MPRA/hdmuts_library/fimo_0.0025/monoMutCRE_fimo3/fimo.tsv\n"
     ]
    }
   ],
   "source": [
    "# retrieve raw fimo results\n",
    "f = os.path.join(base_dir, f\"fimo_{fimo_th}\", fimo_sample_list.iloc[10,-1], \"fimo.tsv\")\n",
    "name = os.path.split(f)[0].split(\"/\")[-1]\n",
    "print('reading ' + f)\n",
    "# read the raw fimo output\n",
    "raw_fimo_score6 = pd.read_csv(f, sep=\"\\t\", header=0)[:-3] # drop the last three row"
   ]
  },
  {
   "cell_type": "code",
   "execution_count": 243,
   "metadata": {},
   "outputs": [
    {
     "data": {
      "text/plain": [
       "motif_count    3.0\n",
       "dtype: float64"
      ]
     },
     "execution_count": 243,
     "metadata": {},
     "output_type": "execute_result"
    }
   ],
   "source": [
    "mpra_CRE_utils.count_motif_occur(monoMutated_fasta3, raw_fimo_score6, mono_motif, coremotif_dict=corbo_mono_core).sum()"
   ]
  },
  {
   "cell_type": "code",
   "execution_count": 244,
   "metadata": {},
   "outputs": [
    {
     "data": {
      "text/plain": [
       "motif_count    12.0\n",
       "dtype: float64"
      ]
     },
     "execution_count": 244,
     "metadata": {},
     "output_type": "execute_result"
    }
   ],
   "source": [
    "mpra_CRE_utils.count_motif_occur(monoMutated_fasta3, raw_fimo_score6, n50_motif, coremotif_dict=n50_mono_core).sum()"
   ]
  },
  {
   "cell_type": "code",
   "execution_count": 245,
   "metadata": {},
   "outputs": [],
   "source": [
    "monoMutated_fimo_score4, monoMutated_fasta4 = mpra_CRE_utils.find_and_mutate_motif(monoMutated_fasta3, raw_fimo_score6, mono_motif, corbo_mutant_core, corbo_mono_core)\n",
    "n50Mutated_fimo_score4, monoMutated_fasta4 = mpra_CRE_utils.find_and_mutate_motif(monoMutated_fasta4, raw_fimo_score6, n50_motif, n50_mutant_core, n50_mono_core)"
   ]
  },
  {
   "cell_type": "code",
   "execution_count": 246,
   "metadata": {},
   "outputs": [
    {
     "data": {
      "text/html": [
       "<div>\n",
       "<style scoped>\n",
       "    .dataframe tbody tr th:only-of-type {\n",
       "        vertical-align: middle;\n",
       "    }\n",
       "\n",
       "    .dataframe tbody tr th {\n",
       "        vertical-align: top;\n",
       "    }\n",
       "\n",
       "    .dataframe thead th {\n",
       "        text-align: right;\n",
       "    }\n",
       "</style>\n",
       "<table border=\"1\" class=\"dataframe\">\n",
       "  <thead>\n",
       "    <tr style=\"text-align: right;\">\n",
       "      <th></th>\n",
       "      <th>peak.id</th>\n",
       "      <th>motif</th>\n",
       "      <th>start</th>\n",
       "      <th>end</th>\n",
       "      <th>strand</th>\n",
       "      <th>score</th>\n",
       "      <th>match_seq</th>\n",
       "      <th>mutated_seq</th>\n",
       "    </tr>\n",
       "  </thead>\n",
       "  <tbody>\n",
       "    <tr>\n",
       "      <th>0</th>\n",
       "      <td>peak.2811</td>\n",
       "      <td>CRX_Corbo</td>\n",
       "      <td>29</td>\n",
       "      <td>36</td>\n",
       "      <td>-</td>\n",
       "      <td>6.528</td>\n",
       "      <td>GTAAGCCA</td>\n",
       "      <td>TGGCGTAC</td>\n",
       "    </tr>\n",
       "    <tr>\n",
       "      <th>1</th>\n",
       "      <td>peak.5176</td>\n",
       "      <td>CRX_Corbo</td>\n",
       "      <td>28</td>\n",
       "      <td>35</td>\n",
       "      <td>-</td>\n",
       "      <td>6.272</td>\n",
       "      <td>ATAATTCA</td>\n",
       "      <td>TGAAGTAT</td>\n",
       "    </tr>\n",
       "    <tr>\n",
       "      <th>2</th>\n",
       "      <td>peak.8097</td>\n",
       "      <td>CRX_Corbo</td>\n",
       "      <td>63</td>\n",
       "      <td>70</td>\n",
       "      <td>-</td>\n",
       "      <td>6.240</td>\n",
       "      <td>ATAAGCTT</td>\n",
       "      <td>AAGCGTAT</td>\n",
       "    </tr>\n",
       "  </tbody>\n",
       "</table>\n",
       "</div>"
      ],
      "text/plain": [
       "     peak.id      motif  start  end strand  score match_seq mutated_seq\n",
       "0  peak.2811  CRX_Corbo     29   36      -  6.528  GTAAGCCA    TGGCGTAC\n",
       "1  peak.5176  CRX_Corbo     28   35      -  6.272  ATAATTCA    TGAAGTAT\n",
       "2  peak.8097  CRX_Corbo     63   70      -  6.240  ATAAGCTT    AAGCGTAT"
      ]
     },
     "execution_count": 246,
     "metadata": {},
     "output_type": "execute_result"
    }
   ],
   "source": [
    "monoMutated_fimo_score4"
   ]
  },
  {
   "cell_type": "code",
   "execution_count": 247,
   "metadata": {},
   "outputs": [
    {
     "data": {
      "text/html": [
       "<div>\n",
       "<style scoped>\n",
       "    .dataframe tbody tr th:only-of-type {\n",
       "        vertical-align: middle;\n",
       "    }\n",
       "\n",
       "    .dataframe tbody tr th {\n",
       "        vertical-align: top;\n",
       "    }\n",
       "\n",
       "    .dataframe thead th {\n",
       "        text-align: right;\n",
       "    }\n",
       "</style>\n",
       "<table border=\"1\" class=\"dataframe\">\n",
       "  <thead>\n",
       "    <tr style=\"text-align: right;\">\n",
       "      <th></th>\n",
       "      <th>peak.id</th>\n",
       "      <th>motif</th>\n",
       "      <th>start</th>\n",
       "      <th>end</th>\n",
       "      <th>strand</th>\n",
       "      <th>score</th>\n",
       "      <th>match_seq</th>\n",
       "      <th>mutated_seq</th>\n",
       "    </tr>\n",
       "  </thead>\n",
       "  <tbody>\n",
       "    <tr>\n",
       "      <th>0</th>\n",
       "      <td>peak.5050</td>\n",
       "      <td>k88n_olap.DREME.1</td>\n",
       "      <td>4</td>\n",
       "      <td>10</td>\n",
       "      <td>+</td>\n",
       "      <td>2.16</td>\n",
       "      <td>TTATTTA</td>\n",
       "      <td>TTATGTA</td>\n",
       "    </tr>\n",
       "    <tr>\n",
       "      <th>1</th>\n",
       "      <td>peak.5050</td>\n",
       "      <td>k88n_olap.DREME.1</td>\n",
       "      <td>8</td>\n",
       "      <td>14</td>\n",
       "      <td>+</td>\n",
       "      <td>2.16</td>\n",
       "      <td>TTATTTA</td>\n",
       "      <td>TTATGTA</td>\n",
       "    </tr>\n",
       "    <tr>\n",
       "      <th>2</th>\n",
       "      <td>peak.5050</td>\n",
       "      <td>k88n_olap.DREME.1</td>\n",
       "      <td>12</td>\n",
       "      <td>18</td>\n",
       "      <td>+</td>\n",
       "      <td>2.16</td>\n",
       "      <td>TTATTTA</td>\n",
       "      <td>TTATGTA</td>\n",
       "    </tr>\n",
       "    <tr>\n",
       "      <th>3</th>\n",
       "      <td>peak.5050</td>\n",
       "      <td>k88n_olap.DREME.1</td>\n",
       "      <td>16</td>\n",
       "      <td>22</td>\n",
       "      <td>+</td>\n",
       "      <td>2.16</td>\n",
       "      <td>TTATTTA</td>\n",
       "      <td>TTATGTA</td>\n",
       "    </tr>\n",
       "    <tr>\n",
       "      <th>4</th>\n",
       "      <td>peak.5050</td>\n",
       "      <td>k88n_olap.DREME.1</td>\n",
       "      <td>20</td>\n",
       "      <td>26</td>\n",
       "      <td>+</td>\n",
       "      <td>2.16</td>\n",
       "      <td>TTATTTA</td>\n",
       "      <td>TTATGTA</td>\n",
       "    </tr>\n",
       "    <tr>\n",
       "      <th>5</th>\n",
       "      <td>peak.5050</td>\n",
       "      <td>k88n_olap.DREME.1</td>\n",
       "      <td>24</td>\n",
       "      <td>30</td>\n",
       "      <td>+</td>\n",
       "      <td>2.16</td>\n",
       "      <td>TTATTTA</td>\n",
       "      <td>TTATGTA</td>\n",
       "    </tr>\n",
       "    <tr>\n",
       "      <th>6</th>\n",
       "      <td>peak.5176</td>\n",
       "      <td>k88n_olap.DREME.1</td>\n",
       "      <td>28</td>\n",
       "      <td>34</td>\n",
       "      <td>+</td>\n",
       "      <td>2.16</td>\n",
       "      <td>TGAATTA</td>\n",
       "      <td>TGAAGTA</td>\n",
       "    </tr>\n",
       "    <tr>\n",
       "      <th>7</th>\n",
       "      <td>peak.5507</td>\n",
       "      <td>k88n_olap.DREME.1</td>\n",
       "      <td>71</td>\n",
       "      <td>77</td>\n",
       "      <td>+</td>\n",
       "      <td>2.16</td>\n",
       "      <td>TTATTTA</td>\n",
       "      <td>TTATGTA</td>\n",
       "    </tr>\n",
       "    <tr>\n",
       "      <th>8</th>\n",
       "      <td>peak.5507</td>\n",
       "      <td>k88n_olap.DREME.1</td>\n",
       "      <td>75</td>\n",
       "      <td>81</td>\n",
       "      <td>+</td>\n",
       "      <td>2.16</td>\n",
       "      <td>TTATTTA</td>\n",
       "      <td>TTATGTA</td>\n",
       "    </tr>\n",
       "    <tr>\n",
       "      <th>9</th>\n",
       "      <td>peak.5507</td>\n",
       "      <td>k88n_olap.DREME.1</td>\n",
       "      <td>79</td>\n",
       "      <td>85</td>\n",
       "      <td>+</td>\n",
       "      <td>2.16</td>\n",
       "      <td>TTATTTA</td>\n",
       "      <td>TTATGTA</td>\n",
       "    </tr>\n",
       "    <tr>\n",
       "      <th>10</th>\n",
       "      <td>peak.5507</td>\n",
       "      <td>k88n_olap.DREME.1</td>\n",
       "      <td>83</td>\n",
       "      <td>89</td>\n",
       "      <td>+</td>\n",
       "      <td>2.16</td>\n",
       "      <td>TTATTTA</td>\n",
       "      <td>TTATGTA</td>\n",
       "    </tr>\n",
       "    <tr>\n",
       "      <th>11</th>\n",
       "      <td>peak.5507</td>\n",
       "      <td>k88n_olap.DREME.1</td>\n",
       "      <td>87</td>\n",
       "      <td>93</td>\n",
       "      <td>+</td>\n",
       "      <td>2.16</td>\n",
       "      <td>TTATTTA</td>\n",
       "      <td>TTATGTA</td>\n",
       "    </tr>\n",
       "  </tbody>\n",
       "</table>\n",
       "</div>"
      ],
      "text/plain": [
       "      peak.id              motif  start  end strand  score match_seq  \\\n",
       "0   peak.5050  k88n_olap.DREME.1      4   10      +   2.16   TTATTTA   \n",
       "1   peak.5050  k88n_olap.DREME.1      8   14      +   2.16   TTATTTA   \n",
       "2   peak.5050  k88n_olap.DREME.1     12   18      +   2.16   TTATTTA   \n",
       "3   peak.5050  k88n_olap.DREME.1     16   22      +   2.16   TTATTTA   \n",
       "4   peak.5050  k88n_olap.DREME.1     20   26      +   2.16   TTATTTA   \n",
       "5   peak.5050  k88n_olap.DREME.1     24   30      +   2.16   TTATTTA   \n",
       "6   peak.5176  k88n_olap.DREME.1     28   34      +   2.16   TGAATTA   \n",
       "7   peak.5507  k88n_olap.DREME.1     71   77      +   2.16   TTATTTA   \n",
       "8   peak.5507  k88n_olap.DREME.1     75   81      +   2.16   TTATTTA   \n",
       "9   peak.5507  k88n_olap.DREME.1     79   85      +   2.16   TTATTTA   \n",
       "10  peak.5507  k88n_olap.DREME.1     83   89      +   2.16   TTATTTA   \n",
       "11  peak.5507  k88n_olap.DREME.1     87   93      +   2.16   TTATTTA   \n",
       "\n",
       "   mutated_seq  \n",
       "0      TTATGTA  \n",
       "1      TTATGTA  \n",
       "2      TTATGTA  \n",
       "3      TTATGTA  \n",
       "4      TTATGTA  \n",
       "5      TTATGTA  \n",
       "6      TGAAGTA  \n",
       "7      TTATGTA  \n",
       "8      TTATGTA  \n",
       "9      TTATGTA  \n",
       "10     TTATGTA  \n",
       "11     TTATGTA  "
      ]
     },
     "execution_count": 247,
     "metadata": {},
     "output_type": "execute_result"
    }
   ],
   "source": [
    "n50Mutated_fimo_score4"
   ]
  },
  {
   "cell_type": "code",
   "execution_count": 248,
   "metadata": {},
   "outputs": [],
   "source": [
    "sequence_annotator.write_fasta(monoMutated_fasta4, os.path.join(base_dir, \"sequences\", f\"mutatedCREs_fimo{fimo_th}\", f\"allCRE.{mono_motif}.mutated.fa\"))"
   ]
  },
  {
   "cell_type": "code",
   "execution_count": 249,
   "metadata": {},
   "outputs": [],
   "source": [
    "# copy the newly generated fasta to fimo folder\n",
    "old_dir = os.path.join(base_dir, \"sequences\", f\"mutatedCREs_fimo{fimo_th}\", f\"allCRE.{mono_motif}.mutated.fa\")\n",
    "new_dir = os.path.join(base_dir, f\"fimo_{fimo_th}\", os.path.split(fimo_sample_list.iloc[11,1])[0].split(\"/\")[-1])\n",
    "!mkdir -p \"{new_dir}\"\n",
    "!cp \"{old_dir}\" \"{new_dir}\""
   ]
  },
  {
   "cell_type": "code",
   "execution_count": 250,
   "metadata": {},
   "outputs": [
    {
     "name": "stdout",
     "output_type": "stream",
     "text": [
      "working directory: /mnt/v/yqzheng/qiaoer/VSCode_yiqiao/SPEC-SEQ/scripts\n",
      "query fasta: /mnt/v/yqzheng/qiaoer/PhD Thesis/Experiment/MPRA/hdmuts_library/fimo_0.0025/monoMutCRE_fimo3/allCRE.CRX_Corbo.mutated.fa\n",
      "\u001b[Kcessed: 100.0%9829 134 134 134.0 1317086\n",
      "Scanning with threshold 0.0025\n",
      "FIMO output will be written to /mnt/v/yqzheng/qiaoer/PhD Thesis/Experiment/MPRA/hdmuts_library/fimo_0.0025/monoMutCRE_fimo4\n",
      "ha! this is the end of the script!\n"
     ]
    }
   ],
   "source": [
    "!bash ./scripts/meme_fimo_scanning.sh \"{scriptdir}\" \"{base_dir}\" \"{meme_dir}\" \"{fimo_th}\" \"{fimo_meta}\" 12"
   ]
  },
  {
   "cell_type": "code",
   "execution_count": 251,
   "metadata": {},
   "outputs": [
    {
     "name": "stdout",
     "output_type": "stream",
     "text": [
      "reading /mnt/v/yqzheng/qiaoer/PhD Thesis/Experiment/MPRA/hdmuts_library/fimo_0.0025/monoMutCRE_fimo4/fimo.tsv\n"
     ]
    }
   ],
   "source": [
    "# retrieve raw fimo results\n",
    "f = os.path.join(base_dir, f\"fimo_{fimo_th}\", fimo_sample_list.iloc[11,-1], \"fimo.tsv\")\n",
    "name = os.path.split(f)[0].split(\"/\")[-1]\n",
    "print('reading ' + f)\n",
    "# read the raw fimo output\n",
    "raw_fimo_score7 = pd.read_csv(f, sep=\"\\t\", header=0)[:-3] # drop the last three row"
   ]
  },
  {
   "cell_type": "code",
   "execution_count": 252,
   "metadata": {},
   "outputs": [
    {
     "data": {
      "text/plain": [
       "motif_count    0.0\n",
       "dtype: float64"
      ]
     },
     "execution_count": 252,
     "metadata": {},
     "output_type": "execute_result"
    }
   ],
   "source": [
    "mpra_CRE_utils.count_motif_occur(monoMutated_fasta4, raw_fimo_score7, mono_motif, coremotif_dict=corbo_mono_core).sum()"
   ]
  },
  {
   "cell_type": "code",
   "execution_count": 253,
   "metadata": {},
   "outputs": [
    {
     "data": {
      "text/plain": [
       "motif_count    9.0\n",
       "dtype: float64"
      ]
     },
     "execution_count": 253,
     "metadata": {},
     "output_type": "execute_result"
    }
   ],
   "source": [
    "mpra_CRE_utils.count_motif_occur(monoMutated_fasta4, raw_fimo_score7, n50_motif, coremotif_dict=n50_mono_core).sum()"
   ]
  },
  {
   "cell_type": "code",
   "execution_count": 254,
   "metadata": {},
   "outputs": [],
   "source": [
    "monoMutated_fimo_score5, monoMutated_fasta5 = mpra_CRE_utils.find_and_mutate_motif(monoMutated_fasta4, raw_fimo_score7, mono_motif, corbo_mutant_core, corbo_mono_core)\n",
    "n50Mutated_fimo_score5, monoMutated_fasta5 = mpra_CRE_utils.find_and_mutate_motif(monoMutated_fasta5, raw_fimo_score7, n50_motif, n50_mutant_core, n50_mono_core)"
   ]
  },
  {
   "cell_type": "code",
   "execution_count": 255,
   "metadata": {},
   "outputs": [
    {
     "data": {
      "text/html": [
       "<div>\n",
       "<style scoped>\n",
       "    .dataframe tbody tr th:only-of-type {\n",
       "        vertical-align: middle;\n",
       "    }\n",
       "\n",
       "    .dataframe tbody tr th {\n",
       "        vertical-align: top;\n",
       "    }\n",
       "\n",
       "    .dataframe thead th {\n",
       "        text-align: right;\n",
       "    }\n",
       "</style>\n",
       "<table border=\"1\" class=\"dataframe\">\n",
       "  <thead>\n",
       "    <tr style=\"text-align: right;\">\n",
       "      <th></th>\n",
       "      <th>peak.id</th>\n",
       "      <th>motif</th>\n",
       "      <th>start</th>\n",
       "      <th>end</th>\n",
       "      <th>strand</th>\n",
       "      <th>score</th>\n",
       "      <th>match_seq</th>\n",
       "      <th>mutated_seq</th>\n",
       "    </tr>\n",
       "  </thead>\n",
       "  <tbody>\n",
       "    <tr>\n",
       "      <th>0</th>\n",
       "      <td>peak.5050</td>\n",
       "      <td>k88n_olap.DREME.1</td>\n",
       "      <td>4</td>\n",
       "      <td>10</td>\n",
       "      <td>+</td>\n",
       "      <td>2.16</td>\n",
       "      <td>TTATTTA</td>\n",
       "      <td>TTATGTA</td>\n",
       "    </tr>\n",
       "    <tr>\n",
       "      <th>1</th>\n",
       "      <td>peak.5050</td>\n",
       "      <td>k88n_olap.DREME.1</td>\n",
       "      <td>8</td>\n",
       "      <td>14</td>\n",
       "      <td>+</td>\n",
       "      <td>2.16</td>\n",
       "      <td>TTATTTA</td>\n",
       "      <td>TTATGTA</td>\n",
       "    </tr>\n",
       "    <tr>\n",
       "      <th>2</th>\n",
       "      <td>peak.5050</td>\n",
       "      <td>k88n_olap.DREME.1</td>\n",
       "      <td>12</td>\n",
       "      <td>18</td>\n",
       "      <td>+</td>\n",
       "      <td>2.16</td>\n",
       "      <td>TTATTTA</td>\n",
       "      <td>TTATGTA</td>\n",
       "    </tr>\n",
       "    <tr>\n",
       "      <th>3</th>\n",
       "      <td>peak.5050</td>\n",
       "      <td>k88n_olap.DREME.1</td>\n",
       "      <td>16</td>\n",
       "      <td>22</td>\n",
       "      <td>+</td>\n",
       "      <td>2.16</td>\n",
       "      <td>TTATTTA</td>\n",
       "      <td>TTATGTA</td>\n",
       "    </tr>\n",
       "    <tr>\n",
       "      <th>4</th>\n",
       "      <td>peak.5050</td>\n",
       "      <td>k88n_olap.DREME.1</td>\n",
       "      <td>20</td>\n",
       "      <td>26</td>\n",
       "      <td>+</td>\n",
       "      <td>2.16</td>\n",
       "      <td>TTATTTA</td>\n",
       "      <td>TTATGTA</td>\n",
       "    </tr>\n",
       "    <tr>\n",
       "      <th>5</th>\n",
       "      <td>peak.5507</td>\n",
       "      <td>k88n_olap.DREME.1</td>\n",
       "      <td>71</td>\n",
       "      <td>77</td>\n",
       "      <td>+</td>\n",
       "      <td>2.16</td>\n",
       "      <td>TTATTTA</td>\n",
       "      <td>TTATGTA</td>\n",
       "    </tr>\n",
       "    <tr>\n",
       "      <th>6</th>\n",
       "      <td>peak.5507</td>\n",
       "      <td>k88n_olap.DREME.1</td>\n",
       "      <td>75</td>\n",
       "      <td>81</td>\n",
       "      <td>+</td>\n",
       "      <td>2.16</td>\n",
       "      <td>TTATTTA</td>\n",
       "      <td>TTATGTA</td>\n",
       "    </tr>\n",
       "    <tr>\n",
       "      <th>7</th>\n",
       "      <td>peak.5507</td>\n",
       "      <td>k88n_olap.DREME.1</td>\n",
       "      <td>79</td>\n",
       "      <td>85</td>\n",
       "      <td>+</td>\n",
       "      <td>2.16</td>\n",
       "      <td>TTATTTA</td>\n",
       "      <td>TTATGTA</td>\n",
       "    </tr>\n",
       "    <tr>\n",
       "      <th>8</th>\n",
       "      <td>peak.5507</td>\n",
       "      <td>k88n_olap.DREME.1</td>\n",
       "      <td>83</td>\n",
       "      <td>89</td>\n",
       "      <td>+</td>\n",
       "      <td>2.16</td>\n",
       "      <td>TTATTTA</td>\n",
       "      <td>TTATGTA</td>\n",
       "    </tr>\n",
       "  </tbody>\n",
       "</table>\n",
       "</div>"
      ],
      "text/plain": [
       "     peak.id              motif  start  end strand  score match_seq  \\\n",
       "0  peak.5050  k88n_olap.DREME.1      4   10      +   2.16   TTATTTA   \n",
       "1  peak.5050  k88n_olap.DREME.1      8   14      +   2.16   TTATTTA   \n",
       "2  peak.5050  k88n_olap.DREME.1     12   18      +   2.16   TTATTTA   \n",
       "3  peak.5050  k88n_olap.DREME.1     16   22      +   2.16   TTATTTA   \n",
       "4  peak.5050  k88n_olap.DREME.1     20   26      +   2.16   TTATTTA   \n",
       "5  peak.5507  k88n_olap.DREME.1     71   77      +   2.16   TTATTTA   \n",
       "6  peak.5507  k88n_olap.DREME.1     75   81      +   2.16   TTATTTA   \n",
       "7  peak.5507  k88n_olap.DREME.1     79   85      +   2.16   TTATTTA   \n",
       "8  peak.5507  k88n_olap.DREME.1     83   89      +   2.16   TTATTTA   \n",
       "\n",
       "  mutated_seq  \n",
       "0     TTATGTA  \n",
       "1     TTATGTA  \n",
       "2     TTATGTA  \n",
       "3     TTATGTA  \n",
       "4     TTATGTA  \n",
       "5     TTATGTA  \n",
       "6     TTATGTA  \n",
       "7     TTATGTA  \n",
       "8     TTATGTA  "
      ]
     },
     "execution_count": 255,
     "metadata": {},
     "output_type": "execute_result"
    }
   ],
   "source": [
    "n50Mutated_fimo_score5"
   ]
  },
  {
   "attachments": {},
   "cell_type": "markdown",
   "metadata": {},
   "source": [
    "#### bizarre sequences in the three remaining CREs, drop them in the candidate set"
   ]
  },
  {
   "cell_type": "code",
   "execution_count": 256,
   "metadata": {},
   "outputs": [
    {
     "data": {
      "text/plain": [
       "'TTGTGGGATCTTCGAGTAATAGCACAAAGATATAATAAGTAATTTATTTATTTATTTATTTATTTATTTATATAATTCCTACAAGTCTTTTCCTCACTAATCTACTCTAATGAACAACTCTTTGGAGAAACGCA'"
      ]
     },
     "execution_count": 256,
     "metadata": {},
     "output_type": "execute_result"
    }
   ],
   "source": [
    "# peak.2730\n",
    "mpraAnnot_df.at[2726, \"FASTA\"]"
   ]
  },
  {
   "cell_type": "code",
   "execution_count": 257,
   "metadata": {},
   "outputs": [
    {
     "data": {
      "text/plain": [
       "'GTTTTATTTATTTATTTATTTATTTATTTATTTATTTACAGCTGAGTCCTTTCTGGGTAGCCTAGGCTGACCTGAAACTTACTAATCTCCAAGCCCTAGGATTATAGATGTGCACTGGCACACCTGGCCTCCTT'"
      ]
     },
     "execution_count": 257,
     "metadata": {},
     "output_type": "execute_result"
    }
   ],
   "source": [
    "# peak.5050\n",
    "mpraAnnot_df.at[5043, \"FASTA\"]"
   ]
  },
  {
   "cell_type": "code",
   "execution_count": 258,
   "metadata": {},
   "outputs": [
    {
     "data": {
      "text/plain": [
       "'CCCCACCCCCACCTCCCCATCCTTTAATCTTTGGGTAAATCCTCCCAAGACTAATCCCTGGGCACAAACTTTATTTATTTATTTATTTATTTATTTATTTATTTTCATCTTGGATGGCTTATGGTAGAGACCGA'"
      ]
     },
     "execution_count": 258,
     "metadata": {},
     "output_type": "execute_result"
    }
   ],
   "source": [
    "# peak.5507\n",
    "mpraAnnot_df.at[5500, \"FASTA\"]"
   ]
  },
  {
   "attachments": {},
   "cell_type": "markdown",
   "metadata": {},
   "source": [
    "#### no more identifiable monomeric HD sites, not collect all monomer motif fimo instances, mutate from wt sequences"
   ]
  },
  {
   "cell_type": "code",
   "execution_count": 274,
   "metadata": {},
   "outputs": [],
   "source": [
    "# keep only sequences that contain a mutated monomeric HD site\n",
    "allMonomerSites = pd.concat([monoMutated_fimo_score, monoMutated_fimo_score2, monoMutated_fimo_score3, monoMutated_fimo_score4]).sort_values(by=\"peak.id\").reset_index(drop=True)\n",
    "allMonomerSites = pd.concat([allMonomerSites, n50Mutated_fimo_score, n50Mutated_fimo_score2, n50Mutated_fimo_score3, n50Mutated_fimo_score4]).sort_values(by=\"peak.id\").reset_index(drop=True)"
   ]
  },
  {
   "cell_type": "code",
   "execution_count": 275,
   "metadata": {},
   "outputs": [
    {
     "data": {
      "text/plain": [
       "8465"
      ]
     },
     "execution_count": 275,
     "metadata": {},
     "output_type": "execute_result"
    }
   ],
   "source": [
    "len(allMonomerSites[\"peak.id\"].unique())"
   ]
  },
  {
   "cell_type": "code",
   "execution_count": 276,
   "metadata": {},
   "outputs": [],
   "source": [
    "allMonomerSites = allMonomerSites.rename(columns={\"motif\":\"motif_id\", \"match_seq\": \"matched_sequence\", \"peak.id\": \"sequence_name\", \"end\": \"stop\"})"
   ]
  },
  {
   "cell_type": "code",
   "execution_count": 277,
   "metadata": {},
   "outputs": [
    {
     "data": {
      "text/html": [
       "<div>\n",
       "<style scoped>\n",
       "    .dataframe tbody tr th:only-of-type {\n",
       "        vertical-align: middle;\n",
       "    }\n",
       "\n",
       "    .dataframe tbody tr th {\n",
       "        vertical-align: top;\n",
       "    }\n",
       "\n",
       "    .dataframe thead th {\n",
       "        text-align: right;\n",
       "    }\n",
       "</style>\n",
       "<table border=\"1\" class=\"dataframe\">\n",
       "  <thead>\n",
       "    <tr style=\"text-align: right;\">\n",
       "      <th></th>\n",
       "      <th>sequence_name</th>\n",
       "      <th>motif_id</th>\n",
       "      <th>start</th>\n",
       "      <th>stop</th>\n",
       "      <th>strand</th>\n",
       "      <th>score</th>\n",
       "      <th>matched_sequence</th>\n",
       "      <th>mutated_seq</th>\n",
       "    </tr>\n",
       "  </thead>\n",
       "  <tbody>\n",
       "    <tr>\n",
       "      <th>0</th>\n",
       "      <td>peak.1</td>\n",
       "      <td>CRX_Corbo</td>\n",
       "      <td>104</td>\n",
       "      <td>111</td>\n",
       "      <td>+</td>\n",
       "      <td>6.70635</td>\n",
       "      <td>ATAATCAC</td>\n",
       "      <td>ATACTCAC</td>\n",
       "    </tr>\n",
       "    <tr>\n",
       "      <th>1</th>\n",
       "      <td>peak.1</td>\n",
       "      <td>k88n_olap.DREME.1</td>\n",
       "      <td>105</td>\n",
       "      <td>111</td>\n",
       "      <td>-</td>\n",
       "      <td>2.23000</td>\n",
       "      <td>GTGATTA</td>\n",
       "      <td>TACTCAC</td>\n",
       "    </tr>\n",
       "    <tr>\n",
       "      <th>2</th>\n",
       "      <td>peak.1</td>\n",
       "      <td>k88n_olap.DREME.1</td>\n",
       "      <td>9</td>\n",
       "      <td>15</td>\n",
       "      <td>-</td>\n",
       "      <td>2.64000</td>\n",
       "      <td>TTTATTA</td>\n",
       "      <td>TACTAAA</td>\n",
       "    </tr>\n",
       "    <tr>\n",
       "      <th>3</th>\n",
       "      <td>peak.10</td>\n",
       "      <td>CRX_Corbo</td>\n",
       "      <td>66</td>\n",
       "      <td>73</td>\n",
       "      <td>-</td>\n",
       "      <td>6.82540</td>\n",
       "      <td>ATAAGCCA</td>\n",
       "      <td>TGGCGTAT</td>\n",
       "    </tr>\n",
       "    <tr>\n",
       "      <th>4</th>\n",
       "      <td>peak.100</td>\n",
       "      <td>k88n_olap.DREME.1</td>\n",
       "      <td>26</td>\n",
       "      <td>32</td>\n",
       "      <td>+</td>\n",
       "      <td>2.64000</td>\n",
       "      <td>TTGATTA</td>\n",
       "      <td>TTGAGTA</td>\n",
       "    </tr>\n",
       "    <tr>\n",
       "      <th>...</th>\n",
       "      <td>...</td>\n",
       "      <td>...</td>\n",
       "      <td>...</td>\n",
       "      <td>...</td>\n",
       "      <td>...</td>\n",
       "      <td>...</td>\n",
       "      <td>...</td>\n",
       "      <td>...</td>\n",
       "    </tr>\n",
       "    <tr>\n",
       "      <th>23108</th>\n",
       "      <td>peak.998</td>\n",
       "      <td>CRX_Corbo</td>\n",
       "      <td>40</td>\n",
       "      <td>47</td>\n",
       "      <td>+</td>\n",
       "      <td>10.65870</td>\n",
       "      <td>TTAATCCC</td>\n",
       "      <td>TTACTCCC</td>\n",
       "    </tr>\n",
       "    <tr>\n",
       "      <th>23109</th>\n",
       "      <td>peak.998</td>\n",
       "      <td>CRX_Corbo</td>\n",
       "      <td>63</td>\n",
       "      <td>70</td>\n",
       "      <td>+</td>\n",
       "      <td>8.95238</td>\n",
       "      <td>ATAATCCA</td>\n",
       "      <td>ATACTCCA</td>\n",
       "    </tr>\n",
       "    <tr>\n",
       "      <th>23110</th>\n",
       "      <td>peak.999</td>\n",
       "      <td>CRX_Corbo</td>\n",
       "      <td>66</td>\n",
       "      <td>73</td>\n",
       "      <td>+</td>\n",
       "      <td>9.78571</td>\n",
       "      <td>CTAATCCT</td>\n",
       "      <td>CTACTCCT</td>\n",
       "    </tr>\n",
       "    <tr>\n",
       "      <th>23111</th>\n",
       "      <td>peak.999</td>\n",
       "      <td>k88n_olap.DREME.1</td>\n",
       "      <td>17</td>\n",
       "      <td>23</td>\n",
       "      <td>+</td>\n",
       "      <td>1.94000</td>\n",
       "      <td>CTAGTTA</td>\n",
       "      <td>CTAGGTA</td>\n",
       "    </tr>\n",
       "    <tr>\n",
       "      <th>23112</th>\n",
       "      <td>peak.999</td>\n",
       "      <td>CRX_Corbo</td>\n",
       "      <td>56</td>\n",
       "      <td>63</td>\n",
       "      <td>+</td>\n",
       "      <td>9.34921</td>\n",
       "      <td>ATAATCCT</td>\n",
       "      <td>ATACTCCT</td>\n",
       "    </tr>\n",
       "  </tbody>\n",
       "</table>\n",
       "<p>23113 rows × 8 columns</p>\n",
       "</div>"
      ],
      "text/plain": [
       "      sequence_name           motif_id  start  stop strand     score  \\\n",
       "0            peak.1          CRX_Corbo    104   111      +   6.70635   \n",
       "1            peak.1  k88n_olap.DREME.1    105   111      -   2.23000   \n",
       "2            peak.1  k88n_olap.DREME.1      9    15      -   2.64000   \n",
       "3           peak.10          CRX_Corbo     66    73      -   6.82540   \n",
       "4          peak.100  k88n_olap.DREME.1     26    32      +   2.64000   \n",
       "...             ...                ...    ...   ...    ...       ...   \n",
       "23108      peak.998          CRX_Corbo     40    47      +  10.65870   \n",
       "23109      peak.998          CRX_Corbo     63    70      +   8.95238   \n",
       "23110      peak.999          CRX_Corbo     66    73      +   9.78571   \n",
       "23111      peak.999  k88n_olap.DREME.1     17    23      +   1.94000   \n",
       "23112      peak.999          CRX_Corbo     56    63      +   9.34921   \n",
       "\n",
       "      matched_sequence mutated_seq  \n",
       "0             ATAATCAC    ATACTCAC  \n",
       "1              GTGATTA     TACTCAC  \n",
       "2              TTTATTA     TACTAAA  \n",
       "3             ATAAGCCA    TGGCGTAT  \n",
       "4              TTGATTA     TTGAGTA  \n",
       "...                ...         ...  \n",
       "23108         TTAATCCC    TTACTCCC  \n",
       "23109         ATAATCCA    ATACTCCA  \n",
       "23110         CTAATCCT    CTACTCCT  \n",
       "23111          CTAGTTA     CTAGGTA  \n",
       "23112         ATAATCCT    ATACTCCT  \n",
       "\n",
       "[23113 rows x 8 columns]"
      ]
     },
     "execution_count": 277,
     "metadata": {},
     "output_type": "execute_result"
    }
   ],
   "source": [
    "allMonomerSites"
   ]
  },
  {
   "cell_type": "code",
   "execution_count": 278,
   "metadata": {},
   "outputs": [],
   "source": [
    "allMonomerSites.to_csv(os.path.join(base_dir, \"peaksets\", f\"allMonomerMutatedSites.fimo{fimo_th}.tsv\"), sep=\"\\t\", header=True, index=False)"
   ]
  },
  {
   "cell_type": "code",
   "execution_count": 282,
   "metadata": {},
   "outputs": [],
   "source": [
    "_, allmonoMutated_fasta = mpra_CRE_utils.find_and_mutate_motif(allCRE_fasta, allMonomerSites, mono_motif, corbo_mutant_core, corbo_mono_core)\n",
    "_, allmonoMutated_fasta  = mpra_CRE_utils.find_and_mutate_motif(allmonoMutated_fasta , allMonomerSites, n50_motif, n50_mutant_core, n50_mono_core)"
   ]
  },
  {
   "cell_type": "code",
   "execution_count": 283,
   "metadata": {},
   "outputs": [],
   "source": [
    "sequence_annotator.write_fasta(allmonoMutated_fasta, os.path.join(base_dir, \"sequences\", f\"mutatedCREs_fimo{fimo_th}\", f\"allCRE.{mono_motif}.mutated.fa\"))"
   ]
  },
  {
   "cell_type": "code",
   "execution_count": 284,
   "metadata": {},
   "outputs": [],
   "source": [
    "# compile peaks that contain at least one K50 or N50 monomeric motif\n",
    "allMonomer_CREs = allMonomerSites[\"sequence_name\"].unique()"
   ]
  },
  {
   "cell_type": "code",
   "execution_count": 285,
   "metadata": {},
   "outputs": [],
   "source": [
    "# keep only sequences that contain a mutated monomeric HD site\n",
    "monoMutated_fasta5 = allmonoMutated_fasta[lambda df: df.index.isin(allMonomer_CREs)]\n",
    "# all peaks containing dimeric motifs that have been mutated\n",
    "allMutatedMonomer_peaks = monoMutated_fasta5.index\n",
    "# some renaming thing\n",
    "monoMutated_fasta5.index = monoMutated_fasta5.index + \".mutM\""
   ]
  },
  {
   "cell_type": "code",
   "execution_count": 286,
   "metadata": {},
   "outputs": [],
   "source": [
    "# all monomeric sites have been mutated, only those mutated fasta were keep, mutated fasta named as mut.M\n",
    "sequence_annotator.write_fasta(monoMutated_fasta5, os.path.join(base_dir, \"sequences\", f\"mutatedCREs_fimo{fimo_th}\", f\"mutatedCRE.{mono_motif}.mutated.fa\"))"
   ]
  },
  {
   "attachments": {},
   "cell_type": "markdown",
   "metadata": {},
   "source": [
    "### VII. mutating both dimeric and monomeric sites"
   ]
  },
  {
   "cell_type": "code",
   "execution_count": 167,
   "metadata": {},
   "outputs": [],
   "source": [
    "# keep only sequences that contain a mutated dimeric HD site\n",
    "allDimerSites = pd.concat([dimerMatched_fimo_score, dimerMatched_fimo_score2, dimerMatched_fimo_score3]).sort_values(by=\"peak.id\").reset_index(drop=True)"
   ]
  },
  {
   "cell_type": "code",
   "execution_count": 168,
   "metadata": {},
   "outputs": [
    {
     "data": {
      "text/plain": [
       "1420"
      ]
     },
     "execution_count": 168,
     "metadata": {},
     "output_type": "execute_result"
    }
   ],
   "source": [
    "len(allDimerSites[\"peak.id\"].unique())"
   ]
  },
  {
   "cell_type": "code",
   "execution_count": 175,
   "metadata": {},
   "outputs": [],
   "source": [
    "allDimerSites = allDimerSites.rename(columns={\"motif\":\"motif_id\", \"match_seq\": \"matched_sequence\", \"peak.id\": \"sequence_name\", \"end\": \"stop\"})"
   ]
  },
  {
   "cell_type": "code",
   "execution_count": 176,
   "metadata": {},
   "outputs": [],
   "source": [
    "allDimerSites.to_csv(os.path.join(base_dir, \"peaksets\", f\"allDimerMutatedSites.fimo{fimo_th}.tsv\"), sep=\"\\t\", header=True, index=False)"
   ]
  },
  {
   "attachments": {},
   "cell_type": "markdown",
   "metadata": {},
   "source": [
    "#### mutate both monomeric and dimeric sites that were in the single mutant CREs"
   ]
  },
  {
   "cell_type": "code",
   "execution_count": 287,
   "metadata": {},
   "outputs": [],
   "source": [
    "_, dimerMonoMutated_fasta = mpra_CRE_utils.find_and_mutate_motif(allmonoMutated_fasta, allDimerSites, dimer_motif, dimer_mutant_core, dimer_core)\n",
    "#dimerMonoMutated_fimo_score1, dimerMonoMutated_fasta = mpra_CRE_utils.find_and_mutate_motif(dimerMonoMutated_fasta, allMonomerSites, mono_motif, corbo_mutant_core, corbo_mono_core)\n",
    "#dimerMonoMutated_fimo_score2, dimerMonoMutated_fasta = mpra_CRE_utils.find_and_mutate_motif(dimerMonoMutated_fasta, allMonomerSites, n50_motif, n50_mutant_core, n50_mono_core)"
   ]
  },
  {
   "cell_type": "code",
   "execution_count": 288,
   "metadata": {},
   "outputs": [],
   "source": [
    "sequence_annotator.write_fasta(dimerMonoMutated_fasta, os.path.join(base_dir, \"sequences\", f\"mutatedCREs_fimo{fimo_th}\", \"allCRE.dimerMonomer.mutated.fa\"))"
   ]
  },
  {
   "attachments": {},
   "cell_type": "markdown",
   "metadata": {},
   "source": [
    "#### there's no need to run additional FIMO since we need to match the patterns in single site mutants"
   ]
  },
  {
   "cell_type": "code",
   "execution_count": 289,
   "metadata": {},
   "outputs": [],
   "source": [
    "dimerMonoMutated_fasta2 = dimerMonoMutated_fasta[lambda df: (df.index.isin(allDimerSites[\"sequence_name\"]))&(df.index.isin(allMonomerSites[\"sequence_name\"]))]\n",
    "# all peaks containing dimeric motifs that have been mutated\n",
    "allMutatedDouble_peaks = dimerMonoMutated_fasta2.index\n",
    "# some renaming thing\n",
    "dimerMonoMutated_fasta2.index = dimerMonoMutated_fasta2.index + \".mutDM\""
   ]
  },
  {
   "cell_type": "code",
   "execution_count": 290,
   "metadata": {},
   "outputs": [
    {
     "data": {
      "text/plain": [
       "1255"
      ]
     },
     "execution_count": 290,
     "metadata": {},
     "output_type": "execute_result"
    }
   ],
   "source": [
    "len(dimerMonoMutated_fasta2.index)"
   ]
  },
  {
   "cell_type": "code",
   "execution_count": 291,
   "metadata": {},
   "outputs": [],
   "source": [
    "# all dimeric and monomeric sites have been mutated, only those mutated fasta were keep, mutated fasta named as mut.DM\n",
    "sequence_annotator.write_fasta(dimerMonoMutated_fasta2, os.path.join(base_dir, \"sequences\", f\"mutatedCREs_fimo{fimo_th}\", \"mutatedCRE.dimerMonomer.mutated.fa\"))"
   ]
  },
  {
   "attachments": {},
   "cell_type": "markdown",
   "metadata": {},
   "source": [
    "#### take a look at some stats of single and double mutants"
   ]
  },
  {
   "cell_type": "code",
   "execution_count": 292,
   "metadata": {},
   "outputs": [],
   "source": [
    "singleDimerMutants = allCRE_fasta[lambda df: (df.index.isin(allDimerSites[\"sequence_name\"]))&(~df.index.isin(allMonomerSites[\"sequence_name\"]))]"
   ]
  },
  {
   "cell_type": "code",
   "execution_count": 293,
   "metadata": {},
   "outputs": [],
   "source": [
    "sequence_annotator.write_fasta(singleDimerMutants, os.path.join(base_dir, \"sequences\", f\"mutatedCREs_fimo{fimo_th}\", \"singleDimerMutants.fa\"))"
   ]
  },
  {
   "cell_type": "code",
   "execution_count": 294,
   "metadata": {},
   "outputs": [],
   "source": [
    "singleMonomerMutants = allCRE_fasta[lambda df: (~df.index.isin(allDimerSites[\"sequence_name\"]))&(df.index.isin(allMonomerSites[\"sequence_name\"]))]"
   ]
  },
  {
   "cell_type": "code",
   "execution_count": 295,
   "metadata": {},
   "outputs": [],
   "source": [
    "sequence_annotator.write_fasta(singleMonomerMutants, os.path.join(base_dir, \"sequences\", f\"mutatedCREs_fimo{fimo_th}\", \"singleMonomerMutants.fa\"))"
   ]
  },
  {
   "cell_type": "code",
   "execution_count": 296,
   "metadata": {},
   "outputs": [],
   "source": [
    "doubleMutants = allCRE_fasta[lambda df: (df.index.isin(allDimerSites[\"sequence_name\"]))&(df.index.isin(allMonomerSites[\"sequence_name\"]))]"
   ]
  },
  {
   "cell_type": "code",
   "execution_count": 297,
   "metadata": {},
   "outputs": [],
   "source": [
    "sequence_annotator.write_fasta(doubleMutants, os.path.join(base_dir, \"sequences\", f\"mutatedCREs_fimo{fimo_th}\", \"doubleMutants.fa\"))"
   ]
  },
  {
   "attachments": {},
   "cell_type": "markdown",
   "metadata": {},
   "source": [
    "#### compile WT and mutated FASTA into the same dataframe"
   ]
  },
  {
   "cell_type": "code",
   "execution_count": 298,
   "metadata": {},
   "outputs": [],
   "source": [
    "# full peak list with annotation\n",
    "#mpraAnnot_df = pd.read_csv(os.path.join(base_dir, \"peaksets\", f\"allCRE_annotation.fimo{fimo_th}.tsv\"), sep=\"\\t\", header=0)\n",
    "# motif position information\n",
    "#allMonomerSites = pd.read_csv(os.path.join(base_dir, \"peaksets\", \"allMonomerMutatedSites.tsv\"), sep=\"\\t\", header=0)\n",
    "#allDimerSites = pd.read_csv(os.path.join(base_dir, \"peaksets\", \"allDimerMutatedSites.tsv\"), sep=\"\\t\", header=0)\n",
    "# fastas\n",
    "singleDimerMutants = sequence_annotator.read_fasta(os.path.join(base_dir, \"sequences\", f\"mutatedCREs_fimo{fimo_th}\", \"mutatedCRE.k88n_olap.MEME.2.mutated.fa\"))\n",
    "singleMonomerMutants = sequence_annotator.read_fasta(os.path.join(base_dir, \"sequences\", f\"mutatedCREs_fimo{fimo_th}\", \"mutatedCRE.CRX_Corbo.mutated.fa\"))\n",
    "doubleMutants = sequence_annotator.read_fasta(os.path.join(base_dir, \"sequences\", f\"mutatedCREs_fimo{fimo_th}\", \"mutatedCRE.dimerMonomer.mutated.fa\"))"
   ]
  },
  {
   "cell_type": "code",
   "execution_count": 299,
   "metadata": {},
   "outputs": [],
   "source": [
    "dimer_df = singleDimerMutants.to_frame().reset_index(drop=False).rename(columns={\"label\":\"peak.id\", 0:\"mutD.FASTA\"})\n",
    "dimer_df[\"peak.id\"] = dimer_df[\"peak.id\"].apply(lambda x: x.strip(\".mutD\"))\n",
    "\n",
    "monomer_df = singleMonomerMutants.to_frame().reset_index(drop=False).rename(columns={\"label\":\"peak.id\", 0:\"mutM.FASTA\"})\n",
    "monomer_df[\"peak.id\"] = monomer_df[\"peak.id\"].apply(lambda x: x.strip(\".mutM\"))\n",
    "\n",
    "double_df = doubleMutants.to_frame().reset_index(drop=False).rename(columns={\"label\":\"peak.id\", 0:\"mutDM.FASTA\"})\n",
    "double_df[\"peak.id\"] = double_df[\"peak.id\"].apply(lambda x: x.strip(\".mutMD\"))"
   ]
  },
  {
   "cell_type": "code",
   "execution_count": 300,
   "metadata": {},
   "outputs": [],
   "source": [
    "data_merge = reduce(lambda left, right:\n",
    "                     pd.merge(left , right, left_on=\"peak.id\", right_on=\"peak.id\", how=\"outer\"),\n",
    "                     [mpraAnnot_df, dimer_df, monomer_df, double_df])\n",
    "data_merge = data_merge.rename(columns={\"FASTA\":\"wt.FASTA\"})"
   ]
  },
  {
   "attachments": {},
   "cell_type": "markdown",
   "metadata": {},
   "source": [
    "#### check if all steps were correct"
   ]
  },
  {
   "cell_type": "code",
   "execution_count": 301,
   "metadata": {},
   "outputs": [
    {
     "data": {
      "text/plain": [
       "array([['peak.29', 'chr1', 16229659.0, 16229792.0, 16229726.0, 134.0,\n",
       "        '+', 0, 0, 0, 1, 1, 0, 'KGain',\n",
       "        'TCTTCACATAAGACTCATAATGCTATTAGTCATTCGTTTCCTAGAACACAGACACCCTCGTGCGTGCTGACAGGTTTATACGGACGCAGTGGCAGCCGTGGGTTCTGGGAGCTGCTAGATGGCCGACTTTGATT',\n",
       "        'TCTTCACATAAGACTCATACTGCTAGTAGTCATTCGTTTCCTAGAACACAGACACCCTCGTGCGTGCTGACAGGTTTATACGGACGCAGTGGCAGCCGTGGGTTCTGGGAGCTGCTAGATGGCCGACTTTGATT',\n",
       "        nan, nan]], dtype=object)"
      ]
     },
     "execution_count": 301,
     "metadata": {},
     "output_type": "execute_result"
    }
   ],
   "source": [
    "# peak.29 only contains one dimeric site but no single monomeric site\n",
    "data_merge.loc[lambda df: df[\"peak.id\"]==\"peak.29\",:].to_numpy()"
   ]
  },
  {
   "cell_type": "code",
   "execution_count": 302,
   "metadata": {},
   "outputs": [
    {
     "data": {
      "text/plain": [
       "array([['peak.9', 'chr1', 4970713.0, 4970846.0, 4970780.0, 134.0, '+', 1,\n",
       "        2, 1, 0, 1, 1, 'KLost',\n",
       "        'TCTGGGCTTAGCTGCCTACTCTGAAAATAGCAACAGGTGAAAGCAGCTTCTGTGAATCACATCCTCCCAGGATAATGCTGGGTCACCTGATGCTAATTAAGTCACAAACAGGCACTCTGCCAGCCCAGGCTGCC',\n",
       "        nan,\n",
       "        'TCTGGGCGTAGCTGCCTACTCTGAAAATAGCAACAGGTGAAAGCAGCTTCTGTGAATCACATCCTCCCAGGATAATGCTGGGTCACCTGATGCTACTTAAGTCACAAACAGGCACTCTGCCAGCCCAGGCTGCC',\n",
       "        nan]], dtype=object)"
      ]
     },
     "execution_count": 302,
     "metadata": {},
     "output_type": "execute_result"
    }
   ],
   "source": [
    "# peak.9 only contains monomeric sites but no dimeric site\n",
    "data_merge.loc[lambda df: df[\"peak.id\"]==\"peak.9\",:].to_numpy()"
   ]
  },
  {
   "cell_type": "code",
   "execution_count": 305,
   "metadata": {},
   "outputs": [
    {
     "data": {
      "text/plain": [
       "array([['peak.1943', 'chr12', 32456940.0, 32457073.0, 32457007.0, 134.0,\n",
       "        '+', 1, 1, 1, 2, 1, 2, 'KGain',\n",
       "        'TCATCTCAAGTAATCAGAATGTGGCATAGTGCCAGAGATGCAATTTAAAAGTGACACTGCCTTATAGGCTTAGGTTTTAATATAGAGCTTAATAGTGTTATTTTAAGCCCCTTAATGATCTCGGAGGTCTCTAT',\n",
       "        'TCATCTCAAGTAATCAGAATGTGGCATAGTGCCAGAGATGCAATTTAAAAGTGACACTGCCTTATAGGCTTAGGTTTTAATATAGAGCTTACTAGTGGTATTTTACGCCCCGTAATGATCTCGGAGGTCTCTAT',\n",
       "        'TCATCTCAAGTACTCAGAATGTGGCATAGTGCCAGAGATGCAATTTAAAAGTGACACTGCCTTATAGGCGTAGGTTTTAATATAGAGCGTACTAGTGTTATTTTAAGCCCCTTACTGATCTCGGAGGTCTCTAT',\n",
       "        'TCATCTCAAGTACTCAGAATGTGGCATAGTGCCAGAGATGCAATTTAAAAGTGACACTGCCTTATAGGCGTAGGTTTTAATATAGAGCGTACTAGTGGTATTTTACGCCCCGTACTGATCTCGGAGGTCTCTAT']],\n",
       "      dtype=object)"
      ]
     },
     "execution_count": 305,
     "metadata": {},
     "output_type": "execute_result"
    }
   ],
   "source": [
    "data_merge.loc[lambda df: df[\"peak.id\"]==\"peak.1943\",:].to_numpy()"
   ]
  },
  {
   "cell_type": "code",
   "execution_count": 303,
   "metadata": {},
   "outputs": [
    {
     "data": {
      "text/html": [
       "<div>\n",
       "<style scoped>\n",
       "    .dataframe tbody tr th:only-of-type {\n",
       "        vertical-align: middle;\n",
       "    }\n",
       "\n",
       "    .dataframe tbody tr th {\n",
       "        vertical-align: top;\n",
       "    }\n",
       "\n",
       "    .dataframe thead th {\n",
       "        text-align: right;\n",
       "    }\n",
       "</style>\n",
       "<table border=\"1\" class=\"dataframe\">\n",
       "  <thead>\n",
       "    <tr style=\"text-align: right;\">\n",
       "      <th></th>\n",
       "      <th>peak.id</th>\n",
       "      <th>seqnames</th>\n",
       "      <th>start</th>\n",
       "      <th>end</th>\n",
       "      <th>summit</th>\n",
       "      <th>width</th>\n",
       "      <th>strand</th>\n",
       "      <th>CRX_Corbo</th>\n",
       "      <th>N50</th>\n",
       "      <th>HDmono</th>\n",
       "      <th>HDdimer</th>\n",
       "      <th>NRL</th>\n",
       "      <th>AP1</th>\n",
       "      <th>annotation</th>\n",
       "      <th>wt.FASTA</th>\n",
       "      <th>mutD.FASTA</th>\n",
       "      <th>mutM.FASTA</th>\n",
       "      <th>mutDM.FASTA</th>\n",
       "    </tr>\n",
       "  </thead>\n",
       "  <tbody>\n",
       "    <tr>\n",
       "      <th>0</th>\n",
       "      <td>peak.1</td>\n",
       "      <td>chr1</td>\n",
       "      <td>4357711.0</td>\n",
       "      <td>4357844.0</td>\n",
       "      <td>4357778.0</td>\n",
       "      <td>134.0</td>\n",
       "      <td>+</td>\n",
       "      <td>1</td>\n",
       "      <td>2</td>\n",
       "      <td>0</td>\n",
       "      <td>0</td>\n",
       "      <td>2</td>\n",
       "      <td>1</td>\n",
       "      <td>KLost</td>\n",
       "      <td>TTTTAAGATAATAAAGGTAGCCATAGCAGACAAGTGCGTGAGTAGC...</td>\n",
       "      <td>NaN</td>\n",
       "      <td>TTTTAAGATACTAAAGGTAGCCATAGCAGACAAGTGCGTGAGTAGC...</td>\n",
       "      <td>NaN</td>\n",
       "    </tr>\n",
       "    <tr>\n",
       "      <th>1</th>\n",
       "      <td>peak.2</td>\n",
       "      <td>chr1</td>\n",
       "      <td>4358542.0</td>\n",
       "      <td>4358675.0</td>\n",
       "      <td>4358609.0</td>\n",
       "      <td>134.0</td>\n",
       "      <td>+</td>\n",
       "      <td>1</td>\n",
       "      <td>0</td>\n",
       "      <td>1</td>\n",
       "      <td>0</td>\n",
       "      <td>0</td>\n",
       "      <td>1</td>\n",
       "      <td>KLost</td>\n",
       "      <td>ATCCACAAAGGACAAGCTGAAGATTGCCATGCTCTGGAAGACTTGA...</td>\n",
       "      <td>NaN</td>\n",
       "      <td>ATCCACAAAGGACAAGCTGAAGATTGCCATGCTCTGGAAGACTTGA...</td>\n",
       "      <td>NaN</td>\n",
       "    </tr>\n",
       "    <tr>\n",
       "      <th>2</th>\n",
       "      <td>peak.3</td>\n",
       "      <td>chr1</td>\n",
       "      <td>4360266.0</td>\n",
       "      <td>4360399.0</td>\n",
       "      <td>4360333.0</td>\n",
       "      <td>134.0</td>\n",
       "      <td>+</td>\n",
       "      <td>3</td>\n",
       "      <td>2</td>\n",
       "      <td>3</td>\n",
       "      <td>0</td>\n",
       "      <td>2</td>\n",
       "      <td>1</td>\n",
       "      <td>RetinalGene</td>\n",
       "      <td>GGATATGCAACCTGCTTGTTTCACGTAAACAAATGTCTTTGGATTT...</td>\n",
       "      <td>NaN</td>\n",
       "      <td>GGATATGCAACCTGCTTGTTTCACGTAAACAAATGTCTTTGGATTT...</td>\n",
       "      <td>NaN</td>\n",
       "    </tr>\n",
       "    <tr>\n",
       "      <th>3</th>\n",
       "      <td>peak.4</td>\n",
       "      <td>chr1</td>\n",
       "      <td>4383772.0</td>\n",
       "      <td>4383905.0</td>\n",
       "      <td>4383839.0</td>\n",
       "      <td>134.0</td>\n",
       "      <td>+</td>\n",
       "      <td>3</td>\n",
       "      <td>1</td>\n",
       "      <td>0</td>\n",
       "      <td>0</td>\n",
       "      <td>3</td>\n",
       "      <td>1</td>\n",
       "      <td>NotDB</td>\n",
       "      <td>GTTCCTGTGTGTTTGTTTCCCTGCACACACAGGCTCAGCAGCACAT...</td>\n",
       "      <td>NaN</td>\n",
       "      <td>GTTCCTGTGTGTTTGTTTCCCTGCACACACAGGCTCAGCAGCACAT...</td>\n",
       "      <td>NaN</td>\n",
       "    </tr>\n",
       "    <tr>\n",
       "      <th>4</th>\n",
       "      <td>peak.5</td>\n",
       "      <td>chr1</td>\n",
       "      <td>4802559.0</td>\n",
       "      <td>4802692.0</td>\n",
       "      <td>4802626.0</td>\n",
       "      <td>134.0</td>\n",
       "      <td>+</td>\n",
       "      <td>0</td>\n",
       "      <td>0</td>\n",
       "      <td>0</td>\n",
       "      <td>1</td>\n",
       "      <td>0</td>\n",
       "      <td>1</td>\n",
       "      <td>ELost</td>\n",
       "      <td>AAACTCTGTCTGAAAAACCATAAAAGAAAAAGAAAGATGTAGCCTC...</td>\n",
       "      <td>AAACTCTGTCTGAAAAACCATAAAAGAAAAAGAAAGATGTAGCCTC...</td>\n",
       "      <td>NaN</td>\n",
       "      <td>NaN</td>\n",
       "    </tr>\n",
       "    <tr>\n",
       "      <th>...</th>\n",
       "      <td>...</td>\n",
       "      <td>...</td>\n",
       "      <td>...</td>\n",
       "      <td>...</td>\n",
       "      <td>...</td>\n",
       "      <td>...</td>\n",
       "      <td>...</td>\n",
       "      <td>...</td>\n",
       "      <td>...</td>\n",
       "      <td>...</td>\n",
       "      <td>...</td>\n",
       "      <td>...</td>\n",
       "      <td>...</td>\n",
       "      <td>...</td>\n",
       "      <td>...</td>\n",
       "      <td>...</td>\n",
       "      <td>...</td>\n",
       "      <td>...</td>\n",
       "    </tr>\n",
       "    <tr>\n",
       "      <th>9824</th>\n",
       "      <td>peak.9836</td>\n",
       "      <td>chr6</td>\n",
       "      <td>29380515.0</td>\n",
       "      <td>29380648.0</td>\n",
       "      <td>29380582.0</td>\n",
       "      <td>134.0</td>\n",
       "      <td>+</td>\n",
       "      <td>2</td>\n",
       "      <td>0</td>\n",
       "      <td>2</td>\n",
       "      <td>0</td>\n",
       "      <td>0</td>\n",
       "      <td>0</td>\n",
       "      <td>NotDB</td>\n",
       "      <td>TGAGACTCTGAACTATCCTAAGCCTCCCAAAGACAAAGTCCCAGAT...</td>\n",
       "      <td>NaN</td>\n",
       "      <td>TGAGACTCTGAACTATCCTACGCCTCCCAAAGACAAAGTCCCAGAG...</td>\n",
       "      <td>NaN</td>\n",
       "    </tr>\n",
       "    <tr>\n",
       "      <th>9825</th>\n",
       "      <td>peak.9837</td>\n",
       "      <td>chr12</td>\n",
       "      <td>84569704.0</td>\n",
       "      <td>84569837.0</td>\n",
       "      <td>84569771.0</td>\n",
       "      <td>134.0</td>\n",
       "      <td>+</td>\n",
       "      <td>0</td>\n",
       "      <td>0</td>\n",
       "      <td>2</td>\n",
       "      <td>0</td>\n",
       "      <td>1</td>\n",
       "      <td>0</td>\n",
       "      <td>NotDB</td>\n",
       "      <td>CGGCGGGAGCTGCCAGCTTTTTGGAATTCCTAATCGCTCCTGGCCC...</td>\n",
       "      <td>NaN</td>\n",
       "      <td>NaN</td>\n",
       "      <td>NaN</td>\n",
       "    </tr>\n",
       "    <tr>\n",
       "      <th>9826</th>\n",
       "      <td>peak.9838</td>\n",
       "      <td>chr11</td>\n",
       "      <td>50842591.0</td>\n",
       "      <td>50842724.0</td>\n",
       "      <td>50842658.0</td>\n",
       "      <td>134.0</td>\n",
       "      <td>+</td>\n",
       "      <td>2</td>\n",
       "      <td>1</td>\n",
       "      <td>2</td>\n",
       "      <td>0</td>\n",
       "      <td>0</td>\n",
       "      <td>0</td>\n",
       "      <td>NotDB</td>\n",
       "      <td>ATGAAGTAGATATTACCAAATTGCTTTTTCAGCATCCATTTAGATA...</td>\n",
       "      <td>NaN</td>\n",
       "      <td>ATGAAGTAGATATTACCAAATTGCTTTTTCAGCATCCATTTAGATA...</td>\n",
       "      <td>NaN</td>\n",
       "    </tr>\n",
       "    <tr>\n",
       "      <th>9827</th>\n",
       "      <td>peak.9839</td>\n",
       "      <td>chr7</td>\n",
       "      <td>13397989.0</td>\n",
       "      <td>13398122.0</td>\n",
       "      <td>13398056.0</td>\n",
       "      <td>134.0</td>\n",
       "      <td>+</td>\n",
       "      <td>2</td>\n",
       "      <td>0</td>\n",
       "      <td>1</td>\n",
       "      <td>0</td>\n",
       "      <td>0</td>\n",
       "      <td>1</td>\n",
       "      <td>NotDB</td>\n",
       "      <td>TCACCCTAATCCCTCTTTCAAAATGTACTATCCAATTCCATTCTGG...</td>\n",
       "      <td>NaN</td>\n",
       "      <td>TCACCCTACTCCCTCTTTCAAAATGTACTATCCAATTCCATTCTGG...</td>\n",
       "      <td>NaN</td>\n",
       "    </tr>\n",
       "    <tr>\n",
       "      <th>9828</th>\n",
       "      <td>peak.9840</td>\n",
       "      <td>chr9</td>\n",
       "      <td>59353441.0</td>\n",
       "      <td>59353574.0</td>\n",
       "      <td>59353508.0</td>\n",
       "      <td>134.0</td>\n",
       "      <td>+</td>\n",
       "      <td>0</td>\n",
       "      <td>0</td>\n",
       "      <td>0</td>\n",
       "      <td>0</td>\n",
       "      <td>0</td>\n",
       "      <td>0</td>\n",
       "      <td>NotDB</td>\n",
       "      <td>CCGCCCACCGCTTCGCGACCGGAAGCCGACCGTTTCCCGGGCGACC...</td>\n",
       "      <td>NaN</td>\n",
       "      <td>NaN</td>\n",
       "      <td>NaN</td>\n",
       "    </tr>\n",
       "  </tbody>\n",
       "</table>\n",
       "<p>9829 rows × 18 columns</p>\n",
       "</div>"
      ],
      "text/plain": [
       "        peak.id seqnames       start         end      summit  width strand  \\\n",
       "0        peak.1     chr1   4357711.0   4357844.0   4357778.0  134.0      +   \n",
       "1        peak.2     chr1   4358542.0   4358675.0   4358609.0  134.0      +   \n",
       "2        peak.3     chr1   4360266.0   4360399.0   4360333.0  134.0      +   \n",
       "3        peak.4     chr1   4383772.0   4383905.0   4383839.0  134.0      +   \n",
       "4        peak.5     chr1   4802559.0   4802692.0   4802626.0  134.0      +   \n",
       "...         ...      ...         ...         ...         ...    ...    ...   \n",
       "9824  peak.9836     chr6  29380515.0  29380648.0  29380582.0  134.0      +   \n",
       "9825  peak.9837    chr12  84569704.0  84569837.0  84569771.0  134.0      +   \n",
       "9826  peak.9838    chr11  50842591.0  50842724.0  50842658.0  134.0      +   \n",
       "9827  peak.9839     chr7  13397989.0  13398122.0  13398056.0  134.0      +   \n",
       "9828  peak.9840     chr9  59353441.0  59353574.0  59353508.0  134.0      +   \n",
       "\n",
       "      CRX_Corbo  N50  HDmono  HDdimer  NRL  AP1   annotation  \\\n",
       "0             1    2       0        0    2    1        KLost   \n",
       "1             1    0       1        0    0    1        KLost   \n",
       "2             3    2       3        0    2    1  RetinalGene   \n",
       "3             3    1       0        0    3    1        NotDB   \n",
       "4             0    0       0        1    0    1        ELost   \n",
       "...         ...  ...     ...      ...  ...  ...          ...   \n",
       "9824          2    0       2        0    0    0        NotDB   \n",
       "9825          0    0       2        0    1    0        NotDB   \n",
       "9826          2    1       2        0    0    0        NotDB   \n",
       "9827          2    0       1        0    0    1        NotDB   \n",
       "9828          0    0       0        0    0    0        NotDB   \n",
       "\n",
       "                                               wt.FASTA  \\\n",
       "0     TTTTAAGATAATAAAGGTAGCCATAGCAGACAAGTGCGTGAGTAGC...   \n",
       "1     ATCCACAAAGGACAAGCTGAAGATTGCCATGCTCTGGAAGACTTGA...   \n",
       "2     GGATATGCAACCTGCTTGTTTCACGTAAACAAATGTCTTTGGATTT...   \n",
       "3     GTTCCTGTGTGTTTGTTTCCCTGCACACACAGGCTCAGCAGCACAT...   \n",
       "4     AAACTCTGTCTGAAAAACCATAAAAGAAAAAGAAAGATGTAGCCTC...   \n",
       "...                                                 ...   \n",
       "9824  TGAGACTCTGAACTATCCTAAGCCTCCCAAAGACAAAGTCCCAGAT...   \n",
       "9825  CGGCGGGAGCTGCCAGCTTTTTGGAATTCCTAATCGCTCCTGGCCC...   \n",
       "9826  ATGAAGTAGATATTACCAAATTGCTTTTTCAGCATCCATTTAGATA...   \n",
       "9827  TCACCCTAATCCCTCTTTCAAAATGTACTATCCAATTCCATTCTGG...   \n",
       "9828  CCGCCCACCGCTTCGCGACCGGAAGCCGACCGTTTCCCGGGCGACC...   \n",
       "\n",
       "                                             mutD.FASTA  \\\n",
       "0                                                   NaN   \n",
       "1                                                   NaN   \n",
       "2                                                   NaN   \n",
       "3                                                   NaN   \n",
       "4     AAACTCTGTCTGAAAAACCATAAAAGAAAAAGAAAGATGTAGCCTC...   \n",
       "...                                                 ...   \n",
       "9824                                                NaN   \n",
       "9825                                                NaN   \n",
       "9826                                                NaN   \n",
       "9827                                                NaN   \n",
       "9828                                                NaN   \n",
       "\n",
       "                                             mutM.FASTA mutDM.FASTA  \n",
       "0     TTTTAAGATACTAAAGGTAGCCATAGCAGACAAGTGCGTGAGTAGC...         NaN  \n",
       "1     ATCCACAAAGGACAAGCTGAAGATTGCCATGCTCTGGAAGACTTGA...         NaN  \n",
       "2     GGATATGCAACCTGCTTGTTTCACGTAAACAAATGTCTTTGGATTT...         NaN  \n",
       "3     GTTCCTGTGTGTTTGTTTCCCTGCACACACAGGCTCAGCAGCACAT...         NaN  \n",
       "4                                                   NaN         NaN  \n",
       "...                                                 ...         ...  \n",
       "9824  TGAGACTCTGAACTATCCTACGCCTCCCAAAGACAAAGTCCCAGAG...         NaN  \n",
       "9825                                                NaN         NaN  \n",
       "9826  ATGAAGTAGATATTACCAAATTGCTTTTTCAGCATCCATTTAGATA...         NaN  \n",
       "9827  TCACCCTACTCCCTCTTTCAAAATGTACTATCCAATTCCATTCTGG...         NaN  \n",
       "9828                                                NaN         NaN  \n",
       "\n",
       "[9829 rows x 18 columns]"
      ]
     },
     "execution_count": 303,
     "metadata": {},
     "output_type": "execute_result"
    }
   ],
   "source": [
    "data_merge"
   ]
  },
  {
   "cell_type": "code",
   "execution_count": 304,
   "metadata": {},
   "outputs": [],
   "source": [
    "data_merge.to_csv(os.path.join(base_dir, \"peaksets\", f\"allCRE_annotation.withMutants.fimo{fimo_th}.tsv\"), sep=\"\\t\", header=True, index=False)"
   ]
  }
 ],
 "metadata": {
  "interpreter": {
   "hash": "6abb4b7bab859a9de396deabee55f7ab2a79ecd4f43f7147c7a877724f7bb22d"
  },
  "kernelspec": {
   "display_name": "Python 3.10.4 ('mpra')",
   "language": "python",
   "name": "python3"
  },
  "language_info": {
   "codemirror_mode": {
    "name": "ipython",
    "version": 3
   },
   "file_extension": ".py",
   "mimetype": "text/x-python",
   "name": "python",
   "nbconvert_exporter": "python",
   "pygments_lexer": "ipython3",
   "version": "3.9.12"
  },
  "orig_nbformat": 4,
  "vscode": {
   "interpreter": {
    "hash": "de4a238fd4983551e7ca352ba395a91b204ed1f7f480c058d262160abae16af4"
   }
  }
 },
 "nbformat": 4,
 "nbformat_minor": 2
}
