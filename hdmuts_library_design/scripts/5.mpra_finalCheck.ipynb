{
 "cells": [
  {
   "attachments": {},
   "cell_type": "markdown",
   "metadata": {},
   "source": [
    "### this notebook is for final examinations of the full oligo pool"
   ]
  },
  {
   "attachments": {},
   "cell_type": "markdown",
   "metadata": {},
   "source": [
    "A couple things to check:\n",
    "1. no RE site\n",
    "2. no more motifs passing threshold\n",
    "3. mutagenesis correct\n",
    "4. BC unique and within proper GC content\n",
    "5. properly named with correct BC\n",
    "\n",
    "Then compile all sequences into one tsv and one fasta"
   ]
  },
  {
   "cell_type": "code",
   "execution_count": 1,
   "metadata": {},
   "outputs": [],
   "source": [
    "import os, sys, warnings, re, glob2, itertools, string, random, math\n",
    "\n",
    "import numpy as np\n",
    "import pandas as pd\n",
    "import scipy\n",
    "from scipy import stats\n",
    "from scipy.stats import mannwhitneyu, normaltest\n",
    "from scipy import interpolate\n",
    "import statsmodels\n",
    "import statsmodels.api as sm\n",
    "import fastcluster\n",
    "\n",
    "import matplotlib as mpl\n",
    "import matplotlib.pyplot as plt\n",
    "import matplotlib.patches as mpatches\n",
    "import matplotlib.gridspec as gridspec\n",
    "from matplotlib import cm\n",
    "from matplotlib_venn import venn3\n",
    "from matplotlib.ticker import FormatStrFormatter\n",
    "from mpl_toolkits.axes_grid1 import make_axes_locatable\n",
    "import matplotlib.font_manager\n",
    "import seaborn as sns"
   ]
  },
  {
   "attachments": {},
   "cell_type": "markdown",
   "metadata": {},
   "source": [
    "### I. housekeeping and load data"
   ]
  },
  {
   "cell_type": "code",
   "execution_count": 2,
   "metadata": {},
   "outputs": [],
   "source": [
    "# set up working directories (do not run twice)\n",
    "base_dir = os.path.split(os.getcwd())[0]\n",
    "sys.path.insert(0, os.path.join(os.getcwd(),\"utils\"))\n",
    "os.chdir(base_dir)\n",
    "scriptdir=os.path.join(base_dir, \"scripts\")"
   ]
  },
  {
   "cell_type": "code",
   "execution_count": 4,
   "metadata": {},
   "outputs": [],
   "source": [
    "from utils import specseq_plot_utils,sequence_annotator, mpra_CRE_utils, mpra_plot_utils\n",
    "specseq_plot_utils.set_manuscript_params() # max 7pt"
   ]
  },
  {
   "cell_type": "code",
   "execution_count": 40,
   "metadata": {},
   "outputs": [],
   "source": [
    "# note the actual primer sequences comtain partial restriction enzyme site, so be careful not to duplicate those sequences\n",
    "primerF = \"GTAGCGTCTGTCCGT\" #15\n",
    "primerR = \"CTGTAGTAGTAGTTGG\" #16\n",
    "primerR_revcomp = sequence_annotator.rev_comp(primerR)\n",
    "padding=\"C\" # for padding betweeing SpeI and SphI site\n",
    "EcoRI=\"GAATTC\"\n",
    "SpeI=\"ACTAGT\"\n",
    "SphI=\"GCATGC\"\n",
    "EagI=\"CGGCCG\"\n",
    "basalFiller=\"GTCCCCCTTGCAGAATTACATGCAACCCTCAACTGCTCGATCTAGCTCTCTAATGGCAAGATCCGCAAGGGCAAAACAGACTATTACCGCGAGATCCGAACGAAATGAAGATTGAACATGGCTGTAATTGGGCT\""
   ]
  },
  {
   "cell_type": "code",
   "execution_count": 41,
   "metadata": {},
   "outputs": [],
   "source": [
    "# peak lists\n",
    "fimo_th = 2.5e-3\n",
    "#fimo_th = 1.0e-3\n",
    "# full peak list with annotation\n",
    "mpraAnnot_df = pd.read_csv(os.path.join(base_dir, \"peaksets\", f\"allCRE_annotation.withMutants.fimo{fimo_th}.tsv\"), sep=\"\\t\", header=0)\n",
    "# motif position information\n",
    "allMonomerSites = pd.read_csv(os.path.join(base_dir, \"peaksets\", f\"allMonomerMutatedSites.fimo{fimo_th}.tsv\"), sep=\"\\t\", header=0)\n",
    "allDimerSites = pd.read_csv(os.path.join(base_dir, \"peaksets\", f\"allDimerMutatedSites.fimo{fimo_th}.tsv\"), sep=\"\\t\", header=0)\n",
    "# 20 controls trimmed to 134bp\n",
    "trimmed_control_CREs = pd.read_csv(os.path.join(base_dir, \"peaksets\", \"positiveControls.trimmed.tsv\"), sep=\"\\t\", header=0)\n",
    "# 150 scrambles\n",
    "scrambled_CREs = pd.read_csv(os.path.join(base_dir, \"peaksets\", \"scrambled150.withShuffles.tsv\"), sep=\"\\t\", header=0)\n",
    "\n",
    "# fastas\n",
    "allCRE_fasta = sequence_annotator.read_fasta(os.path.join(base_dir, \"sequences\", \"mpraAllCRE.fa\"))\n",
    "singleDimerMutants = sequence_annotator.read_fasta(os.path.join(base_dir, \"sequences\", f\"mutatedCREs_fimo{fimo_th}\", \"mutatedCRE.k88n_olap.MEME.2.mutated.fa\"))\n",
    "singleMonomerMutants = sequence_annotator.read_fasta(os.path.join(base_dir, \"sequences\", f\"mutatedCREs_fimo{fimo_th}\", \"mutatedCRE.CRX_Corbo.mutated.fa\"))\n",
    "doubleMutants = sequence_annotator.read_fasta(os.path.join(base_dir, \"sequences\", f\"mutatedCREs_fimo{fimo_th}\", \"mutatedCRE.dimerMonomer.mutated.fa\"))\n",
    "trimmed_control_fasta = sequence_annotator.read_fasta(os.path.join(base_dir, \"sequences\", \"positiveControls.trimmed.fa\"))\n",
    "scrambled_fasta = sequence_annotator.read_fasta(os.path.join(base_dir,\"sequences\", \"scrambled150_shuffled.fa\"))\n",
    "\n",
    "# occupancy data\n",
    "mu = 0.1\n",
    "# unmaked occupancy landscape\n",
    "unmasked_occupancy_df = pd.read_csv(os.path.join(base_dir, \"predicted_occp\", f\"allCRE.unmasked.occupancy.mu{str(mu)}.tsv\"), sep=\"\\t\", header=0)\n",
    "# dimeric motif maksed occupancy landscape\n",
    "masked_occupancy_df = pd.read_csv(os.path.join(base_dir, \"predicted_occp\", f\"allCRE.masked.occupancy.mu{str(mu)}.tsv\"), sep=\"\\t\", header=0)\n",
    "mu = 9\n",
    "# unmaked occupancy landscape\n",
    "unmasked_occupancy_df2 = pd.read_csv(os.path.join(, \"predicted_occp\", f\"allCRE.unmasked.occupancy.mu{str(mu)}.tsv\"), sep=\"\\t\", header=0)\n",
    "# dimeric motif maksed occupancy landscape\n",
    "masked_occupancy_df2 = pd.read_csv(os.path.join(base_dir, \"predicted_occp\", f\"allCRE.masked.occupancy.mu{str(mu)}.tsv\"), sep=\"\\t\", header=0)"
   ]
  },
  {
   "cell_type": "code",
   "execution_count": 106,
   "metadata": {},
   "outputs": [],
   "source": [
    "fimo_th = 2.5e-3\n",
    "mpra_library_oligo = sequence_annotator.read_fasta(os.path.join(base_dir, \"sequences\", f\"hdmuts_library.Oligos.fimo{fimo_th}.filtered.fa\"))\n",
    "control_oligo = sequence_annotator.read_fasta(os.path.join(base_dir, \"sequences\", f\"hdmuts_control.Oligos.fimo{fimo_th}.fa\"))\n",
    "basal_oligo = sequence_annotator.read_fasta(os.path.join(base_dir, \"sequences\", \"hdmuts_basal.Oligos.fa\"))"
   ]
  },
  {
   "attachments": {},
   "cell_type": "markdown",
   "metadata": {},
   "source": [
    "#### there are some barcodes that ends with CGGC or starts with GGCCG|GCATG|GAATT will create RE site and needs to be drop"
   ]
  },
  {
   "cell_type": "code",
   "execution_count": 98,
   "metadata": {},
   "outputs": [],
   "source": [
    "all_barcodes = pd.read_csv(os.path.join(base_dir,\"barcodes\",\"validated10bp_barcodes.txt\"), header=None).rename(columns={0:\"BC\"})"
   ]
  },
  {
   "cell_type": "code",
   "execution_count": 208,
   "metadata": {},
   "outputs": [],
   "source": [
    "all_barcodes = all_barcodes[~all_barcodes.BC.apply(lambda row: (row[-4:]==\"CGGC\")|(row[-5:]==\"GCATG\")|(row[:5]==\"GGCCG\")|(row[-5:]==\"GAATT\"))].reset_index(drop=True)"
   ]
  },
  {
   "cell_type": "code",
   "execution_count": 209,
   "metadata": {},
   "outputs": [],
   "source": [
    "all_barcodes.to_csv(os.path.join(base_dir,\"barcodes\",\"validated10bp_barcodes.txt\"), index=False, header=False)"
   ]
  },
  {
   "cell_type": "code",
   "execution_count": 210,
   "metadata": {},
   "outputs": [
    {
     "data": {
      "text/plain": [
       "19738"
      ]
     },
     "execution_count": 210,
     "metadata": {},
     "output_type": "execute_result"
    }
   ],
   "source": [
    "len(all_barcodes)"
   ]
  },
  {
   "attachments": {},
   "cell_type": "markdown",
   "metadata": {},
   "source": [
    "### check BC match in oligo and that in the label, check RE site"
   ]
  },
  {
   "cell_type": "code",
   "execution_count": 26,
   "metadata": {},
   "outputs": [
    {
     "data": {
      "text/plain": [
       "'chr1-4360266-4360399_peak.3_RetinalGene_WT_TTGATCCTAC'"
      ]
     },
     "execution_count": 26,
     "metadata": {},
     "output_type": "execute_result"
    }
   ],
   "source": [
    "mpra_library_oligo.index[0]"
   ]
  },
  {
   "cell_type": "code",
   "execution_count": 33,
   "metadata": {},
   "outputs": [
    {
     "data": {
      "text/plain": [
       "'chr14-20440153-20440286_peak.9841_control_WT_TGTATGCCGG'"
      ]
     },
     "execution_count": 33,
     "metadata": {},
     "output_type": "execute_result"
    }
   ],
   "source": [
    "control_oligo.index[0]"
   ]
  },
  {
   "cell_type": "code",
   "execution_count": 34,
   "metadata": {},
   "outputs": [
    {
     "data": {
      "text/plain": [
       "'basal.1_GGTAATCTAT'"
      ]
     },
     "execution_count": 34,
     "metadata": {},
     "output_type": "execute_result"
    }
   ],
   "source": [
    "basal_oligo.index[0]"
   ]
  },
  {
   "cell_type": "code",
   "execution_count": 108,
   "metadata": {},
   "outputs": [],
   "source": [
    "mpra_library_CREs = mpra_library_oligo.index.str.split(pat=\"_|-\", expand=True).to_frame().reset_index(drop=True)"
   ]
  },
  {
   "cell_type": "code",
   "execution_count": 211,
   "metadata": {},
   "outputs": [],
   "source": [
    "CRX_CREs = mpra_library_CREs[mpra_library_CREs[7].isnull()].drop(columns=7).copy().rename(columns={0:\"seqnames\",\n",
    "                                                                                                    1:\"start\",\n",
    "                                                                                                    2:\"end\",\n",
    "                                                                                                    3:\"peak.id\",\n",
    "                                                                                                    4:\"annotation\",\n",
    "                                                                                                    5:\"motif\",\n",
    "                                                                                                    6:\"BC\"})\n",
    "CRX_oligo = mpra_library_oligo[CRX_CREs.index].reset_index().rename(columns={0:\"fullOligo\"})\n",
    "CRX_CREs = pd.merge(CRX_CREs.reset_index(drop=True), CRX_oligo, left_index=True, right_index=True)\n",
    "\n",
    "# use new BCs\n",
    "CRX_CREs[\"BC\"] = all_barcodes[:len(CRX_CREs)].reset_index(drop=True)\n",
    "CRX_CREs[\"label\"] = CRX_CREs[\"seqnames\"]+\"-\"+CRX_CREs[\"start\"].astype(str)+\"-\"+CRX_CREs[\"end\"].astype(str)+\"_\"+CRX_CREs[\"peak.id\"]+\"_\"+CRX_CREs[\"annotation\"]+\"_\"+CRX_CREs[\"motif\"]+\"_\"+CRX_CREs[\"BC\"]\n",
    "CRX_CREs[\"CRE\"] = CRX_CREs[\"fullOligo\"].apply(lambda row: row[len(primerF+EcoRI):-len(SpeI+\"C\"+SphI+\"NNNNNNNNNN\"+EagI+primerR)])\n",
    "CRX_CREs[\"fullOligo\"] = primerF+EcoRI+CRX_CREs[\"CRE\"]+SpeI+\"C\"+SphI+CRX_CREs[\"BC\"]+EagI+primerR_revcomp\n",
    "CRX_CREs[\"BC.inOligo\"] = CRX_CREs[\"fullOligo\"].apply(lambda row: row[-len(\"NNNNNNNNNN\"+EagI+primerR):-len(EagI+primerR)])"
   ]
  },
  {
   "cell_type": "code",
   "execution_count": 183,
   "metadata": {},
   "outputs": [
    {
     "data": {
      "text/plain": [
       "0"
      ]
     },
     "execution_count": 183,
     "metadata": {},
     "output_type": "execute_result"
    }
   ],
   "source": [
    "# if all BCs in oligo matches that in label\n",
    "set(CRX_CREs[\"BC\"]) - set(CRX_CREs[\"BC.inOligo\"])"
   ]
  },
  {
   "cell_type": "code",
   "execution_count": 184,
   "metadata": {},
   "outputs": [
    {
     "name": "stdout",
     "output_type": "stream",
     "text": [
      "Looking for matches: GAATTC|ACTAGT|GCATGC|CGGCCG\n"
     ]
    },
    {
     "data": {
      "text/html": [
       "<div>\n",
       "<style scoped>\n",
       "    .dataframe tbody tr th:only-of-type {\n",
       "        vertical-align: middle;\n",
       "    }\n",
       "\n",
       "    .dataframe tbody tr th {\n",
       "        vertical-align: top;\n",
       "    }\n",
       "\n",
       "    .dataframe thead th {\n",
       "        text-align: right;\n",
       "    }\n",
       "</style>\n",
       "<table border=\"1\" class=\"dataframe\">\n",
       "  <thead>\n",
       "    <tr style=\"text-align: right;\">\n",
       "      <th></th>\n",
       "      <th>seqnames</th>\n",
       "      <th>start</th>\n",
       "      <th>end</th>\n",
       "      <th>peak.id</th>\n",
       "      <th>annotation</th>\n",
       "      <th>motif</th>\n",
       "      <th>BC</th>\n",
       "      <th>label</th>\n",
       "      <th>fullOligo</th>\n",
       "      <th>CRE</th>\n",
       "      <th>BC.inOligo</th>\n",
       "    </tr>\n",
       "  </thead>\n",
       "  <tbody>\n",
       "  </tbody>\n",
       "</table>\n",
       "</div>"
      ],
      "text/plain": [
       "Empty DataFrame\n",
       "Columns: [seqnames, start, end, peak.id, annotation, motif, BC, label, fullOligo, CRE, BC.inOligo]\n",
       "Index: []"
      ]
     },
     "execution_count": 184,
     "metadata": {},
     "output_type": "execute_result"
    }
   ],
   "source": [
    "CRX_CREs.iloc[mpra_CRE_utils.find_REsite_match(CRX_CREs[\"CRE\"], RE_list=[EcoRI,SpeI,SphI,EagI]).index,:]"
   ]
  },
  {
   "cell_type": "code",
   "execution_count": 106,
   "metadata": {},
   "outputs": [],
   "source": [
    "# there is a match of TACTAGTG match due to a mutation in the monomer site, manually change it to TCCTAGTG in the fasta and reload"
   ]
  },
  {
   "cell_type": "code",
   "execution_count": 185,
   "metadata": {},
   "outputs": [
    {
     "name": "stdout",
     "output_type": "stream",
     "text": [
      "Looking for matches: GAATTC|ACTAGT|GCATGC|CGGCCG\n"
     ]
    },
    {
     "data": {
      "text/plain": [
       "Series([], Name: CRE, dtype: object)"
      ]
     },
     "execution_count": 185,
     "metadata": {},
     "output_type": "execute_result"
    }
   ],
   "source": [
    "mpra_CRE_utils.find_REsite_match(CRX_CREs[\"CRE\"], RE_list=[EcoRI,SpeI,SphI,EagI])"
   ]
  },
  {
   "cell_type": "code",
   "execution_count": 212,
   "metadata": {},
   "outputs": [],
   "source": [
    "scrambled_CREs = mpra_library_CREs[mpra_library_CREs[7].notnull()].copy().rename(columns={0:\"seqnames\",\n",
    "                                                                                                    1:\"start\",\n",
    "                                                                                                    2:\"end\",\n",
    "                                                                                                    3:\"peak.id\",\n",
    "                                                                                                    4:\"shuffled\",\n",
    "                                                                                                    5:\"annotation\",\n",
    "                                                                                                    6:\"motif\",\n",
    "                                                                                                    7:\"BC\"})\n",
    "scrambled_oligo = mpra_library_oligo[scrambled_CREs.index].reset_index().rename(columns={0:\"fullOligo\"})\n",
    "scrambled_CREs = pd.merge(scrambled_CREs.reset_index(drop=True), scrambled_oligo, left_index=True, right_index=True)\n",
    "\n",
    "# use new BCs\n",
    "scrambled_CREs[\"BC\"] = all_barcodes[len(CRX_CREs):len(CRX_CREs)+len(scrambled_CREs)].reset_index(drop=True)\n",
    "# rename shulffled sequences so that the _shuff tag would not be cutoff ?? is this necessary/which is more convenient when parsing the final fasta\n",
    "scrambled_CREs[\"label\"] = scrambled_CREs[\"seqnames\"]+\"-\"+scrambled_CREs[\"start\"].astype(str)+\"-\"+scrambled_CREs[\"end\"].astype(str)+\"_\"+scrambled_CREs[\"peak.id\"]+\".shuff\"+\"_\"+scrambled_CREs[\"annotation\"]+\"_\"+scrambled_CREs[\"motif\"]+\"_\"+scrambled_CREs[\"BC\"]\n",
    "scrambled_CREs[\"CRE\"] = scrambled_CREs[\"fullOligo\"].apply(lambda row: row[len(primerF+EcoRI):-len(SpeI+\"C\"+SphI+\"NNNNNNNNNN\"+EagI+primerR)])\n",
    "scrambled_CREs[\"fullOligo\"] = primerF+EcoRI+scrambled_CREs[\"CRE\"]+SpeI+\"C\"+SphI+scrambled_CREs[\"BC\"]+EagI+primerR_revcomp\n",
    "scrambled_CREs[\"BC.inOligo\"] = scrambled_CREs[\"fullOligo\"].apply(lambda row: row[-len(\"NNNNNNNNNN\"+EagI+primerR):-len(EagI+primerR)])"
   ]
  },
  {
   "cell_type": "code",
   "execution_count": 187,
   "metadata": {},
   "outputs": [
    {
     "data": {
      "text/plain": [
       "'chr1-66831349-66831482_peak.159.shuff_ELost_scrambled_CAGCTATCGT'"
      ]
     },
     "execution_count": 187,
     "metadata": {},
     "output_type": "execute_result"
    }
   ],
   "source": [
    "scrambled_CREs[\"label\"][0]"
   ]
  },
  {
   "cell_type": "code",
   "execution_count": 188,
   "metadata": {},
   "outputs": [
    {
     "data": {
      "text/plain": [
       "0"
      ]
     },
     "execution_count": 188,
     "metadata": {},
     "output_type": "execute_result"
    }
   ],
   "source": [
    "# if all BCs in oligo matches that in label\n",
    "sum(scrambled_CREs[\"BC\"]!=scrambled_CREs[\"BC.inOligo\"])"
   ]
  },
  {
   "cell_type": "code",
   "execution_count": 189,
   "metadata": {},
   "outputs": [
    {
     "name": "stdout",
     "output_type": "stream",
     "text": [
      "Looking for matches: GAATTC|ACTAGT|GCATGC|CGGCCG\n"
     ]
    },
    {
     "data": {
      "text/plain": [
       "Series([], Name: CRE, dtype: object)"
      ]
     },
     "execution_count": 189,
     "metadata": {},
     "output_type": "execute_result"
    }
   ],
   "source": [
    "mpra_CRE_utils.find_REsite_match(scrambled_CREs[\"CRE\"], RE_list=[EcoRI,SpeI,SphI,EagI])"
   ]
  },
  {
   "cell_type": "code",
   "execution_count": 213,
   "metadata": {},
   "outputs": [],
   "source": [
    "control_CREs = control_oligo.index.str.split(pat=\"_|-\", expand=True).to_frame().reset_index(drop=True).rename(columns={0:\"seqnames\",\n",
    "                                                                                                                        1:\"start\",\n",
    "                                                                                                                        2:\"end\",\n",
    "                                                                                                                        3:\"peak.id\",\n",
    "                                                                                                                        4:\"annotation\",\n",
    "                                                                                                                        5:\"motif\",\n",
    "                                                                                                                        6:\"BC\"})\n",
    "control_CREs = pd.merge(control_CREs.reset_index(drop=True), control_oligo.reset_index().rename(columns={0:\"fullOligo\"}), left_index=True, right_index=True)\n",
    "\n",
    "\n",
    "# use new BCs\n",
    "control_CREs[\"BC\"] = all_barcodes[len(CRX_CREs)+len(scrambled_CREs):len(CRX_CREs)+len(scrambled_CREs)+len(control_CREs)].reset_index(drop=True)\n",
    "control_CREs[\"label\"] = control_CREs[\"seqnames\"]+\"-\"+control_CREs[\"start\"].astype(str)+\"-\"+control_CREs[\"end\"].astype(str)+\"_\"+control_CREs[\"peak.id\"]+\"_\"+control_CREs[\"annotation\"]+\"_\"+control_CREs[\"motif\"]+\"_\"+control_CREs[\"BC\"]\n",
    "control_CREs[\"CRE\"] = control_CREs[\"fullOligo\"].apply(lambda row: row[len(primerF+EcoRI):-len(SpeI+\"C\"+SphI+\"NNNNNNNNNN\"+EagI+primerR)])\n",
    "control_CREs[\"fullOligo\"] = primerF+EcoRI+control_CREs[\"CRE\"]+SpeI+\"C\"+SphI+control_CREs[\"BC\"]+EagI+primerR_revcomp\n",
    "control_CREs[\"BC.inOligo\"] = control_CREs[\"fullOligo\"].apply(lambda row: row[-len(\"NNNNNNNNNN\"+EagI+primerR):-len(EagI+primerR)])"
   ]
  },
  {
   "cell_type": "code",
   "execution_count": 191,
   "metadata": {},
   "outputs": [
    {
     "data": {
      "text/plain": [
       "0"
      ]
     },
     "execution_count": 191,
     "metadata": {},
     "output_type": "execute_result"
    }
   ],
   "source": [
    "# if all BCs in oligo matches that in label\n",
    "sum(control_CREs[\"BC\"]!=control_CREs[\"BC.inOligo\"])"
   ]
  },
  {
   "cell_type": "code",
   "execution_count": 192,
   "metadata": {},
   "outputs": [
    {
     "name": "stdout",
     "output_type": "stream",
     "text": [
      "Looking for matches: GAATTC|ACTAGT|GCATGC|CGGCCG\n"
     ]
    },
    {
     "data": {
      "text/plain": [
       "Series([], Name: CRE, dtype: object)"
      ]
     },
     "execution_count": 192,
     "metadata": {},
     "output_type": "execute_result"
    }
   ],
   "source": [
    "mpra_CRE_utils.find_REsite_match(control_CREs[\"CRE\"], RE_list=[EcoRI,SpeI,SphI,EagI])"
   ]
  },
  {
   "cell_type": "code",
   "execution_count": 246,
   "metadata": {},
   "outputs": [],
   "source": [
    "basal_CREs = basal_oligo.index.str.split(pat=\"_|-\", expand=True).to_frame().reset_index(drop=True).reset_index(drop=True)\n",
    "basal_CREs = basal_oligo.index.str.split(pat=\"_|-\", expand=True).to_frame().reset_index(drop=True).rename(columns={0:\"peak.id\",\n",
    "                                                                                                                    1:\"BC\"})\n",
    "basal_CREs = pd.merge(basal_CREs.reset_index(drop=True), basal_oligo.reset_index().rename(columns={0:\"fullOligo\"}), left_index=True, right_index=True)\n",
    "\n",
    "# use new BCs\n",
    "basal_CREs[\"BC\"] = all_barcodes[len(CRX_CREs)+len(scrambled_CREs)+len(control_CREs):len(CRX_CREs)+len(scrambled_CREs)+len(control_CREs)+20].reset_index(drop=True)\n",
    "basal_CREs[\"label\"] = basal_CREs[\"peak.id\"]+\"_\"+basal_CREs[\"BC\"]\n",
    "basal_CREs[\"fullOligo\"] = primerF+EcoRI+SpeI+\"C\"+basalFiller+SphI+basal_CREs[\"BC\"]+EagI+primerR_revcomp\n",
    "basal_CREs[\"BC.inOligo\"] = basal_CREs[\"fullOligo\"].apply(lambda row: row[-len(\"NNNNNNNNNN\"+EagI+primerR):-len(EagI+primerR)])"
   ]
  },
  {
   "cell_type": "code",
   "execution_count": 194,
   "metadata": {},
   "outputs": [
    {
     "data": {
      "text/plain": [
       "0"
      ]
     },
     "execution_count": 194,
     "metadata": {},
     "output_type": "execute_result"
    }
   ],
   "source": [
    "# if all BCs in oligo matches that in label\n",
    "sum(basal_CREs[\"BC\"]!=basal_CREs[\"BC.inOligo\"])"
   ]
  },
  {
   "attachments": {},
   "cell_type": "markdown",
   "metadata": {},
   "source": [
    "### check unique BCs"
   ]
  },
  {
   "cell_type": "code",
   "execution_count": 247,
   "metadata": {},
   "outputs": [],
   "source": [
    "CRX_oligo_BCs = CRX_CREs[\"BC.inOligo\"].copy()\n",
    "scrambled_oligo_BCs = scrambled_CREs[\"BC.inOligo\"].copy()\n",
    "control_oligo_BCs = control_CREs[\"BC.inOligo\"].copy()\n",
    "basal_oligo_BCs = basal_CREs[\"BC.inOligo\"].copy()"
   ]
  },
  {
   "cell_type": "code",
   "execution_count": 196,
   "metadata": {},
   "outputs": [
    {
     "data": {
      "text/plain": [
       "17920"
      ]
     },
     "execution_count": 196,
     "metadata": {},
     "output_type": "execute_result"
    }
   ],
   "source": [
    "len(pd.concat([CRX_oligo_BCs,scrambled_oligo_BCs,control_oligo_BCs,basal_oligo_BCs]).unique())"
   ]
  },
  {
   "cell_type": "code",
   "execution_count": 197,
   "metadata": {},
   "outputs": [
    {
     "data": {
      "text/plain": [
       "17920"
      ]
     },
     "execution_count": 197,
     "metadata": {},
     "output_type": "execute_result"
    }
   ],
   "source": [
    "len(mpra_library_oligo)+len(control_oligo)+len(basal_oligo)"
   ]
  },
  {
   "attachments": {},
   "cell_type": "markdown",
   "metadata": {},
   "source": [
    "### check remaining marked HD motifs not mutated"
   ]
  },
  {
   "cell_type": "code",
   "execution_count": 147,
   "metadata": {},
   "outputs": [],
   "source": [
    "# 1-indexed nucleotide position dictionaries\n",
    "dimer_core = {1:\"T\", 2:\"A\", 3:\"A\", 9:\"T\", 10:\"T\", 11:\"A\"} # k88n_olap.MEME.2\n",
    "corbo_mono_core = {2:\"T\", 3:\"A\", 4:\"A\"} # CRX_Corbo\n",
    "crx_mono_core = {8:\"T\", 9:\"T\", 10:\"A\"} # JASPAR\n",
    "n50_mono_core = {5:\"T\", 6:\"T\", 7:\"A\"} # k88n_olap.DERME.1\n",
    "dimer_mutant_core = {3:\"C\", 9:\"G\"}\n",
    "corbo_mutant_core = {4:\"C\"}\n",
    "crx_mutant_core = {8:\"G\"}\n",
    "n50_mutant_core = {5:\"G\"}\n",
    "\n",
    "dimer_motif=\"k88n_olap.MEME.2\"\n",
    "mono_motif = \"CRX_Corbo\"\n",
    "n50_motif = \"k88n_olap.DREME.1\""
   ]
  },
  {
   "cell_type": "code",
   "execution_count": 142,
   "metadata": {},
   "outputs": [],
   "source": [
    "# motif position information\n",
    "allMonomerSites = pd.read_csv(os.path.join(base_dir, \"peaksets\", f\"allMonomerMutatedSites.fimo{fimo_th}.tsv\"), sep=\"\\t\", header=0)\n",
    "allDimerSites = pd.read_csv(os.path.join(base_dir, \"peaksets\", f\"allDimerMutatedSites.fimo{fimo_th}.tsv\"), sep=\"\\t\", header=0)"
   ]
  },
  {
   "cell_type": "code",
   "execution_count": 144,
   "metadata": {},
   "outputs": [],
   "source": [
    "dimerMutated_fasta = CRX_CREs.loc[lambda df: df.motif==\"mutD\",\"CRE\"].copy().dropna()"
   ]
  },
  {
   "cell_type": "code",
   "execution_count": 148,
   "metadata": {},
   "outputs": [],
   "source": [
    "dimerMatched_fimo_score, _ = mpra_CRE_utils.find_and_mutate_motif(dimerMutated_fasta, allDimerSites, dimer_motif, dimer_mutant_core, dimer_core)"
   ]
  },
  {
   "cell_type": "code",
   "execution_count": 149,
   "metadata": {},
   "outputs": [
    {
     "data": {
      "text/html": [
       "<div>\n",
       "<style scoped>\n",
       "    .dataframe tbody tr th:only-of-type {\n",
       "        vertical-align: middle;\n",
       "    }\n",
       "\n",
       "    .dataframe tbody tr th {\n",
       "        vertical-align: top;\n",
       "    }\n",
       "\n",
       "    .dataframe thead th {\n",
       "        text-align: right;\n",
       "    }\n",
       "</style>\n",
       "<table border=\"1\" class=\"dataframe\">\n",
       "  <thead>\n",
       "    <tr style=\"text-align: right;\">\n",
       "      <th></th>\n",
       "      <th>peak.id</th>\n",
       "      <th>motif</th>\n",
       "      <th>start</th>\n",
       "      <th>end</th>\n",
       "      <th>strand</th>\n",
       "      <th>score</th>\n",
       "      <th>match_seq</th>\n",
       "      <th>mutated_seq</th>\n",
       "    </tr>\n",
       "  </thead>\n",
       "  <tbody>\n",
       "  </tbody>\n",
       "</table>\n",
       "</div>"
      ],
      "text/plain": [
       "Empty DataFrame\n",
       "Columns: [peak.id, motif, start, end, strand, score, match_seq, mutated_seq]\n",
       "Index: []"
      ]
     },
     "execution_count": 149,
     "metadata": {},
     "output_type": "execute_result"
    }
   ],
   "source": [
    "dimerMatched_fimo_score"
   ]
  },
  {
   "cell_type": "code",
   "execution_count": 182,
   "metadata": {},
   "outputs": [],
   "source": [
    "monomerMatched_fimo_score, _ = mpra_CRE_utils.find_and_mutate_motif(dimerMutated_fasta, allMonomerSites, mono_motif, corbo_mutant_core, corbo_mono_core)\n",
    "monomerMatched_fimo_score2, _ = mpra_CRE_utils.find_and_mutate_motif(dimerMutated_fasta, allMonomerSites, mono_motif, n50_mutant_core, n50_mono_core)"
   ]
  },
  {
   "cell_type": "code",
   "execution_count": 151,
   "metadata": {},
   "outputs": [
    {
     "data": {
      "text/html": [
       "<div>\n",
       "<style scoped>\n",
       "    .dataframe tbody tr th:only-of-type {\n",
       "        vertical-align: middle;\n",
       "    }\n",
       "\n",
       "    .dataframe tbody tr th {\n",
       "        vertical-align: top;\n",
       "    }\n",
       "\n",
       "    .dataframe thead th {\n",
       "        text-align: right;\n",
       "    }\n",
       "</style>\n",
       "<table border=\"1\" class=\"dataframe\">\n",
       "  <thead>\n",
       "    <tr style=\"text-align: right;\">\n",
       "      <th></th>\n",
       "      <th>peak.id</th>\n",
       "      <th>motif</th>\n",
       "      <th>start</th>\n",
       "      <th>end</th>\n",
       "      <th>strand</th>\n",
       "      <th>score</th>\n",
       "      <th>match_seq</th>\n",
       "      <th>mutated_seq</th>\n",
       "    </tr>\n",
       "  </thead>\n",
       "  <tbody>\n",
       "  </tbody>\n",
       "</table>\n",
       "</div>"
      ],
      "text/plain": [
       "Empty DataFrame\n",
       "Columns: [peak.id, motif, start, end, strand, score, match_seq, mutated_seq]\n",
       "Index: []"
      ]
     },
     "execution_count": 151,
     "metadata": {},
     "output_type": "execute_result"
    }
   ],
   "source": [
    "monomerMatched_fimo_score"
   ]
  },
  {
   "cell_type": "code",
   "execution_count": 183,
   "metadata": {},
   "outputs": [
    {
     "data": {
      "text/html": [
       "<div>\n",
       "<style scoped>\n",
       "    .dataframe tbody tr th:only-of-type {\n",
       "        vertical-align: middle;\n",
       "    }\n",
       "\n",
       "    .dataframe tbody tr th {\n",
       "        vertical-align: top;\n",
       "    }\n",
       "\n",
       "    .dataframe thead th {\n",
       "        text-align: right;\n",
       "    }\n",
       "</style>\n",
       "<table border=\"1\" class=\"dataframe\">\n",
       "  <thead>\n",
       "    <tr style=\"text-align: right;\">\n",
       "      <th></th>\n",
       "      <th>peak.id</th>\n",
       "      <th>motif</th>\n",
       "      <th>start</th>\n",
       "      <th>end</th>\n",
       "      <th>strand</th>\n",
       "      <th>score</th>\n",
       "      <th>match_seq</th>\n",
       "      <th>mutated_seq</th>\n",
       "    </tr>\n",
       "  </thead>\n",
       "  <tbody>\n",
       "  </tbody>\n",
       "</table>\n",
       "</div>"
      ],
      "text/plain": [
       "Empty DataFrame\n",
       "Columns: [peak.id, motif, start, end, strand, score, match_seq, mutated_seq]\n",
       "Index: []"
      ]
     },
     "execution_count": 183,
     "metadata": {},
     "output_type": "execute_result"
    }
   ],
   "source": [
    "monomerMatched_fimo_score2"
   ]
  },
  {
   "cell_type": "code",
   "execution_count": 152,
   "metadata": {},
   "outputs": [],
   "source": [
    "doubleMatched_fimo_score1, _ = mpra_CRE_utils.find_and_mutate_motif(dimerMutated_fasta, allDimerSites, dimer_motif, dimer_mutant_core, dimer_core)\n",
    "doubleMatched_fimo_score2, _ = mpra_CRE_utils.find_and_mutate_motif(dimerMutated_fasta, allMonomerSites, mono_motif, corbo_mutant_core, corbo_mono_core)"
   ]
  },
  {
   "cell_type": "code",
   "execution_count": 153,
   "metadata": {},
   "outputs": [
    {
     "data": {
      "text/html": [
       "<div>\n",
       "<style scoped>\n",
       "    .dataframe tbody tr th:only-of-type {\n",
       "        vertical-align: middle;\n",
       "    }\n",
       "\n",
       "    .dataframe tbody tr th {\n",
       "        vertical-align: top;\n",
       "    }\n",
       "\n",
       "    .dataframe thead th {\n",
       "        text-align: right;\n",
       "    }\n",
       "</style>\n",
       "<table border=\"1\" class=\"dataframe\">\n",
       "  <thead>\n",
       "    <tr style=\"text-align: right;\">\n",
       "      <th></th>\n",
       "      <th>peak.id</th>\n",
       "      <th>motif</th>\n",
       "      <th>start</th>\n",
       "      <th>end</th>\n",
       "      <th>strand</th>\n",
       "      <th>score</th>\n",
       "      <th>match_seq</th>\n",
       "      <th>mutated_seq</th>\n",
       "    </tr>\n",
       "  </thead>\n",
       "  <tbody>\n",
       "  </tbody>\n",
       "</table>\n",
       "</div>"
      ],
      "text/plain": [
       "Empty DataFrame\n",
       "Columns: [peak.id, motif, start, end, strand, score, match_seq, mutated_seq]\n",
       "Index: []"
      ]
     },
     "execution_count": 153,
     "metadata": {},
     "output_type": "execute_result"
    }
   ],
   "source": [
    "doubleMatched_fimo_score1"
   ]
  },
  {
   "cell_type": "code",
   "execution_count": 154,
   "metadata": {},
   "outputs": [
    {
     "data": {
      "text/html": [
       "<div>\n",
       "<style scoped>\n",
       "    .dataframe tbody tr th:only-of-type {\n",
       "        vertical-align: middle;\n",
       "    }\n",
       "\n",
       "    .dataframe tbody tr th {\n",
       "        vertical-align: top;\n",
       "    }\n",
       "\n",
       "    .dataframe thead th {\n",
       "        text-align: right;\n",
       "    }\n",
       "</style>\n",
       "<table border=\"1\" class=\"dataframe\">\n",
       "  <thead>\n",
       "    <tr style=\"text-align: right;\">\n",
       "      <th></th>\n",
       "      <th>peak.id</th>\n",
       "      <th>motif</th>\n",
       "      <th>start</th>\n",
       "      <th>end</th>\n",
       "      <th>strand</th>\n",
       "      <th>score</th>\n",
       "      <th>match_seq</th>\n",
       "      <th>mutated_seq</th>\n",
       "    </tr>\n",
       "  </thead>\n",
       "  <tbody>\n",
       "  </tbody>\n",
       "</table>\n",
       "</div>"
      ],
      "text/plain": [
       "Empty DataFrame\n",
       "Columns: [peak.id, motif, start, end, strand, score, match_seq, mutated_seq]\n",
       "Index: []"
      ]
     },
     "execution_count": 154,
     "metadata": {},
     "output_type": "execute_result"
    }
   ],
   "source": [
    "doubleMatched_fimo_score2"
   ]
  },
  {
   "attachments": {},
   "cell_type": "markdown",
   "metadata": {},
   "source": [
    "### just to be sure, scan the full mutated CRE library again with fimo"
   ]
  },
  {
   "cell_type": "code",
   "execution_count": 171,
   "metadata": {},
   "outputs": [],
   "source": [
    "allMutated_fasta = CRX_CREs.drop_duplicates(subset=[\"seqnames\",\"start\"]).loc[lambda df: df.motif!=\"wt\",[\"label\",\"CRE\"]].copy().set_index(\"label\").squeeze()"
   ]
  },
  {
   "cell_type": "code",
   "execution_count": 173,
   "metadata": {},
   "outputs": [],
   "source": [
    "equence_annotator.write_fasta(allMutated_fasta, os.path.join(base_dir, \"sequences\", f\"mutatedCREs_fimo{fimo_th}\", \"hdmuts_library.allMutatedCREs.fa\"))"
   ]
  },
  {
   "cell_type": "code",
   "execution_count": 164,
   "metadata": {},
   "outputs": [],
   "source": [
    "meme_dir = f\"{base_dir}/meme/all_chip_pwm.meme\"\n",
    "fimo_meta = f\"{base_dir}/scripts/fimo_meta.csv\""
   ]
  },
  {
   "cell_type": "code",
   "execution_count": 166,
   "metadata": {},
   "outputs": [
    {
     "data": {
      "text/html": [
       "<div>\n",
       "<style scoped>\n",
       "    .dataframe tbody tr th:only-of-type {\n",
       "        vertical-align: middle;\n",
       "    }\n",
       "\n",
       "    .dataframe tbody tr th {\n",
       "        vertical-align: top;\n",
       "    }\n",
       "\n",
       "    .dataframe thead th {\n",
       "        text-align: right;\n",
       "    }\n",
       "</style>\n",
       "<table border=\"1\" class=\"dataframe\">\n",
       "  <thead>\n",
       "    <tr style=\"text-align: right;\">\n",
       "      <th></th>\n",
       "      <th>sampleName</th>\n",
       "      <th>inputFA</th>\n",
       "      <th>markovBG</th>\n",
       "      <th>outputDir</th>\n",
       "    </tr>\n",
       "  </thead>\n",
       "  <tbody>\n",
       "    <tr>\n",
       "      <th>12</th>\n",
       "      <td>final_exam</td>\n",
       "      <td>final_exam/hdmuts_library.allMutatedCREs.fa</td>\n",
       "      <td>final_exam/hdmuts_library.allMutatedCREs.backg...</td>\n",
       "      <td>final_exam</td>\n",
       "    </tr>\n",
       "  </tbody>\n",
       "</table>\n",
       "</div>"
      ],
      "text/plain": [
       "    sampleName                                      inputFA  \\\n",
       "12  final_exam  final_exam/hdmuts_library.allMutatedCREs.fa   \n",
       "\n",
       "                                             markovBG   outputDir  \n",
       "12  final_exam/hdmuts_library.allMutatedCREs.backg...  final_exam  "
      ]
     },
     "execution_count": 166,
     "metadata": {},
     "output_type": "execute_result"
    }
   ],
   "source": [
    "fimo_sample_list = pd.read_csv(fimo_meta, header=0)\n",
    "fimo_sample_list.tail(1)"
   ]
  },
  {
   "cell_type": "code",
   "execution_count": 174,
   "metadata": {},
   "outputs": [],
   "source": [
    "# copy the newly generated fasta to fimo folder\n",
    "old_dir = os.path.join(base_dir, \"sequences\", f\"mutatedCREs_fimo{fimo_th}\", \"hdmuts_library.allMutatedCREs.fa\")\n",
    "new_dir = os.path.join(base_dir, f\"fimo_{fimo_th}\", os.path.split(fimo_sample_list.iloc[-1,1])[0].split(\"/\")[-1])\n",
    "!mkdir -p \"{new_dir}\"\n",
    "!cp \"{old_dir}\" \"{new_dir}\""
   ]
  },
  {
   "cell_type": "code",
   "execution_count": 175,
   "metadata": {},
   "outputs": [
    {
     "name": "stdout",
     "output_type": "stream",
     "text": [
      "working directory: /mnt/v/yqzheng/qiaoer/VSCode_yiqiao/SPEC-SEQ/scripts\n",
      "query fasta: /mnt/v/yqzheng/qiaoer/PhD Thesis/Experiment/MPRA/hdmuts_library/fimo_0.0025/final_exam/hdmuts_library.allMutatedCREs.fa\n",
      "\u001b[K1788 134 134 134.0 239592\n",
      "Scanning with threshold 0.0025\n",
      "FIMO output will be written to /mnt/v/yqzheng/qiaoer/PhD Thesis/Experiment/MPRA/hdmuts_library/fimo_0.0025/final_exam\n",
      "ha! this is the end of the script!\n"
     ]
    }
   ],
   "source": [
    "!bash ./scripts/meme_fimo_scanning.sh \"{scriptdir}\" \"{base_dir}\" \"{meme_dir}\" \"{fimo_th}\" \"{fimo_meta}\" 13"
   ]
  },
  {
   "cell_type": "code",
   "execution_count": 176,
   "metadata": {},
   "outputs": [],
   "source": [
    "# read fimo score for the unmasked fasta sequences\n",
    "fimo_score = pd.read_csv(os.path.join(base_dir, f\"fimo_{fimo_th}\", \"final_exam\", \"fimo.tsv\"), sep=\"\\t\", header=0)"
   ]
  },
  {
   "cell_type": "code",
   "execution_count": 178,
   "metadata": {},
   "outputs": [],
   "source": [
    "dimerMatched_fimo_score2, _ = mpra_CRE_utils.find_and_mutate_motif(dimerMutated_fasta, fimo_score, dimer_motif, dimer_mutant_core, dimer_core)"
   ]
  },
  {
   "cell_type": "code",
   "execution_count": 179,
   "metadata": {},
   "outputs": [
    {
     "data": {
      "text/html": [
       "<div>\n",
       "<style scoped>\n",
       "    .dataframe tbody tr th:only-of-type {\n",
       "        vertical-align: middle;\n",
       "    }\n",
       "\n",
       "    .dataframe tbody tr th {\n",
       "        vertical-align: top;\n",
       "    }\n",
       "\n",
       "    .dataframe thead th {\n",
       "        text-align: right;\n",
       "    }\n",
       "</style>\n",
       "<table border=\"1\" class=\"dataframe\">\n",
       "  <thead>\n",
       "    <tr style=\"text-align: right;\">\n",
       "      <th></th>\n",
       "      <th>peak.id</th>\n",
       "      <th>motif</th>\n",
       "      <th>start</th>\n",
       "      <th>end</th>\n",
       "      <th>strand</th>\n",
       "      <th>score</th>\n",
       "      <th>match_seq</th>\n",
       "      <th>mutated_seq</th>\n",
       "    </tr>\n",
       "  </thead>\n",
       "  <tbody>\n",
       "  </tbody>\n",
       "</table>\n",
       "</div>"
      ],
      "text/plain": [
       "Empty DataFrame\n",
       "Columns: [peak.id, motif, start, end, strand, score, match_seq, mutated_seq]\n",
       "Index: []"
      ]
     },
     "execution_count": 179,
     "metadata": {},
     "output_type": "execute_result"
    }
   ],
   "source": [
    "dimerMatched_fimo_score2"
   ]
  },
  {
   "cell_type": "code",
   "execution_count": 184,
   "metadata": {},
   "outputs": [],
   "source": [
    "monomerMatched_fimo_score3, _ = mpra_CRE_utils.find_and_mutate_motif(dimerMutated_fasta, fimo_score, mono_motif, corbo_mutant_core, corbo_mono_core)\n",
    "monomerMatched_fimo_score4, _ = mpra_CRE_utils.find_and_mutate_motif(dimerMutated_fasta, fimo_score, mono_motif, n50_mutant_core, n50_mono_core)"
   ]
  },
  {
   "cell_type": "code",
   "execution_count": 185,
   "metadata": {},
   "outputs": [
    {
     "data": {
      "text/html": [
       "<div>\n",
       "<style scoped>\n",
       "    .dataframe tbody tr th:only-of-type {\n",
       "        vertical-align: middle;\n",
       "    }\n",
       "\n",
       "    .dataframe tbody tr th {\n",
       "        vertical-align: top;\n",
       "    }\n",
       "\n",
       "    .dataframe thead th {\n",
       "        text-align: right;\n",
       "    }\n",
       "</style>\n",
       "<table border=\"1\" class=\"dataframe\">\n",
       "  <thead>\n",
       "    <tr style=\"text-align: right;\">\n",
       "      <th></th>\n",
       "      <th>peak.id</th>\n",
       "      <th>motif</th>\n",
       "      <th>start</th>\n",
       "      <th>end</th>\n",
       "      <th>strand</th>\n",
       "      <th>score</th>\n",
       "      <th>match_seq</th>\n",
       "      <th>mutated_seq</th>\n",
       "    </tr>\n",
       "  </thead>\n",
       "  <tbody>\n",
       "  </tbody>\n",
       "</table>\n",
       "</div>"
      ],
      "text/plain": [
       "Empty DataFrame\n",
       "Columns: [peak.id, motif, start, end, strand, score, match_seq, mutated_seq]\n",
       "Index: []"
      ]
     },
     "execution_count": 185,
     "metadata": {},
     "output_type": "execute_result"
    }
   ],
   "source": [
    "monomerMatched_fimo_score3"
   ]
  },
  {
   "cell_type": "code",
   "execution_count": 186,
   "metadata": {},
   "outputs": [
    {
     "data": {
      "text/html": [
       "<div>\n",
       "<style scoped>\n",
       "    .dataframe tbody tr th:only-of-type {\n",
       "        vertical-align: middle;\n",
       "    }\n",
       "\n",
       "    .dataframe tbody tr th {\n",
       "        vertical-align: top;\n",
       "    }\n",
       "\n",
       "    .dataframe thead th {\n",
       "        text-align: right;\n",
       "    }\n",
       "</style>\n",
       "<table border=\"1\" class=\"dataframe\">\n",
       "  <thead>\n",
       "    <tr style=\"text-align: right;\">\n",
       "      <th></th>\n",
       "      <th>peak.id</th>\n",
       "      <th>motif</th>\n",
       "      <th>start</th>\n",
       "      <th>end</th>\n",
       "      <th>strand</th>\n",
       "      <th>score</th>\n",
       "      <th>match_seq</th>\n",
       "      <th>mutated_seq</th>\n",
       "    </tr>\n",
       "  </thead>\n",
       "  <tbody>\n",
       "  </tbody>\n",
       "</table>\n",
       "</div>"
      ],
      "text/plain": [
       "Empty DataFrame\n",
       "Columns: [peak.id, motif, start, end, strand, score, match_seq, mutated_seq]\n",
       "Index: []"
      ]
     },
     "execution_count": 186,
     "metadata": {},
     "output_type": "execute_result"
    }
   ],
   "source": [
    "monomerMatched_fimo_score4"
   ]
  },
  {
   "attachments": {},
   "cell_type": "markdown",
   "metadata": {},
   "source": [
    "### everything listed looks good, compile annotation dataframe and fasta"
   ]
  },
  {
   "cell_type": "code",
   "execution_count": 248,
   "metadata": {},
   "outputs": [],
   "source": [
    "# annotation dataframe\n",
    "full_library_df = pd.concat([CRX_CREs, scrambled_CREs, control_CREs, basal_CREs]).drop(columns=\"shuffled\").reset_index(drop=True)"
   ]
  },
  {
   "attachments": {},
   "cell_type": "markdown",
   "metadata": {},
   "source": [
    "#### peak.8438 starts with GGCCG and will create a EagI site when placed next to EcoRI site, remove all instances for this peak"
   ]
  },
  {
   "cell_type": "code",
   "execution_count": 249,
   "metadata": {},
   "outputs": [],
   "source": [
    "full_library_df = full_library_df.loc[lambda df: ~(df[\"peak.id\"]==\"peak.8483\"),:].reset_index(drop=True)"
   ]
  },
  {
   "cell_type": "code",
   "execution_count": 250,
   "metadata": {},
   "outputs": [
    {
     "data": {
      "text/plain": [
       "17912"
      ]
     },
     "execution_count": 250,
     "metadata": {},
     "output_type": "execute_result"
    }
   ],
   "source": [
    "sum(full_library_df[\"fullOligo\"].apply(lambda row: len(row)==200))"
   ]
  },
  {
   "cell_type": "code",
   "execution_count": 251,
   "metadata": {},
   "outputs": [
    {
     "data": {
      "text/plain": [
       "0"
      ]
     },
     "execution_count": 251,
     "metadata": {},
     "output_type": "execute_result"
    }
   ],
   "source": [
    "sum(full_library_df[\"BC.inOligo\"].apply(lambda row: (row[-4:]==\"CGGC\")|(row[-5:]==\"GCATG\")|(row[:5]==\"GGCCG\")|(row[-5:]==\"GAATT\")))"
   ]
  },
  {
   "cell_type": "code",
   "execution_count": 252,
   "metadata": {},
   "outputs": [],
   "source": [
    "full_library_df.to_csv(os.path.join(base_dir, \"submission\", f\"full_library.fimo{fimo_th}.tsv\"), sep=\"\\t\", header=True, index=False)"
   ]
  },
  {
   "cell_type": "code",
   "execution_count": 253,
   "metadata": {},
   "outputs": [],
   "source": [
    "# annotation dataframe in Twist format\n",
    "full_library_forTwist = full_library_df.loc[:,[\"label\",\"fullOligo\"]].copy()\n",
    "full_library_forTwist.to_csv(os.path.join(base_dir, \"submission\", f\"full_library.fimo{fimo_th}.Twist.tsv\"), sep=\"\\t\", header=True, index=False)"
   ]
  },
  {
   "cell_type": "code",
   "execution_count": 254,
   "metadata": {},
   "outputs": [],
   "source": [
    "# label to BC map\n",
    "full_library_BCs = full_library_df.loc[:,[\"label\",\"BC\",\"BC.inOligo\"]].copy()\n",
    "full_library_BCs.to_csv(os.path.join(base_dir, \"submission\", f\"full_library.fimo{fimo_th}.BarCodes.tsv\"), sep=\"\\t\", header=True, index=False)"
   ]
  },
  {
   "cell_type": "code",
   "execution_count": 255,
   "metadata": {},
   "outputs": [],
   "source": [
    "# CRE sequences only\n",
    "full_library_CREs = full_library_df.copy().dropna().loc[:,[\"label\",\"CRE\"]].set_index(\"label\").squeeze()\n",
    "sequence_annotator.write_fasta(full_library_CREs, os.path.join(base_dir, \"submission\", f\"full_library.CREsOnly.fa\"))"
   ]
  },
  {
   "cell_type": "code",
   "execution_count": 256,
   "metadata": {},
   "outputs": [],
   "source": [
    "# full oligo sequences\n",
    "full_library_fasta = full_library_df.copy().loc[:,[\"label\",\"fullOligo\"]].set_index(\"label\").squeeze()\n",
    "sequence_annotator.write_fasta(full_library_fasta, os.path.join(base_dir, \"submission\", f\"full_library.fullOligo.fa\"))"
   ]
  },
  {
   "cell_type": "code",
   "execution_count": 175,
   "metadata": {},
   "outputs": [
    {
     "data": {
      "text/plain": [
       "'CCAACTACTACTACAG'"
      ]
     },
     "execution_count": 175,
     "metadata": {},
     "output_type": "execute_result"
    }
   ],
   "source": [
    "primerR_revcomp"
   ]
  },
  {
   "cell_type": "code",
   "execution_count": 174,
   "metadata": {},
   "outputs": [
    {
     "name": "stdout",
     "output_type": "stream",
     "text": [
      "Looking for matches: GAATTC|ACTAGT|GCATGC|CGGCCG\n"
     ]
    },
    {
     "data": {
      "text/plain": [
       "Series([], Name: BC, dtype: object)"
      ]
     },
     "execution_count": 174,
     "metadata": {},
     "output_type": "execute_result"
    }
   ],
   "source": [
    "mpra_CRE_utils.find_REsite_match(all_barcodes.squeeze(), RE_list=[EcoRI,SpeI,SphI,EagI])"
   ]
  },
  {
   "cell_type": "code",
   "execution_count": 148,
   "metadata": {},
   "outputs": [
    {
     "data": {
      "text/plain": [
       "'CGGCCG'"
      ]
     },
     "execution_count": 148,
     "metadata": {},
     "output_type": "execute_result"
    }
   ],
   "source": [
    "EagI"
   ]
  },
  {
   "cell_type": "code",
   "execution_count": 147,
   "metadata": {},
   "outputs": [
    {
     "data": {
      "text/plain": [
       "'GCATGC'"
      ]
     },
     "execution_count": 147,
     "metadata": {},
     "output_type": "execute_result"
    }
   ],
   "source": [
    "SphI"
   ]
  },
  {
   "attachments": {},
   "cell_type": "markdown",
   "metadata": {},
   "source": [
    "## FINAL! 06-27-2022 15:50"
   ]
  },
  {
   "cell_type": "code",
   "execution_count": null,
   "metadata": {},
   "outputs": [],
   "source": [
    "full_library_forTwist = pd.read_csv(os.path.join(base_dir, \"submission\", f\"full_library.fimo{fimo_th}.Twist.tsv\"), sep=\"\\t\", header=0)"
   ]
  },
  {
   "cell_type": "code",
   "execution_count": 134,
   "metadata": {},
   "outputs": [],
   "source": [
    "full_library_forTwist[\"BC.inOligo\"] = full_library_forTwist[\"fullOligo\"].apply(lambda row: row[-len(\"NNNNNNNNNN\"+EagI+primerR):-len(EagI+primerR)])"
   ]
  },
  {
   "cell_type": "code",
   "execution_count": 135,
   "metadata": {},
   "outputs": [
    {
     "data": {
      "text/plain": [
       "17920"
      ]
     },
     "execution_count": 135,
     "metadata": {},
     "output_type": "execute_result"
    }
   ],
   "source": [
    "len(full_library_forTwist[\"BC.inOligo\"].unique())"
   ]
  },
  {
   "cell_type": "code",
   "execution_count": 136,
   "metadata": {},
   "outputs": [],
   "source": [
    "full_library_forTwist[\"BC.inLabel\"] = full_library_forTwist[\"label\"].apply(lambda row: row[-10:])"
   ]
  },
  {
   "cell_type": "code",
   "execution_count": 137,
   "metadata": {},
   "outputs": [
    {
     "data": {
      "text/plain": [
       "17920"
      ]
     },
     "execution_count": 137,
     "metadata": {},
     "output_type": "execute_result"
    }
   ],
   "source": [
    "len(full_library_forTwist[\"BC.inLabel\"].unique())"
   ]
  },
  {
   "cell_type": "code",
   "execution_count": 138,
   "metadata": {},
   "outputs": [
    {
     "data": {
      "text/plain": [
       "17920"
      ]
     },
     "execution_count": 138,
     "metadata": {},
     "output_type": "execute_result"
    }
   ],
   "source": [
    "sum(full_library_forTwist[\"BC.inLabel\"]==full_library_forTwist[\"BC.inOligo\"])"
   ]
  },
  {
   "cell_type": "code",
   "execution_count": 139,
   "metadata": {},
   "outputs": [
    {
     "data": {
      "text/plain": [
       "'peak.9841_CACGTTCACG'"
      ]
     },
     "execution_count": 139,
     "metadata": {},
     "output_type": "execute_result"
    }
   ],
   "source": [
    "check_basal = full_library_forTwist.iloc[-20,1]\n",
    "full_library_forTwist.iloc[-20,0]"
   ]
  },
  {
   "cell_type": "code",
   "execution_count": 140,
   "metadata": {},
   "outputs": [
    {
     "data": {
      "text/plain": [
       "True"
      ]
     },
     "execution_count": 140,
     "metadata": {},
     "output_type": "execute_result"
    }
   ],
   "source": [
    "primerF+EcoRI+SpeI+\"C\"+basalFiller == check_basal[0:len(primerF+EcoRI+SpeI+\"C\"+basalFiller)]"
   ]
  },
  {
   "cell_type": "code",
   "execution_count": 142,
   "metadata": {},
   "outputs": [
    {
     "data": {
      "text/plain": [
       "True"
      ]
     },
     "execution_count": 142,
     "metadata": {},
     "output_type": "execute_result"
    }
   ],
   "source": [
    "SphI+full_library_forTwist.iloc[-20,0][-10:]+EagI+primerR_revcomp == check_basal[-len(SphI+\"NNNNNNNNNN\"+EagI+primerR_revcomp):]"
   ]
  }
 ],
 "metadata": {
  "kernelspec": {
   "display_name": "Python 3.9.12 ('mpra')",
   "language": "python",
   "name": "python3"
  },
  "language_info": {
   "codemirror_mode": {
    "name": "ipython",
    "version": 3
   },
   "file_extension": ".py",
   "mimetype": "text/x-python",
   "name": "python",
   "nbconvert_exporter": "python",
   "pygments_lexer": "ipython3",
   "version": "3.9.12 | packaged by conda-forge | (main, Mar 24 2022, 23:25:59) \n[GCC 10.3.0]"
  },
  "orig_nbformat": 4,
  "vscode": {
   "interpreter": {
    "hash": "6abb4b7bab859a9de396deabee55f7ab2a79ecd4f43f7147c7a877724f7bb22d"
   }
  }
 },
 "nbformat": 4,
 "nbformat_minor": 2
}
