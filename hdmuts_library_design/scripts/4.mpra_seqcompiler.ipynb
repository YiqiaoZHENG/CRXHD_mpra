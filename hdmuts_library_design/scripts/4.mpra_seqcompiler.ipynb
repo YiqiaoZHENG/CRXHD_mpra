{
 "cells": [
  {
   "attachments": {},
   "cell_type": "markdown",
   "metadata": {},
   "source": [
    "### for final compilation of sequences from different sub categories"
   ]
  },
  {
   "cell_type": "code",
   "execution_count": 1,
   "metadata": {},
   "outputs": [],
   "source": [
    "import os, sys, warnings, re, glob2, itertools, string, random, math\n",
    "\n",
    "import numpy as np\n",
    "import pandas as pd\n",
    "import scipy\n",
    "from scipy import stats\n",
    "\n",
    "import matplotlib as mpl\n",
    "import matplotlib.pyplot as plt\n",
    "import matplotlib.font_manager\n",
    "from matplotlib_venn import venn3"
   ]
  },
  {
   "cell_type": "code",
   "execution_count": null,
   "metadata": {},
   "outputs": [],
   "source": [
    "# if there's an issue with loading fonts\n",
    "# delete ~/.cache/matplotlib\n",
    "# and reload matplotlib"
   ]
  },
  {
   "attachments": {},
   "cell_type": "markdown",
   "metadata": {},
   "source": [
    "### I.I housekeeping"
   ]
  },
  {
   "cell_type": "code",
   "execution_count": 2,
   "metadata": {},
   "outputs": [],
   "source": [
    "# set up working directories (do not run twice)\n",
    "base_dir = os.path.split(os.getcwd())[0]\n",
    "sys.path.insert(0, os.path.join(os.getcwd(),\"utils\"))\n",
    "os.chdir(base_dir)\n",
    "scriptdir=os.path.join(base_dir, \"scripts\")"
   ]
  },
  {
   "cell_type": "code",
   "execution_count": 4,
   "metadata": {},
   "outputs": [],
   "source": [
    "from utils import specseq_plot_utils,sequence_annotator, mpra_CRE_utils, mpra_plot_utils\n",
    "specseq_plot_utils.set_manuscript_params() # max 7pt"
   ]
  },
  {
   "attachments": {},
   "cell_type": "markdown",
   "metadata": {},
   "source": [
    "### I.II load data"
   ]
  },
  {
   "cell_type": "code",
   "execution_count": 12,
   "metadata": {},
   "outputs": [],
   "source": [
    "# peak lists\n",
    "fimo_th = 2.5e-3\n",
    "# full peak list with annotation\n",
    "mpraAnnot_df = pd.read_csv(os.path.join(base_dir, \"peaksets\", f\"allCRE_annotation.withMutants.fimo{fimo_th}.tsv\"), sep=\"\\t\", header=0)\n",
    "# motif position information\n",
    "allMonomerSites = pd.read_csv(os.path.join(base_dir, \"peaksets\", f\"allMonomerMutatedSites.fimo{fimo_th}.tsv\"), sep=\"\\t\", header=0)\n",
    "allDimerSites = pd.read_csv(os.path.join(base_dir, \"peaksets\", f\"allDimerMutatedSites.fimo{fimo_th}.tsv\"), sep=\"\\t\", header=0)\n",
    "# 20 controls trimmed to 134bp\n",
    "trimmed_control_CREs = pd.read_csv(os.path.join(base_dir, \"peaksets\", \"positiveControls.trimmed.tsv\"), sep=\"\\t\", header=0)\n",
    "# 150 scrambles\n",
    "scrambled_CREs = pd.read_csv(os.path.join(base_dir, \"peaksets\", \"scrambled150.withShuffles.tsv\"), sep=\"\\t\", header=0)\n",
    "\n",
    "# fastas\n",
    "allCRE_fasta = sequence_annotator.read_fasta(os.path.join(base_dir, \"sequences\", \"mpraAllCRE.fa\"))\n",
    "singleDimerMutants = sequence_annotator.read_fasta(os.path.join(base_dir, \"sequences\", f\"mutatedCREs_fimo{fimo_th}\", \"mutatedCRE.k88n_olap.MEME.2.mutated.fa\"))\n",
    "singleMonomerMutants = sequence_annotator.read_fasta(os.path.join(base_dir, \"sequences\", f\"mutatedCREs_fimo{fimo_th}\", \"mutatedCRE.CRX_Corbo.mutated.fa\"))\n",
    "doubleMutants = sequence_annotator.read_fasta(os.path.join(base_dir, \"sequences\", f\"mutatedCREs_fimo{fimo_th}\", \"mutatedCRE.dimerMonomer.mutated.fa\"))\n",
    "trimmed_control_fasta = sequence_annotator.read_fasta(os.path.join(base_dir, \"sequences\", \"positiveControls.trimmed.fa\"))\n",
    "scrambled_fasta = sequence_annotator.read_fasta(os.path.join(base_dir,\"sequences\", \"scrambled150_shuffled.fa\"))\n",
    "\n",
    "# occupancy data\n",
    "mu = 0.1\n",
    "# unmaked occupancy landscape\n",
    "unmasked_occupancy_df = pd.read_csv(os.path.join(base_dir, \"predicted_occp\", f\"allCRE.unmasked.occupancy.mu{str(mu)}.tsv\"), sep=\"\\t\", header=0)\n",
    "# dimeric motif maksed occupancy landscape\n",
    "masked_occupancy_df = pd.read_csv(os.path.join(base_dir, \"predicted_occp\", f\"allCRE.masked.occupancy.mu{str(mu)}.tsv\"), sep=\"\\t\", header=0)\n",
    "mu = 9\n",
    "# unmaked occupancy landscape\n",
    "unmasked_occupancy_df2 = pd.read_csv(os.path.join(base_dir, \"predicted_occp\", f\"allCRE.unmasked.occupancy.mu{str(mu)}.tsv\"), sep=\"\\t\", header=0)\n",
    "# dimeric motif maksed occupancy landscape\n",
    "masked_occupancy_df2 = pd.read_csv(os.path.join(base_dir, \"predicted_occp\", f\"allCRE.masked.occupancy.mu{str(mu)}.tsv\"), sep=\"\\t\", header=0)"
   ]
  },
  {
   "cell_type": "code",
   "execution_count": 13,
   "metadata": {},
   "outputs": [],
   "source": [
    "# subseting peaks\n",
    "retinalGene_CRE = mpraAnnot_df.loc[lambda df: df.annotation == \"RetinalGene\"].copy().reset_index(drop=True)\n",
    "e80a_gained = mpraAnnot_df.loc[lambda df: df.annotation == \"EGain\"].copy().reset_index(drop=True)\n",
    "e80a_lost = mpraAnnot_df.loc[lambda df: df.annotation == \"ELost\"].copy().reset_index(drop=True)\n",
    "k88n_gained = mpraAnnot_df.loc[lambda df: df.annotation == \"KGain\"].copy().reset_index(drop=True)\n",
    "k88nlost_CREs = mpraAnnot_df.loc[lambda df: df.annotation == \"KLost\"].copy().reset_index(drop=True)\n",
    "notdiffbound_CREs = mpraAnnot_df.loc[lambda df: df.annotation == \"NotDB\"].copy().reset_index(drop=True)"
   ]
  },
  {
   "attachments": {},
   "cell_type": "markdown",
   "metadata": {},
   "source": [
    "#### scan for RE sites (if mutant contains RE site, need to get rid of all forms of the same CRE)"
   ]
  },
  {
   "cell_type": "code",
   "execution_count": 14,
   "metadata": {},
   "outputs": [
    {
     "name": "stdout",
     "output_type": "stream",
     "text": [
      "Looking for matches: GAATTC|ACTAGT|GCATGC|CGGCCG\n"
     ]
    }
   ],
   "source": [
    "EcoRI=\"GAATTC\"\n",
    "SpeI=\"ACTAGT\"\n",
    "SphI=\"GCATGC\"\n",
    "EagI=\"CGGCCG\"\n",
    "\n",
    "allCRE_REsite_matches = mpra_CRE_utils.find_REsite_match(allCRE_fasta, RE_list=[EcoRI,SpeI,SphI,EagI])\n",
    "#sequence_annotator.write_fasta(allCRE_REsite_matches, os.path.join(mpraout_dir, \"sequences\", \"allCRE.REmatched.fa\"))"
   ]
  },
  {
   "cell_type": "code",
   "execution_count": 262,
   "metadata": {},
   "outputs": [],
   "source": [
    "# extract the set of peaks we are going to do random selection from\n",
    "candidate_CREs = mpraAnnot_df.loc[lambda df: (df.annotation == \"KLost\")|(df.annotation == \"NotDB\")].copy().reset_index(drop=True)\n",
    "testing_CREs = mpraAnnot_df.loc[lambda df: ~df[\"peak.id\"].isin(candidate_CREs[\"peak.id\"])].copy().reset_index(drop=True)"
   ]
  },
  {
   "cell_type": "code",
   "execution_count": 265,
   "metadata": {},
   "outputs": [],
   "source": [
    "# drop CREs that contain RE sites\n",
    "candidate_CREs = candidate_CREs.loc[lambda df: ~df[\"peak.id\"].isin(allCRE_REsite_matches.index),:].reset_index(drop=True)\n",
    "testing_CREs = testing_CREs.loc[lambda df: ~df[\"peak.id\"].isin(allCRE_REsite_matches.index),:].reset_index(drop=True)"
   ]
  },
  {
   "cell_type": "code",
   "execution_count": 277,
   "metadata": {},
   "outputs": [
    {
     "data": {
      "text/plain": [
       "True"
      ]
     },
     "execution_count": 277,
     "metadata": {},
     "output_type": "execute_result"
    }
   ],
   "source": [
    "len(candidate_CREs)==len(set(candidate_CREs[\"peak.id\"])-set(allCRE_REsite_matches.index))"
   ]
  },
  {
   "cell_type": "code",
   "execution_count": 276,
   "metadata": {},
   "outputs": [
    {
     "data": {
      "text/html": [
       "<div>\n",
       "<style scoped>\n",
       "    .dataframe tbody tr th:only-of-type {\n",
       "        vertical-align: middle;\n",
       "    }\n",
       "\n",
       "    .dataframe tbody tr th {\n",
       "        vertical-align: top;\n",
       "    }\n",
       "\n",
       "    .dataframe thead th {\n",
       "        text-align: right;\n",
       "    }\n",
       "</style>\n",
       "<table border=\"1\" class=\"dataframe\">\n",
       "  <thead>\n",
       "    <tr style=\"text-align: right;\">\n",
       "      <th></th>\n",
       "      <th>peak.id</th>\n",
       "    </tr>\n",
       "    <tr>\n",
       "      <th>annotation</th>\n",
       "      <th></th>\n",
       "    </tr>\n",
       "  </thead>\n",
       "  <tbody>\n",
       "    <tr>\n",
       "      <th>KLost</th>\n",
       "      <td>4764</td>\n",
       "    </tr>\n",
       "    <tr>\n",
       "      <th>NotDB</th>\n",
       "      <td>3376</td>\n",
       "    </tr>\n",
       "  </tbody>\n",
       "</table>\n",
       "</div>"
      ],
      "text/plain": [
       "            peak.id\n",
       "annotation         \n",
       "KLost          4764\n",
       "NotDB          3376"
      ]
     },
     "execution_count": 276,
     "metadata": {},
     "output_type": "execute_result"
    }
   ],
   "source": [
    "candidate_CREs.groupby([\"annotation\"]).count()[\"peak.id\"].to_frame()"
   ]
  },
  {
   "cell_type": "code",
   "execution_count": 278,
   "metadata": {},
   "outputs": [
    {
     "data": {
      "text/html": [
       "<div>\n",
       "<style scoped>\n",
       "    .dataframe tbody tr th:only-of-type {\n",
       "        vertical-align: middle;\n",
       "    }\n",
       "\n",
       "    .dataframe tbody tr th {\n",
       "        vertical-align: top;\n",
       "    }\n",
       "\n",
       "    .dataframe thead th {\n",
       "        text-align: right;\n",
       "    }\n",
       "</style>\n",
       "<table border=\"1\" class=\"dataframe\">\n",
       "  <thead>\n",
       "    <tr style=\"text-align: right;\">\n",
       "      <th></th>\n",
       "      <th>peak.id</th>\n",
       "    </tr>\n",
       "    <tr>\n",
       "      <th>annotation</th>\n",
       "      <th></th>\n",
       "    </tr>\n",
       "  </thead>\n",
       "  <tbody>\n",
       "    <tr>\n",
       "      <th>EGain</th>\n",
       "      <td>203</td>\n",
       "    </tr>\n",
       "    <tr>\n",
       "      <th>ELost</th>\n",
       "      <td>283</td>\n",
       "    </tr>\n",
       "    <tr>\n",
       "      <th>KGain</th>\n",
       "      <td>430</td>\n",
       "    </tr>\n",
       "    <tr>\n",
       "      <th>RetinalGene</th>\n",
       "      <td>45</td>\n",
       "    </tr>\n",
       "  </tbody>\n",
       "</table>\n",
       "</div>"
      ],
      "text/plain": [
       "             peak.id\n",
       "annotation          \n",
       "EGain            203\n",
       "ELost            283\n",
       "KGain            430\n",
       "RetinalGene       45"
      ]
     },
     "execution_count": 278,
     "metadata": {},
     "output_type": "execute_result"
    }
   ],
   "source": [
    "testing_CREs.groupby([\"annotation\"]).count()[\"peak.id\"].to_frame()"
   ]
  },
  {
   "attachments": {},
   "cell_type": "markdown",
   "metadata": {},
   "source": [
    "### I.III some additional functions"
   ]
  },
  {
   "attachments": {},
   "cell_type": "markdown",
   "metadata": {},
   "source": [
    "#### replicate each CRE N times"
   ]
  },
  {
   "cell_type": "code",
   "execution_count": 15,
   "metadata": {},
   "outputs": [],
   "source": [
    "def make_N_CREs(CRE_df, N):\n",
    "    CRE_df = CRE_df.copy()\n",
    "\n",
    "    reps = [int(N)]*len(CRE_df.index)\n",
    "    replicated_CRE_df = CRE_df.loc[np.repeat(CRE_df.index.values, reps)]\n",
    "\n",
    "    return replicated_CRE_df"
   ]
  },
  {
   "attachments": {},
   "cell_type": "markdown",
   "metadata": {},
   "source": [
    "### II. random selection of N peaks from the notDB category"
   ]
  },
  {
   "cell_type": "code",
   "execution_count": 284,
   "metadata": {},
   "outputs": [],
   "source": [
    "# a complete list of the index of all CREs\n",
    "allcandidateCREs = range(1, len(candidate_CREs))\n",
    "# randomly draw n elements from the list\n",
    "subset_candidateCREs = random.sample(allcandidateCREs, 850)\n",
    "# sort index\n",
    "subset_candidateCREs.sort()\n",
    "# retrieve annotation and fasta of CREs drawed\n",
    "subset_candidateCREs_df = candidate_CREs.iloc[subset_candidateCREs,:].copy().reset_index(drop=True)"
   ]
  },
  {
   "cell_type": "code",
   "execution_count": 285,
   "metadata": {},
   "outputs": [
    {
     "data": {
      "text/plain": [
       "0"
      ]
     },
     "execution_count": 285,
     "metadata": {},
     "output_type": "execute_result"
    }
   ],
   "source": [
    "subset_candidateCREs_df[\"peak.id\"].isin(allCRE_REsite_matches.index).sum()"
   ]
  },
  {
   "cell_type": "code",
   "execution_count": 312,
   "metadata": {},
   "outputs": [
    {
     "data": {
      "text/plain": [
       "0"
      ]
     },
     "execution_count": 312,
     "metadata": {},
     "output_type": "execute_result"
    }
   ],
   "source": [
    "testing_CREs[\"peak.id\"].isin(allCRE_REsite_matches.index).sum()"
   ]
  },
  {
   "cell_type": "code",
   "execution_count": 286,
   "metadata": {},
   "outputs": [
    {
     "name": "stdout",
     "output_type": "stream",
     "text": [
      "total CREs in the notDB category to be tested: 1792\n"
     ]
    },
    {
     "data": {
      "text/html": [
       "<div>\n",
       "<style scoped>\n",
       "    .dataframe tbody tr th:only-of-type {\n",
       "        vertical-align: middle;\n",
       "    }\n",
       "\n",
       "    .dataframe tbody tr th {\n",
       "        vertical-align: top;\n",
       "    }\n",
       "\n",
       "    .dataframe thead th {\n",
       "        text-align: right;\n",
       "    }\n",
       "</style>\n",
       "<table border=\"1\" class=\"dataframe\">\n",
       "  <thead>\n",
       "    <tr style=\"text-align: right;\">\n",
       "      <th></th>\n",
       "      <th>peak.id</th>\n",
       "      <th>mutD.FASTA</th>\n",
       "      <th>mutM.FASTA</th>\n",
       "      <th>mutDM.FASTA</th>\n",
       "    </tr>\n",
       "  </thead>\n",
       "  <tbody>\n",
       "    <tr>\n",
       "      <th>KLost</th>\n",
       "      <td>487</td>\n",
       "      <td>64</td>\n",
       "      <td>415</td>\n",
       "      <td>54</td>\n",
       "    </tr>\n",
       "    <tr>\n",
       "      <th>NotDB</th>\n",
       "      <td>363</td>\n",
       "      <td>41</td>\n",
       "      <td>329</td>\n",
       "      <td>39</td>\n",
       "    </tr>\n",
       "    <tr>\n",
       "      <th>Sum</th>\n",
       "      <td>850</td>\n",
       "      <td>105</td>\n",
       "      <td>744</td>\n",
       "      <td>93</td>\n",
       "    </tr>\n",
       "  </tbody>\n",
       "</table>\n",
       "</div>"
      ],
      "text/plain": [
       "       peak.id  mutD.FASTA  mutM.FASTA  mutDM.FASTA\n",
       "KLost      487          64         415           54\n",
       "NotDB      363          41         329           39\n",
       "Sum        850         105         744           93"
      ]
     },
     "metadata": {},
     "output_type": "display_data"
    }
   ],
   "source": [
    "subset_candidateCREs_stats = subset_candidateCREs_df.groupby([\"annotation\"]).count().loc[:,[\"peak.id\",\"mutD.FASTA\",\"mutM.FASTA\",\"mutDM.FASTA\"]]\n",
    "print(f\"total CREs in the notDB category to be tested: {str(subset_candidateCREs_stats.sum().sum())}\")\n",
    "subset_candidateCREs_stats = pd.concat([subset_candidateCREs_stats, subset_candidateCREs_stats.sum(axis=0).to_frame().rename(columns={0:\"Sum\"}).transpose()], axis=0)\n",
    "display(subset_candidateCREs_stats)"
   ]
  },
  {
   "cell_type": "code",
   "execution_count": 134,
   "metadata": {},
   "outputs": [
    {
     "name": "stdout",
     "output_type": "stream",
     "text": [
      "total CREs in the DB category to be tested: 2559\n"
     ]
    },
    {
     "data": {
      "text/html": [
       "<div>\n",
       "<style scoped>\n",
       "    .dataframe tbody tr th:only-of-type {\n",
       "        vertical-align: middle;\n",
       "    }\n",
       "\n",
       "    .dataframe tbody tr th {\n",
       "        vertical-align: top;\n",
       "    }\n",
       "\n",
       "    .dataframe thead th {\n",
       "        text-align: right;\n",
       "    }\n",
       "</style>\n",
       "<table border=\"1\" class=\"dataframe\">\n",
       "  <thead>\n",
       "    <tr style=\"text-align: right;\">\n",
       "      <th></th>\n",
       "      <th>peak.id</th>\n",
       "      <th>mutD.FASTA</th>\n",
       "      <th>mutM.FASTA</th>\n",
       "      <th>mutDM.FASTA</th>\n",
       "    </tr>\n",
       "  </thead>\n",
       "  <tbody>\n",
       "    <tr>\n",
       "      <th>EGain</th>\n",
       "      <td>203</td>\n",
       "      <td>9</td>\n",
       "      <td>194</td>\n",
       "      <td>9</td>\n",
       "    </tr>\n",
       "    <tr>\n",
       "      <th>ELost</th>\n",
       "      <td>283</td>\n",
       "      <td>109</td>\n",
       "      <td>234</td>\n",
       "      <td>88</td>\n",
       "    </tr>\n",
       "    <tr>\n",
       "      <th>KGain</th>\n",
       "      <td>430</td>\n",
       "      <td>264</td>\n",
       "      <td>402</td>\n",
       "      <td>244</td>\n",
       "    </tr>\n",
       "    <tr>\n",
       "      <th>RetinalGene</th>\n",
       "      <td>45</td>\n",
       "      <td>3</td>\n",
       "      <td>40</td>\n",
       "      <td>2</td>\n",
       "    </tr>\n",
       "    <tr>\n",
       "      <th>Sum</th>\n",
       "      <td>961</td>\n",
       "      <td>385</td>\n",
       "      <td>870</td>\n",
       "      <td>343</td>\n",
       "    </tr>\n",
       "  </tbody>\n",
       "</table>\n",
       "</div>"
      ],
      "text/plain": [
       "             peak.id  mutD.FASTA  mutM.FASTA  mutDM.FASTA\n",
       "EGain            203           9         194            9\n",
       "ELost            283         109         234           88\n",
       "KGain            430         264         402          244\n",
       "RetinalGene       45           3          40            2\n",
       "Sum              961         385         870          343"
      ]
     },
     "metadata": {},
     "output_type": "display_data"
    }
   ],
   "source": [
    "testing_CREs_stats = testing_CREs.groupby([\"annotation\"]).count().loc[:,[\"peak.id\",\"mutD.FASTA\",\"mutM.FASTA\",\"mutDM.FASTA\"]]\n",
    "print(f\"total CREs in the DB category to be tested: {str(testing_CREs_stats.sum().sum())}\")\n",
    "testing_CREs_stats = pd.concat([testing_CREs_stats, testing_CREs_stats.sum(axis=0).to_frame().rename(columns={0:\"Sum\"}).transpose()], axis=0)\n",
    "display(testing_CREs_stats)"
   ]
  },
  {
   "cell_type": "code",
   "execution_count": 289,
   "metadata": {},
   "outputs": [
    {
     "name": "stdout",
     "output_type": "stream",
     "text": [
      "total CREs to be tested: 4351\n"
     ]
    },
    {
     "data": {
      "text/html": [
       "<div>\n",
       "<style scoped>\n",
       "    .dataframe tbody tr th:only-of-type {\n",
       "        vertical-align: middle;\n",
       "    }\n",
       "\n",
       "    .dataframe tbody tr th {\n",
       "        vertical-align: top;\n",
       "    }\n",
       "\n",
       "    .dataframe thead th {\n",
       "        text-align: right;\n",
       "    }\n",
       "</style>\n",
       "<table border=\"1\" class=\"dataframe\">\n",
       "  <thead>\n",
       "    <tr style=\"text-align: right;\">\n",
       "      <th></th>\n",
       "      <th>peak.id</th>\n",
       "      <th>mutD.FASTA</th>\n",
       "      <th>mutM.FASTA</th>\n",
       "      <th>mutDM.FASTA</th>\n",
       "    </tr>\n",
       "  </thead>\n",
       "  <tbody>\n",
       "    <tr>\n",
       "      <th>DB</th>\n",
       "      <td>961</td>\n",
       "      <td>385</td>\n",
       "      <td>870</td>\n",
       "      <td>343</td>\n",
       "    </tr>\n",
       "    <tr>\n",
       "      <th>notDB</th>\n",
       "      <td>850</td>\n",
       "      <td>105</td>\n",
       "      <td>744</td>\n",
       "      <td>93</td>\n",
       "    </tr>\n",
       "    <tr>\n",
       "      <th>Sum</th>\n",
       "      <td>1811</td>\n",
       "      <td>490</td>\n",
       "      <td>1614</td>\n",
       "      <td>436</td>\n",
       "    </tr>\n",
       "  </tbody>\n",
       "</table>\n",
       "</div>"
      ],
      "text/plain": [
       "       peak.id  mutD.FASTA  mutM.FASTA  mutDM.FASTA\n",
       "DB         961         385         870          343\n",
       "notDB      850         105         744           93\n",
       "Sum       1811         490        1614          436"
      ]
     },
     "metadata": {},
     "output_type": "display_data"
    }
   ],
   "source": [
    "sum_mpraCREs_stats = pd.concat([testing_CREs_stats.loc[\"Sum\",:].rename(\"DB\"), subset_candidateCREs_stats.loc[\"Sum\",:].rename(\"notDB\")], axis=1).transpose()\n",
    "print(f\"total CREs to be tested: {str(sum_mpraCREs_stats.sum().sum())}\")\n",
    "sum_mpraCREs_stats = pd.concat([sum_mpraCREs_stats, sum_mpraCREs_stats.sum(axis=0).to_frame().rename(columns={0:\"Sum\"}).transpose()], axis=0)\n",
    "display(sum_mpraCREs_stats)"
   ]
  },
  {
   "cell_type": "code",
   "execution_count": 290,
   "metadata": {},
   "outputs": [
    {
     "data": {
      "text/plain": [
       "850"
      ]
     },
     "execution_count": 290,
     "metadata": {},
     "output_type": "execute_result"
    }
   ],
   "source": [
    "# check any overlap\n",
    "len(set(subset_candidateCREs_df[\"peak.id\"]) - set(testing_CREs[\"peak.id\"]))"
   ]
  },
  {
   "cell_type": "code",
   "execution_count": 293,
   "metadata": {},
   "outputs": [],
   "source": [
    "# retrieve fasta\n",
    "subset_candidateCREs_fasta = allCRE_fasta[subset_candidateCREs_df[\"peak.id\"]]"
   ]
  },
  {
   "cell_type": "code",
   "execution_count": 294,
   "metadata": {},
   "outputs": [],
   "source": [
    "# temporarily write to file in case of any unexpected\n",
    "subset_candidateCREs_df.to_csv(os.path.join(base_dir, \"peaksets\", \"selectedCandidateSubset.tsv\"), sep=\"\\t\", header=True, index=False)\n",
    "sequence_annotator.write_fasta(subset_candidateCREs_fasta, os.path.join(base_dir,\"sequences\", \"selectedCandidateSubset.fa\"))"
   ]
  },
  {
   "attachments": {},
   "cell_type": "markdown",
   "metadata": {},
   "source": [
    "### III. before going further, take a quick look at the motif contents of all groups"
   ]
  },
  {
   "cell_type": "code",
   "execution_count": 313,
   "metadata": {},
   "outputs": [],
   "source": [
    "# compile all testing CREs and sort by coordinates\n",
    "all_testing_CREs = pd.concat([subset_candidateCREs_df,testing_CREs], axis=0).sort_values(by=[\"seqnames\",\"start\"]).reset_index(drop=True)\n",
    "# retireve all testing fasta\n",
    "all_testing_fasta = allCRE_fasta[all_testing_CREs[\"peak.id\"]].copy()"
   ]
  },
  {
   "cell_type": "code",
   "execution_count": 152,
   "metadata": {},
   "outputs": [
    {
     "data": {
      "text/plain": [
       "<matplotlib_venn._common.VennDiagram at 0x7ff877ced4c0>"
      ]
     },
     "execution_count": 152,
     "metadata": {},
     "output_type": "execute_result"
    },
    {
     "data": {
      "image/png": "[encoded data removed]",
      "text/plain": [
       "<Figure size 300x300 with 1 Axes>"
      ]
     },
     "metadata": {},
     "output_type": "display_data"
    }
   ],
   "source": [
    "fig, ax = plt.subplots(figsize=(2,2), dpi=150)\n",
    "venn3(subsets=[set(mpraAnnot_df[\"peak.id\"]), set(testing_CREs[\"peak.id\"]), set(subset_candidateCREs_df[\"peak.id\"])], set_labels=('all peaks', 'I & II', \"III\"), set_colors=(\"grey\",\"#DC9514\",\"#0E927B\"), ax=ax)"
   ]
  },
  {
   "cell_type": "code",
   "execution_count": 153,
   "metadata": {},
   "outputs": [],
   "source": [
    "specseq_plot_utils.save_fig(fig, prefix=os.path.join(base_dir, \"plots\", \"category.venn\"), timestamp=False, tight_layout=False)"
   ]
  },
  {
   "cell_type": "code",
   "execution_count": null,
   "metadata": {},
   "outputs": [],
   "source": [
    "# histogram\n",
    "fig2, ax2 = plt.subplots(figsize=(2,2), dpi=150)\n",
    "fig2, ax2 = mpra_plot_utils.make_predictedOccp_histo(masked_occupancy_df2, motif_name=\"Lee_2010_CRX\", histocolor=\"grey\", alpha=.6, bins=50, density=True, xticks=None, yticks=None, figax=(fig2, ax2))\n",
    "fig2, ax2 = mpra_plot_utils.make_predictedOccp_histo(masked_occupancy_df2.loc[lambda df: df.label.isin(all_testing_CREs[\"peak.id\"])], motif_name=\"Lee_2010_CRX\", histocolor=\"#DC9514\", alpha=.6, bins=50, density=True, xticks=None, yticks=None, figax=(fig2, ax2))\n",
    "\n",
    "ax2.set_title(\"Predicted Occupancy\\nfor WT CRX HD Motifs \\u03BC=9\")\n",
    "ax2.legend([\"background\", \"selected\"])"
   ]
  },
  {
   "cell_type": "code",
   "execution_count": 315,
   "metadata": {},
   "outputs": [],
   "source": [
    "specseq_plot_utils.save_fig(fig2, prefix=os.path.join(base_dir, \"plots\", \"CRX_Corbo.predOccup.mu9\"), timestamp=False, tight_layout=False)"
   ]
  },
  {
   "cell_type": "code",
   "execution_count": 316,
   "metadata": {},
   "outputs": [
    {
     "data": {
      "text/plain": [
       "<matplotlib.legend.Legend at 0x7ff83bd8ba00>"
      ]
     },
     "execution_count": 316,
     "metadata": {},
     "output_type": "execute_result"
    },
    {
     "data": {
      "image/png": "[encoded data removed]",
      "text/plain": [
       "<Figure size 300x300 with 1 Axes>"
      ]
     },
     "metadata": {
      "needs_background": "light"
     },
     "output_type": "display_data"
    }
   ],
   "source": [
    "# histogram\n",
    "fig2, ax2 = plt.subplots(figsize=(2,2), dpi=150)\n",
    "fig2, ax2 = mpra_plot_utils.make_predictedOccp_histo(masked_occupancy_df2, motif_name=\"k88n_olap.DREME.1\", histocolor=\"grey\", alpha=.6, bins=50, density=True, xticks=None, yticks=None, figax=(fig2, ax2))\n",
    "fig2, ax2 = mpra_plot_utils.make_predictedOccp_histo(masked_occupancy_df2.loc[lambda df: df.label.isin(all_testing_CREs[\"peak.id\"])], motif_name=\"k88n_olap.DREME.1\", histocolor=\"#DC9514\", alpha=.6, bins=50, density=True, xticks=None, yticks=None, figax=(fig2, ax2))\n",
    "\n",
    "ax2.set_title(\"Predicted Occupancy\\nfor CRX N50 HD Motifs \\u03BC=9\")\n",
    "ax2.legend([\"background\", \"selected\"])"
   ]
  },
  {
   "cell_type": "code",
   "execution_count": 317,
   "metadata": {},
   "outputs": [],
   "source": [
    "specseq_plot_utils.save_fig(fig2, prefix=os.path.join(base_dir, \"plots\", \"k88n_olap.DREME.1.predOccup.mu9\"), timestamp=False, tight_layout=False)"
   ]
  },
  {
   "cell_type": "code",
   "execution_count": 318,
   "metadata": {},
   "outputs": [
    {
     "data": {
      "text/plain": [
       "<matplotlib.legend.Legend at 0x7ff83b7c0970>"
      ]
     },
     "execution_count": 318,
     "metadata": {},
     "output_type": "execute_result"
    },
    {
     "data": {
      "image/png": "[encoded data removed]",
      "text/plain": [
       "<Figure size 300x300 with 1 Axes>"
      ]
     },
     "metadata": {
      "needs_background": "light"
     },
     "output_type": "display_data"
    }
   ],
   "source": [
    "# histogram\n",
    "fig2, ax2 = plt.subplots(figsize=(2,2), dpi=150)\n",
    "fig2, ax2 = mpra_plot_utils.make_predictedOccp_histo(unmasked_occupancy_df2, motif_name=\"k88n_olap.MEME.2\", histocolor=\"grey\", alpha=.6, bins=14, density=True, xticks=None, yticks=None, figax=(fig2, ax2))\n",
    "fig2, ax2 = mpra_plot_utils.make_predictedOccp_histo(unmasked_occupancy_df2.loc[lambda df: df.label.isin(all_testing_CREs[\"peak.id\"])], motif_name=\"k88n_olap.MEME.2\", histocolor=\"#DC9514\", alpha=.6, bins=14, density=True, xticks=None, yticks=None, figax=(fig2, ax2))\n",
    "\n",
    "ax2.set_title(\"Predicted Occupancy\\nfor Dimeric HD Motifs \\u03BC=9\")\n",
    "ax2.legend([\"background\", \"selected\"])"
   ]
  },
  {
   "cell_type": "code",
   "execution_count": 319,
   "metadata": {},
   "outputs": [],
   "source": [
    "specseq_plot_utils.save_fig(fig2, prefix=os.path.join(base_dir, \"plots\", \"k88n_olap.MEME.2.predOccup.mu9\"), timestamp=False, tight_layout=False)"
   ]
  },
  {
   "cell_type": "code",
   "execution_count": 320,
   "metadata": {},
   "outputs": [
    {
     "data": {
      "text/plain": [
       "Text(0.5, 1.0, 'Motif Occurrence for WT CRX Motifs\\nFIMO $\\\\itp$-$\\\\itvalue$ < $\\\\it0.001$')"
      ]
     },
     "execution_count": 320,
     "metadata": {},
     "output_type": "execute_result"
    },
    {
     "data": {
      "image/png": "[encoded data removed]",
      "text/plain": [
       "<Figure size 300x300 with 1 Axes>"
      ]
     },
     "metadata": {
      "needs_background": "light"
     },
     "output_type": "display_data"
    }
   ],
   "source": [
    "# histogram\n",
    "fig3, ax3 = plt.subplots(figsize=(2,2), dpi=150)\n",
    "fig3, ax3 = mpra_plot_utils.make_motifOccurence_bar(mpraAnnot_df, motif_name=\"CRX_Corbo\", histocolor=\"grey\", alpha=.6, density=False, xticks=None, yticks=None, figax=(fig3, ax3))\n",
    "fig3, ax3 = mpra_plot_utils.make_motifOccurence_bar(all_testing_CREs, motif_name=\"CRX_Corbo\", histocolor=\"#DC9514\", alpha=.6, density=False, xticks=None, yticks=None, figax=(fig3, ax3))\n",
    "ax3.set_yscale('log')\n",
    "ax3.set_xlim(-1, 6)\n",
    "ax3.set_ylim(1,4e4)\n",
    "ax3.set_xticks(ticks=range(6))\n",
    "ax3.set_xticklabels([str(x) for x in range(6)])\n",
    "\n",
    "ax3.set_title(f\"Motif Occurrence for WT CRX Motifs\\nFIMO $\\itp$-$\\itvalue$ < $\\it0.001$\")"
   ]
  },
  {
   "cell_type": "code",
   "execution_count": 321,
   "metadata": {},
   "outputs": [],
   "source": [
    "specseq_plot_utils.save_fig(fig3, prefix=os.path.join(base_dir, \"plots\", \"CRX_Corbo.occurrence.fimo0.001\"), timestamp=False, tight_layout=False)"
   ]
  },
  {
   "cell_type": "code",
   "execution_count": 322,
   "metadata": {},
   "outputs": [
    {
     "data": {
      "text/plain": [
       "Text(0.5, 1.0, 'Motif Occurrence for CRX N50 Motifs\\nFIMO $\\\\itp$-$\\\\itvalue$ < $\\\\it0.001$')"
      ]
     },
     "execution_count": 322,
     "metadata": {},
     "output_type": "execute_result"
    },
    {
     "data": {
      "image/png": "[encoded data removed]",
      "text/plain": [
       "<Figure size 300x300 with 1 Axes>"
      ]
     },
     "metadata": {
      "needs_background": "light"
     },
     "output_type": "display_data"
    }
   ],
   "source": [
    "# histogram\n",
    "fig3, ax3 = plt.subplots(figsize=(2,2), dpi=150)\n",
    "fig3, ax3 = mpra_plot_utils.make_motifOccurence_bar(mpraAnnot_df, motif_name=\"N50\", histocolor=\"grey\", alpha=.6, density=False, xticks=None, yticks=None, figax=(fig3, ax3))\n",
    "fig3, ax3 = mpra_plot_utils.make_motifOccurence_bar(all_testing_CREs, motif_name=\"N50\", histocolor=\"#DC9514\", alpha=.6, density=False, xticks=None, yticks=None, figax=(fig3, ax3))\n",
    "ax3.set_yscale('log')\n",
    "ax3.set_xlim(-1, 6)\n",
    "ax3.set_ylim(1, 4e4)\n",
    "ax3.set_xticks(ticks=range(6))\n",
    "ax3.set_xticklabels([str(x) for x in range(6)])\n",
    "\n",
    "ax3.set_title(\"Motif Occurrence for CRX N50 Motifs\\nFIMO $\\itp$-$\\itvalue$ < $\\it0.001$\")"
   ]
  },
  {
   "cell_type": "code",
   "execution_count": 323,
   "metadata": {},
   "outputs": [],
   "source": [
    "specseq_plot_utils.save_fig(fig3, prefix=os.path.join(base_dir, \"plots\", \"k88n_olap.DREME.1.occurrence.fimo0.001\"), timestamp=False, tight_layout=False)"
   ]
  },
  {
   "cell_type": "code",
   "execution_count": 324,
   "metadata": {},
   "outputs": [
    {
     "data": {
      "text/plain": [
       "Text(0.5, 1.0, 'Motif Occurrence for Dimeric HD Motifs\\nFIMO $\\\\itp$-$\\\\itvalue$ < $\\\\it0.001$')"
      ]
     },
     "execution_count": 324,
     "metadata": {},
     "output_type": "execute_result"
    },
    {
     "data": {
      "image/png": "[encoded data removed]",
      "text/plain": [
       "<Figure size 300x300 with 1 Axes>"
      ]
     },
     "metadata": {
      "needs_background": "light"
     },
     "output_type": "display_data"
    }
   ],
   "source": [
    "# histogram\n",
    "fig3, ax3 = plt.subplots(figsize=(2,2), dpi=150)\n",
    "fig3, ax3 = mpra_plot_utils.make_motifOccurence_bar(mpraAnnot_df, motif_name=\"HDdimer\", histocolor=\"grey\", alpha=.6, density=False, xticks=None, yticks=None, figax=(fig3, ax3))\n",
    "fig3, ax3 = mpra_plot_utils.make_motifOccurence_bar(all_testing_CREs, motif_name=\"HDdimer\", histocolor=\"#DC9514\", alpha=.6, density=False, xticks=None, yticks=None, figax=(fig3, ax3))\n",
    "ax3.set_yscale('log')\n",
    "ax3.set_xlim(-1, 6)\n",
    "ax3.set_ylim(1, 4e4)\n",
    "ax3.set_xticks(ticks=range(6))\n",
    "ax3.set_xticklabels([str(x) for x in range(6)])\n",
    "\n",
    "ax3.set_title(\"Motif Occurrence for Dimeric HD Motifs\\nFIMO $\\itp$-$\\itvalue$ < $\\it0.001$\")"
   ]
  },
  {
   "cell_type": "code",
   "execution_count": 325,
   "metadata": {},
   "outputs": [],
   "source": [
    "specseq_plot_utils.save_fig(fig3, prefix=os.path.join(base_dir, \"plots\", \"k88n_olap.MEME.2.occurrence.fimo0.001\"), timestamp=False, tight_layout=False)"
   ]
  },
  {
   "attachments": {},
   "cell_type": "markdown",
   "metadata": {},
   "source": [
    "#### check GC contents of scrambles"
   ]
  },
  {
   "cell_type": "code",
   "execution_count": 79,
   "metadata": {},
   "outputs": [
    {
     "data": {
      "text/plain": [
       "<matplotlib.legend.Legend at 0x7ff846579550>"
      ]
     },
     "execution_count": 79,
     "metadata": {},
     "output_type": "execute_result"
    },
    {
     "data": {
      "image/png": "[encoded data removed]",
      "text/plain": [
       "<Figure size 300x300 with 1 Axes>"
      ]
     },
     "metadata": {
      "needs_background": "light"
     },
     "output_type": "display_data"
    }
   ],
   "source": [
    "# histogram\n",
    "fig4, ax4 = plt.subplots(figsize=(2,2), dpi=150)\n",
    "_, fig4, ax4 = mpra_plot_utils.make_GC_histo(allCRE_fasta, histocolor=\"grey\", alpha=0.6, bins=24, density=True, figax=(fig4,ax4))\n",
    "_, fig4, ax4 = mpra_plot_utils.make_GC_histo(scrambled_fasta, histocolor=\"#0E927B\", alpha=0.6, bins=24, density=True, figax=(fig4,ax4))\n",
    "\n",
    "ax4.legend([\"background\", \"scrambled\"], loc='upper left', bbox_to_anchor=(1, 1))"
   ]
  },
  {
   "cell_type": "code",
   "execution_count": null,
   "metadata": {},
   "outputs": [],
   "source": [
    "specseq_plot_utils.save_fig(fig4, prefix=os.path.join(base_dir, \"plots\", \"scrambled.GCcontent\"), timestamp=False, tight_layout=False)"
   ]
  },
  {
   "attachments": {},
   "cell_type": "markdown",
   "metadata": {},
   "source": [
    "### IV. assemble all sequences into one list and add barcodes"
   ]
  },
  {
   "cell_type": "code",
   "execution_count": 10,
   "metadata": {},
   "outputs": [],
   "source": [
    "all_barcodes = pd.read_csv(os.path.join(base_dir,\"barcodes\",\"validated10bp_barcodes.txt\"), header=None).rename(columns={0:\"BC\"})"
   ]
  },
  {
   "attachments": {},
   "cell_type": "markdown",
   "metadata": {},
   "source": [
    "#### there are some barcodes that ends with CGGC will create EagI site and needs to be drop"
   ]
  },
  {
   "cell_type": "code",
   "execution_count": 11,
   "metadata": {},
   "outputs": [],
   "source": [
    "all_barcodes = all_barcodes[~all_barcodes.BC.apply(lambda row: row[-4:]==\"CGGC\")].reset_index(drop=True)"
   ]
  },
  {
   "cell_type": "code",
   "execution_count": null,
   "metadata": {},
   "outputs": [],
   "source": [
    "all_barcodes.to_csv(os.path.join(base_dir,\"barcodes\",\"validated10bp_barcodes.txt\"), index=False, header=False)"
   ]
  },
  {
   "attachments": {},
   "cell_type": "markdown",
   "metadata": {},
   "source": [
    "#### move these fouctions to the top, scan RE sites first then select CREs\n",
    "#### alternatively, check #of match, then make up the reset"
   ]
  },
  {
   "cell_type": "code",
   "execution_count": 462,
   "metadata": {},
   "outputs": [],
   "source": [
    "wt_df = all_testing_CREs.loc[:,[\"peak.id\",\"seqnames\",\"start\",\"end\",\"annotation\",\"wt.FASTA\"]].copy().rename(columns={\"wt.FASTA\":\"FASTA\"})\n",
    "wt_df[\"motif\"] = \"WT\"\n",
    "\n",
    "dimer_df = all_testing_CREs.loc[:,[\"peak.id\",\"seqnames\",\"start\",\"end\",\"annotation\",\"mutD.FASTA\"]].copy().dropna().rename(columns={\"mutD.FASTA\":\"FASTA\"})\n",
    "dimer_df[\"motif\"] = \"mutD\"\n",
    "monomer_df = all_testing_CREs.loc[:,[\"peak.id\",\"seqnames\",\"start\",\"end\",\"annotation\",\"mutM.FASTA\"]].copy().dropna().rename(columns={\"mutM.FASTA\":\"FASTA\"})\n",
    "monomer_df[\"motif\"] = \"mutM\"\n",
    "double_df = all_testing_CREs.loc[:,[\"peak.id\",\"seqnames\",\"start\",\"end\",\"annotation\",\"mutDM.FASTA\"]].copy().dropna().rename(columns={\"mutDM.FASTA\":\"FASTA\"})\n",
    "double_df[\"motif\"] = \"mutDM\"\n",
    "\n",
    "scrambled_df = scrambled_CREs.loc[:,[\"peak.id\",\"seqnames\",\"start\",\"end\",\"annotation\",\"shuffled.FASTA\"]].copy().rename(columns={\"shuffled.FASTA\":\"FASTA\"})\n",
    "scrambled_df[\"motif\"] = \"scrambled\""
   ]
  },
  {
   "cell_type": "code",
   "execution_count": 473,
   "metadata": {},
   "outputs": [],
   "source": [
    "mpra_library = pd.concat([wt_df,dimer_df,monomer_df,double_df,scrambled_df], axis=0).sort_values(by=[\"seqnames\",\"start\",\"motif\"]).reset_index(drop=True)\n",
    "mpra_library[\"start\"] = mpra_library[\"start\"].astype(int)\n",
    "mpra_library[\"end\"] = mpra_library[\"end\"].astype(int)"
   ]
  },
  {
   "cell_type": "code",
   "execution_count": 474,
   "metadata": {},
   "outputs": [
    {
     "data": {
      "text/plain": [
       "0"
      ]
     },
     "execution_count": 474,
     "metadata": {},
     "output_type": "execute_result"
    }
   ],
   "source": [
    "# make sure no WT sequence containing a RE site is included in the first place\n",
    "mpra_library[\"peak.id\"].isin(allCRE_REsite_matches.index).sum()"
   ]
  },
  {
   "cell_type": "code",
   "execution_count": 475,
   "metadata": {},
   "outputs": [],
   "source": [
    "# each CRE in the testing library gets 4 barcodes\n",
    "mpra_library = make_N_CREs(mpra_library, 4)\n",
    "mpra_library = pd.merge(mpra_library.reset_index(drop=True), all_barcodes[0:len(mpra_library)], left_index=True, right_index=True).copy()"
   ]
  },
  {
   "cell_type": "code",
   "execution_count": 476,
   "metadata": {},
   "outputs": [],
   "source": [
    "mpra_library[\"label\"] = mpra_library[\"seqnames\"]+\"-\"+mpra_library[\"start\"].astype(str)+\"-\"+mpra_library[\"end\"].astype(str)+\"_\"+mpra_library[\"peak.id\"]+\"_\"+mpra_library[\"annotation\"]+\"_\"+mpra_library[\"motif\"]+\"_\"+mpra_library[\"BC\"]\n",
    "mpra_library = mpra_library.loc[:,[\"peak.id\",\"seqnames\",\"start\",\"end\",\"annotation\",\"motif\",\"BC\",\"FASTA\",\"label\"]]\n",
    "mpra_library_fasta = mpra_library.loc[:,[\"label\",\"FASTA\"]].copy().set_index(\"label\").squeeze()"
   ]
  },
  {
   "cell_type": "code",
   "execution_count": 477,
   "metadata": {},
   "outputs": [],
   "source": [
    "mpra_library.to_csv(os.path.join(base_dir, \"peaksets\", f\"hdmuts_library.fimo{fimo_th}.tsv\"), sep=\"\\t\", header=True, index=False)"
   ]
  },
  {
   "cell_type": "code",
   "execution_count": 478,
   "metadata": {},
   "outputs": [],
   "source": [
    "sequence_annotator.write_fasta(mpra_library_fasta, os.path.join(base_dir, \"sequences\", f\"hdmuts_library_CREs.fimo{fimo_th}.fa\"))"
   ]
  },
  {
   "attachments": {},
   "cell_type": "markdown",
   "metadata": {},
   "source": [
    "#### controls"
   ]
  },
  {
   "cell_type": "code",
   "execution_count": null,
   "metadata": {},
   "outputs": [],
   "source": [
    "trimmed_control_fasta"
   ]
  },
  {
   "cell_type": "code",
   "execution_count": 182,
   "metadata": {},
   "outputs": [],
   "source": [
    "control_df = trimmed_control_fasta.to_frame().reset_index().rename(columns={0:\"FASTA\"})\n",
    "control_df[\"peak.id\"] = [\"peak.\"]+pd.Series(str(9841+x) for x in range(len(control_df.index)))\n",
    "# run this merge only with control_CRE_df before replication of 6\n",
    "control_df = pd.merge(trimmed_control_CREs, control_df.loc[:,[\"peak.id\",\"FASTA\"]], left_index=True, right_index=True)\n",
    "control_df[\"motif\"] = \"WT\"\n",
    "control_df = control_df.loc[:,[\"peak.id\",\"seqnames\",\"start\",\"end\",\"annotation\",\"FASTA\",\"motif\"]]"
   ]
  },
  {
   "cell_type": "code",
   "execution_count": 183,
   "metadata": {},
   "outputs": [],
   "source": [
    "# each CRE in the control library gets 6 barcodes\n",
    "control_df = make_N_CREs(control_df, 6)\n",
    "control_df = pd.merge(control_df.reset_index(drop=True), all_barcodes[len(mpra_library):len(mpra_library)+len(control_df)].reset_index(drop=True), left_index=True, right_index=True).copy()"
   ]
  },
  {
   "cell_type": "code",
   "execution_count": 333,
   "metadata": {},
   "outputs": [],
   "source": [
    "control_df[\"BC\"] = all_barcodes[len(mpra_library):len(mpra_library)+len(control_df)].reset_index(drop=True)"
   ]
  },
  {
   "cell_type": "code",
   "execution_count": 334,
   "metadata": {},
   "outputs": [
    {
     "data": {
      "text/html": [
       "<div>\n",
       "<style scoped>\n",
       "    .dataframe tbody tr th:only-of-type {\n",
       "        vertical-align: middle;\n",
       "    }\n",
       "\n",
       "    .dataframe tbody tr th {\n",
       "        vertical-align: top;\n",
       "    }\n",
       "\n",
       "    .dataframe thead th {\n",
       "        text-align: right;\n",
       "    }\n",
       "</style>\n",
       "<table border=\"1\" class=\"dataframe\">\n",
       "  <thead>\n",
       "    <tr style=\"text-align: right;\">\n",
       "      <th></th>\n",
       "      <th>peak.id</th>\n",
       "      <th>seqnames</th>\n",
       "      <th>start</th>\n",
       "      <th>end</th>\n",
       "      <th>annotation</th>\n",
       "      <th>motif</th>\n",
       "      <th>BC</th>\n",
       "      <th>FASTA</th>\n",
       "      <th>label</th>\n",
       "    </tr>\n",
       "  </thead>\n",
       "  <tbody>\n",
       "    <tr>\n",
       "      <th>0</th>\n",
       "      <td>peak.9841</td>\n",
       "      <td>chr14</td>\n",
       "      <td>20440153</td>\n",
       "      <td>20440286</td>\n",
       "      <td>control</td>\n",
       "      <td>WT</td>\n",
       "      <td>TGTATGCCGG</td>\n",
       "      <td>CTGTGAGCTGTTGAGATGGCTTAAAGAGCAAAGCTACTTACTGCTG...</td>\n",
       "      <td>chr14-20440153-20440286_peak.9841_control_WT_C...</td>\n",
       "    </tr>\n",
       "    <tr>\n",
       "      <th>1</th>\n",
       "      <td>peak.9841</td>\n",
       "      <td>chr14</td>\n",
       "      <td>20440153</td>\n",
       "      <td>20440286</td>\n",
       "      <td>control</td>\n",
       "      <td>WT</td>\n",
       "      <td>GCTTGATGAT</td>\n",
       "      <td>CTGTGAGCTGTTGAGATGGCTTAAAGAGCAAAGCTACTTACTGCTG...</td>\n",
       "      <td>chr14-20440153-20440286_peak.9841_control_WT_T...</td>\n",
       "    </tr>\n",
       "    <tr>\n",
       "      <th>2</th>\n",
       "      <td>peak.9841</td>\n",
       "      <td>chr14</td>\n",
       "      <td>20440153</td>\n",
       "      <td>20440286</td>\n",
       "      <td>control</td>\n",
       "      <td>WT</td>\n",
       "      <td>ACGGCGGTTA</td>\n",
       "      <td>CTGTGAGCTGTTGAGATGGCTTAAAGAGCAAAGCTACTTACTGCTG...</td>\n",
       "      <td>chr14-20440153-20440286_peak.9841_control_WT_C...</td>\n",
       "    </tr>\n",
       "    <tr>\n",
       "      <th>3</th>\n",
       "      <td>peak.9841</td>\n",
       "      <td>chr14</td>\n",
       "      <td>20440153</td>\n",
       "      <td>20440286</td>\n",
       "      <td>control</td>\n",
       "      <td>WT</td>\n",
       "      <td>TCTTCGTGCT</td>\n",
       "      <td>CTGTGAGCTGTTGAGATGGCTTAAAGAGCAAAGCTACTTACTGCTG...</td>\n",
       "      <td>chr14-20440153-20440286_peak.9841_control_WT_A...</td>\n",
       "    </tr>\n",
       "    <tr>\n",
       "      <th>4</th>\n",
       "      <td>peak.9841</td>\n",
       "      <td>chr14</td>\n",
       "      <td>20440153</td>\n",
       "      <td>20440286</td>\n",
       "      <td>control</td>\n",
       "      <td>WT</td>\n",
       "      <td>TAAGGTGACC</td>\n",
       "      <td>CTGTGAGCTGTTGAGATGGCTTAAAGAGCAAAGCTACTTACTGCTG...</td>\n",
       "      <td>chr14-20440153-20440286_peak.9841_control_WT_C...</td>\n",
       "    </tr>\n",
       "    <tr>\n",
       "      <th>...</th>\n",
       "      <td>...</td>\n",
       "      <td>...</td>\n",
       "      <td>...</td>\n",
       "      <td>...</td>\n",
       "      <td>...</td>\n",
       "      <td>...</td>\n",
       "      <td>...</td>\n",
       "      <td>...</td>\n",
       "      <td>...</td>\n",
       "    </tr>\n",
       "    <tr>\n",
       "      <th>115</th>\n",
       "      <td>peak.9860</td>\n",
       "      <td>chr11</td>\n",
       "      <td>120366335</td>\n",
       "      <td>120366468</td>\n",
       "      <td>control</td>\n",
       "      <td>WT</td>\n",
       "      <td>TAGAAGGATG</td>\n",
       "      <td>CTCTTCCCACACTCCCTGACAGCACCTTTCATGCTGCTAAATCCCC...</td>\n",
       "      <td>chr11-120366335-120366468_peak.9860_control_WT...</td>\n",
       "    </tr>\n",
       "    <tr>\n",
       "      <th>116</th>\n",
       "      <td>peak.9860</td>\n",
       "      <td>chr11</td>\n",
       "      <td>120366335</td>\n",
       "      <td>120366468</td>\n",
       "      <td>control</td>\n",
       "      <td>WT</td>\n",
       "      <td>GGTTAAGGTC</td>\n",
       "      <td>CTCTTCCCACACTCCCTGACAGCACCTTTCATGCTGCTAAATCCCC...</td>\n",
       "      <td>chr11-120366335-120366468_peak.9860_control_WT...</td>\n",
       "    </tr>\n",
       "    <tr>\n",
       "      <th>117</th>\n",
       "      <td>peak.9860</td>\n",
       "      <td>chr11</td>\n",
       "      <td>120366335</td>\n",
       "      <td>120366468</td>\n",
       "      <td>control</td>\n",
       "      <td>WT</td>\n",
       "      <td>GGTGCCTCAC</td>\n",
       "      <td>CTCTTCCCACACTCCCTGACAGCACCTTTCATGCTGCTAAATCCCC...</td>\n",
       "      <td>chr11-120366335-120366468_peak.9860_control_WT...</td>\n",
       "    </tr>\n",
       "    <tr>\n",
       "      <th>118</th>\n",
       "      <td>peak.9860</td>\n",
       "      <td>chr11</td>\n",
       "      <td>120366335</td>\n",
       "      <td>120366468</td>\n",
       "      <td>control</td>\n",
       "      <td>WT</td>\n",
       "      <td>TCGAGTTACG</td>\n",
       "      <td>CTCTTCCCACACTCCCTGACAGCACCTTTCATGCTGCTAAATCCCC...</td>\n",
       "      <td>chr11-120366335-120366468_peak.9860_control_WT...</td>\n",
       "    </tr>\n",
       "    <tr>\n",
       "      <th>119</th>\n",
       "      <td>peak.9860</td>\n",
       "      <td>chr11</td>\n",
       "      <td>120366335</td>\n",
       "      <td>120366468</td>\n",
       "      <td>control</td>\n",
       "      <td>WT</td>\n",
       "      <td>GCAGATGTTC</td>\n",
       "      <td>CTCTTCCCACACTCCCTGACAGCACCTTTCATGCTGCTAAATCCCC...</td>\n",
       "      <td>chr11-120366335-120366468_peak.9860_control_WT...</td>\n",
       "    </tr>\n",
       "  </tbody>\n",
       "</table>\n",
       "<p>120 rows × 9 columns</p>\n",
       "</div>"
      ],
      "text/plain": [
       "       peak.id seqnames      start        end annotation motif          BC  \\\n",
       "0    peak.9841    chr14   20440153   20440286    control    WT  TGTATGCCGG   \n",
       "1    peak.9841    chr14   20440153   20440286    control    WT  GCTTGATGAT   \n",
       "2    peak.9841    chr14   20440153   20440286    control    WT  ACGGCGGTTA   \n",
       "3    peak.9841    chr14   20440153   20440286    control    WT  TCTTCGTGCT   \n",
       "4    peak.9841    chr14   20440153   20440286    control    WT  TAAGGTGACC   \n",
       "..         ...      ...        ...        ...        ...   ...         ...   \n",
       "115  peak.9860    chr11  120366335  120366468    control    WT  TAGAAGGATG   \n",
       "116  peak.9860    chr11  120366335  120366468    control    WT  GGTTAAGGTC   \n",
       "117  peak.9860    chr11  120366335  120366468    control    WT  GGTGCCTCAC   \n",
       "118  peak.9860    chr11  120366335  120366468    control    WT  TCGAGTTACG   \n",
       "119  peak.9860    chr11  120366335  120366468    control    WT  GCAGATGTTC   \n",
       "\n",
       "                                                 FASTA  \\\n",
       "0    CTGTGAGCTGTTGAGATGGCTTAAAGAGCAAAGCTACTTACTGCTG...   \n",
       "1    CTGTGAGCTGTTGAGATGGCTTAAAGAGCAAAGCTACTTACTGCTG...   \n",
       "2    CTGTGAGCTGTTGAGATGGCTTAAAGAGCAAAGCTACTTACTGCTG...   \n",
       "3    CTGTGAGCTGTTGAGATGGCTTAAAGAGCAAAGCTACTTACTGCTG...   \n",
       "4    CTGTGAGCTGTTGAGATGGCTTAAAGAGCAAAGCTACTTACTGCTG...   \n",
       "..                                                 ...   \n",
       "115  CTCTTCCCACACTCCCTGACAGCACCTTTCATGCTGCTAAATCCCC...   \n",
       "116  CTCTTCCCACACTCCCTGACAGCACCTTTCATGCTGCTAAATCCCC...   \n",
       "117  CTCTTCCCACACTCCCTGACAGCACCTTTCATGCTGCTAAATCCCC...   \n",
       "118  CTCTTCCCACACTCCCTGACAGCACCTTTCATGCTGCTAAATCCCC...   \n",
       "119  CTCTTCCCACACTCCCTGACAGCACCTTTCATGCTGCTAAATCCCC...   \n",
       "\n",
       "                                                 label  \n",
       "0    chr14-20440153-20440286_peak.9841_control_WT_C...  \n",
       "1    chr14-20440153-20440286_peak.9841_control_WT_T...  \n",
       "2    chr14-20440153-20440286_peak.9841_control_WT_C...  \n",
       "3    chr14-20440153-20440286_peak.9841_control_WT_A...  \n",
       "4    chr14-20440153-20440286_peak.9841_control_WT_C...  \n",
       "..                                                 ...  \n",
       "115  chr11-120366335-120366468_peak.9860_control_WT...  \n",
       "116  chr11-120366335-120366468_peak.9860_control_WT...  \n",
       "117  chr11-120366335-120366468_peak.9860_control_WT...  \n",
       "118  chr11-120366335-120366468_peak.9860_control_WT...  \n",
       "119  chr11-120366335-120366468_peak.9860_control_WT...  \n",
       "\n",
       "[120 rows x 9 columns]"
      ]
     },
     "execution_count": 334,
     "metadata": {},
     "output_type": "execute_result"
    }
   ],
   "source": [
    "control_df"
   ]
  },
  {
   "cell_type": "code",
   "execution_count": 335,
   "metadata": {},
   "outputs": [],
   "source": [
    "control_df[\"label\"] = control_df[\"seqnames\"]+\"-\"+control_df[\"start\"].astype(str)+\"-\"+control_df[\"end\"].astype(str)+\"_\"+control_df[\"peak.id\"]+\"_\"+control_df[\"annotation\"]+\"_\"+control_df[\"motif\"]+\"_\"+control_df[\"BC\"]\n",
    "control_df = control_df.loc[:,[\"peak.id\",\"seqnames\",\"start\",\"end\",\"annotation\",\"motif\",\"BC\",\"FASTA\",\"label\"]]\n",
    "control_fasta = control_df.loc[:,[\"label\",\"FASTA\"]].copy().set_index(\"label\").squeeze()"
   ]
  },
  {
   "cell_type": "code",
   "execution_count": 336,
   "metadata": {},
   "outputs": [
    {
     "name": "stdout",
     "output_type": "stream",
     "text": [
      "Looking for matches: GAATTC|ACTAGT|GCATGC|CGGCCG\n"
     ]
    },
    {
     "data": {
      "text/plain": [
       "Series([], Name: FASTA, dtype: object)"
      ]
     },
     "execution_count": 336,
     "metadata": {},
     "output_type": "execute_result"
    }
   ],
   "source": [
    "mpra_CRE_utils.find_REsite_match(control_fasta, RE_list=[EcoRI,SpeI,SphI,EagI])"
   ]
  },
  {
   "cell_type": "code",
   "execution_count": 337,
   "metadata": {},
   "outputs": [],
   "source": [
    "control_df.to_csv(os.path.join(base_dir, \"peaksets\", \"positiveControls.trimmed.tsv\"), sep=\"\\t\", header=True, index=False)"
   ]
  },
  {
   "cell_type": "code",
   "execution_count": 338,
   "metadata": {},
   "outputs": [],
   "source": [
    "sequence_annotator.write_fasta(control_fasta, os.path.join(base_dir, \"sequences\", f\"positiveControls.BCed.fa\"))"
   ]
  },
  {
   "attachments": {},
   "cell_type": "markdown",
   "metadata": {},
   "source": [
    "### V. remove any CREs with undesirable sequence features"
   ]
  },
  {
   "attachments": {},
   "cell_type": "markdown",
   "metadata": {},
   "source": [
    "#### scan again for RE sites (if mutant contains RE site, need to get rid of all forms of the same CRE)"
   ]
  },
  {
   "cell_type": "code",
   "execution_count": 340,
   "metadata": {},
   "outputs": [
    {
     "name": "stdout",
     "output_type": "stream",
     "text": [
      "Looking for matches: GAATTC|ACTAGT|GCATGC|CGGCCG\n"
     ]
    }
   ],
   "source": [
    "REmatched_fasta = mpra_CRE_utils.find_REsite_match(mpra_library_fasta, RE_list=[EcoRI,SpeI,SphI,EagI])"
   ]
  },
  {
   "cell_type": "code",
   "execution_count": 341,
   "metadata": {},
   "outputs": [],
   "source": [
    "sequence_annotator.write_fasta(REmatched_fasta, os.path.join(base_dir, \"sequences\", \"hdmuts_library.REmatached.fa\"))"
   ]
  },
  {
   "attachments": {},
   "cell_type": "markdown",
   "metadata": {},
   "source": [
    "#### all de novo cut site matches that of SpeI \"ACTAGT\" because of mutation at TAATAGTNTTA site"
   ]
  },
  {
   "cell_type": "code",
   "execution_count": 366,
   "metadata": {},
   "outputs": [
    {
     "data": {
      "text/html": [
       "<div>\n",
       "<style scoped>\n",
       "    .dataframe tbody tr th:only-of-type {\n",
       "        vertical-align: middle;\n",
       "    }\n",
       "\n",
       "    .dataframe tbody tr th {\n",
       "        vertical-align: top;\n",
       "    }\n",
       "\n",
       "    .dataframe thead th {\n",
       "        text-align: right;\n",
       "    }\n",
       "</style>\n",
       "<table border=\"1\" class=\"dataframe\">\n",
       "  <thead>\n",
       "    <tr style=\"text-align: right;\">\n",
       "      <th></th>\n",
       "      <th>peak.id</th>\n",
       "      <th>seqnames</th>\n",
       "      <th>start</th>\n",
       "      <th>end</th>\n",
       "      <th>summit</th>\n",
       "      <th>width</th>\n",
       "      <th>strand</th>\n",
       "      <th>CRX_Corbo</th>\n",
       "      <th>N50</th>\n",
       "      <th>HDmono</th>\n",
       "      <th>HDdimer</th>\n",
       "      <th>NRL</th>\n",
       "      <th>AP1</th>\n",
       "      <th>annotation</th>\n",
       "      <th>wt.FASTA</th>\n",
       "      <th>mutD.FASTA</th>\n",
       "      <th>mutM.FASTA</th>\n",
       "      <th>mutDM.FASTA</th>\n",
       "    </tr>\n",
       "  </thead>\n",
       "  <tbody>\n",
       "    <tr>\n",
       "      <th>741</th>\n",
       "      <td>peak.742</td>\n",
       "      <td>chr10</td>\n",
       "      <td>50707955.0</td>\n",
       "      <td>50708088.0</td>\n",
       "      <td>50708022.0</td>\n",
       "      <td>134.0</td>\n",
       "      <td>+</td>\n",
       "      <td>1</td>\n",
       "      <td>0</td>\n",
       "      <td>0</td>\n",
       "      <td>2</td>\n",
       "      <td>1</td>\n",
       "      <td>1</td>\n",
       "      <td>KGain</td>\n",
       "      <td>CAAGATGAAATTGACCCTGATAATTATATTACTTTAAATCTCTTTT...</td>\n",
       "      <td>CAAGATGAAATTGACCCTGATACTTATAGTACTTTAAATCTCTTTT...</td>\n",
       "      <td>CAAGATGAAATTGACCCTGATAATTATATTACTTTAAATCTCTTTT...</td>\n",
       "      <td>CAAGATGAAATTGACCCTGATACTTATAGTACTTTAAATCTCTTTT...</td>\n",
       "    </tr>\n",
       "    <tr>\n",
       "      <th>971</th>\n",
       "      <td>peak.972</td>\n",
       "      <td>chr10</td>\n",
       "      <td>101815879.0</td>\n",
       "      <td>101816012.0</td>\n",
       "      <td>101815946.0</td>\n",
       "      <td>134.0</td>\n",
       "      <td>+</td>\n",
       "      <td>2</td>\n",
       "      <td>2</td>\n",
       "      <td>2</td>\n",
       "      <td>1</td>\n",
       "      <td>1</td>\n",
       "      <td>0</td>\n",
       "      <td>KGain</td>\n",
       "      <td>GATTAGTGCTGAGAGATAATCGTGTTGGATTATCATTTTATTCAAA...</td>\n",
       "      <td>GATTAGTGCTGAGAGATAATCGTGTTGGATTATCATTTTATTCAAA...</td>\n",
       "      <td>GATTAGTGCTGAGAGATAATCGTGTTGGAGTATCATTTTATTCAAA...</td>\n",
       "      <td>GATTAGTGCTGAGAGATAATCGTGTTGGAGTATCATTTTATTCAAA...</td>\n",
       "    </tr>\n",
       "    <tr>\n",
       "      <th>1733</th>\n",
       "      <td>peak.1735</td>\n",
       "      <td>chr11</td>\n",
       "      <td>107241384.0</td>\n",
       "      <td>107241517.0</td>\n",
       "      <td>107241451.0</td>\n",
       "      <td>134.0</td>\n",
       "      <td>+</td>\n",
       "      <td>1</td>\n",
       "      <td>2</td>\n",
       "      <td>0</td>\n",
       "      <td>1</td>\n",
       "      <td>0</td>\n",
       "      <td>2</td>\n",
       "      <td>KGain</td>\n",
       "      <td>AAGATCTTGGCCCAGCTACAGGAGAGCTTGCATCTGGGAAGTAATA...</td>\n",
       "      <td>AAGATCTTGGCCCAGCTACAGGAGAGCTTGCATCTGGGAAGTACTA...</td>\n",
       "      <td>AAGATCTTGGCCCAGCTACAGGAGAGCTTGCATCTGGGAAGTAATA...</td>\n",
       "      <td>AAGATCTTGGCCCAGCTACAGGAGAGCTTGCATCTGGGAAGTACTA...</td>\n",
       "    </tr>\n",
       "    <tr>\n",
       "      <th>1940</th>\n",
       "      <td>peak.1943</td>\n",
       "      <td>chr12</td>\n",
       "      <td>32456940.0</td>\n",
       "      <td>32457073.0</td>\n",
       "      <td>32457007.0</td>\n",
       "      <td>134.0</td>\n",
       "      <td>+</td>\n",
       "      <td>1</td>\n",
       "      <td>1</td>\n",
       "      <td>1</td>\n",
       "      <td>2</td>\n",
       "      <td>1</td>\n",
       "      <td>2</td>\n",
       "      <td>KGain</td>\n",
       "      <td>TCATCTCAAGTAATCAGAATGTGGCATAGTGCCAGAGATGCAATTT...</td>\n",
       "      <td>TCATCTCAAGTAATCAGAATGTGGCATAGTGCCAGAGATGCAATTT...</td>\n",
       "      <td>TCATCTCAAGTACTCAGAATGTGGCATAGTGCCAGAGATGCAATTT...</td>\n",
       "      <td>TCATCTCAAGTACTCAGAATGTGGCATAGTGCCAGAGATGCAATTT...</td>\n",
       "    </tr>\n",
       "    <tr>\n",
       "      <th>5231</th>\n",
       "      <td>peak.5238</td>\n",
       "      <td>chr2</td>\n",
       "      <td>75237128.0</td>\n",
       "      <td>75237261.0</td>\n",
       "      <td>75237195.0</td>\n",
       "      <td>134.0</td>\n",
       "      <td>+</td>\n",
       "      <td>1</td>\n",
       "      <td>2</td>\n",
       "      <td>2</td>\n",
       "      <td>2</td>\n",
       "      <td>1</td>\n",
       "      <td>0</td>\n",
       "      <td>KGain</td>\n",
       "      <td>ATGAACACTGCTTTAAATTATAGTCCCAATAGCTTACAACAGTTAC...</td>\n",
       "      <td>ATGAACACTGCTTTAAATTATAGTCCCAATAGCTTACAACAGTTAC...</td>\n",
       "      <td>ATGAACACTGCTTTAAAGTATAGTCCCAATAGCTTACAACAGTTAC...</td>\n",
       "      <td>ATGAACACTGCTTTAAAGTATAGTCCCAATAGCTTACAACAGTTAC...</td>\n",
       "    </tr>\n",
       "    <tr>\n",
       "      <th>5741</th>\n",
       "      <td>peak.5748</td>\n",
       "      <td>chr3</td>\n",
       "      <td>20232334.0</td>\n",
       "      <td>20232467.0</td>\n",
       "      <td>20232401.0</td>\n",
       "      <td>134.0</td>\n",
       "      <td>+</td>\n",
       "      <td>4</td>\n",
       "      <td>6</td>\n",
       "      <td>2</td>\n",
       "      <td>1</td>\n",
       "      <td>0</td>\n",
       "      <td>1</td>\n",
       "      <td>KGain</td>\n",
       "      <td>TGTATACTAATTAGAATTAGTATAAGACTATTAGTATATATACTAA...</td>\n",
       "      <td>TGTATACTAATTAGAATTAGTATACGACTAGTAGTATATATACTAA...</td>\n",
       "      <td>TGTATACTACTTAGAAGTAGTATAAGACTATTAGTATATATACTAC...</td>\n",
       "      <td>TGTATACTACTTAGAAGTAGTATACGACTAGTAGTATATATACTAC...</td>\n",
       "    </tr>\n",
       "    <tr>\n",
       "      <th>5912</th>\n",
       "      <td>peak.5919</td>\n",
       "      <td>chr3</td>\n",
       "      <td>87352599.0</td>\n",
       "      <td>87352732.0</td>\n",
       "      <td>87352666.0</td>\n",
       "      <td>134.0</td>\n",
       "      <td>+</td>\n",
       "      <td>2</td>\n",
       "      <td>2</td>\n",
       "      <td>2</td>\n",
       "      <td>1</td>\n",
       "      <td>0</td>\n",
       "      <td>1</td>\n",
       "      <td>KGain</td>\n",
       "      <td>ATGAGCATAACCAAGCACTTCTGACTGGATTAAAGTCCTGTTCTGC...</td>\n",
       "      <td>ATGAGCATAACCAAGCACTTCTGACTGGATTAAAGTCCTGTTCTGC...</td>\n",
       "      <td>ATGAGCATAACCAAGCACTTCTGACTGGAGTAAAGTCCTGTTCTGC...</td>\n",
       "      <td>ATGAGCATAACCAAGCACTTCTGACTGGAGTAAAGTCCTGTTCTGC...</td>\n",
       "    </tr>\n",
       "    <tr>\n",
       "      <th>6178</th>\n",
       "      <td>peak.6187</td>\n",
       "      <td>chr4</td>\n",
       "      <td>6448663.0</td>\n",
       "      <td>6448796.0</td>\n",
       "      <td>6448730.0</td>\n",
       "      <td>134.0</td>\n",
       "      <td>+</td>\n",
       "      <td>0</td>\n",
       "      <td>0</td>\n",
       "      <td>0</td>\n",
       "      <td>1</td>\n",
       "      <td>1</td>\n",
       "      <td>1</td>\n",
       "      <td>KGain</td>\n",
       "      <td>AGTAGCGCAGTGCTGTTGAGAGGAGAGCAGGGCACACCAGTGACTG...</td>\n",
       "      <td>AGTAGCGCAGTGCTGTTGAGAGGAGAGCAGGGCACACCAGTGACTG...</td>\n",
       "      <td>NaN</td>\n",
       "      <td>NaN</td>\n",
       "    </tr>\n",
       "    <tr>\n",
       "      <th>6305</th>\n",
       "      <td>peak.6314</td>\n",
       "      <td>chr4</td>\n",
       "      <td>53125785.0</td>\n",
       "      <td>53125918.0</td>\n",
       "      <td>53125852.0</td>\n",
       "      <td>134.0</td>\n",
       "      <td>+</td>\n",
       "      <td>3</td>\n",
       "      <td>2</td>\n",
       "      <td>2</td>\n",
       "      <td>1</td>\n",
       "      <td>0</td>\n",
       "      <td>0</td>\n",
       "      <td>KGain</td>\n",
       "      <td>TAATATCTCATTATACTGTGCATAATAATATAATACTATTATAATT...</td>\n",
       "      <td>TAATATCTCATTATACTGTGCATAATAATATACTACTAGTATAATT...</td>\n",
       "      <td>TAATATCTCAGTATACTGTGCATAATAATATAATACTATTATACGT...</td>\n",
       "      <td>TAATATCTCAGTATACTGTGCATAATAATATACTACTAGTATACGT...</td>\n",
       "    </tr>\n",
       "    <tr>\n",
       "      <th>6367</th>\n",
       "      <td>peak.6376</td>\n",
       "      <td>chr4</td>\n",
       "      <td>81924363.0</td>\n",
       "      <td>81924496.0</td>\n",
       "      <td>81924430.0</td>\n",
       "      <td>134.0</td>\n",
       "      <td>+</td>\n",
       "      <td>2</td>\n",
       "      <td>2</td>\n",
       "      <td>1</td>\n",
       "      <td>1</td>\n",
       "      <td>2</td>\n",
       "      <td>3</td>\n",
       "      <td>KGain</td>\n",
       "      <td>AGATTCTAAGCCCCATTTAATAGTATTAGCTCTTAATTACCTGTGA...</td>\n",
       "      <td>AGATTCTAAGCCCCATTTACTAGTAGTAGCTCTTAATTACCTGTGA...</td>\n",
       "      <td>AGATTCTACGCCCCATTTAATAGTATTAGCTCTTACTTACCTGTGA...</td>\n",
       "      <td>AGATTCTACGCCCCATTTACTAGTAGTAGCTCTTACTTACCTGTGA...</td>\n",
       "    </tr>\n",
       "    <tr>\n",
       "      <th>6962</th>\n",
       "      <td>peak.6972</td>\n",
       "      <td>chr5</td>\n",
       "      <td>54233811.0</td>\n",
       "      <td>54233944.0</td>\n",
       "      <td>54233878.0</td>\n",
       "      <td>134.0</td>\n",
       "      <td>+</td>\n",
       "      <td>0</td>\n",
       "      <td>3</td>\n",
       "      <td>1</td>\n",
       "      <td>1</td>\n",
       "      <td>2</td>\n",
       "      <td>0</td>\n",
       "      <td>KGain</td>\n",
       "      <td>GACATCAGCTGTAATAGGATAAAGCTTATGTTATTAATTATGGCAC...</td>\n",
       "      <td>GACATCAGCTGTAATAGGATAAAGCTTATGTTATTAATTATGGCAC...</td>\n",
       "      <td>GACATCAGCTGTAATAGGATAAAGCGTATGTTAGTACTTATGGCAC...</td>\n",
       "      <td>GACATCAGCTGTAATAGGATAAAGCGTATGTTAGTACTTATGGCAC...</td>\n",
       "    </tr>\n",
       "    <tr>\n",
       "      <th>7723</th>\n",
       "      <td>peak.7734</td>\n",
       "      <td>chr6</td>\n",
       "      <td>99916798.0</td>\n",
       "      <td>99916931.0</td>\n",
       "      <td>99916865.0</td>\n",
       "      <td>134.0</td>\n",
       "      <td>+</td>\n",
       "      <td>0</td>\n",
       "      <td>2</td>\n",
       "      <td>0</td>\n",
       "      <td>2</td>\n",
       "      <td>0</td>\n",
       "      <td>2</td>\n",
       "      <td>ELost</td>\n",
       "      <td>AGACAGCTAAAACAGATGTCCCAAAGGCTAGTTGCAAAGCCCATCT...</td>\n",
       "      <td>AGACAGCTAAAACAGATGTCCCAAAGGCTAGTTGCAAAGCCCATCT...</td>\n",
       "      <td>AGACAGCTAAAACAGATGTCCCAAAGGCTAGTTGCAAAGCCCATCT...</td>\n",
       "      <td>AGACAGCTAAAACAGATGTCCCAAAGGCTAGTTGCAAAGCCCATCT...</td>\n",
       "    </tr>\n",
       "    <tr>\n",
       "      <th>9087</th>\n",
       "      <td>peak.9099</td>\n",
       "      <td>chr9</td>\n",
       "      <td>7784877.0</td>\n",
       "      <td>7785010.0</td>\n",
       "      <td>7784944.0</td>\n",
       "      <td>134.0</td>\n",
       "      <td>+</td>\n",
       "      <td>0</td>\n",
       "      <td>2</td>\n",
       "      <td>0</td>\n",
       "      <td>1</td>\n",
       "      <td>0</td>\n",
       "      <td>3</td>\n",
       "      <td>KGain</td>\n",
       "      <td>TGAGTGACAGGACCATCTGCATAGCCTATGAAATTGCTAGTACAGC...</td>\n",
       "      <td>TGAGTGACAGGACCATCTGCATAGCCTATGAAATTGCTAGTACAGC...</td>\n",
       "      <td>TGAGTGACAGGACCATCTGCATAGCCTATGAAATTGCTAGTACAGC...</td>\n",
       "      <td>TGAGTGACAGGACCATCTGCATAGCCTATGAAATTGCTAGTACAGC...</td>\n",
       "    </tr>\n",
       "    <tr>\n",
       "      <th>9732</th>\n",
       "      <td>peak.9744</td>\n",
       "      <td>chrX</td>\n",
       "      <td>40935893.0</td>\n",
       "      <td>40936026.0</td>\n",
       "      <td>40935960.0</td>\n",
       "      <td>134.0</td>\n",
       "      <td>+</td>\n",
       "      <td>2</td>\n",
       "      <td>4</td>\n",
       "      <td>2</td>\n",
       "      <td>1</td>\n",
       "      <td>2</td>\n",
       "      <td>1</td>\n",
       "      <td>EGain</td>\n",
       "      <td>ACCAATTAAGCAATAAGCACCCTTAAGCTCCCAGTGATTAACCTTT...</td>\n",
       "      <td>ACCAATTAAGCAATAAGCACCCTTAAGCTCCCAGTGATTAACCTTT...</td>\n",
       "      <td>ACCAAGTAAGCAATAAGCACCCTTACGCTCCCAGTGAGTAACCTTT...</td>\n",
       "      <td>ACCAAGTAAGCAATAAGCACCCTTACGCTCCCAGTGAGTAACCTTT...</td>\n",
       "    </tr>\n",
       "  </tbody>\n",
       "</table>\n",
       "</div>"
      ],
      "text/plain": [
       "        peak.id seqnames        start          end       summit  width strand  \\\n",
       "741    peak.742    chr10   50707955.0   50708088.0   50708022.0  134.0      +   \n",
       "971    peak.972    chr10  101815879.0  101816012.0  101815946.0  134.0      +   \n",
       "1733  peak.1735    chr11  107241384.0  107241517.0  107241451.0  134.0      +   \n",
       "1940  peak.1943    chr12   32456940.0   32457073.0   32457007.0  134.0      +   \n",
       "5231  peak.5238     chr2   75237128.0   75237261.0   75237195.0  134.0      +   \n",
       "5741  peak.5748     chr3   20232334.0   20232467.0   20232401.0  134.0      +   \n",
       "5912  peak.5919     chr3   87352599.0   87352732.0   87352666.0  134.0      +   \n",
       "6178  peak.6187     chr4    6448663.0    6448796.0    6448730.0  134.0      +   \n",
       "6305  peak.6314     chr4   53125785.0   53125918.0   53125852.0  134.0      +   \n",
       "6367  peak.6376     chr4   81924363.0   81924496.0   81924430.0  134.0      +   \n",
       "6962  peak.6972     chr5   54233811.0   54233944.0   54233878.0  134.0      +   \n",
       "7723  peak.7734     chr6   99916798.0   99916931.0   99916865.0  134.0      +   \n",
       "9087  peak.9099     chr9    7784877.0    7785010.0    7784944.0  134.0      +   \n",
       "9732  peak.9744     chrX   40935893.0   40936026.0   40935960.0  134.0      +   \n",
       "\n",
       "      CRX_Corbo  N50  HDmono  HDdimer  NRL  AP1 annotation  \\\n",
       "741           1    0       0        2    1    1      KGain   \n",
       "971           2    2       2        1    1    0      KGain   \n",
       "1733          1    2       0        1    0    2      KGain   \n",
       "1940          1    1       1        2    1    2      KGain   \n",
       "5231          1    2       2        2    1    0      KGain   \n",
       "5741          4    6       2        1    0    1      KGain   \n",
       "5912          2    2       2        1    0    1      KGain   \n",
       "6178          0    0       0        1    1    1      KGain   \n",
       "6305          3    2       2        1    0    0      KGain   \n",
       "6367          2    2       1        1    2    3      KGain   \n",
       "6962          0    3       1        1    2    0      KGain   \n",
       "7723          0    2       0        2    0    2      ELost   \n",
       "9087          0    2       0        1    0    3      KGain   \n",
       "9732          2    4       2        1    2    1      EGain   \n",
       "\n",
       "                                               wt.FASTA  \\\n",
       "741   CAAGATGAAATTGACCCTGATAATTATATTACTTTAAATCTCTTTT...   \n",
       "971   GATTAGTGCTGAGAGATAATCGTGTTGGATTATCATTTTATTCAAA...   \n",
       "1733  AAGATCTTGGCCCAGCTACAGGAGAGCTTGCATCTGGGAAGTAATA...   \n",
       "1940  TCATCTCAAGTAATCAGAATGTGGCATAGTGCCAGAGATGCAATTT...   \n",
       "5231  ATGAACACTGCTTTAAATTATAGTCCCAATAGCTTACAACAGTTAC...   \n",
       "5741  TGTATACTAATTAGAATTAGTATAAGACTATTAGTATATATACTAA...   \n",
       "5912  ATGAGCATAACCAAGCACTTCTGACTGGATTAAAGTCCTGTTCTGC...   \n",
       "6178  AGTAGCGCAGTGCTGTTGAGAGGAGAGCAGGGCACACCAGTGACTG...   \n",
       "6305  TAATATCTCATTATACTGTGCATAATAATATAATACTATTATAATT...   \n",
       "6367  AGATTCTAAGCCCCATTTAATAGTATTAGCTCTTAATTACCTGTGA...   \n",
       "6962  GACATCAGCTGTAATAGGATAAAGCTTATGTTATTAATTATGGCAC...   \n",
       "7723  AGACAGCTAAAACAGATGTCCCAAAGGCTAGTTGCAAAGCCCATCT...   \n",
       "9087  TGAGTGACAGGACCATCTGCATAGCCTATGAAATTGCTAGTACAGC...   \n",
       "9732  ACCAATTAAGCAATAAGCACCCTTAAGCTCCCAGTGATTAACCTTT...   \n",
       "\n",
       "                                             mutD.FASTA  \\\n",
       "741   CAAGATGAAATTGACCCTGATACTTATAGTACTTTAAATCTCTTTT...   \n",
       "971   GATTAGTGCTGAGAGATAATCGTGTTGGATTATCATTTTATTCAAA...   \n",
       "1733  AAGATCTTGGCCCAGCTACAGGAGAGCTTGCATCTGGGAAGTACTA...   \n",
       "1940  TCATCTCAAGTAATCAGAATGTGGCATAGTGCCAGAGATGCAATTT...   \n",
       "5231  ATGAACACTGCTTTAAATTATAGTCCCAATAGCTTACAACAGTTAC...   \n",
       "5741  TGTATACTAATTAGAATTAGTATACGACTAGTAGTATATATACTAA...   \n",
       "5912  ATGAGCATAACCAAGCACTTCTGACTGGATTAAAGTCCTGTTCTGC...   \n",
       "6178  AGTAGCGCAGTGCTGTTGAGAGGAGAGCAGGGCACACCAGTGACTG...   \n",
       "6305  TAATATCTCATTATACTGTGCATAATAATATACTACTAGTATAATT...   \n",
       "6367  AGATTCTAAGCCCCATTTACTAGTAGTAGCTCTTAATTACCTGTGA...   \n",
       "6962  GACATCAGCTGTAATAGGATAAAGCTTATGTTATTAATTATGGCAC...   \n",
       "7723  AGACAGCTAAAACAGATGTCCCAAAGGCTAGTTGCAAAGCCCATCT...   \n",
       "9087  TGAGTGACAGGACCATCTGCATAGCCTATGAAATTGCTAGTACAGC...   \n",
       "9732  ACCAATTAAGCAATAAGCACCCTTAAGCTCCCAGTGATTAACCTTT...   \n",
       "\n",
       "                                             mutM.FASTA  \\\n",
       "741   CAAGATGAAATTGACCCTGATAATTATATTACTTTAAATCTCTTTT...   \n",
       "971   GATTAGTGCTGAGAGATAATCGTGTTGGAGTATCATTTTATTCAAA...   \n",
       "1733  AAGATCTTGGCCCAGCTACAGGAGAGCTTGCATCTGGGAAGTAATA...   \n",
       "1940  TCATCTCAAGTACTCAGAATGTGGCATAGTGCCAGAGATGCAATTT...   \n",
       "5231  ATGAACACTGCTTTAAAGTATAGTCCCAATAGCTTACAACAGTTAC...   \n",
       "5741  TGTATACTACTTAGAAGTAGTATAAGACTATTAGTATATATACTAC...   \n",
       "5912  ATGAGCATAACCAAGCACTTCTGACTGGAGTAAAGTCCTGTTCTGC...   \n",
       "6178                                                NaN   \n",
       "6305  TAATATCTCAGTATACTGTGCATAATAATATAATACTATTATACGT...   \n",
       "6367  AGATTCTACGCCCCATTTAATAGTATTAGCTCTTACTTACCTGTGA...   \n",
       "6962  GACATCAGCTGTAATAGGATAAAGCGTATGTTAGTACTTATGGCAC...   \n",
       "7723  AGACAGCTAAAACAGATGTCCCAAAGGCTAGTTGCAAAGCCCATCT...   \n",
       "9087  TGAGTGACAGGACCATCTGCATAGCCTATGAAATTGCTAGTACAGC...   \n",
       "9732  ACCAAGTAAGCAATAAGCACCCTTACGCTCCCAGTGAGTAACCTTT...   \n",
       "\n",
       "                                            mutDM.FASTA  \n",
       "741   CAAGATGAAATTGACCCTGATACTTATAGTACTTTAAATCTCTTTT...  \n",
       "971   GATTAGTGCTGAGAGATAATCGTGTTGGAGTATCATTTTATTCAAA...  \n",
       "1733  AAGATCTTGGCCCAGCTACAGGAGAGCTTGCATCTGGGAAGTACTA...  \n",
       "1940  TCATCTCAAGTACTCAGAATGTGGCATAGTGCCAGAGATGCAATTT...  \n",
       "5231  ATGAACACTGCTTTAAAGTATAGTCCCAATAGCTTACAACAGTTAC...  \n",
       "5741  TGTATACTACTTAGAAGTAGTATACGACTAGTAGTATATATACTAC...  \n",
       "5912  ATGAGCATAACCAAGCACTTCTGACTGGAGTAAAGTCCTGTTCTGC...  \n",
       "6178                                                NaN  \n",
       "6305  TAATATCTCAGTATACTGTGCATAATAATATACTACTAGTATACGT...  \n",
       "6367  AGATTCTACGCCCCATTTACTAGTAGTAGCTCTTACTTACCTGTGA...  \n",
       "6962  GACATCAGCTGTAATAGGATAAAGCGTATGTTAGTACTTATGGCAC...  \n",
       "7723  AGACAGCTAAAACAGATGTCCCAAAGGCTAGTTGCAAAGCCCATCT...  \n",
       "9087  TGAGTGACAGGACCATCTGCATAGCCTATGAAATTGCTAGTACAGC...  \n",
       "9732  ACCAAGTAAGCAATAAGCACCCTTACGCTCCCAGTGAGTAACCTTT...  "
      ]
     },
     "execution_count": 366,
     "metadata": {},
     "output_type": "execute_result"
    }
   ],
   "source": [
    "REmatched_peaks = REmatched_fasta.index.str.split(pat=\"_\", expand=True).to_frame().index.get_level_values(1).unique()\n",
    "REmatched_df = mpraAnnot_df.loc[lambda df: df[\"peak.id\"].isin(REmatched_peaks),:]\n",
    "REmatched_df"
   ]
  },
  {
   "cell_type": "code",
   "execution_count": 343,
   "metadata": {},
   "outputs": [],
   "source": [
    "REmatched_df.to_csv(os.path.join(base_dir, \"peaksets\", \"hdmuts_library.REmatached.tsv\"), sep=\"\\t\", header=True, index=False)"
   ]
  },
  {
   "attachments": {},
   "cell_type": "markdown",
   "metadata": {},
   "source": [
    "#### since I want to keep these sequence, I am changing the TAAT core to TCCT to avoid creation of new RE site"
   ]
  },
  {
   "cell_type": "code",
   "execution_count": 373,
   "metadata": {},
   "outputs": [],
   "source": [
    "REmatched_dimerSites = allDimerSites.loc[lambda df: (df[\"sequence_name\"].isin(REmatched_peaks)),:].copy().reset_index(drop=True)\n",
    "#REmatched_dimerSites"
   ]
  },
  {
   "cell_type": "code",
   "execution_count": 374,
   "metadata": {},
   "outputs": [],
   "source": [
    "# pick out those that matches \"AGT\" spacer\n",
    "REmatched_dimerSites = REmatched_dimerSites.loc[lambda df: df[\"matched_sequence\"].str.contains(pat=\"TAGT\"),:].copy().drop_duplicates(subset=[\"sequence_name\",\"start\"]).reset_index(drop=True)"
   ]
  },
  {
   "cell_type": "code",
   "execution_count": 385,
   "metadata": {},
   "outputs": [],
   "source": [
    "REmatched_dimerSites[\"new.matched_sequence\"] = REmatched_dimerSites.apply(lambda x: x[\"mutated_seq\"] if x[\"strand\"]==\"+\" else sequence_annotator.rev_comp(x[\"mutated_seq\"]), axis=1)"
   ]
  },
  {
   "cell_type": "code",
   "execution_count": 389,
   "metadata": {},
   "outputs": [],
   "source": [
    "REmatched_dimerSites2 = REmatched_dimerSites.drop(columns=[\"matched_sequence\",\"mutated_seq\"]).rename(columns={\"new.matched_sequence\":\"matched_sequence\"})"
   ]
  },
  {
   "attachments": {},
   "cell_type": "markdown",
   "metadata": {},
   "source": [
    "#### without specifying core motif, mutating AA to CC"
   ]
  },
  {
   "cell_type": "code",
   "execution_count": 414,
   "metadata": {},
   "outputs": [],
   "source": [
    "REmatched_mutDfasta = singleDimerMutants[list(set(singleDimerMutants.index).intersection(set(REmatched_dimerSites2[\"sequence_name\"]+\".mutD\")))]\n",
    "REmatched_mutDfasta.index = REmatched_mutDfasta.index.str.strip(\".mutD\")\n",
    "REmatched_mutDMfasta = doubleMutants[list(set(doubleMutants.index).intersection(set(REmatched_dimerSites2[\"sequence_name\"]+\".mutDM\")))]\n",
    "REmatched_mutDMfasta.index = REmatched_mutDMfasta.index.str.strip(\".mutDM\")"
   ]
  },
  {
   "cell_type": "code",
   "execution_count": 465,
   "metadata": {},
   "outputs": [],
   "source": [
    "REmatched_dimer, REmatched_dimer_fasta = mpra_CRE_utils.find_and_mutate_motif(REmatched_mutDfasta, REmatched_dimerSites2, motif_name=\"k88n_olap.MEME.2\", mutantmotif_dict={2:\"C\", 3:\"C\", 9:\"G\", 10:\"G\"})"
   ]
  },
  {
   "cell_type": "code",
   "execution_count": 448,
   "metadata": {},
   "outputs": [
    {
     "data": {
      "text/html": [
       "<div>\n",
       "<style scoped>\n",
       "    .dataframe tbody tr th:only-of-type {\n",
       "        vertical-align: middle;\n",
       "    }\n",
       "\n",
       "    .dataframe tbody tr th {\n",
       "        vertical-align: top;\n",
       "    }\n",
       "\n",
       "    .dataframe thead th {\n",
       "        text-align: right;\n",
       "    }\n",
       "</style>\n",
       "<table border=\"1\" class=\"dataframe\">\n",
       "  <thead>\n",
       "    <tr style=\"text-align: right;\">\n",
       "      <th></th>\n",
       "      <th>peak.id</th>\n",
       "      <th>motif</th>\n",
       "      <th>start</th>\n",
       "      <th>end</th>\n",
       "      <th>strand</th>\n",
       "      <th>score</th>\n",
       "      <th>match_seq</th>\n",
       "      <th>mutated_seq</th>\n",
       "    </tr>\n",
       "  </thead>\n",
       "  <tbody>\n",
       "    <tr>\n",
       "      <th>0</th>\n",
       "      <td>peak.6376</td>\n",
       "      <td>k88n_olap.MEME.2</td>\n",
       "      <td>18</td>\n",
       "      <td>28</td>\n",
       "      <td>+</td>\n",
       "      <td>14.71</td>\n",
       "      <td>TACTAGTAGTA</td>\n",
       "      <td>TCCTAGTAGGA</td>\n",
       "    </tr>\n",
       "    <tr>\n",
       "      <th>1</th>\n",
       "      <td>peak.7734</td>\n",
       "      <td>k88n_olap.MEME.2</td>\n",
       "      <td>94</td>\n",
       "      <td>104</td>\n",
       "      <td>+</td>\n",
       "      <td>5.12</td>\n",
       "      <td>TACTAGTCGTA</td>\n",
       "      <td>TCCTAGTCGGA</td>\n",
       "    </tr>\n",
       "    <tr>\n",
       "      <th>2</th>\n",
       "      <td>peak.6314</td>\n",
       "      <td>k88n_olap.MEME.2</td>\n",
       "      <td>31</td>\n",
       "      <td>41</td>\n",
       "      <td>-</td>\n",
       "      <td>14.71</td>\n",
       "      <td>TACTAGTAGTA</td>\n",
       "      <td>TCCTACTAGGA</td>\n",
       "    </tr>\n",
       "    <tr>\n",
       "      <th>3</th>\n",
       "      <td>peak.5238</td>\n",
       "      <td>k88n_olap.MEME.2</td>\n",
       "      <td>79</td>\n",
       "      <td>89</td>\n",
       "      <td>-</td>\n",
       "      <td>14.71</td>\n",
       "      <td>TACTAGTAGTA</td>\n",
       "      <td>TCCTACTAGGA</td>\n",
       "    </tr>\n",
       "    <tr>\n",
       "      <th>4</th>\n",
       "      <td>peak.5238</td>\n",
       "      <td>k88n_olap.MEME.2</td>\n",
       "      <td>62</td>\n",
       "      <td>72</td>\n",
       "      <td>-</td>\n",
       "      <td>14.71</td>\n",
       "      <td>TACTAGTAGTA</td>\n",
       "      <td>TCCTACTAGGA</td>\n",
       "    </tr>\n",
       "    <tr>\n",
       "      <th>5</th>\n",
       "      <td>peak.5748</td>\n",
       "      <td>k88n_olap.MEME.2</td>\n",
       "      <td>23</td>\n",
       "      <td>33</td>\n",
       "      <td>-</td>\n",
       "      <td>5.12</td>\n",
       "      <td>TACTAGTCGTA</td>\n",
       "      <td>TCCGACTAGGA</td>\n",
       "    </tr>\n",
       "    <tr>\n",
       "      <th>6</th>\n",
       "      <td>peak.5919</td>\n",
       "      <td>k88n_olap.MEME.2</td>\n",
       "      <td>121</td>\n",
       "      <td>131</td>\n",
       "      <td>+</td>\n",
       "      <td>14.71</td>\n",
       "      <td>TACTAGTAGTA</td>\n",
       "      <td>TCCTAGTAGGA</td>\n",
       "    </tr>\n",
       "    <tr>\n",
       "      <th>7</th>\n",
       "      <td>peak.9099</td>\n",
       "      <td>k88n_olap.MEME.2</td>\n",
       "      <td>49</td>\n",
       "      <td>59</td>\n",
       "      <td>+</td>\n",
       "      <td>5.12</td>\n",
       "      <td>TACTAGTGGTA</td>\n",
       "      <td>TCCTAGTGGGA</td>\n",
       "    </tr>\n",
       "    <tr>\n",
       "      <th>8</th>\n",
       "      <td>peak.6187</td>\n",
       "      <td>k88n_olap.MEME.2</td>\n",
       "      <td>57</td>\n",
       "      <td>67</td>\n",
       "      <td>+</td>\n",
       "      <td>14.71</td>\n",
       "      <td>TACTAGTAGTA</td>\n",
       "      <td>TCCTAGTAGGA</td>\n",
       "    </tr>\n",
       "    <tr>\n",
       "      <th>9</th>\n",
       "      <td>peak.1943</td>\n",
       "      <td>k88n_olap.MEME.2</td>\n",
       "      <td>90</td>\n",
       "      <td>100</td>\n",
       "      <td>+</td>\n",
       "      <td>5.12</td>\n",
       "      <td>TACTAGTGGTA</td>\n",
       "      <td>TCCTAGTGGGA</td>\n",
       "    </tr>\n",
       "    <tr>\n",
       "      <th>10</th>\n",
       "      <td>peak.6972</td>\n",
       "      <td>k88n_olap.MEME.2</td>\n",
       "      <td>77</td>\n",
       "      <td>87</td>\n",
       "      <td>-</td>\n",
       "      <td>5.12</td>\n",
       "      <td>TACTAGTCGTA</td>\n",
       "      <td>TCCGACTAGGA</td>\n",
       "    </tr>\n",
       "    <tr>\n",
       "      <th>11</th>\n",
       "      <td>peak.972</td>\n",
       "      <td>k88n_olap.MEME.2</td>\n",
       "      <td>47</td>\n",
       "      <td>57</td>\n",
       "      <td>-</td>\n",
       "      <td>14.71</td>\n",
       "      <td>TACTAGTAGTA</td>\n",
       "      <td>TCCTACTAGGA</td>\n",
       "    </tr>\n",
       "    <tr>\n",
       "      <th>12</th>\n",
       "      <td>peak.742</td>\n",
       "      <td>k88n_olap.MEME.2</td>\n",
       "      <td>52</td>\n",
       "      <td>62</td>\n",
       "      <td>-</td>\n",
       "      <td>14.71</td>\n",
       "      <td>TACTAGTAGTA</td>\n",
       "      <td>TCCTACTAGGA</td>\n",
       "    </tr>\n",
       "    <tr>\n",
       "      <th>13</th>\n",
       "      <td>peak.9744</td>\n",
       "      <td>k88n_olap.MEME.2</td>\n",
       "      <td>113</td>\n",
       "      <td>123</td>\n",
       "      <td>+</td>\n",
       "      <td>5.12</td>\n",
       "      <td>TACTAGTGGTA</td>\n",
       "      <td>TCCTAGTGGGA</td>\n",
       "    </tr>\n",
       "    <tr>\n",
       "      <th>14</th>\n",
       "      <td>peak.1735</td>\n",
       "      <td>k88n_olap.MEME.2</td>\n",
       "      <td>42</td>\n",
       "      <td>52</td>\n",
       "      <td>-</td>\n",
       "      <td>14.71</td>\n",
       "      <td>TACTAGTAGTA</td>\n",
       "      <td>TCCTACTAGGA</td>\n",
       "    </tr>\n",
       "  </tbody>\n",
       "</table>\n",
       "</div>"
      ],
      "text/plain": [
       "      peak.id             motif  start  end strand  score    match_seq  \\\n",
       "0   peak.6376  k88n_olap.MEME.2     18   28      +  14.71  TACTAGTAGTA   \n",
       "1   peak.7734  k88n_olap.MEME.2     94  104      +   5.12  TACTAGTCGTA   \n",
       "2   peak.6314  k88n_olap.MEME.2     31   41      -  14.71  TACTAGTAGTA   \n",
       "3   peak.5238  k88n_olap.MEME.2     79   89      -  14.71  TACTAGTAGTA   \n",
       "4   peak.5238  k88n_olap.MEME.2     62   72      -  14.71  TACTAGTAGTA   \n",
       "5   peak.5748  k88n_olap.MEME.2     23   33      -   5.12  TACTAGTCGTA   \n",
       "6   peak.5919  k88n_olap.MEME.2    121  131      +  14.71  TACTAGTAGTA   \n",
       "7   peak.9099  k88n_olap.MEME.2     49   59      +   5.12  TACTAGTGGTA   \n",
       "8   peak.6187  k88n_olap.MEME.2     57   67      +  14.71  TACTAGTAGTA   \n",
       "9   peak.1943  k88n_olap.MEME.2     90  100      +   5.12  TACTAGTGGTA   \n",
       "10  peak.6972  k88n_olap.MEME.2     77   87      -   5.12  TACTAGTCGTA   \n",
       "11   peak.972  k88n_olap.MEME.2     47   57      -  14.71  TACTAGTAGTA   \n",
       "12   peak.742  k88n_olap.MEME.2     52   62      -  14.71  TACTAGTAGTA   \n",
       "13  peak.9744  k88n_olap.MEME.2    113  123      +   5.12  TACTAGTGGTA   \n",
       "14  peak.1735  k88n_olap.MEME.2     42   52      -  14.71  TACTAGTAGTA   \n",
       "\n",
       "    mutated_seq  \n",
       "0   TCCTAGTAGGA  \n",
       "1   TCCTAGTCGGA  \n",
       "2   TCCTACTAGGA  \n",
       "3   TCCTACTAGGA  \n",
       "4   TCCTACTAGGA  \n",
       "5   TCCGACTAGGA  \n",
       "6   TCCTAGTAGGA  \n",
       "7   TCCTAGTGGGA  \n",
       "8   TCCTAGTAGGA  \n",
       "9   TCCTAGTGGGA  \n",
       "10  TCCGACTAGGA  \n",
       "11  TCCTACTAGGA  \n",
       "12  TCCTACTAGGA  \n",
       "13  TCCTAGTGGGA  \n",
       "14  TCCTACTAGGA  "
      ]
     },
     "execution_count": 448,
     "metadata": {},
     "output_type": "execute_result"
    }
   ],
   "source": [
    "REmatched_dimer"
   ]
  },
  {
   "cell_type": "code",
   "execution_count": 466,
   "metadata": {},
   "outputs": [],
   "source": [
    "REmatched_double, REmatched_double_fasta = mpra_CRE_utils.find_and_mutate_motif(REmatched_mutDMfasta, REmatched_dimerSites2, motif_name=\"k88n_olap.MEME.2\", mutantmotif_dict={2:\"C\", 3:\"C\", 9:\"G\", 10:\"G\"})"
   ]
  },
  {
   "cell_type": "code",
   "execution_count": 467,
   "metadata": {},
   "outputs": [
    {
     "data": {
      "text/html": [
       "<div>\n",
       "<style scoped>\n",
       "    .dataframe tbody tr th:only-of-type {\n",
       "        vertical-align: middle;\n",
       "    }\n",
       "\n",
       "    .dataframe tbody tr th {\n",
       "        vertical-align: top;\n",
       "    }\n",
       "\n",
       "    .dataframe thead th {\n",
       "        text-align: right;\n",
       "    }\n",
       "</style>\n",
       "<table border=\"1\" class=\"dataframe\">\n",
       "  <thead>\n",
       "    <tr style=\"text-align: right;\">\n",
       "      <th></th>\n",
       "      <th>peak.id</th>\n",
       "      <th>motif</th>\n",
       "      <th>start</th>\n",
       "      <th>end</th>\n",
       "      <th>strand</th>\n",
       "      <th>score</th>\n",
       "      <th>match_seq</th>\n",
       "      <th>mutated_seq</th>\n",
       "    </tr>\n",
       "  </thead>\n",
       "  <tbody>\n",
       "    <tr>\n",
       "      <th>0</th>\n",
       "      <td>peak.6972</td>\n",
       "      <td>k88n_olap.MEME.2</td>\n",
       "      <td>77</td>\n",
       "      <td>87</td>\n",
       "      <td>-</td>\n",
       "      <td>5.12</td>\n",
       "      <td>TACTAGTCGTA</td>\n",
       "      <td>TCCGACTAGGA</td>\n",
       "    </tr>\n",
       "    <tr>\n",
       "      <th>1</th>\n",
       "      <td>peak.972</td>\n",
       "      <td>k88n_olap.MEME.2</td>\n",
       "      <td>47</td>\n",
       "      <td>57</td>\n",
       "      <td>-</td>\n",
       "      <td>14.71</td>\n",
       "      <td>TACTAGTAGTA</td>\n",
       "      <td>TCCTACTAGGA</td>\n",
       "    </tr>\n",
       "    <tr>\n",
       "      <th>2</th>\n",
       "      <td>peak.6376</td>\n",
       "      <td>k88n_olap.MEME.2</td>\n",
       "      <td>18</td>\n",
       "      <td>28</td>\n",
       "      <td>+</td>\n",
       "      <td>14.71</td>\n",
       "      <td>TACTAGTAGTA</td>\n",
       "      <td>TCCTAGTAGGA</td>\n",
       "    </tr>\n",
       "    <tr>\n",
       "      <th>3</th>\n",
       "      <td>peak.5748</td>\n",
       "      <td>k88n_olap.MEME.2</td>\n",
       "      <td>23</td>\n",
       "      <td>33</td>\n",
       "      <td>-</td>\n",
       "      <td>5.12</td>\n",
       "      <td>TACTAGTCGTA</td>\n",
       "      <td>TCCGACTAGGA</td>\n",
       "    </tr>\n",
       "    <tr>\n",
       "      <th>4</th>\n",
       "      <td>peak.9099</td>\n",
       "      <td>k88n_olap.MEME.2</td>\n",
       "      <td>49</td>\n",
       "      <td>59</td>\n",
       "      <td>+</td>\n",
       "      <td>5.12</td>\n",
       "      <td>TACTAGTGGTA</td>\n",
       "      <td>TCCTAGTGGGA</td>\n",
       "    </tr>\n",
       "    <tr>\n",
       "      <th>5</th>\n",
       "      <td>peak.1735</td>\n",
       "      <td>k88n_olap.MEME.2</td>\n",
       "      <td>42</td>\n",
       "      <td>52</td>\n",
       "      <td>-</td>\n",
       "      <td>14.71</td>\n",
       "      <td>TACTAGTAGTA</td>\n",
       "      <td>TCCTACTAGGA</td>\n",
       "    </tr>\n",
       "    <tr>\n",
       "      <th>6</th>\n",
       "      <td>peak.1943</td>\n",
       "      <td>k88n_olap.MEME.2</td>\n",
       "      <td>90</td>\n",
       "      <td>100</td>\n",
       "      <td>+</td>\n",
       "      <td>5.12</td>\n",
       "      <td>TACTAGTGGTA</td>\n",
       "      <td>TCCTAGTGGGA</td>\n",
       "    </tr>\n",
       "    <tr>\n",
       "      <th>7</th>\n",
       "      <td>peak.6314</td>\n",
       "      <td>k88n_olap.MEME.2</td>\n",
       "      <td>31</td>\n",
       "      <td>41</td>\n",
       "      <td>-</td>\n",
       "      <td>14.71</td>\n",
       "      <td>TACTAGTAGTA</td>\n",
       "      <td>TCCTACTAGGA</td>\n",
       "    </tr>\n",
       "    <tr>\n",
       "      <th>8</th>\n",
       "      <td>peak.9744</td>\n",
       "      <td>k88n_olap.MEME.2</td>\n",
       "      <td>113</td>\n",
       "      <td>123</td>\n",
       "      <td>+</td>\n",
       "      <td>5.12</td>\n",
       "      <td>TACTAGTGGTA</td>\n",
       "      <td>TCCTAGTGGGA</td>\n",
       "    </tr>\n",
       "    <tr>\n",
       "      <th>9</th>\n",
       "      <td>peak.742</td>\n",
       "      <td>k88n_olap.MEME.2</td>\n",
       "      <td>52</td>\n",
       "      <td>62</td>\n",
       "      <td>-</td>\n",
       "      <td>14.71</td>\n",
       "      <td>TACTAGTAGTA</td>\n",
       "      <td>TCCTACTAGGA</td>\n",
       "    </tr>\n",
       "    <tr>\n",
       "      <th>10</th>\n",
       "      <td>peak.7734</td>\n",
       "      <td>k88n_olap.MEME.2</td>\n",
       "      <td>94</td>\n",
       "      <td>104</td>\n",
       "      <td>+</td>\n",
       "      <td>5.12</td>\n",
       "      <td>TACTAGTCGTA</td>\n",
       "      <td>TCCTAGTCGGA</td>\n",
       "    </tr>\n",
       "    <tr>\n",
       "      <th>11</th>\n",
       "      <td>peak.5238</td>\n",
       "      <td>k88n_olap.MEME.2</td>\n",
       "      <td>79</td>\n",
       "      <td>89</td>\n",
       "      <td>-</td>\n",
       "      <td>14.71</td>\n",
       "      <td>TACTAGTAGTA</td>\n",
       "      <td>TCCTACTAGGA</td>\n",
       "    </tr>\n",
       "    <tr>\n",
       "      <th>12</th>\n",
       "      <td>peak.5238</td>\n",
       "      <td>k88n_olap.MEME.2</td>\n",
       "      <td>62</td>\n",
       "      <td>72</td>\n",
       "      <td>-</td>\n",
       "      <td>14.71</td>\n",
       "      <td>TACTAGTAGTA</td>\n",
       "      <td>TCCTACTAGGA</td>\n",
       "    </tr>\n",
       "    <tr>\n",
       "      <th>13</th>\n",
       "      <td>peak.5919</td>\n",
       "      <td>k88n_olap.MEME.2</td>\n",
       "      <td>121</td>\n",
       "      <td>131</td>\n",
       "      <td>+</td>\n",
       "      <td>14.71</td>\n",
       "      <td>TACTAGTAGTA</td>\n",
       "      <td>TCCTAGTAGGA</td>\n",
       "    </tr>\n",
       "  </tbody>\n",
       "</table>\n",
       "</div>"
      ],
      "text/plain": [
       "      peak.id             motif  start  end strand  score    match_seq  \\\n",
       "0   peak.6972  k88n_olap.MEME.2     77   87      -   5.12  TACTAGTCGTA   \n",
       "1    peak.972  k88n_olap.MEME.2     47   57      -  14.71  TACTAGTAGTA   \n",
       "2   peak.6376  k88n_olap.MEME.2     18   28      +  14.71  TACTAGTAGTA   \n",
       "3   peak.5748  k88n_olap.MEME.2     23   33      -   5.12  TACTAGTCGTA   \n",
       "4   peak.9099  k88n_olap.MEME.2     49   59      +   5.12  TACTAGTGGTA   \n",
       "5   peak.1735  k88n_olap.MEME.2     42   52      -  14.71  TACTAGTAGTA   \n",
       "6   peak.1943  k88n_olap.MEME.2     90  100      +   5.12  TACTAGTGGTA   \n",
       "7   peak.6314  k88n_olap.MEME.2     31   41      -  14.71  TACTAGTAGTA   \n",
       "8   peak.9744  k88n_olap.MEME.2    113  123      +   5.12  TACTAGTGGTA   \n",
       "9    peak.742  k88n_olap.MEME.2     52   62      -  14.71  TACTAGTAGTA   \n",
       "10  peak.7734  k88n_olap.MEME.2     94  104      +   5.12  TACTAGTCGTA   \n",
       "11  peak.5238  k88n_olap.MEME.2     79   89      -  14.71  TACTAGTAGTA   \n",
       "12  peak.5238  k88n_olap.MEME.2     62   72      -  14.71  TACTAGTAGTA   \n",
       "13  peak.5919  k88n_olap.MEME.2    121  131      +  14.71  TACTAGTAGTA   \n",
       "\n",
       "    mutated_seq  \n",
       "0   TCCGACTAGGA  \n",
       "1   TCCTACTAGGA  \n",
       "2   TCCTAGTAGGA  \n",
       "3   TCCGACTAGGA  \n",
       "4   TCCTAGTGGGA  \n",
       "5   TCCTACTAGGA  \n",
       "6   TCCTAGTGGGA  \n",
       "7   TCCTACTAGGA  \n",
       "8   TCCTAGTGGGA  \n",
       "9   TCCTACTAGGA  \n",
       "10  TCCTAGTCGGA  \n",
       "11  TCCTACTAGGA  \n",
       "12  TCCTACTAGGA  \n",
       "13  TCCTAGTAGGA  "
      ]
     },
     "execution_count": 467,
     "metadata": {},
     "output_type": "execute_result"
    }
   ],
   "source": [
    "REmatched_double"
   ]
  },
  {
   "cell_type": "code",
   "execution_count": 424,
   "metadata": {},
   "outputs": [
    {
     "data": {
      "text/html": [
       "<div>\n",
       "<style scoped>\n",
       "    .dataframe tbody tr th:only-of-type {\n",
       "        vertical-align: middle;\n",
       "    }\n",
       "\n",
       "    .dataframe tbody tr th {\n",
       "        vertical-align: top;\n",
       "    }\n",
       "\n",
       "    .dataframe thead th {\n",
       "        text-align: right;\n",
       "    }\n",
       "</style>\n",
       "<table border=\"1\" class=\"dataframe\">\n",
       "  <thead>\n",
       "    <tr style=\"text-align: right;\">\n",
       "      <th></th>\n",
       "      <th>sequence_name</th>\n",
       "      <th>motif_id</th>\n",
       "      <th>start</th>\n",
       "      <th>stop</th>\n",
       "      <th>strand</th>\n",
       "      <th>score</th>\n",
       "      <th>matched_sequence</th>\n",
       "      <th>mutated_seq</th>\n",
       "    </tr>\n",
       "  </thead>\n",
       "  <tbody>\n",
       "    <tr>\n",
       "      <th>14061</th>\n",
       "      <td>peak.6314</td>\n",
       "      <td>k88n_olap.DREME.1</td>\n",
       "      <td>42</td>\n",
       "      <td>48</td>\n",
       "      <td>-</td>\n",
       "      <td>11.51000</td>\n",
       "      <td>TTAATTA</td>\n",
       "      <td>TACTTAA</td>\n",
       "    </tr>\n",
       "    <tr>\n",
       "      <th>14062</th>\n",
       "      <td>peak.6314</td>\n",
       "      <td>k88n_olap.DREME.1</td>\n",
       "      <td>7</td>\n",
       "      <td>13</td>\n",
       "      <td>+</td>\n",
       "      <td>11.03000</td>\n",
       "      <td>CTCATTA</td>\n",
       "      <td>CTCAGTA</td>\n",
       "    </tr>\n",
       "    <tr>\n",
       "      <th>14063</th>\n",
       "      <td>peak.6314</td>\n",
       "      <td>k88n_olap.DREME.1</td>\n",
       "      <td>41</td>\n",
       "      <td>47</td>\n",
       "      <td>+</td>\n",
       "      <td>3.32000</td>\n",
       "      <td>ATAATTA</td>\n",
       "      <td>ATAAGTA</td>\n",
       "    </tr>\n",
       "    <tr>\n",
       "      <th>14064</th>\n",
       "      <td>peak.6314</td>\n",
       "      <td>k88n_olap.DREME.1</td>\n",
       "      <td>42</td>\n",
       "      <td>48</td>\n",
       "      <td>-</td>\n",
       "      <td>2.15000</td>\n",
       "      <td>TTACTTA</td>\n",
       "      <td>TACGTAA</td>\n",
       "    </tr>\n",
       "    <tr>\n",
       "      <th>14065</th>\n",
       "      <td>peak.6314</td>\n",
       "      <td>CRX_Corbo</td>\n",
       "      <td>54</td>\n",
       "      <td>61</td>\n",
       "      <td>-</td>\n",
       "      <td>6.21429</td>\n",
       "      <td>CTAATTTC</td>\n",
       "      <td>GAAAGTAG</td>\n",
       "    </tr>\n",
       "    <tr>\n",
       "      <th>14066</th>\n",
       "      <td>peak.6314</td>\n",
       "      <td>CRX_Corbo</td>\n",
       "      <td>108</td>\n",
       "      <td>115</td>\n",
       "      <td>+</td>\n",
       "      <td>9.34921</td>\n",
       "      <td>ATAATCCT</td>\n",
       "      <td>ATACTCCT</td>\n",
       "    </tr>\n",
       "    <tr>\n",
       "      <th>14067</th>\n",
       "      <td>peak.6314</td>\n",
       "      <td>k88n_olap.DREME.1</td>\n",
       "      <td>46</td>\n",
       "      <td>52</td>\n",
       "      <td>-</td>\n",
       "      <td>2.15000</td>\n",
       "      <td>TGAATTA</td>\n",
       "      <td>TACTTCA</td>\n",
       "    </tr>\n",
       "    <tr>\n",
       "      <th>14068</th>\n",
       "      <td>peak.6314</td>\n",
       "      <td>CRX_Corbo</td>\n",
       "      <td>45</td>\n",
       "      <td>52</td>\n",
       "      <td>+</td>\n",
       "      <td>6.80159</td>\n",
       "      <td>TTAATTCA</td>\n",
       "      <td>TTACTTCA</td>\n",
       "    </tr>\n",
       "  </tbody>\n",
       "</table>\n",
       "</div>"
      ],
      "text/plain": [
       "      sequence_name           motif_id  start  stop strand     score  \\\n",
       "14061     peak.6314  k88n_olap.DREME.1     42    48      -  11.51000   \n",
       "14062     peak.6314  k88n_olap.DREME.1      7    13      +  11.03000   \n",
       "14063     peak.6314  k88n_olap.DREME.1     41    47      +   3.32000   \n",
       "14064     peak.6314  k88n_olap.DREME.1     42    48      -   2.15000   \n",
       "14065     peak.6314          CRX_Corbo     54    61      -   6.21429   \n",
       "14066     peak.6314          CRX_Corbo    108   115      +   9.34921   \n",
       "14067     peak.6314  k88n_olap.DREME.1     46    52      -   2.15000   \n",
       "14068     peak.6314          CRX_Corbo     45    52      +   6.80159   \n",
       "\n",
       "      matched_sequence mutated_seq  \n",
       "14061          TTAATTA     TACTTAA  \n",
       "14062          CTCATTA     CTCAGTA  \n",
       "14063          ATAATTA     ATAAGTA  \n",
       "14064          TTACTTA     TACGTAA  \n",
       "14065         CTAATTTC    GAAAGTAG  \n",
       "14066         ATAATCCT    ATACTCCT  \n",
       "14067          TGAATTA     TACTTCA  \n",
       "14068         TTAATTCA    TTACTTCA  "
      ]
     },
     "execution_count": 424,
     "metadata": {},
     "output_type": "execute_result"
    }
   ],
   "source": [
    "allMonomerSites.loc[lambda df: df[\"sequence_name\"]==\"peak.6314\",:]"
   ]
  },
  {
   "cell_type": "code",
   "execution_count": 419,
   "metadata": {},
   "outputs": [
    {
     "data": {
      "text/plain": [
       "'TAATATCTCATTATACTGTGCATAATAATATAATACTATTATAATTAATTCAGGAAATTAGGTCTCAGAAACATTGAATGTTTTGTCTGAGATGTCCAGACTTGAAAATAATCCTATCTTGGCTATGGACAGCA'"
      ]
     },
     "execution_count": 419,
     "metadata": {},
     "output_type": "execute_result"
    }
   ],
   "source": [
    "allCRE_fasta[\"peak.6314\"]"
   ]
  },
  {
   "cell_type": "code",
   "execution_count": 451,
   "metadata": {},
   "outputs": [
    {
     "data": {
      "text/plain": [
       "'TAATATCTCATTATACTGTGCATAATAATATCCTACTAGGATAATTAATTCAGGAAATTAGGTCTCAGAAACATTGAATGTTTTGTCTGAGATGTCCAGACTTGAAAATAATCCTATCTTGGCTATGGACAGCA'"
      ]
     },
     "execution_count": 451,
     "metadata": {},
     "output_type": "execute_result"
    }
   ],
   "source": [
    "REmatched_dimer_fasta[\"peak.6314\"]"
   ]
  },
  {
   "cell_type": "code",
   "execution_count": 468,
   "metadata": {},
   "outputs": [
    {
     "data": {
      "text/plain": [
       "'TAATATCTCAGTATACTGTGCATAATAATATCCTACTAGGATACGTACTTCAGGAAAGTAGGTCTCAGAAACATTGAATGTTTTGTCTGAGATGTCCAGACTTGAAAATACTCCTATCTTGGCTATGGACAGCA'"
      ]
     },
     "execution_count": 468,
     "metadata": {},
     "output_type": "execute_result"
    }
   ],
   "source": [
    "REmatched_double_fasta[\"peak.6314\"]"
   ]
  },
  {
   "attachments": {},
   "cell_type": "markdown",
   "metadata": {},
   "source": [
    "#### update the annotation table and corresponding fasta data"
   ]
  },
  {
   "cell_type": "code",
   "execution_count": 469,
   "metadata": {},
   "outputs": [],
   "source": [
    "for idx in REmatched_dimerSites2[\"sequence_name\"]:\n",
    "    if idx in REmatched_dimer_fasta.index:\n",
    "        all_testing_CREs.loc[lambda df: df[\"peak.id\"]==idx,\"mutD.FASTA\"]=REmatched_dimer_fasta[idx]\n",
    "        mpraAnnot_df.loc[lambda df: df[\"peak.id\"]==idx,\"mutD.FASTA\"]=REmatched_dimer_fasta[idx]\n",
    "    if idx in REmatched_double_fasta.index:\n",
    "        all_testing_CREs.loc[lambda df: df[\"peak.id\"]==idx,\"mutDM.FASTA\"]=REmatched_double_fasta[idx]\n",
    "        mpraAnnot_df.loc[lambda df: df[\"peak.id\"]==idx,\"mutDM.FASTA\"]=REmatched_double_fasta[idx]"
   ]
  },
  {
   "attachments": {},
   "cell_type": "markdown",
   "metadata": {},
   "source": [
    "#### now redo the BCing steps with the new mutated fasta sequences"
   ]
  },
  {
   "cell_type": "code",
   "execution_count": 471,
   "metadata": {},
   "outputs": [],
   "source": [
    "all_testing_CREs.to_csv(os.path.join(base_dir, \"peaksets\", f\"hdmuts_library.noBC.fimo{fimo_th}.tsv\"), sep=\"\\t\", header=True, index=False)\n",
    "mpraAnnot_df.to_csv(os.path.join(base_dir, \"peaksets\", f\"allCRE_annotation.withMutants.fimo{fimo_th}.tsv\"), sep=\"\\t\", header=True, index=False)"
   ]
  },
  {
   "cell_type": "code",
   "execution_count": 456,
   "metadata": {},
   "outputs": [],
   "source": [
    "REmatched_dimer_fasta.index = REmatched_dimer_fasta.index+\".mutD\"\n",
    "singleDimerMutants[list(set(singleDimerMutants.index).intersection(set(REmatched_dimerSites2[\"sequence_name\"]+\".mutD\")))] = REmatched_dimer_fasta"
   ]
  },
  {
   "cell_type": "code",
   "execution_count": 457,
   "metadata": {},
   "outputs": [],
   "source": [
    "REmatched_double_fasta.index = REmatched_double_fasta.index+\".mutDM\"\n",
    "doubleMutants[list(set(doubleMutants.index).intersection(set(REmatched_dimerSites2[\"sequence_name\"]+\".mutDM\")))] = REmatched_double_fasta"
   ]
  },
  {
   "cell_type": "code",
   "execution_count": 459,
   "metadata": {},
   "outputs": [],
   "source": [
    "sequence_annotator.write_fasta(singleDimerMutants, os.path.join(base_dir, \"sequences\", f\"mutatedCREs_fimo{fimo_th}\", \"mutatedCRE.k88n_olap.MEME.2.mutated.fa\"))\n",
    "sequence_annotator.write_fasta(doubleMutants, os.path.join(base_dir, \"sequences\", f\"mutatedCREs_fimo{fimo_th}\", \"mutatedCRE.dimerMonomer.mutated.fa\"))"
   ]
  },
  {
   "attachments": {},
   "cell_type": "markdown",
   "metadata": {},
   "source": [
    "### VI. assemble all components and rename with chr-start-stop_peak.id_annotation_motif_barcode"
   ]
  },
  {
   "cell_type": "code",
   "execution_count": 8,
   "metadata": {},
   "outputs": [],
   "source": [
    "# note the actual primer sequences comtain partial restriction enzyme site, so be careful not to duplicate those sequences\n",
    "primerF = \"GTAGCGTCTGTCCGT\" #15\n",
    "primerR = \"CTGTAGTAGTAGTTGG\" #16\n",
    "primerR_revcomp = sequence_annotator.rev_comp(primerR)\n",
    "padding=\"C\" # for padding betweeing SpeI and SphI site\n",
    "basalFiller=\"GTCCCCCTTGCAGAATTACATGCAACCCTCAACTGCTCGATCTAGCTCTCTAATGGCAAGATCCGCAAGGGCAAAACAGACTATTACCGCGAGATCCGAACGAAATGAAGATTGAACATGGCTGTAATTGGGCT\""
   ]
  },
  {
   "attachments": {},
   "cell_type": "markdown",
   "metadata": {},
   "source": [
    "#### Oligo: primerF + EcoRI + CRE + SpeI + C + SphI + 10bp BC + EagI + primerR"
   ]
  },
  {
   "cell_type": "code",
   "execution_count": 592,
   "metadata": {},
   "outputs": [],
   "source": [
    "mpra_library[\"fullOligo\"] = primerF+EcoRI+mpra_library[\"FASTA\"]+SpeI+\"C\"+SphI+mpra_library[\"BC\"]+EagI+primerR_revcomp\n",
    "control_df[\"fullOligo\"] = primerF+EcoRI+control_df[\"FASTA\"]+SpeI+\"C\"+SphI+control_df[\"BC\"]+EagI+primerR_revcomp"
   ]
  },
  {
   "cell_type": "code",
   "execution_count": 593,
   "metadata": {},
   "outputs": [],
   "source": [
    "mpra_library_oligo = mpra_library.loc[:,[\"label\",\"fullOligo\"]].copy().set_index(\"label\").squeeze()\n",
    "control_oligo = control_df.loc[:,[\"label\",\"fullOligo\"]].copy().set_index(\"label\").squeeze()"
   ]
  },
  {
   "cell_type": "code",
   "execution_count": 523,
   "metadata": {},
   "outputs": [],
   "source": [
    "sequence_annotator.write_fasta(mpra_library_oligo, os.path.join(base_dir, \"sequences\", f\"hdmuts_library.Oligos.fimo{fimo_th}.fa\"))\n",
    "sequence_annotator.write_fasta(control_oligo, os.path.join(base_dir, \"sequences\", f\"hdmuts_control.Oligos.fimo{fimo_th}.fa\"))"
   ]
  },
  {
   "cell_type": "code",
   "execution_count": 514,
   "metadata": {},
   "outputs": [],
   "source": [
    "basal_df = pd.DataFrame(index=range(0,20), columns=[\"peak.id\",\"fullOligo\"])\n",
    "basal_df[\"peak.id\"] = pd.Series([\"basal.\"+str(n) for n in range(1,21)])\n",
    "basal_df[\"BC\"] = all_barcodes[len(mpra_library)+len(control_df):len(mpra_library)+len(control_df)+20].reset_index(drop=True)\n",
    "basal_df[\"fullOligo\"] = primerF+EcoRI+SpeI+\"C\"+basalFiller+SphI+basal_df[\"BC\"]+EagI+primerR_revcomp\n",
    "basal_df[\"label\"] = basal_df[\"peak.id\"]+\"_\"+basal_df[\"BC\"]"
   ]
  },
  {
   "cell_type": "code",
   "execution_count": 526,
   "metadata": {},
   "outputs": [
    {
     "data": {
      "text/plain": [
       "66"
      ]
     },
     "execution_count": 526,
     "metadata": {},
     "output_type": "execute_result"
    }
   ],
   "source": [
    "len(basal_df.at[0,\"fullOligo\"])"
   ]
  },
  {
   "cell_type": "code",
   "execution_count": 517,
   "metadata": {},
   "outputs": [],
   "source": [
    "basal_oligo = basal_df.loc[:,[\"label\",\"fullOligo\"]].copy().set_index(\"label\").squeeze()"
   ]
  },
  {
   "cell_type": "code",
   "execution_count": 520,
   "metadata": {},
   "outputs": [],
   "source": [
    "sequence_annotator.write_fasta(basal_oligo, os.path.join(base_dir, \"sequences\", \"hdmuts_basal.Oligos.fa\"))"
   ]
  },
  {
   "attachments": {},
   "cell_type": "markdown",
   "metadata": {},
   "source": [
    "### VII. to meet the 18k limit, drop all CREs with bizarre motif contents"
   ]
  },
  {
   "cell_type": "code",
   "execution_count": 564,
   "metadata": {},
   "outputs": [],
   "source": [
    "checkMotifContent = all_testing_CREs.loc[lambda df: (df[\"CRX_Corbo\"]>5)|(df[\"N50\"]>5)|(df[\"HDdimer\"]>5),:].copy()\n",
    "#checkMotifContent.to_csv(os.path.join(base_dir,\"peaksets\",f\"checkMotifContents.fimo{fimo_th}.tsv\"), sep=\"\\t\", header=True, index=False)"
   ]
  },
  {
   "cell_type": "code",
   "execution_count": 565,
   "metadata": {},
   "outputs": [
    {
     "data": {
      "text/plain": [
       "224"
      ]
     },
     "execution_count": 565,
     "metadata": {},
     "output_type": "execute_result"
    }
   ],
   "source": [
    "# total number of sequences to remove from the mpra library oligos\n",
    "checkMotifContent.loc[:,checkMotifContent.columns.str.contains(\"FASTA\")].notnull().sum().sum()*4"
   ]
  },
  {
   "cell_type": "code",
   "execution_count": 574,
   "metadata": {},
   "outputs": [
    {
     "data": {
      "text/plain": [
       "{'peak.4249'}"
      ]
     },
     "execution_count": 574,
     "metadata": {},
     "output_type": "execute_result"
    }
   ],
   "source": [
    "set(scrambled_CREs[\"peak.id\"].str.strip(\"_shuff\")).intersection(set(checkMotifContent[\"peak.id\"]))"
   ]
  },
  {
   "cell_type": "code",
   "execution_count": 605,
   "metadata": {},
   "outputs": [],
   "source": [
    "filtered_mpra_library = mpra_library.loc[lambda df: ~((df[\"peak.id\"].isin(checkMotifContent[\"peak.id\"])) & (~df[\"label\"].str.contains(\"scrambled\"))),:]"
   ]
  },
  {
   "cell_type": "code",
   "execution_count": 608,
   "metadata": {},
   "outputs": [],
   "source": [
    "filtered_mpra_library_oligo = filtered_mpra_library.loc[:,[\"label\",\"fullOligo\"]].copy().set_index(\"label\").squeeze()"
   ]
  },
  {
   "cell_type": "code",
   "execution_count": 610,
   "metadata": {},
   "outputs": [
    {
     "data": {
      "text/plain": [
       "224"
      ]
     },
     "execution_count": 610,
     "metadata": {},
     "output_type": "execute_result"
    }
   ],
   "source": [
    "len(mpra_library_oligo) - len(filtered_mpra_library)"
   ]
  },
  {
   "cell_type": "code",
   "execution_count": 609,
   "metadata": {},
   "outputs": [
    {
     "data": {
      "text/plain": [
       "17920"
      ]
     },
     "execution_count": 609,
     "metadata": {},
     "output_type": "execute_result"
    }
   ],
   "source": [
    "len(filtered_mpra_library_oligo) + len(control_oligo) + len(basal_oligo)"
   ]
  },
  {
   "cell_type": "code",
   "execution_count": 611,
   "metadata": {},
   "outputs": [],
   "source": [
    "sequence_annotator.write_fasta(filtered_mpra_library_oligo, os.path.join(base_dir, \"sequences\", f\"hdmuts_library.Oligos.fimo{fimo_th}.filtered.fa\"))"
   ]
  }
 ],
 "metadata": {
  "interpreter": {
   "hash": "6abb4b7bab859a9de396deabee55f7ab2a79ecd4f43f7147c7a877724f7bb22d"
  },
  "kernelspec": {
   "display_name": "Python 3.10.4 ('mpra')",
   "language": "python",
   "name": "python3"
  },
  "language_info": {
   "codemirror_mode": {
    "name": "ipython",
    "version": 3
   },
   "file_extension": ".py",
   "mimetype": "text/x-python",
   "name": "python",
   "nbconvert_exporter": "python",
   "pygments_lexer": "ipython3",
   "version": "3.9.12"
  },
  "orig_nbformat": 4,
  "vscode": {
   "interpreter": {
    "hash": "de4a238fd4983551e7ca352ba395a91b204ed1f7f480c058d262160abae16af4"
   }
  }
 },
 "nbformat": 4,
 "nbformat_minor": 2
}
